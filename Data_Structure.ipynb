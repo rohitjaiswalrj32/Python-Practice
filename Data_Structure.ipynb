{
  "nbformat": 4,
  "nbformat_minor": 0,
  "metadata": {
    "colab": {
      "provenance": [],
      "authorship_tag": "ABX9TyPggt+aze4s1k7HZywwrEVb",
      "include_colab_link": true
    },
    "kernelspec": {
      "name": "python3",
      "display_name": "Python 3"
    },
    "language_info": {
      "name": "python"
    }
  },
  "cells": [
    {
      "cell_type": "markdown",
      "metadata": {
        "id": "view-in-github",
        "colab_type": "text"
      },
      "source": [
        "<a href=\"https://colab.research.google.com/github/rohitjaiswalrj32/Python-Practice/blob/main/Data_Structure.ipynb\" target=\"_parent\"><img src=\"https://colab.research.google.com/assets/colab-badge.svg\" alt=\"Open In Colab\"/></a>"
      ]
    },
    {
      "cell_type": "code",
      "execution_count": 1,
      "metadata": {
        "id": "rDoLPs5y8fNd"
      },
      "outputs": [],
      "source": [
        "# Data Structures: Data structures are containers used to store, organize, and manipulate data efficiently.\n",
        "                   #In Python, the built-in data structures are:\n",
        "\n",
        "# 1. List\n",
        "# 2. Tuple\n",
        "# 3. Set\n",
        "# 4. Dictionary"
      ]
    },
    {
      "cell_type": "code",
      "source": [
        "#List:\n",
        "\n",
        "\n",
        "#Characterstics:\n",
        "\n",
        "#Ordered (indexable).\n",
        "#Immutable — once created, cannot be changed.\n",
        "#Allows duplicates.\n",
        "#Faster than lists due to immutability.\n",
        "#Defined using square brackets [].\n",
        "\n",
        "#Example:\n",
        "fruits = [\"apple\", \"banana\", \"cherry\"]\n",
        "print(fruits[1])\n",
        "\n",
        "#Common Methods:\n",
        "\n",
        "# Add at end\n",
        "fruits.append(\"orange\")\n",
        "\n",
        "# Add at specific index\n",
        "fruits.insert(1, \"mango\")\n",
        "\n",
        "# Remove an item\n",
        "fruits.remove(\"banana\")\n",
        "\n",
        "# Remove last item\n",
        "fruits.pop()\n",
        "\n",
        "# Sort list\n",
        "fruits.sort()\n",
        "\n",
        "# Reverse order\n",
        "fruits.reverse()\n",
        "\n",
        "# Count elements\n",
        "print(len(fruits))\n",
        "\n",
        "# Check membership\n",
        "print(\"apple\" in fruits)\n",
        "\n",
        "# Remove all items\n",
        "fruits.clear()\n",
        "\n",
        "print(fruits)\n",
        "\n",
        "#When to Use:\n",
        "\n",
        "#When order matters.\n",
        "#When you need to change data frequently (add, remove, modify)."
      ],
      "metadata": {
        "colab": {
          "base_uri": "https://localhost:8080/"
        },
        "id": "DHxHRVQm8028",
        "outputId": "ed188553-b603-4d7e-d86b-7b9514b104f9"
      },
      "execution_count": 16,
      "outputs": [
        {
          "output_type": "stream",
          "name": "stdout",
          "text": [
            "banana\n",
            "3\n",
            "True\n",
            "[]\n"
          ]
        }
      ]
    },
    {
      "cell_type": "code",
      "source": [
        "#Tuple:\n",
        "\n",
        "#Characteristics:\n",
        "\n",
        "#Ordered (indexable).\n",
        "#Immutable — once created, cannot be changed.\n",
        "#Allows duplicates.\n",
        "#Faster than lists due to immutability.\n",
        "#Defined using parentheses ().\n",
        "\n",
        "#Example:\n",
        "dimensions = (20, 40, 60)\n",
        "print(dimensions[0])\n",
        "\n",
        "# dimensions[0] = 30 → ❌ Not allowed, tuples are immutable\n",
        "\n",
        "#When to Use:\n",
        "\n",
        "#When data should not change (e.g. coordinates, constants).\n",
        "#When performance and safety are priorities."
      ],
      "metadata": {
        "colab": {
          "base_uri": "https://localhost:8080/"
        },
        "id": "WdrzAfkj9Jrp",
        "outputId": "67e7a093-7d7d-485e-8860-8cad990f2601"
      },
      "execution_count": 17,
      "outputs": [
        {
          "output_type": "stream",
          "name": "stdout",
          "text": [
            "20\n"
          ]
        }
      ]
    },
    {
      "cell_type": "code",
      "source": [
        "#Set:\n",
        "\n",
        "#Characteristics:\n",
        "\n",
        "#Unordered — no index or position.\n",
        "#Unchangeable items (but you can add/remove).\n",
        "#No duplicates allowed.\n",
        "#Defined using curly braces {}.\n",
        "\n",
        "#Example:\n",
        "colors = {\"red\", \"green\", \"blue\"}\n",
        "colors.add(\"yellow\")\n",
        "colors.remove(\"green\")\n",
        "print(\"red\" in colors)\n",
        "\n",
        "print(colors)\n",
        "\n",
        "a = {1, 2, 3}\n",
        "b = {3, 4, 5}\n",
        "\n",
        "print(a.union(b))\n",
        "print(a.intersection(b))\n",
        "print(a.difference(b))\n",
        "\n",
        "\n",
        "#When to Use:\n",
        "\n",
        "#To eliminate duplicates.\n",
        "#For fast membership testing.\n",
        "#For mathematical set operations (union, intersection, etc)."
      ],
      "metadata": {
        "colab": {
          "base_uri": "https://localhost:8080/"
        },
        "id": "EiRFbfFx9SR3",
        "outputId": "3651b052-74ad-4e63-aaa0-5c1e98e58bd2"
      },
      "execution_count": 19,
      "outputs": [
        {
          "output_type": "stream",
          "name": "stdout",
          "text": [
            "True\n",
            "{'red', 'blue', 'yellow'}\n",
            "{1, 2, 3, 4, 5}\n",
            "{3}\n",
            "{1, 2}\n"
          ]
        }
      ]
    },
    {
      "cell_type": "code",
      "source": [
        "#Dictionary\n",
        "\n",
        "#Characteristics:\n",
        "\n",
        "#Unordered (ordered since Python 3.7), mutable.\n",
        "#Keys must be unique and immutable (strings, numbers, tuples).\n",
        "#Values can be anything.\n",
        "#Defined using curly braces {key: value}.\n",
        "\n",
        "#Example:\n",
        "student = {\"name\": \"Rohit\", \"age\": 22}\n",
        "\n",
        "# Access value by key\n",
        "print(student[\"name\"])\n",
        "\n",
        "# Update value\n",
        "student[\"age\"] = 23\n",
        "\n",
        "# Add new key-value\n",
        "student[\"city\"] = \"Delhi\"\n",
        "\n",
        "# Delete key-value pair\n",
        "del student[\"city\"]\n",
        "\n",
        "# All keys\n",
        "print(student.keys())\n",
        "# All values\n",
        "print(student.values())\n",
        "\n",
        "\n",
        "#When to Use:\n",
        "\n",
        "#When data is labeled (like fields of a student).\n",
        "#When fast lookups by key are needed."
      ],
      "metadata": {
        "colab": {
          "base_uri": "https://localhost:8080/"
        },
        "id": "i0YUXRyg96mt",
        "outputId": "a84ba573-3a26-465a-b9a2-af933a1eb723"
      },
      "execution_count": 21,
      "outputs": [
        {
          "output_type": "stream",
          "name": "stdout",
          "text": [
            "Rohit\n",
            "dict_keys(['name', 'age'])\n",
            "dict_values(['Rohit', 23])\n"
          ]
        }
      ]
    },
    {
      "cell_type": "code",
      "source": [
        "#List Exercises\n",
        "\n",
        "# Q1. Create a list of 5 favorite movies and print the third one.\n",
        "fav_movies = [\"Inception\", \"UP\", \"Avengers\", \"Home Alone\", \"Gladiator\"]\n",
        "print(fav_movies[2])\n",
        "\n",
        "# Q2. Add a new movie to the end of the list.\n",
        "fav_movies.append(\"KGF\")\n",
        "print(fav_movies)\n",
        "\n",
        "# Q3. Replace the second movie with another.\n",
        "fav_movies[1] = \"Parasite\"\n",
        "print(fav_movies)\n",
        "\n",
        "# Q4. Remove the last movie from the list.\n",
        "fav_movies.pop()\n",
        "print(fav_movies)\n",
        "\n",
        "# Q5. Sort the list in alphabetical order.\n",
        "fav_movies.sort()\n",
        "print(fav_movies)"
      ],
      "metadata": {
        "colab": {
          "base_uri": "https://localhost:8080/"
        },
        "id": "U70kAIDu-OLZ",
        "outputId": "534f7ad3-63b9-47a8-ab92-c8a15ccc9b56"
      },
      "execution_count": 30,
      "outputs": [
        {
          "output_type": "stream",
          "name": "stdout",
          "text": [
            "Avengers\n",
            "['Inception', 'UP', 'Avengers', 'Home Alone', 'Gladiator', 'KGF']\n",
            "['Inception', 'Parasite', 'Avengers', 'Home Alone', 'Gladiator', 'KGF']\n",
            "['Inception', 'Parasite', 'Avengers', 'Home Alone', 'Gladiator']\n",
            "['Avengers', 'Gladiator', 'Home Alone', 'Inception', 'Parasite']\n"
          ]
        }
      ]
    },
    {
      "cell_type": "code",
      "source": [
        "#Tuple Exercises\n",
        "\n",
        "# Q1. Create a tuple of 4 cities.\n",
        "city = (\"Delhi\", \"Mumbai\", \"Banglore\", \"Chennai\")\n",
        "print(city)\n",
        "\n",
        "# Q2. Print the second city.\n",
        "print(city[1])\n",
        "\n",
        "# Q3. Try changing one city value and observe the result.\n",
        "\n",
        "#city[1] = \"Pune\"\n",
        "#print(city)\n",
        "\n",
        "#Note: Its immutable so, cannot change elements of tuple.\n",
        "       #It will throw an error \"TypeError: 'tuple' object does not support item assignment\"\n",
        "\n",
        "# Q4. Find the length of the tuple.\n",
        "print(len(city))\n",
        "\n",
        "# Q5. Convert the tuple to a list and append a new city.\n",
        "city_list = list(city)\n",
        "city_list.append(\"Pune\")\n",
        "print(city_list)"
      ],
      "metadata": {
        "colab": {
          "base_uri": "https://localhost:8080/"
        },
        "id": "H22JApOjFVyH",
        "outputId": "b65fe5a0-e0ca-4cbf-c8f1-df84d2f5b1c7"
      },
      "execution_count": 40,
      "outputs": [
        {
          "output_type": "stream",
          "name": "stdout",
          "text": [
            "('Delhi', 'Mumbai', 'Banglore', 'Chennai')\n",
            "Mumbai\n",
            "4\n",
            "['Delhi', 'Mumbai', 'Banglore', 'Chennai', 'Pune']\n"
          ]
        }
      ]
    },
    {
      "cell_type": "code",
      "source": [
        "#Set Exercises\n",
        "\n",
        "# Q1. Create a set of 5 fruits.\n",
        "fruits = {\"apple\", \"orange\", \"pineapple\", \"watermelon\", \"kiwi\"}\n",
        "print(type(fruits))\n",
        "print(fruits)\n",
        "\n",
        "\n",
        "# Q2. Add a new fruit.\n",
        "fruits.add(\"mango\")\n",
        "print(fruits)\n",
        "\n",
        "# Q3. Try adding a duplicate fruit — does it appear?\n",
        "fruits.add(\"apple\")\n",
        "print(fruits)\n",
        "\n",
        "#Note: Since, Set does not allow duplicate values/elements. so even if i add duplicate value, it won't show in output.\n",
        "\n",
        "# Q4. Remove a fruit.\n",
        "fruits.remove(\"pineapple\")\n",
        "print(fruits)\n",
        "\n",
        "# Q5. Check if \"apple\" is in the set.\n",
        "print(\"apple\" in fruits)"
      ],
      "metadata": {
        "colab": {
          "base_uri": "https://localhost:8080/"
        },
        "id": "2CoOMSU8HuLg",
        "outputId": "402523ff-3772-49ed-e5b8-67d76763e289"
      },
      "execution_count": 48,
      "outputs": [
        {
          "output_type": "stream",
          "name": "stdout",
          "text": [
            "<class 'set'>\n",
            "{'orange', 'apple', 'kiwi', 'pineapple', 'watermelon'}\n",
            "{'orange', 'apple', 'kiwi', 'pineapple', 'mango', 'watermelon'}\n",
            "{'orange', 'apple', 'kiwi', 'pineapple', 'mango', 'watermelon'}\n",
            "{'orange', 'apple', 'kiwi', 'mango', 'watermelon'}\n",
            "True\n"
          ]
        }
      ]
    },
    {
      "cell_type": "code",
      "source": [
        "#Dictionary Exercises\n",
        "\n",
        "# Q1. Create a dictionary with keys: name, age, and city.\n",
        "students = {\"name\" : \"Rohit\", \"age\" : 25, \"city\" : \"Varanasi\"}\n",
        "print(students)\n",
        "\n",
        "# Q2. Print the value of name.\n",
        "print(students[\"name\"])\n",
        "\n",
        "# Q3. Add a new key college with your college name.\n",
        "students[\"college\"] = \"Chandigarh University\"\n",
        "print(students)\n",
        "\n",
        "# Q4. Change the value of age.\n",
        "students[\"age\"] = 24\n",
        "print(students)\n",
        "\n",
        "# Q5. Remove the city key.\n",
        "students.pop(\"city\")\n",
        "print(students)\n",
        "\n",
        "# Q6. Print all keys and all values.\n",
        "print(students.keys())\n",
        "print(students.values())"
      ],
      "metadata": {
        "colab": {
          "base_uri": "https://localhost:8080/"
        },
        "id": "FYEw_pXjKSNY",
        "outputId": "3f2c5057-5205-4efe-8d95-b269ab679f07"
      },
      "execution_count": 61,
      "outputs": [
        {
          "output_type": "stream",
          "name": "stdout",
          "text": [
            "{'name': 'Rohit', 'age': 25, 'city': 'Varanasi'}\n",
            "Rohit\n",
            "{'name': 'Rohit', 'age': 25, 'city': 'Varanasi', 'college': 'Chandigarh University'}\n",
            "{'name': 'Rohit', 'age': 24, 'city': 'Varanasi', 'college': 'Chandigarh University'}\n",
            "{'name': 'Rohit', 'age': 24, 'college': 'Chandigarh University'}\n",
            "dict_keys(['name', 'age', 'college'])\n",
            "dict_values(['Rohit', 24, 'Chandigarh University'])\n"
          ]
        }
      ]
    },
    {
      "cell_type": "code",
      "source": [],
      "metadata": {
        "id": "Z-6bqCs0LsiT"
      },
      "execution_count": null,
      "outputs": []
    }
  ]
}