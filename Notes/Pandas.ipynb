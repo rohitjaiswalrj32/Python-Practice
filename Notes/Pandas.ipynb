{
  "nbformat": 4,
  "nbformat_minor": 0,
  "metadata": {
    "colab": {
      "provenance": [],
      "toc_visible": true
    },
    "kernelspec": {
      "name": "python3",
      "display_name": "Python 3"
    },
    "language_info": {
      "name": "python"
    }
  },
  "cells": [
    {
      "cell_type": "markdown",
      "source": [
        "# Pandas"
      ],
      "metadata": {
        "id": "i4wIt4sqggkd"
      }
    },
    {
      "cell_type": "markdown",
      "source": [
        "**Agenda**\n",
        "1. Introduction to Pandas\n",
        "   - Overview of Pandas and its use cases\n",
        "   - Installation and setup\n",
        "\n",
        "2. Data Structures in Pandas\n",
        "   - Series: Creation, manipulation, indexing\n",
        "   - DataFrame: Creation, manipulation, indexing\n",
        "   - DataFrame vs. Series\n",
        "   - Hierarchical Indexing (MultiIndex)\n",
        "\n",
        "3. Data Manipulation\n",
        "   - Adding, dropping, and renaming columns/rows\n",
        "   - Sorting data: `sort_values()`, `sort_index()`\n",
        "   - Handling missing data: `isnull()`, `dropna()`, `fillna()`\n",
        "   - Removing duplicates\n",
        "   - Handling categorical data\n",
        "\n",
        "4. Grouping and Aggregation\n",
        "   - Grouping data with `groupby()`\n",
        "   - Aggregation functions: `sum()`, `mean()`, `count()`, `min()`, `max()`\n",
        "   - Grouping by multiple columns\n",
        "   - Pivot tables and cross-tabulation for data analysis\n",
        "\n",
        "5. Merging and Joining Data\n",
        "   - Merging DataFrames: `merge()` function\n",
        "   - Different types of joins\n",
        "   - Joining DataFrames with join"
      ],
      "metadata": {
        "id": "xuPk6tTkgmzD"
      }
    },
    {
      "cell_type": "markdown",
      "source": [
        "\n",
        "# Introduction to Pandas"
      ],
      "metadata": {
        "id": "sS6q3Lo9rpsk"
      }
    },
    {
      "cell_type": "markdown",
      "source": [
        "Pandas is an open-source data analysis and manipulation library built on top of the Python programming language. It is widely used in data science, machine learning, and data analysis tasks due to its powerful and flexible data structures, Series and DataFrame. Pandas allows for efficient handling of structured data and provides tools for reading, writing, cleaning, filtering, and visualizing data."
      ],
      "metadata": {
        "id": "OWtAN6NRrwGg"
      }
    },
    {
      "cell_type": "markdown",
      "source": [
        "**Key Use Cases of Pandas:**\n",
        "\n",
        "\n",
        "* Data Cleaning: Handling missing data, removing duplicates, and formatting data.\n",
        "* Data Transformation: Reshaping data, merging datasets, and grouping data.\n",
        "* Data Analysis: Statistical analysis, aggregations, and pivot tables.\n",
        "* Data Visualization: Plotting graphs and charts directly from data structures.\n",
        "* Input/Output Operations: Reading from and writing to various file formats (CSV, Excel, JSON, SQL).\n",
        "\n",
        "**Why Use Pandas?**\n",
        "\n",
        "* Easy-to-Use: Intuitive syntax and powerful functions for data manipulation.\n",
        "* High Performance: Efficient handling of large datasets.\n",
        "* Integration: Works well with other Python libraries like NumPy, Matplotlib, and Scikit-learn.\n",
        "* Flexibility: Supports different types of data structures and operations."
      ],
      "metadata": {
        "id": "ODrqqzo_rwqw"
      }
    },
    {
      "cell_type": "markdown",
      "source": [
        "##  Installation and Setup"
      ],
      "metadata": {
        "id": "7phsUTnHsJrv"
      }
    },
    {
      "cell_type": "markdown",
      "source": [
        "To start using Pandas, you need to install it in your Python environment. Pandas is often included in many scientific Python distributions like Anaconda, but you can also install it manually using pip or conda.\n",
        "\n",
        "**Installation Using pip:**"
      ],
      "metadata": {
        "id": "YN8DUvw_sMy6"
      }
    },
    {
      "cell_type": "code",
      "source": [
        "pip install pandas\n"
      ],
      "metadata": {
        "id": "I31dQ0_isT3B",
        "colab": {
          "base_uri": "https://localhost:8080/"
        },
        "outputId": "5e0d2441-3b2d-4e69-8ed4-70880b23a46b"
      },
      "execution_count": null,
      "outputs": [
        {
          "output_type": "stream",
          "name": "stdout",
          "text": [
            "Requirement already satisfied: pandas in /usr/local/lib/python3.10/dist-packages (2.1.4)\n",
            "Requirement already satisfied: numpy<2,>=1.22.4 in /usr/local/lib/python3.10/dist-packages (from pandas) (1.26.4)\n",
            "Requirement already satisfied: python-dateutil>=2.8.2 in /usr/local/lib/python3.10/dist-packages (from pandas) (2.8.2)\n",
            "Requirement already satisfied: pytz>=2020.1 in /usr/local/lib/python3.10/dist-packages (from pandas) (2024.1)\n",
            "Requirement already satisfied: tzdata>=2022.1 in /usr/local/lib/python3.10/dist-packages (from pandas) (2024.1)\n",
            "Requirement already satisfied: six>=1.5 in /usr/local/lib/python3.10/dist-packages (from python-dateutil>=2.8.2->pandas) (1.16.0)\n"
          ]
        }
      ]
    },
    {
      "cell_type": "markdown",
      "source": [
        "**Importing Pandas:**\n",
        "\n",
        "Once Pandas is installed, you can import it into your Python script or notebook:"
      ],
      "metadata": {
        "id": "cqwjOOtOscAa"
      }
    },
    {
      "cell_type": "code",
      "source": [
        "import pandas as pd\n"
      ],
      "metadata": {
        "id": "Dqc-Ep-CsfvJ"
      },
      "execution_count": null,
      "outputs": []
    },
    {
      "cell_type": "markdown",
      "source": [
        "The convention is to import Pandas as pd to shorten the namespace when calling functions."
      ],
      "metadata": {
        "id": "kqYY-qJ2siEG"
      }
    },
    {
      "cell_type": "markdown",
      "source": [
        "# Data Structures in Pandas"
      ],
      "metadata": {
        "id": "bRlBZ9HfGnZT"
      }
    },
    {
      "cell_type": "markdown",
      "source": [
        "Pandas provides two primary data structures: Series and DataFrame. Understanding these data structures is crucial for effectively working with data in Pandas."
      ],
      "metadata": {
        "id": "DbvfelJwGoue"
      }
    },
    {
      "cell_type": "markdown",
      "source": [
        "## Series"
      ],
      "metadata": {
        "id": "r6mAXHdSGq03"
      }
    },
    {
      "cell_type": "markdown",
      "source": [
        "A Series is a one-dimensional labeled array that can hold data of any type (integer, string, float, etc.). It is similar to a column in a spreadsheet or a database table. Each element in a Series has an associated index, which allows for efficient data retrieval.\n",
        "\n"
      ],
      "metadata": {
        "id": "u9h0u0APGvsE"
      }
    },
    {
      "cell_type": "markdown",
      "source": [
        "### Creating a Series"
      ],
      "metadata": {
        "id": "zkc52LCcGymQ"
      }
    },
    {
      "cell_type": "markdown",
      "source": [
        "Creating a Series from a List"
      ],
      "metadata": {
        "id": "qeKDj-PkG2ZN"
      }
    },
    {
      "cell_type": "code",
      "source": [
        "import pandas as pd\n",
        "\n",
        "# Creating a Series from a list\n",
        "data = [10, 20, 30, 40]\n",
        "series = pd.Series(data)\n",
        "\n",
        "print(series)\n"
      ],
      "metadata": {
        "id": "JHfMdga4G5yK",
        "colab": {
          "base_uri": "https://localhost:8080/"
        },
        "outputId": "986dade6-248c-4466-ef41-2068ab86f205"
      },
      "execution_count": null,
      "outputs": [
        {
          "output_type": "stream",
          "name": "stdout",
          "text": [
            "0    10\n",
            "1    20\n",
            "2    30\n",
            "3    40\n",
            "dtype: int64\n"
          ]
        }
      ]
    },
    {
      "cell_type": "markdown",
      "source": [
        "**Explanation:**\n",
        "\n",
        "* The Series series contains four elements, indexed by 0, 1, 2, 3.\n",
        "* The data type (int64) is shown at the bottom."
      ],
      "metadata": {
        "id": "qHBR8_JRHDa1"
      }
    },
    {
      "cell_type": "markdown",
      "source": [
        "Creating a Series with a Custom Index"
      ],
      "metadata": {
        "id": "QXgw_Dc_HlXg"
      }
    },
    {
      "cell_type": "code",
      "source": [
        "data = [10, 20, 30, 40]\n",
        "index = ['a', 'b', 'c', 'd']\n",
        "series = pd.Series(data, index=index)\n",
        "\n",
        "print(series)\n"
      ],
      "metadata": {
        "id": "-iLd_MfWHprB",
        "colab": {
          "base_uri": "https://localhost:8080/"
        },
        "outputId": "07a502e1-2d1a-4d0d-c715-1c8078080840"
      },
      "execution_count": null,
      "outputs": [
        {
          "output_type": "stream",
          "name": "stdout",
          "text": [
            "a    10\n",
            "b    20\n",
            "c    30\n",
            "d    40\n",
            "dtype: int64\n"
          ]
        }
      ]
    },
    {
      "cell_type": "markdown",
      "source": [
        "**Explanation:**\n",
        "\n",
        "* The Series series now uses custom indices ('a', 'b', 'c', 'd') instead of default numeric indices."
      ],
      "metadata": {
        "id": "UQ4p_Gx7H0D1"
      }
    },
    {
      "cell_type": "markdown",
      "source": [
        "### Manipulating a Series"
      ],
      "metadata": {
        "id": "OEhOo_mIH2je"
      }
    },
    {
      "cell_type": "markdown",
      "source": [
        " Performing Operations on a Series"
      ],
      "metadata": {
        "id": "9evDm5jlH_qB"
      }
    },
    {
      "cell_type": "code",
      "source": [
        "# Adding 5 to each element in the series\n",
        "modified_series = series + 5\n",
        "\n",
        "print(modified_series)\n"
      ],
      "metadata": {
        "id": "Jvn3UlP3ICUE",
        "colab": {
          "base_uri": "https://localhost:8080/"
        },
        "outputId": "70de2672-364d-4bb6-a039-df9193841db7"
      },
      "execution_count": null,
      "outputs": [
        {
          "output_type": "stream",
          "name": "stdout",
          "text": [
            "a    15\n",
            "b    25\n",
            "c    35\n",
            "d    45\n",
            "dtype: int64\n"
          ]
        }
      ]
    },
    {
      "cell_type": "markdown",
      "source": [
        "**Explanation:**\n",
        "\n",
        "Each element in the Series is increased by 5.\n"
      ],
      "metadata": {
        "id": "UbWGB6h0IJgw"
      }
    },
    {
      "cell_type": "markdown",
      "source": [
        "Filtering a Series"
      ],
      "metadata": {
        "id": "MCq3HjNoIqGJ"
      }
    },
    {
      "cell_type": "code",
      "source": [
        "# Filtering elements greater than 20\n",
        "filtered_series = series[series > 20]\n",
        "\n",
        "print(filtered_series)\n"
      ],
      "metadata": {
        "id": "9PMr3nHlIvX6",
        "colab": {
          "base_uri": "https://localhost:8080/"
        },
        "outputId": "e3ec8ce6-06f9-4abc-e29c-07a954c33e47"
      },
      "execution_count": null,
      "outputs": [
        {
          "output_type": "stream",
          "name": "stdout",
          "text": [
            "c    30\n",
            "d    40\n",
            "dtype: int64\n"
          ]
        }
      ]
    },
    {
      "cell_type": "markdown",
      "source": [
        "**Explanation:**\n",
        "\n",
        "* The Series is filtered to include only elements greater than 20.\n"
      ],
      "metadata": {
        "id": "FedPcbNbI1sG"
      }
    },
    {
      "cell_type": "markdown",
      "source": [
        "### Indexing a Series"
      ],
      "metadata": {
        "id": "fe8QSuiMI5hY"
      }
    },
    {
      "cell_type": "markdown",
      "source": [
        "Accessing Elements by Index"
      ],
      "metadata": {
        "id": "eCPzd0S0JFew"
      }
    },
    {
      "cell_type": "code",
      "source": [
        "# Accessing an element by its index\n",
        "print(series['b'])\n"
      ],
      "metadata": {
        "id": "auovP-TZJHuw",
        "colab": {
          "base_uri": "https://localhost:8080/"
        },
        "outputId": "a93ef96b-1cdd-4928-878b-7fadbef268fb"
      },
      "execution_count": null,
      "outputs": [
        {
          "output_type": "stream",
          "name": "stdout",
          "text": [
            "20\n"
          ]
        }
      ]
    },
    {
      "cell_type": "markdown",
      "source": [
        "**Explanation:**\n",
        "\n",
        "The value corresponding to index 'b' is accessed."
      ],
      "metadata": {
        "id": "Jsyq0K5QJSYR"
      }
    },
    {
      "cell_type": "markdown",
      "source": [
        "Slicing a Series"
      ],
      "metadata": {
        "id": "grk5n5VjJWFg"
      }
    },
    {
      "cell_type": "code",
      "source": [
        "# Slicing the Series\n",
        "print(series['b':'d'])\n"
      ],
      "metadata": {
        "id": "0HS46euCJarx",
        "colab": {
          "base_uri": "https://localhost:8080/"
        },
        "outputId": "c11abb6f-32b8-4800-b110-1a90f6e946a9"
      },
      "execution_count": null,
      "outputs": [
        {
          "output_type": "stream",
          "name": "stdout",
          "text": [
            "b    20\n",
            "c    30\n",
            "d    40\n",
            "dtype: int64\n"
          ]
        }
      ]
    },
    {
      "cell_type": "markdown",
      "source": [
        "**Explanation:**\n",
        "\n",
        "A subset of the Series from index 'b' to 'd' is selected."
      ],
      "metadata": {
        "id": "FF2bofZlJh1l"
      }
    },
    {
      "cell_type": "markdown",
      "source": [
        "## DataFrame"
      ],
      "metadata": {
        "id": "mP_smNIRJlRo"
      }
    },
    {
      "cell_type": "markdown",
      "source": [
        "A DataFrame is a two-dimensional, size-mutable, and potentially heterogeneous tabular data structure with labeled axes (rows and columns). It is analogous to a table in a relational database or an Excel spreadsheet.\n",
        "\n"
      ],
      "metadata": {
        "id": "WBmA0aVZJmhU"
      }
    },
    {
      "cell_type": "markdown",
      "source": [
        "### Creating a DataFrame"
      ],
      "metadata": {
        "id": "LAw9rorQJo8S"
      }
    },
    {
      "cell_type": "markdown",
      "source": [
        "Creating a DataFrame from a Dictionary"
      ],
      "metadata": {
        "id": "S8OT9qkFJrrh"
      }
    },
    {
      "cell_type": "code",
      "source": [
        "import pandas as pd\n",
        "\n",
        "# Creating a DataFrame from a dictionary\n",
        "data = {\n",
        "    'Name': ['Alice', 'Bob', 'Charlie'],\n",
        "    'Age': [25, 30, 35],\n",
        "    'City': ['New York', 'Los Angeles', 'Chicago']\n",
        "}\n",
        "\n",
        "df = pd.DataFrame(data)\n",
        "\n",
        "print(df)\n"
      ],
      "metadata": {
        "id": "ZTptTNalJtzu",
        "colab": {
          "base_uri": "https://localhost:8080/"
        },
        "outputId": "3ffd6b0c-a4b2-4ebf-e0de-5da3aa1f3fa7"
      },
      "execution_count": null,
      "outputs": [
        {
          "output_type": "stream",
          "name": "stdout",
          "text": [
            "      Name  Age         City\n",
            "0    Alice   25     New York\n",
            "1      Bob   30  Los Angeles\n",
            "2  Charlie   35      Chicago\n"
          ]
        }
      ]
    },
    {
      "cell_type": "markdown",
      "source": [
        "**Explanation:**\n",
        "\n",
        "* The DataFrame df consists of three columns: Name, Age, and City.\n",
        "* Each row is indexed by default with integers (0, 1, 2).\n",
        "\n",
        "Creating a DataFrame with a Custom Index"
      ],
      "metadata": {
        "id": "XRlHO-EgJ1qH"
      }
    },
    {
      "cell_type": "code",
      "source": [
        "df = pd.DataFrame(data, index=['a', 'b', 'c'])\n",
        "\n",
        "print(df)\n"
      ],
      "metadata": {
        "id": "1ifEiTrMJ_Ff",
        "colab": {
          "base_uri": "https://localhost:8080/"
        },
        "outputId": "1619b2d5-976c-47b6-ef08-cf20b32c0f11"
      },
      "execution_count": null,
      "outputs": [
        {
          "output_type": "stream",
          "name": "stdout",
          "text": [
            "      Name  Age         City\n",
            "a    Alice   25     New York\n",
            "b      Bob   30  Los Angeles\n",
            "c  Charlie   35      Chicago\n"
          ]
        }
      ]
    },
    {
      "cell_type": "markdown",
      "source": [
        "**Explanation:**\n",
        "\n",
        "* The DataFrame df now has a custom index (a, b, c) instead of the default numeric index."
      ],
      "metadata": {
        "id": "h0FpPWncKHTC"
      }
    },
    {
      "cell_type": "markdown",
      "source": [
        "### Manipulating a DataFrame"
      ],
      "metadata": {
        "id": "es42g-E5KL3v"
      }
    },
    {
      "cell_type": "markdown",
      "source": [
        "Adding a New Column"
      ],
      "metadata": {
        "id": "vSAdCqI0KO-6"
      }
    },
    {
      "cell_type": "code",
      "source": [
        "# Adding a new column 'Salary' to the DataFrame\n",
        "df['Salary'] = [70000, 80000, 90000]\n",
        "\n",
        "print(df)\n"
      ],
      "metadata": {
        "id": "WJtW-3EYKRFC",
        "colab": {
          "base_uri": "https://localhost:8080/"
        },
        "outputId": "99b79778-810e-4633-d8eb-e8762d68758d"
      },
      "execution_count": null,
      "outputs": [
        {
          "output_type": "stream",
          "name": "stdout",
          "text": [
            "      Name  Age         City  Salary\n",
            "a    Alice   25     New York   70000\n",
            "b      Bob   30  Los Angeles   80000\n",
            "c  Charlie   35      Chicago   90000\n"
          ]
        }
      ]
    },
    {
      "cell_type": "markdown",
      "source": [
        "**Explanation:**\n",
        "\n",
        "A new column Salary is added to the DataFrame df."
      ],
      "metadata": {
        "id": "gTsuc9QKKW4L"
      }
    },
    {
      "cell_type": "markdown",
      "source": [
        "Dropping a Column"
      ],
      "metadata": {
        "id": "9OCtYb_hKZxj"
      }
    },
    {
      "cell_type": "code",
      "source": [
        "# Dropping the 'Age' column\n",
        "df = df.drop('Age', axis=1)\n",
        "\n",
        "print(df)\n"
      ],
      "metadata": {
        "id": "f-0hfWuGKbm_",
        "colab": {
          "base_uri": "https://localhost:8080/"
        },
        "outputId": "e776f716-8b52-4346-944e-62e1c1dc28e5"
      },
      "execution_count": null,
      "outputs": [
        {
          "output_type": "stream",
          "name": "stdout",
          "text": [
            "      Name         City  Salary\n",
            "a    Alice     New York   70000\n",
            "b      Bob  Los Angeles   80000\n",
            "c  Charlie      Chicago   90000\n"
          ]
        }
      ]
    },
    {
      "cell_type": "markdown",
      "source": [
        "**Explanation:**\n",
        "\n",
        "The Age column is removed from the DataFrame."
      ],
      "metadata": {
        "id": "YuXMXdskKhjx"
      }
    },
    {
      "cell_type": "markdown",
      "source": [
        "### Indexing a DataFrame"
      ],
      "metadata": {
        "id": "iEhyejDhKlmG"
      }
    },
    {
      "cell_type": "markdown",
      "source": [
        "Accessing a Single Column"
      ],
      "metadata": {
        "id": "9VOM8OhNKtHV"
      }
    },
    {
      "cell_type": "code",
      "source": [
        "# Accessing the 'Name' column\n",
        "print(df['Name'])\n"
      ],
      "metadata": {
        "id": "D7ntb0liKvFF",
        "colab": {
          "base_uri": "https://localhost:8080/"
        },
        "outputId": "ecd5aaf5-f351-47bc-bcec-c8a6dea28056"
      },
      "execution_count": null,
      "outputs": [
        {
          "output_type": "stream",
          "name": "stdout",
          "text": [
            "a      Alice\n",
            "b        Bob\n",
            "c    Charlie\n",
            "Name: Name, dtype: object\n"
          ]
        }
      ]
    },
    {
      "cell_type": "markdown",
      "source": [
        "**Explanation:**\n",
        "\n",
        "The Name column is returned as a Series."
      ],
      "metadata": {
        "id": "idBiZEf5KzGo"
      }
    },
    {
      "cell_type": "markdown",
      "source": [
        "Accessing Multiple Columns"
      ],
      "metadata": {
        "id": "DFpjAHbQK2u8"
      }
    },
    {
      "cell_type": "code",
      "source": [
        "# Accessing 'Name' and 'City' columns\n",
        "print(df[['Name', 'City']])\n"
      ],
      "metadata": {
        "id": "CbC0nIYMK821",
        "colab": {
          "base_uri": "https://localhost:8080/"
        },
        "outputId": "d7ce6b40-42cf-49b9-e9c0-0fb744471f6d"
      },
      "execution_count": null,
      "outputs": [
        {
          "output_type": "stream",
          "name": "stdout",
          "text": [
            "      Name         City\n",
            "a    Alice     New York\n",
            "b      Bob  Los Angeles\n",
            "c  Charlie      Chicago\n"
          ]
        }
      ]
    },
    {
      "cell_type": "markdown",
      "source": [
        "**Explanation:**\n",
        "\n",
        "Multiple columns (Name and City) are selected from the DataFrame."
      ],
      "metadata": {
        "id": "AVQi7yYYLD-S"
      }
    },
    {
      "cell_type": "markdown",
      "source": [
        "Accessing Rows by Index"
      ],
      "metadata": {
        "id": "lGXgAkLOLJhQ"
      }
    },
    {
      "cell_type": "code",
      "source": [
        "# Accessing a row by its index\n",
        "print(df.loc['b'])\n"
      ],
      "metadata": {
        "id": "plCuihtbLL8v",
        "colab": {
          "base_uri": "https://localhost:8080/"
        },
        "outputId": "5cdbda4e-63de-4d21-b6da-97455aa62fbc"
      },
      "execution_count": null,
      "outputs": [
        {
          "output_type": "stream",
          "name": "stdout",
          "text": [
            "Name              Bob\n",
            "City      Los Angeles\n",
            "Salary          80000\n",
            "Name: b, dtype: object\n"
          ]
        }
      ]
    },
    {
      "cell_type": "markdown",
      "source": [
        "**Explanation:**\n",
        "\n",
        "The row corresponding to index 'b' is accessed.\n"
      ],
      "metadata": {
        "id": "WplcL9wBLQsY"
      }
    },
    {
      "cell_type": "markdown",
      "source": [
        "Slicing Rows"
      ],
      "metadata": {
        "id": "4MLB3ttlLVSo"
      }
    },
    {
      "cell_type": "code",
      "source": [
        "# Slicing rows using the index\n",
        "print(df.loc['a':'b'])\n"
      ],
      "metadata": {
        "id": "-dn4lWgwLXLQ",
        "colab": {
          "base_uri": "https://localhost:8080/"
        },
        "outputId": "d86c119d-772c-48e6-8178-3066a4e38807"
      },
      "execution_count": null,
      "outputs": [
        {
          "output_type": "stream",
          "name": "stdout",
          "text": [
            "    Name         City  Salary\n",
            "a  Alice     New York   70000\n",
            "b    Bob  Los Angeles   80000\n"
          ]
        }
      ]
    },
    {
      "cell_type": "markdown",
      "source": [
        "**Explanation:**\n",
        "\n",
        "A subset of the DataFrame df from index 'a' to 'b' is selected."
      ],
      "metadata": {
        "id": "XOlZ3nLBLblh"
      }
    },
    {
      "cell_type": "markdown",
      "source": [
        "## DataFrame vs. Series"
      ],
      "metadata": {
        "id": "jw5xWKNQLg-R"
      }
    },
    {
      "cell_type": "markdown",
      "source": [
        "* Series is a one-dimensional array-like object with an index. It can be thought of as a single column of data.\n",
        "\n",
        "* DataFrame is a two-dimensional table with rows and columns. It can be thought of as a collection of Series objects that share the same index.\n"
      ],
      "metadata": {
        "id": "jaO4Hg2HLh_p"
      }
    },
    {
      "cell_type": "markdown",
      "source": [
        "**Converting a DataFrame Column to a Series**"
      ],
      "metadata": {
        "id": "gXZKMhrTLmA-"
      }
    },
    {
      "cell_type": "code",
      "source": [
        "# Extracting the 'Name' column as a Series\n",
        "name_series = df['Name']\n",
        "\n",
        "print(name_series)\n"
      ],
      "metadata": {
        "id": "jLz3xJERLr9M",
        "colab": {
          "base_uri": "https://localhost:8080/"
        },
        "outputId": "0b7f1c65-ea21-40d4-886c-231bfa9dd890"
      },
      "execution_count": null,
      "outputs": [
        {
          "output_type": "stream",
          "name": "stdout",
          "text": [
            "a      Alice\n",
            "b        Bob\n",
            "c    Charlie\n",
            "Name: Name, dtype: object\n"
          ]
        }
      ]
    },
    {
      "cell_type": "markdown",
      "source": [
        "**Explanation:**\n",
        "\n",
        "The Name column is extracted as a Series from the DataFrame."
      ],
      "metadata": {
        "id": "wFAAXLoSL4YM"
      }
    },
    {
      "cell_type": "markdown",
      "source": [
        "## Hierarchical Indexing (MultiIndex)"
      ],
      "metadata": {
        "id": "SCSy7mUVL91a"
      }
    },
    {
      "cell_type": "markdown",
      "source": [
        "Hierarchical indexing, or MultiIndexing, allows you to have multiple levels of index in a Series or DataFrame. This is useful for working with high-dimensional data in a lower-dimensional data structure."
      ],
      "metadata": {
        "id": "1rQT-0BNMDd1"
      }
    },
    {
      "cell_type": "markdown",
      "source": [
        "**Creating a MultiIndex DataFrame:**"
      ],
      "metadata": {
        "id": "rZJMiVLbMFpd"
      }
    },
    {
      "cell_type": "code",
      "source": [
        "import pandas as pd\n",
        "import numpy as np\n",
        "\n",
        "# Creating a MultiIndex\n",
        "arrays = [\n",
        "    ['A', 'A', 'B', 'B'],\n",
        "    ['one', 'two', 'one', 'two']\n",
        "]\n",
        "\n",
        "index = pd.MultiIndex.from_arrays(arrays, names=('Upper', 'Lower'))\n",
        "\n",
        "# Creating a DataFrame with MultiIndex\n",
        "df_multi = pd.DataFrame(np.random.randn(4, 2), index=index, columns=['Column1', 'Column2'])\n",
        "\n",
        "print(df_multi)\n"
      ],
      "metadata": {
        "id": "VefsiLDJMJTx",
        "colab": {
          "base_uri": "https://localhost:8080/"
        },
        "outputId": "603d9873-4123-41fb-db7c-af596c309e72"
      },
      "execution_count": null,
      "outputs": [
        {
          "output_type": "stream",
          "name": "stdout",
          "text": [
            "              Column1   Column2\n",
            "Upper Lower                    \n",
            "A     one   -0.448576  0.773458\n",
            "      two    0.403773  2.517012\n",
            "B     one    0.474613  0.702819\n",
            "      two   -0.646551  1.301305\n"
          ]
        }
      ]
    },
    {
      "cell_type": "markdown",
      "source": [
        "**Explanation:**\n",
        "\n",
        "* The DataFrame df_multi has a MultiIndex with two levels (Upper and Lower).\n",
        "* The MultiIndex"
      ],
      "metadata": {
        "id": "DlGHsOBjMRNy"
      }
    },
    {
      "cell_type": "markdown",
      "source": [
        "# Data Manipulation"
      ],
      "metadata": {
        "id": "kDNU6tm4Wubm"
      }
    },
    {
      "cell_type": "markdown",
      "source": [
        "Data manipulation in Pandas involves various operations that modify the structure and content of your DataFrame, such as adding, dropping, renaming columns or rows, sorting, handling missing data, removing duplicates, and managing categorical data."
      ],
      "metadata": {
        "id": "_gpf_EetWwXN"
      }
    },
    {
      "cell_type": "markdown",
      "source": [
        "## Adding, Dropping, and Renaming Columns/Rows"
      ],
      "metadata": {
        "id": "6zb4WG_1Wyob"
      }
    },
    {
      "cell_type": "markdown",
      "source": [
        "### Adding a Column:"
      ],
      "metadata": {
        "id": "A6mqWlwFW17o"
      }
    },
    {
      "cell_type": "markdown",
      "source": [
        "You can easily add a new column to a DataFrame by assigning a list or Series to a new column name."
      ],
      "metadata": {
        "id": "tVy6QSWlW47i"
      }
    },
    {
      "cell_type": "code",
      "source": [
        "import pandas as pd\n",
        "\n",
        "# Sample DataFrame\n",
        "data = {\n",
        "    'Name': ['Alice', 'Bob', 'Charlie', 'David', 'Eva'],\n",
        "    'Age': [25, 30, 35, 40, 45],\n",
        "    'City': ['New York', 'Los Angeles', 'Chicago', 'Houston', 'Phoenix']\n",
        "}\n",
        "df = pd.DataFrame(data)\n",
        "\n",
        "# Add a new column 'Salary'\n",
        "df['Salary'] = [70000, 80000, 90000, 100000, 110000]\n",
        "\n",
        "print(df)\n"
      ],
      "metadata": {
        "id": "zN1oIzJNW6fA",
        "colab": {
          "base_uri": "https://localhost:8080/"
        },
        "outputId": "eb8ca8f0-37b8-4515-c387-80beb839a15f"
      },
      "execution_count": null,
      "outputs": [
        {
          "output_type": "stream",
          "name": "stdout",
          "text": [
            "      Name  Age         City  Salary\n",
            "0    Alice   25     New York   70000\n",
            "1      Bob   30  Los Angeles   80000\n",
            "2  Charlie   35      Chicago   90000\n",
            "3    David   40      Houston  100000\n",
            "4      Eva   45      Phoenix  110000\n"
          ]
        }
      ]
    },
    {
      "cell_type": "markdown",
      "source": [
        "**Explanation:**\n",
        "\n",
        "A new column Salary is added to the DataFrame, with each row assigned a corresponding salary value.\n"
      ],
      "metadata": {
        "id": "CyUQYQM0XB_O"
      }
    },
    {
      "cell_type": "markdown",
      "source": [
        "### Dropping a Column:"
      ],
      "metadata": {
        "id": "HOYAgqXjXFW4"
      }
    },
    {
      "cell_type": "markdown",
      "source": [
        "Columns can be dropped using the drop() method, specifying the column name and axis=1."
      ],
      "metadata": {
        "id": "Ge2vBArgXIuO"
      }
    },
    {
      "cell_type": "code",
      "source": [
        "# Drop the 'City' column\n",
        "df = df.drop('City', axis=1)\n",
        "\n",
        "print(df)\n"
      ],
      "metadata": {
        "id": "0xqGrlSGXKsA",
        "colab": {
          "base_uri": "https://localhost:8080/"
        },
        "outputId": "e84e2875-0629-4359-b49f-585bd1e6beb2"
      },
      "execution_count": null,
      "outputs": [
        {
          "output_type": "stream",
          "name": "stdout",
          "text": [
            "      Name  Age  Salary\n",
            "0    Alice   25   70000\n",
            "1      Bob   30   80000\n",
            "2  Charlie   35   90000\n",
            "3    David   40  100000\n",
            "4      Eva   45  110000\n"
          ]
        }
      ]
    },
    {
      "cell_type": "markdown",
      "source": [
        "**Explanation:**\n",
        "\n",
        "The City column is removed from the DataFrame.\n"
      ],
      "metadata": {
        "id": "x6pvJLZVXQG6"
      }
    },
    {
      "cell_type": "markdown",
      "source": [
        "### Renaming Columns:"
      ],
      "metadata": {
        "id": "s5FBH9eGXTaU"
      }
    },
    {
      "cell_type": "markdown",
      "source": [
        "Columns can be renamed using the rename() method, passing a dictionary where the keys are the old column names and the values are the new column names."
      ],
      "metadata": {
        "id": "4uXQ9VcbXWVD"
      }
    },
    {
      "cell_type": "code",
      "source": [
        "# Rename columns\n",
        "df = df.rename(columns={'Name': 'Employee Name', 'Age': 'Employee Age'})\n",
        "\n",
        "print(df)\n"
      ],
      "metadata": {
        "id": "a_XS05nSXYUo",
        "colab": {
          "base_uri": "https://localhost:8080/"
        },
        "outputId": "af8c5f49-e677-4774-f18d-a813416f8ef8"
      },
      "execution_count": null,
      "outputs": [
        {
          "output_type": "stream",
          "name": "stdout",
          "text": [
            "  Employee Name  Employee Age  Salary\n",
            "0         Alice            25   70000\n",
            "1           Bob            30   80000\n",
            "2       Charlie            35   90000\n",
            "3         David            40  100000\n",
            "4           Eva            45  110000\n"
          ]
        }
      ]
    },
    {
      "cell_type": "markdown",
      "source": [
        "**Explanation:**\n",
        "\n",
        "The columns Name and Age are renamed to Employee Name and Employee Age, respectively."
      ],
      "metadata": {
        "id": "2_Iv_6yzXdb-"
      }
    },
    {
      "cell_type": "markdown",
      "source": [
        "### Dropping Rows:"
      ],
      "metadata": {
        "id": "Qdx_wHlCXhGp"
      }
    },
    {
      "cell_type": "markdown",
      "source": [
        "Rows can be dropped by index using the drop() method, specifying the index and axis=0 (default)."
      ],
      "metadata": {
        "id": "Y8Sm38XhXj-e"
      }
    },
    {
      "cell_type": "code",
      "source": [
        "import pandas as pd\n",
        "\n",
        "# Creating a sample DataFrame\n",
        "data = {\n",
        "    'Name': ['Alice', 'Bob', 'Charlie', 'David', 'Eva'],\n",
        "    'Age': [25, 30, 35, 40, 45],\n",
        "    'City': ['New York', 'Los Angeles', 'Chicago', 'Houston', 'Phoenix']\n",
        "}\n",
        "\n",
        "df = pd.DataFrame(data)\n",
        "\n",
        "# Display the original DataFrame\n",
        "print(\"Original DataFrame:\")\n",
        "print(df)\n",
        "\n",
        "# Dropping a row by index\n",
        "df_dropped = df.drop(index=2)\n",
        "\n",
        "# Display the DataFrame after dropping the row\n",
        "print(\"\\nDataFrame after dropping the row with index 2:\")\n",
        "print(df_dropped)\n",
        "\n"
      ],
      "metadata": {
        "id": "ZT8txWlbXl2g",
        "colab": {
          "base_uri": "https://localhost:8080/"
        },
        "outputId": "8b824e0c-491f-416f-e76c-2d225f1525af"
      },
      "execution_count": null,
      "outputs": [
        {
          "output_type": "stream",
          "name": "stdout",
          "text": [
            "Original DataFrame:\n",
            "      Name  Age         City\n",
            "0    Alice   25     New York\n",
            "1      Bob   30  Los Angeles\n",
            "2  Charlie   35      Chicago\n",
            "3    David   40      Houston\n",
            "4      Eva   45      Phoenix\n",
            "\n",
            "DataFrame after dropping the row with index 2:\n",
            "    Name  Age         City\n",
            "0  Alice   25     New York\n",
            "1    Bob   30  Los Angeles\n",
            "3  David   40      Houston\n",
            "4    Eva   45      Phoenix\n"
          ]
        }
      ]
    },
    {
      "cell_type": "markdown",
      "source": [
        "**Explanation:**\n",
        "\n",
        "* We use the drop() method to remove the row with index 2 (corresponding to 'Charlie').\n",
        "* The method df.drop(index=2) creates a new DataFrame df_dropped where the row with index 2 is removed. The axis=0 is implied since the default value is 0.\n",
        "* The drop() method does not modify the original DataFrame by default. If you want to drop rows in place (i.e., modify the original DataFrame), you can use the inplace=True parameter:\n",
        "\n"
      ],
      "metadata": {
        "id": "wjwHeK4Odd9u"
      }
    },
    {
      "cell_type": "markdown",
      "source": [
        "### Renaming Columns"
      ],
      "metadata": {
        "id": "Su-NQX1pdqR5"
      }
    },
    {
      "cell_type": "markdown",
      "source": [
        "Columns can be renamed using the rename() method, passing a dictionary where the keys are the old column names and the values are the new column names."
      ],
      "metadata": {
        "id": "GKspgeL4drOL"
      }
    },
    {
      "cell_type": "code",
      "source": [
        "# Rename columns\n",
        "df = df.rename(columns={'Name': 'Employee Name', 'Age': 'Employee Age'})\n",
        "\n",
        "print(df)\n"
      ],
      "metadata": {
        "id": "dwZB-stEdsrT",
        "colab": {
          "base_uri": "https://localhost:8080/"
        },
        "outputId": "589ee713-93e6-4ffc-e7fe-b394d5bcf44f"
      },
      "execution_count": null,
      "outputs": [
        {
          "output_type": "stream",
          "name": "stdout",
          "text": [
            "  Employee Name  Employee Age         City\n",
            "0         Alice            25     New York\n",
            "1           Bob            30  Los Angeles\n",
            "2       Charlie            35      Chicago\n",
            "3         David            40      Houston\n",
            "4           Eva            45      Phoenix\n"
          ]
        }
      ]
    },
    {
      "cell_type": "markdown",
      "source": [
        "**Explanation:**\n",
        "\n",
        "The columns Name and Age are renamed to Employee Name and Employee Age, respectively."
      ],
      "metadata": {
        "id": "0wupgqjGdw1h"
      }
    },
    {
      "cell_type": "markdown",
      "source": [
        "### Dropping Rows"
      ],
      "metadata": {
        "id": "3KFqQ6J5d0DJ"
      }
    },
    {
      "cell_type": "markdown",
      "source": [
        "Rows can be dropped by index using the drop() method, specifying the index and axis=0 (default)."
      ],
      "metadata": {
        "id": "QV1MuU-Nd6WS"
      }
    },
    {
      "cell_type": "code",
      "source": [
        "# Drop the row with index 3\n",
        "df = df.drop(3)\n",
        "\n",
        "print(df)\n"
      ],
      "metadata": {
        "id": "wam2rpCLd8JL",
        "colab": {
          "base_uri": "https://localhost:8080/"
        },
        "outputId": "c4b72c69-e773-4c60-fe41-86d840768886"
      },
      "execution_count": null,
      "outputs": [
        {
          "output_type": "stream",
          "name": "stdout",
          "text": [
            "  Employee Name  Employee Age         City\n",
            "0         Alice            25     New York\n",
            "1           Bob            30  Los Angeles\n",
            "2       Charlie            35      Chicago\n",
            "4           Eva            45      Phoenix\n"
          ]
        }
      ]
    },
    {
      "cell_type": "markdown",
      "source": [
        "**Explanation:**\n",
        "\n",
        "The row with index 3 (David) is removed from the DataFrame."
      ],
      "metadata": {
        "id": "ACYfjo1IeKnz"
      }
    },
    {
      "cell_type": "markdown",
      "source": [
        "## Sorting Data"
      ],
      "metadata": {
        "id": "fJXc8K9PeOLe"
      }
    },
    {
      "cell_type": "markdown",
      "source": [
        "Sorting is essential for organizing and analyzing data. Pandas provides methods like sort_values() and sort_index() for sorting.\n",
        "\n"
      ],
      "metadata": {
        "id": "4A-Gx8F_hrfo"
      }
    },
    {
      "cell_type": "markdown",
      "source": [
        "### Sorting by Values:"
      ],
      "metadata": {
        "id": "s2hlCAcghuf0"
      }
    },
    {
      "cell_type": "markdown",
      "source": [
        "Use sort_values() to sort the DataFrame by the values in one or more columns."
      ],
      "metadata": {
        "id": "nxWSYwL0hvmo"
      }
    },
    {
      "cell_type": "code",
      "source": [
        "import pandas as pd\n",
        "\n",
        "# Creating a sample DataFrame\n",
        "data = {\n",
        "    'Name': ['Alice', 'Bob', 'Charlie', 'David', 'Eva'],\n",
        "    'Age': [25, 30, 35, 40, 45],\n",
        "    'City': ['New York', 'Los Angeles', 'Chicago', 'Houston', 'Phoenix']\n",
        "}\n",
        "\n",
        "df = pd.DataFrame(data)\n",
        "\n",
        "# Sorting the DataFrame by the 'Age' column in ascending order\n",
        "df_sorted = df.sort_values(by='Age')\n",
        "\n",
        "# Display the sorted DataFrame\n",
        "print(df_sorted)\n"
      ],
      "metadata": {
        "id": "RXj5aMGRhyBV",
        "colab": {
          "base_uri": "https://localhost:8080/"
        },
        "outputId": "9dda8ee0-8869-451a-f20e-45c48f42d92e"
      },
      "execution_count": null,
      "outputs": [
        {
          "output_type": "stream",
          "name": "stdout",
          "text": [
            "      Name  Age         City\n",
            "0    Alice   25     New York\n",
            "1      Bob   30  Los Angeles\n",
            "2  Charlie   35      Chicago\n",
            "3    David   40      Houston\n",
            "4      Eva   45      Phoenix\n"
          ]
        }
      ]
    },
    {
      "cell_type": "markdown",
      "source": [
        "**Explanation:**\n",
        "\n",
        "* df.sort_values(by='Age'):\n",
        "   * The sort_values() method sorts the DataFrame by the values in the 'Age' column.\n",
        "   * By default, the sorting is done in ascending order (smallest to largest).\n",
        "* The rows are now sorted by the 'Age' column, with the youngest person ('Alice', age 25) at the top and the oldest ('Eva', age 45) at the bottom.\n"
      ],
      "metadata": {
        "id": "DzSNJkceh5nk"
      }
    },
    {
      "cell_type": "markdown",
      "source": [
        "### Sorting by Index"
      ],
      "metadata": {
        "id": "ih0G8hGUh7mW"
      }
    },
    {
      "cell_type": "markdown",
      "source": [
        "Use sort_index() to sort the DataFrame by the index."
      ],
      "metadata": {
        "id": "0euFD23Nini4"
      }
    },
    {
      "cell_type": "code",
      "source": [
        "# Sort by index\n",
        "sorted_df = df.sort_index()\n",
        "\n",
        "print(sorted_df)\n"
      ],
      "metadata": {
        "id": "EcO6kDwaiq7i",
        "colab": {
          "base_uri": "https://localhost:8080/"
        },
        "outputId": "87b9af12-2a9b-46f3-8c20-42a46bca3f70"
      },
      "execution_count": null,
      "outputs": [
        {
          "output_type": "stream",
          "name": "stdout",
          "text": [
            "  Employee Name  Employee Age         City\n",
            "0         Alice            25     New York\n",
            "1           Bob            30  Los Angeles\n",
            "2       Charlie            35      Chicago\n",
            "4           Eva            45      Phoenix\n"
          ]
        }
      ]
    },
    {
      "cell_type": "markdown",
      "source": [
        "**Explanation:**\n",
        "\n",
        "The DataFrame is sorted by its index in ascending order."
      ],
      "metadata": {
        "id": "XkKJav3HizGi"
      }
    },
    {
      "cell_type": "markdown",
      "source": [
        "## Handling Missing Data"
      ],
      "metadata": {
        "id": "fo6ZrZOVjMz6"
      }
    },
    {
      "cell_type": "markdown",
      "source": [
        "Handling missing data is crucial for maintaining the integrity of your analysis. Pandas provides several functions to identify and manage missing values."
      ],
      "metadata": {
        "id": "zBifm_UGjR0p"
      }
    },
    {
      "cell_type": "markdown",
      "source": [
        "### Identifying Missing Data:"
      ],
      "metadata": {
        "id": "lxoTq0iGm9nm"
      }
    },
    {
      "cell_type": "markdown",
      "source": [
        "Use isnull() to detect missing values, which returns a DataFrame of the same shape with boolean values indicating the presence of NaN."
      ],
      "metadata": {
        "id": "9b1Mnyx4nBd9"
      }
    },
    {
      "cell_type": "code",
      "source": [
        "# Example DataFrame with missing values\n",
        "df = pd.DataFrame({\n",
        "    'Name': ['Alice', 'Bob', 'Charlie', None, 'Eva'],\n",
        "    'Age': [25, None, 35, 40, 45],\n",
        "    'Salary': [70000, 80000, 90000, None, 110000]\n",
        "})\n",
        "\n",
        "# Identify missing values\n",
        "print(df.isnull())\n"
      ],
      "metadata": {
        "id": "G3qXnkWknCg0",
        "colab": {
          "base_uri": "https://localhost:8080/"
        },
        "outputId": "ba7156e6-e375-4017-a99a-d76dbeb78efa"
      },
      "execution_count": null,
      "outputs": [
        {
          "output_type": "stream",
          "name": "stdout",
          "text": [
            "    Name    Age  Salary\n",
            "0  False  False   False\n",
            "1  False   True   False\n",
            "2  False  False   False\n",
            "3   True  False    True\n",
            "4  False  False   False\n"
          ]
        }
      ]
    },
    {
      "cell_type": "markdown",
      "source": [
        "**Explanation:**\n",
        "\n",
        "The isnull() function returns a boolean DataFrame where True indicates a missing value (NaN)."
      ],
      "metadata": {
        "id": "Z0qSyvuHnIGs"
      }
    },
    {
      "cell_type": "markdown",
      "source": [
        "**Dropping Missing Data:**\n",
        "\n"
      ],
      "metadata": {
        "id": "k0zqwjZHnRTf"
      }
    },
    {
      "cell_type": "markdown",
      "source": [
        "Use dropna() to remove rows or columns with missing values."
      ],
      "metadata": {
        "id": "3gZJhgpDntA9"
      }
    },
    {
      "cell_type": "code",
      "source": [
        "# Drop rows with any missing values\n",
        "df_cleaned = df.dropna()\n",
        "\n",
        "print(df_cleaned)\n"
      ],
      "metadata": {
        "id": "fw7ip1hantgH",
        "colab": {
          "base_uri": "https://localhost:8080/"
        },
        "outputId": "5c5d420a-5dc9-4e66-ab5b-4e086e820d88"
      },
      "execution_count": null,
      "outputs": [
        {
          "output_type": "stream",
          "name": "stdout",
          "text": [
            "      Name   Age    Salary\n",
            "0    Alice  25.0   70000.0\n",
            "2  Charlie  35.0   90000.0\n",
            "4      Eva  45.0  110000.0\n"
          ]
        }
      ]
    },
    {
      "cell_type": "markdown",
      "source": [
        "**Explanation:**\n",
        "\n",
        "The dropna() function removes any rows that contain at least one missing value.\n"
      ],
      "metadata": {
        "id": "GYAdGBwGnyxa"
      }
    },
    {
      "cell_type": "markdown",
      "source": [
        "### Filling Missing Data:"
      ],
      "metadata": {
        "id": "XbXpsq-un2Z6"
      }
    },
    {
      "cell_type": "markdown",
      "source": [
        "Use fillna() to replace missing values with a specified value or method."
      ],
      "metadata": {
        "id": "1z0bdoGIn5f4"
      }
    },
    {
      "cell_type": "code",
      "source": [
        "# Fill missing values in 'Age' with the mean of the column\n",
        "df['Age'] = df['Age'].fillna(df['Age'].mean())\n",
        "\n",
        "# Fill missing values in 'Salary' with 0\n",
        "df['Salary'] = df['Salary'].fillna(0)\n",
        "\n",
        "print(df)\n"
      ],
      "metadata": {
        "id": "Cd_d4MgRn7uD",
        "colab": {
          "base_uri": "https://localhost:8080/"
        },
        "outputId": "a64e3011-59a7-4c53-9140-13e42af751c4"
      },
      "execution_count": null,
      "outputs": [
        {
          "output_type": "stream",
          "name": "stdout",
          "text": [
            "      Name    Age    Salary\n",
            "0    Alice  25.00   70000.0\n",
            "1      Bob  36.25   80000.0\n",
            "2  Charlie  35.00   90000.0\n",
            "3     None  40.00       0.0\n",
            "4      Eva  45.00  110000.0\n"
          ]
        }
      ]
    },
    {
      "cell_type": "markdown",
      "source": [
        "**Explanation:**\n",
        "\n",
        "The missing values in the Age column are filled with the mean value, and the missing values in the Salary column are replaced with 0."
      ],
      "metadata": {
        "id": "slVBTwSOoBuu"
      }
    },
    {
      "cell_type": "markdown",
      "source": [
        "## Removing Duplicates"
      ],
      "metadata": {
        "id": "kM_Yujmfo9f-"
      }
    },
    {
      "cell_type": "markdown",
      "source": [
        "Duplicate data can skew analysis, so it's important to identify and remove duplicates."
      ],
      "metadata": {
        "id": "09R__Fxlo-c0"
      }
    },
    {
      "cell_type": "markdown",
      "source": [
        "### Removing Duplicate Rows"
      ],
      "metadata": {
        "id": "lTLoRygHpRqO"
      }
    },
    {
      "cell_type": "markdown",
      "source": [
        "Use drop_duplicates() to remove duplicate rows from the DataFrame."
      ],
      "metadata": {
        "id": "33lg3PFmpV_0"
      }
    },
    {
      "cell_type": "code",
      "source": [
        "# Example DataFrame with duplicate rows\n",
        "df = pd.DataFrame({\n",
        "    'Name': ['Alice', 'Bob', 'Charlie', 'Bob', 'Eva'],\n",
        "    'Age': [25, 30, 35, 30, 45],\n",
        "    'City': ['New York', 'Los Angeles', 'Chicago', 'Los Angeles', 'Phoenix']\n",
        "})\n",
        "\n",
        "# Remove duplicate rows\n",
        "df_unique = df.drop_duplicates()\n",
        "\n",
        "print(df_unique)\n"
      ],
      "metadata": {
        "id": "QZ8R10HApXhk",
        "colab": {
          "base_uri": "https://localhost:8080/"
        },
        "outputId": "5a7a8e95-ddbf-48f4-9efb-2b67960eb994"
      },
      "execution_count": null,
      "outputs": [
        {
          "output_type": "stream",
          "name": "stdout",
          "text": [
            "      Name  Age         City\n",
            "0    Alice   25     New York\n",
            "1      Bob   30  Los Angeles\n",
            "2  Charlie   35      Chicago\n",
            "4      Eva   45      Phoenix\n"
          ]
        }
      ]
    },
    {
      "cell_type": "markdown",
      "source": [
        "**Explanation:**\n",
        "\n",
        "The drop_duplicates() function removes duplicate rows, retaining the first occurrence of each."
      ],
      "metadata": {
        "id": "vSRYtrzdpb0u"
      }
    },
    {
      "cell_type": "markdown",
      "source": [
        "## Handling Categorical Data"
      ],
      "metadata": {
        "id": "oiYNdqrj3N7T"
      }
    },
    {
      "cell_type": "markdown",
      "source": [
        "Categorical data is data that takes on a limited, fixed number of possible values. Pandas provides tools to work with such data, including converting columns to the category data type."
      ],
      "metadata": {
        "id": "M_uVtj8m3PFv"
      }
    },
    {
      "cell_type": "markdown",
      "source": [
        "**Converting to Categorical:**\n",
        "\n",
        "You can convert a column to categorical using the astype('category') method."
      ],
      "metadata": {
        "id": "FqpAIJBM3TpZ"
      }
    },
    {
      "cell_type": "code",
      "source": [
        "# Convert 'City' column to categorical data type\n",
        "df['City'] = df['City'].astype('category')\n",
        "\n",
        "print(df.dtypes)\n"
      ],
      "metadata": {
        "id": "f7h8LXbG3XyS",
        "colab": {
          "base_uri": "https://localhost:8080/"
        },
        "outputId": "20a60dac-5c9b-48e1-d2d4-3ea4465ce916"
      },
      "execution_count": null,
      "outputs": [
        {
          "output_type": "stream",
          "name": "stdout",
          "text": [
            "Name      object\n",
            "Age        int64\n",
            "City    category\n",
            "dtype: object\n"
          ]
        }
      ]
    },
    {
      "cell_type": "markdown",
      "source": [
        "**Explanation:**\n",
        "\n",
        "The City column is converted to a categorical data type, which can improve performance and reduce memory usage."
      ],
      "metadata": {
        "id": "dfcmfbXI3dGJ"
      }
    },
    {
      "cell_type": "markdown",
      "source": [
        "**Categorical Operations:**\n",
        "\n",
        "You can perform operations like renaming categories or checking category counts."
      ],
      "metadata": {
        "id": "08TbvtQc3iKH"
      }
    },
    {
      "cell_type": "code",
      "source": [
        "\n",
        "# Rename categories in the 'City' column\n",
        "df['City'] = df['City'].cat.rename_categories({'New York': 'NYC', 'Los Angeles': 'LA'})\n",
        "\n",
        "# Check the number of occurrences of each category\n",
        "print(df['City'].value_counts())\n"
      ],
      "metadata": {
        "id": "TmXXjXeH3k89",
        "colab": {
          "base_uri": "https://localhost:8080/"
        },
        "outputId": "268cffa7-9eb6-4613-def1-526a5fc88ae3"
      },
      "execution_count": null,
      "outputs": [
        {
          "output_type": "stream",
          "name": "stdout",
          "text": [
            "City\n",
            "LA         2\n",
            "Chicago    1\n",
            "NYC        1\n",
            "Phoenix    1\n",
            "Name: count, dtype: int64\n"
          ]
        }
      ]
    },
    {
      "cell_type": "markdown",
      "source": [
        "**Explanation:**\n",
        "\n",
        "* The categories New York and Los Angeles are renamed to NYC and LA, respectively.\n",
        "* The value_counts() method counts the number of occurrences of each category."
      ],
      "metadata": {
        "id": "hiI8C1dw3p6t"
      }
    },
    {
      "cell_type": "markdown",
      "source": [
        "# Grouping and Aggregation"
      ],
      "metadata": {
        "id": "ZtuQE-Av-IK-"
      }
    },
    {
      "cell_type": "markdown",
      "source": [
        "Grouping and aggregation in Pandas are powerful tools for data analysis. They allow you to group data based on one or more columns and then apply aggregate functions like sum(), mean(), count(), etc., to summarize the data."
      ],
      "metadata": {
        "id": "B63S_pBS-Jje"
      }
    },
    {
      "cell_type": "markdown",
      "source": [
        "##  Grouping Data with groupby()"
      ],
      "metadata": {
        "id": "ebKcT5iS-MFM"
      }
    },
    {
      "cell_type": "markdown",
      "source": [
        "The groupby() function in Pandas is used to split data into groups based on some criteria. Once the data is grouped, you can apply aggregation functions to each group independently.\n",
        "\n"
      ],
      "metadata": {
        "id": "Blmkh6Ql-O3n"
      }
    },
    {
      "cell_type": "code",
      "source": [
        "import pandas as pd\n",
        "\n",
        "# Creating a sample DataFrame\n",
        "data = {\n",
        "    'Category': ['A', 'B', 'A', 'B', 'A', 'B'],\n",
        "    'Sales': [100, 150, 200, 130, 250, 180],\n",
        "    'Profit': [30, 50, 70, 60, 90, 40]\n",
        "}\n",
        "\n",
        "df = pd.DataFrame(data)\n",
        "\n",
        "# Grouping by the 'Category' column\n",
        "grouped = df.groupby('Category')\n",
        "\n",
        "# Display the grouped object\n",
        "print(grouped)\n",
        "\n",
        "# Applying aggregation function to the grouped object\n",
        "sum_sales = grouped['Sales'].sum()\n",
        "print(\"\\nTotal Sales by Category:\")\n",
        "print(sum_sales)\n"
      ],
      "metadata": {
        "colab": {
          "base_uri": "https://localhost:8080/"
        },
        "id": "4XhN4-Ue-QXH",
        "outputId": "6e583e65-726c-477a-834c-a0022bfeb15b"
      },
      "execution_count": null,
      "outputs": [
        {
          "output_type": "stream",
          "name": "stdout",
          "text": [
            "<pandas.core.groupby.generic.DataFrameGroupBy object at 0x7a8ec5007580>\n",
            "\n",
            "Total Sales by Category:\n",
            "Category\n",
            "A    550\n",
            "B    460\n",
            "Name: Sales, dtype: int64\n"
          ]
        }
      ]
    },
    {
      "cell_type": "markdown",
      "source": [
        "**Explanation:**\n",
        "* groupby('Category'): This groups the data by the 'Category' column. The result is a GroupBy object that is ready for aggregation.\n",
        "* grouped['Sales'].sum(): This sums the 'Sales' values within each group. The output will show the total sales for each category."
      ],
      "metadata": {
        "id": "s7Aq2VaD-TqE"
      }
    },
    {
      "cell_type": "markdown",
      "source": [
        "## Aggregation Functions"
      ],
      "metadata": {
        "id": "SXaZO0Ke-gbg"
      }
    },
    {
      "cell_type": "markdown",
      "source": [
        "After grouping data, you can apply various aggregation functions to summarize the data.\n",
        "\n",
        "Common Aggregation Functions:\n",
        "\n",
        "* sum(): Calculates the sum of values.\n",
        "* mean(): Calculates the mean (average) of values.\n",
        "* count(): Counts the number of non-NA/null observations.\n",
        "* min(): Finds the minimum value.\n",
        "* max(): Finds the maximum value.\n",
        "\n",
        "**Example: Applying Multiple Aggregation Functions**\n",
        "\n"
      ],
      "metadata": {
        "id": "GWCP2pV--hhC"
      }
    },
    {
      "cell_type": "code",
      "source": [
        "# Applying multiple aggregation functions to 'Sales' and 'Profit'\n",
        "agg_functions = grouped.agg({\n",
        "    'Sales': ['sum', 'mean', 'min', 'max'],\n",
        "    'Profit': ['sum', 'mean']\n",
        "})\n",
        "\n",
        "print(\"\\nAggregated Data:\")\n",
        "print(agg_functions)\n"
      ],
      "metadata": {
        "colab": {
          "base_uri": "https://localhost:8080/"
        },
        "id": "DbX76QyU-qlz",
        "outputId": "813382a3-c394-4994-9b37-93d91413a84e"
      },
      "execution_count": null,
      "outputs": [
        {
          "output_type": "stream",
          "name": "stdout",
          "text": [
            "\n",
            "Aggregated Data:\n",
            "         Sales                       Profit           \n",
            "           sum        mean  min  max    sum       mean\n",
            "Category                                              \n",
            "A          550  183.333333  100  250    190  63.333333\n",
            "B          460  153.333333  130  180    150  50.000000\n"
          ]
        }
      ]
    },
    {
      "cell_type": "markdown",
      "source": [
        "**Explanation:**\n",
        "grouped.agg({...}): The agg() function allows you to apply multiple aggregation functions at once. Here, we apply sum, mean, min, and max to 'Sales', and sum and mean to 'Profit'."
      ],
      "metadata": {
        "id": "D-Gxwc3V-v_q"
      }
    },
    {
      "cell_type": "markdown",
      "source": [
        "## Grouping by Multiple Columns"
      ],
      "metadata": {
        "id": "eDYphGHZ-w_K"
      }
    },
    {
      "cell_type": "markdown",
      "source": [
        "You can group data by more than one column to perform more complex group-wise operations."
      ],
      "metadata": {
        "id": "FHYwyglf-zKu"
      }
    },
    {
      "cell_type": "code",
      "source": [
        "# Creating a more complex DataFrame\n",
        "data = {\n",
        "    'Region': ['East', 'West', 'East', 'West', 'East', 'West'],\n",
        "    'Category': ['A', 'A', 'B', 'B', 'A', 'B'],\n",
        "    'Sales': [100, 200, 150, 250, 130, 300]\n",
        "}\n",
        "\n",
        "df = pd.DataFrame(data)\n",
        "\n",
        "# Grouping by 'Region' and 'Category'\n",
        "grouped_multi = df.groupby(['Region', 'Category'])\n",
        "\n",
        "# Summing the sales for each group\n",
        "sum_sales_multi = grouped_multi['Sales'].sum()\n",
        "\n",
        "print(\"\\nTotal Sales by Region and Category:\")\n",
        "print(sum_sales_multi)\n"
      ],
      "metadata": {
        "colab": {
          "base_uri": "https://localhost:8080/"
        },
        "id": "IgDG7bMb-3yB",
        "outputId": "c596ed49-ccf6-4939-db50-7b421566b2d0"
      },
      "execution_count": null,
      "outputs": [
        {
          "output_type": "stream",
          "name": "stdout",
          "text": [
            "\n",
            "Total Sales by Region and Category:\n",
            "Region  Category\n",
            "East    A           230\n",
            "        B           150\n",
            "West    A           200\n",
            "        B           550\n",
            "Name: Sales, dtype: int64\n"
          ]
        }
      ]
    },
    {
      "cell_type": "markdown",
      "source": [
        "**Explanation:**\n",
        "* groupby(['Region', 'Category']): This groups the data first by 'Region' and then by 'Category'.\n",
        "* grouped_multi['Sales'].sum(): This sums the sales within each group combination of 'Region' and 'Category'."
      ],
      "metadata": {
        "id": "Jo1r5Gts-5At"
      }
    },
    {
      "cell_type": "markdown",
      "source": [
        "## Pivot Tables and Cross-Tabulation"
      ],
      "metadata": {
        "id": "J6n8jXKu--VT"
      }
    },
    {
      "cell_type": "markdown",
      "source": [
        "Pivot tables and cross-tabulation are powerful tools for summarizing data, similar to grouping but often used to reshape data.\n",
        "\n"
      ],
      "metadata": {
        "id": "2C9Fgo49-_Q8"
      }
    },
    {
      "cell_type": "markdown",
      "source": [
        "### Pivot Tables"
      ],
      "metadata": {
        "id": "9ERL-7dZ_A8v"
      }
    },
    {
      "cell_type": "markdown",
      "source": [
        "Pivot tables allow you to create a spreadsheet-style pivot table as a DataFrame."
      ],
      "metadata": {
        "id": "daqA5voo_ECI"
      }
    },
    {
      "cell_type": "code",
      "source": [
        "# Creating a pivot table\n",
        "pivot = df.pivot_table(values='Sales', index='Region', columns='Category', aggfunc='sum')\n",
        "\n",
        "print(\"\\nPivot Table:\")\n",
        "print(pivot)\n"
      ],
      "metadata": {
        "colab": {
          "base_uri": "https://localhost:8080/"
        },
        "id": "BjtNieAm_FoO",
        "outputId": "dde60eae-c922-4e20-9ece-0be81947939d"
      },
      "execution_count": null,
      "outputs": [
        {
          "output_type": "stream",
          "name": "stdout",
          "text": [
            "\n",
            "Pivot Table:\n",
            "Category    A    B\n",
            "Region            \n",
            "East      230  150\n",
            "West      200  550\n"
          ]
        }
      ]
    },
    {
      "cell_type": "markdown",
      "source": [
        "**Explanation:**\n",
        "* df.pivot_table(): This creates a pivot table that\n",
        "summarizes the data by 'Region' and 'Category', showing the sum of 'Sales'.\n",
        "* values='Sales': Specifies the values to aggregate.\n",
        "index='Region': Rows are grouped by 'Region'.\n",
        "* columns='Category': Columns are grouped by 'Category'.\n",
        "* aggfunc='sum': Specifies the aggregation function to be used."
      ],
      "metadata": {
        "id": "g8ZmfT9I_IsG"
      }
    },
    {
      "cell_type": "markdown",
      "source": [
        "### Cross-Tabulation"
      ],
      "metadata": {
        "id": "bFEyBDIh_bm_"
      }
    },
    {
      "cell_type": "markdown",
      "source": [
        "Cross-tabulation (pd.crosstab()) is used to compute a simple cross-tabulation of two or more factors."
      ],
      "metadata": {
        "id": "U34cIrcK_dB3"
      }
    },
    {
      "cell_type": "code",
      "source": [
        "# Creating a cross-tabulation\n",
        "crosstab = pd.crosstab(df['Region'], df['Category'], values=df['Sales'], aggfunc='sum')\n",
        "\n",
        "print(\"\\nCross-Tabulation:\")\n",
        "print(crosstab)\n"
      ],
      "metadata": {
        "colab": {
          "base_uri": "https://localhost:8080/"
        },
        "id": "TJIErsi-_feZ",
        "outputId": "684f2c10-28ed-4fe9-918b-ceb94379160f"
      },
      "execution_count": null,
      "outputs": [
        {
          "output_type": "stream",
          "name": "stdout",
          "text": [
            "\n",
            "Cross-Tabulation:\n",
            "Category    A    B\n",
            "Region            \n",
            "East      230  150\n",
            "West      200  550\n"
          ]
        }
      ]
    },
    {
      "cell_type": "markdown",
      "source": [
        "**Explanation:**\n",
        "* pd.crosstab(): Creates a cross-tabulation table.\n",
        "* The parameters are similar to a pivot table, but cross-tab is typically used for counting frequencies rather than aggregating values."
      ],
      "metadata": {
        "id": "0pK3yFmP_jRn"
      }
    },
    {
      "cell_type": "markdown",
      "source": [
        "# Merging and Joining Data in Pandas"
      ],
      "metadata": {
        "id": "doqQEU4GAgeQ"
      }
    },
    {
      "cell_type": "markdown",
      "source": [
        "Merging and joining are essential operations in data analysis when working with multiple datasets. These operations allow you to combine different DataFrames based on common columns or indices.\n",
        "\n"
      ],
      "metadata": {
        "id": "fZBbyoJ2Aiby"
      }
    },
    {
      "cell_type": "markdown",
      "source": [
        "##Merging DataFrames with merge()"
      ],
      "metadata": {
        "id": "KUP8EYhcAkM0"
      }
    },
    {
      "cell_type": "markdown",
      "source": [
        "The merge() function in Pandas is used to combine two DataFrames based on one or more common columns (keys). It's similar to SQL joins like INNER JOIN, LEFT JOIN, RIGHT JOIN, and OUTER JOIN.\n"
      ],
      "metadata": {
        "id": "rP7l_KXvAnaQ"
      }
    },
    {
      "cell_type": "code",
      "source": [
        "import pandas as pd\n",
        "\n",
        "# Creating two sample DataFrames\n",
        "data_left = {\n",
        "    'ID': [1, 2, 3, 4],\n",
        "    'Name': ['Alice', 'Bob', 'Charlie', 'David'],\n",
        "    'Age': [24, 27, 22, 32]\n",
        "}\n",
        "\n",
        "data_right = {\n",
        "    'ID': [3, 4, 5, 6],\n",
        "    'City': ['New York', 'Los Angeles', 'Chicago', 'Houston'],\n",
        "    'Salary': [70000, 80000, 75000, 90000]\n",
        "}\n",
        "\n",
        "df_left = pd.DataFrame(data_left)\n",
        "df_right = pd.DataFrame(data_right)\n",
        "\n",
        "# Performing an inner join on the 'ID' column\n",
        "merged_df = pd.merge(df_left, df_right, on='ID', how='inner')\n",
        "\n",
        "print(\"Inner Join Result:\")\n",
        "print(merged_df)\n"
      ],
      "metadata": {
        "colab": {
          "base_uri": "https://localhost:8080/"
        },
        "id": "SN8UrkwBA-PG",
        "outputId": "22b12202-75de-4416-eae1-cd3dff8adcaf"
      },
      "execution_count": null,
      "outputs": [
        {
          "output_type": "stream",
          "name": "stdout",
          "text": [
            "Inner Join Result:\n",
            "   ID     Name  Age         City  Salary\n",
            "0   3  Charlie   22     New York   70000\n",
            "1   4    David   32  Los Angeles   80000\n"
          ]
        }
      ]
    },
    {
      "cell_type": "markdown",
      "source": [
        "**Explanation:**\n",
        "* pd.merge(df_left, df_right, on='ID', how='inner'): This merges df_left and df_right DataFrames based on the 'ID' column. The how='inner' argument specifies that we want an inner join, meaning only rows with matching 'ID' values in both DataFrames are included in the result."
      ],
      "metadata": {
        "id": "Z1CgUjwHBAuP"
      }
    },
    {
      "cell_type": "markdown",
      "source": [
        "## Different Types of Joins"
      ],
      "metadata": {
        "id": "uCS20FNvBFrq"
      }
    },
    {
      "cell_type": "markdown",
      "source": [
        "### Left Join\n",
        "\n"
      ],
      "metadata": {
        "id": "tBpbxa47BG0T"
      }
    },
    {
      "cell_type": "markdown",
      "source": [
        "A left join returns all the rows from the left DataFrame, along with the matching rows from the right DataFrame. If there is no match, NaN values are used."
      ],
      "metadata": {
        "id": "d9miTcIVBKti"
      }
    },
    {
      "cell_type": "code",
      "source": [
        "left_join_df = pd.merge(df_left, df_right, on='ID', how='left')\n",
        "\n",
        "print(\"\\nLeft Join Result:\")\n",
        "print(left_join_df)\n"
      ],
      "metadata": {
        "colab": {
          "base_uri": "https://localhost:8080/"
        },
        "id": "OP5zP5lpBMuL",
        "outputId": "df222f25-2df2-4143-bf90-a72f99f1c7b3"
      },
      "execution_count": null,
      "outputs": [
        {
          "output_type": "stream",
          "name": "stdout",
          "text": [
            "\n",
            "Left Join Result:\n",
            "   ID     Name  Age         City   Salary\n",
            "0   1    Alice   24          NaN      NaN\n",
            "1   2      Bob   27          NaN      NaN\n",
            "2   3  Charlie   22     New York  70000.0\n",
            "3   4    David   32  Los Angeles  80000.0\n"
          ]
        }
      ]
    },
    {
      "cell_type": "markdown",
      "source": [
        "**Explanation:**\n",
        "The result includes all rows from the left DataFrame (df_left), and where there is no match in the right DataFrame, the values are NaN.\n"
      ],
      "metadata": {
        "id": "Hqip1FJMBPLO"
      }
    },
    {
      "cell_type": "markdown",
      "source": [
        "### Right Join"
      ],
      "metadata": {
        "id": "l3X5Up4oBYM0"
      }
    },
    {
      "cell_type": "markdown",
      "source": [
        "A right join returns all the rows from the right DataFrame, along with the matching rows from the left DataFrame."
      ],
      "metadata": {
        "id": "sggAroUNBbGf"
      }
    },
    {
      "cell_type": "code",
      "source": [
        "right_join_df = pd.merge(df_left, df_right, on='ID', how='right')\n",
        "\n",
        "print(\"\\nRight Join Result:\")\n",
        "print(right_join_df)\n"
      ],
      "metadata": {
        "id": "dodCW7ghBcor"
      },
      "execution_count": null,
      "outputs": []
    },
    {
      "cell_type": "markdown",
      "source": [
        "**Explanation:**\n",
        "* right_join_df = pd.merge(df_left, df_right, on='ID', how='right'): This line merges df_left and df_right using a right join.\n",
        "* The on='ID' specifies that the merge should happen based on the ID column.\n",
        "* The how='right' argument ensures that all rows from the right DataFrame (df_right) will be in the resulting DataFrame, and where there is no match in the left DataFrame (df_left), the result will have NaN (Not a Number) for those columns."
      ],
      "metadata": {
        "id": "p9phsqwJBgA0"
      }
    },
    {
      "cell_type": "markdown",
      "source": [
        "### Outer Join"
      ],
      "metadata": {
        "id": "LS0unUvLB7F4"
      }
    },
    {
      "cell_type": "markdown",
      "source": [
        "An outer join returns all rows from both DataFrames, filling in NaN where there is no match."
      ],
      "metadata": {
        "id": "a_S21HoLB_Ud"
      }
    },
    {
      "cell_type": "code",
      "source": [
        "outer_join_df = pd.merge(df_left, df_right, on='ID', how='outer')\n",
        "\n",
        "print(\"\\nOuter Join Result:\")\n",
        "print(outer_join_df)\n"
      ],
      "metadata": {
        "colab": {
          "base_uri": "https://localhost:8080/"
        },
        "id": "ILCjM6QWB_q1",
        "outputId": "451b005b-1fe2-411d-d08a-4f0696860972"
      },
      "execution_count": null,
      "outputs": [
        {
          "output_type": "stream",
          "name": "stdout",
          "text": [
            "\n",
            "Outer Join Result:\n",
            "   ID     Name   Age         City   Salary\n",
            "0   1    Alice  24.0          NaN      NaN\n",
            "1   2      Bob  27.0          NaN      NaN\n",
            "2   3  Charlie  22.0     New York  70000.0\n",
            "3   4    David  32.0  Los Angeles  80000.0\n",
            "4   5      NaN   NaN      Chicago  75000.0\n",
            "5   6      NaN   NaN      Houston  90000.0\n"
          ]
        }
      ]
    },
    {
      "cell_type": "markdown",
      "source": [
        "**Explanation:**\n",
        "* outer_join_df = pd.merge(df_left, df_right, on='ID', how='outer'): This line merges df_left and df_right using an outer join.\n",
        "* The on='ID' specifies that the merge should happen based on the ID column.\n",
        "* The how='outer' argument ensures that all rows from both df_left and df_right will be in the resulting DataFrame. If there's no match in either DataFrame, the result will have NaN for the missing values.\n",
        "Result:"
      ],
      "metadata": {
        "id": "MiAFjmxfCBVW"
      }
    },
    {
      "cell_type": "markdown",
      "source": [
        "## Joining DataFrames with join()"
      ],
      "metadata": {
        "id": "-5IbAHSaCNti"
      }
    },
    {
      "cell_type": "markdown",
      "source": [
        "The join() method is used to combine DataFrames on their indices. It can be used to perform similar operations as merge(), but it typically joins on the index rather than a column."
      ],
      "metadata": {
        "id": "RQKL3HtWCOv7"
      }
    },
    {
      "cell_type": "code",
      "source": [
        "# Creating DataFrames with the index set to 'ID'\n",
        "df_left.set_index('ID', inplace=True)\n",
        "df_right.set_index('ID', inplace=True)\n",
        "\n",
        "# Performing a join operation\n",
        "joined_df = df_left.join(df_right, how='inner')\n",
        "\n",
        "print(\"\\nJoin Result:\")\n",
        "print(joined_df)\n"
      ],
      "metadata": {
        "colab": {
          "base_uri": "https://localhost:8080/"
        },
        "id": "k-L_OosdCQ_a",
        "outputId": "3d17e958-1f24-4cba-adb2-05a746ad394e"
      },
      "execution_count": null,
      "outputs": [
        {
          "output_type": "stream",
          "name": "stdout",
          "text": [
            "\n",
            "Join Result:\n",
            "       Name  Age         City  Salary\n",
            "ID                                   \n",
            "3   Charlie   22     New York   70000\n",
            "4     David   32  Los Angeles   80000\n"
          ]
        }
      ]
    },
    {
      "cell_type": "markdown",
      "source": [
        "**Explanation:**\n",
        "* df_left.set_index('ID'): We first set the 'ID' column as the index for both DataFrames.\n",
        "* df_left.join(df_right): This joins the two DataFrames based on their indices. The how='inner' argument specifies an inner join."
      ],
      "metadata": {
        "id": "tqRuXW4xCSlS"
      }
    }
  ]
}