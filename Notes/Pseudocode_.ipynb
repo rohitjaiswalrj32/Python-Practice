{
  "nbformat": 4,
  "nbformat_minor": 0,
  "metadata": {
    "colab": {
      "provenance": [],
      "toc_visible": true
    },
    "kernelspec": {
      "name": "python3",
      "display_name": "Python 3"
    },
    "language_info": {
      "name": "python"
    }
  },
  "cells": [
    {
      "cell_type": "code",
      "source": [],
      "metadata": {
        "id": "K9C38fOq1ply"
      },
      "execution_count": null,
      "outputs": []
    },
    {
      "cell_type": "markdown",
      "source": [
        "# Pseudocode"
      ],
      "metadata": {
        "id": "idZcpB_fgO1B"
      }
    },
    {
      "cell_type": "markdown",
      "source": [
        "Agenda\n",
        "- Introduction to Pseudocode\n",
        "- Basic Pseudocode Constructs\n",
        "- Examples\n",
        " - Calculate Simple Interest\n",
        " - Calculate GCD\n",
        " - Smallest number in n numbers"
      ],
      "metadata": {
        "id": "YtKXr7kEPLAX"
      }
    },
    {
      "cell_type": "markdown",
      "source": [
        "#**Introduction to Pseudocode**"
      ],
      "metadata": {
        "id": "qh2eLu-Whivj"
      }
    },
    {
      "cell_type": "markdown",
      "source": [
        "Pseudocode is a way to describe an algorithm using plain language, which is not specific to any programming language. It helps programmers plan and communicate ideas without worrying about syntax."
      ],
      "metadata": {
        "id": "Vz4c_RhzhnC0"
      }
    },
    {
      "cell_type": "markdown",
      "source": [
        "**Importance of Pseudocode**\n",
        "- **Clarity:** Helps in understanding the algorithm.\n",
        "- **Language Independence:** Can be understood by anyone familiar with programming logic.\n",
        "- **Error Reduction:** Helps identify logic errors early.\n",
        "- **Documentation:** Serves as a blueprint for actual code implementation.\n",
        "\n",
        "**Characteristics of Good Pseudocode**\n",
        "- **Simplicity:** Use simple language and clear statements.\n",
        "- **Readability:** Should be easy to read and understand.\n",
        "- **Unambiguous:** Each step should be clear and precise.\n",
        "- **Structured:** Should follow a logical sequence and structure.\n",
        "\n",
        "**Writing Pseudocode: Basic Rules**\n",
        "- **Define the goal:** Start with what the algorithm aims to achieve.\n",
        "- **Use indentation:** To show hierarchy and flow of control.\n",
        "- **Use descriptive statements:** Clearly describe actions and decisions.\n",
        "- **Be consistent:** Use consistent terminology and structure.\n",
        "- **Avoid language-specific syntax:** Keep it language-agnostic."
      ],
      "metadata": {
        "id": "yIm88O0EhquP"
      }
    },
    {
      "cell_type": "markdown",
      "source": [
        "##**Basic Pseudocode Constructs**\n"
      ],
      "metadata": {
        "id": "yja4tF-wiWi4"
      }
    },
    {
      "cell_type": "markdown",
      "source": [
        "- **Variables:** Clearly define variables used."
      ],
      "metadata": {
        "id": "0PSRmxdlig0Z"
      }
    },
    {
      "cell_type": "markdown",
      "source": [
        "```\n",
        "Set counter to 0\n",
        "```\n"
      ],
      "metadata": {
        "id": "-l8K595-iixJ"
      }
    },
    {
      "cell_type": "markdown",
      "source": [
        "- **Input/Output:**"
      ],
      "metadata": {
        "id": "eYhrUm5PiuAZ"
      }
    },
    {
      "cell_type": "markdown",
      "source": [
        "```\n",
        "Read user input\n",
        "Print \"Hello, World\"\n",
        "```"
      ],
      "metadata": {
        "id": "qGmaOnaPiyUL"
      }
    },
    {
      "cell_type": "markdown",
      "source": [
        "- **Conditional Statements:**"
      ],
      "metadata": {
        "id": "DG8Ea8kei7B_"
      }
    },
    {
      "cell_type": "markdown",
      "source": [
        "```\n",
        "IF temperature > 100 THEN\n",
        "    Print \"Boiling Point\"\n",
        "ELSE\n",
        "    Print \"Below Boiling Point\"\n",
        "ENDIF\n",
        "```"
      ],
      "metadata": {
        "id": "YJWqFlpRi_n-"
      }
    },
    {
      "cell_type": "markdown",
      "source": [
        "- **Loops:**"
      ],
      "metadata": {
        "id": "h4NFLxUfjHRj"
      }
    },
    {
      "cell_type": "markdown",
      "source": [
        "```\n",
        "FOR each item in list\n",
        "    Print item\n",
        "ENDFOR\n",
        "```"
      ],
      "metadata": {
        "id": "fnbmJSIZjLMm"
      }
    },
    {
      "cell_type": "markdown",
      "source": [
        "- **Functions/Procedures:**"
      ],
      "metadata": {
        "id": "1B22LjJ8jYem"
      }
    },
    {
      "cell_type": "markdown",
      "source": [
        "```\n",
        "PROCEDURE calculateArea(radius)\n",
        "    Set area to 3.14 * radius * radius\n",
        "    RETURN area\n",
        "ENDPROCEDURE\n",
        "```"
      ],
      "metadata": {
        "id": "EiBL-8dcjaUl"
      }
    },
    {
      "cell_type": "markdown",
      "source": [
        "## **Calculate Simple Interest**"
      ],
      "metadata": {
        "id": "KXEdcxy3jx8h"
      }
    },
    {
      "cell_type": "markdown",
      "source": [
        "**Problem Statement:**\n",
        "- Calculate the simple interest given the principal amount (P), rate of interest (R), and time period (T).\n",
        "\n",
        "- **Formula:**\n",
        "Simple Interest = $P*R*T/100$\n"
      ],
      "metadata": {
        "id": "4bp7QiIykdNO"
      }
    },
    {
      "cell_type": "markdown",
      "source": [
        "- Pseudocode"
      ],
      "metadata": {
        "id": "xB5GjhzKk3hG"
      }
    },
    {
      "cell_type": "markdown",
      "source": [
        "```\n",
        "BEGIN\n",
        "    INPUT Principal (P)\n",
        "    INPUT Rate of Interest (R)\n",
        "    INPUT Time Period (T)\n",
        "    SET SimpleInterest = (P * R * T) / 100\n",
        "    OUTPUT SimpleInterest\n",
        "END\n",
        "```"
      ],
      "metadata": {
        "id": "Xjvl6qyVkyxp"
      }
    },
    {
      "cell_type": "markdown",
      "source": [
        "**Calculate Simple Interest**\n",
        "\n",
        "- **INPUT Principal (P):** The initial amount of money.\n",
        "- **INPUT Rate of Interest (R):** The percentage rate at which the interest is calculated.\n",
        "- **INPUT Time Period (T):** The time for which the interest is calculated.\n",
        "- SET SimpleInterest = (P * R * T) / 100: **bold text** Calculate the interest using the formula.\n",
        "- **OUTPUT SimpleInterest:** Display the calculated interest."
      ],
      "metadata": {
        "id": "gHOZ-3MClu3c"
      }
    },
    {
      "cell_type": "markdown",
      "source": [
        "###**Example:**\n",
        "If the principal is $1000, the rate is 5%, and the time is 2 years:\n",
        "\n",
        "- Principal = 1000\n",
        "- Rate = 5\n",
        "- Time = 2\n",
        "- Simple Interest = (1000 * 5 * 2) / 100 = 100\n",
        "\n"
      ],
      "metadata": {
        "id": "3b9O8GPKEG3a"
      }
    },
    {
      "cell_type": "markdown",
      "source": [
        "##**Calculate GCD**"
      ],
      "metadata": {
        "id": "-VaZJ-SRk9it"
      }
    },
    {
      "cell_type": "markdown",
      "source": [
        "**Problem Statement:**\n",
        "Calculate the greatest common divisor (GCD) of two numbers using the Euclidean algorithm."
      ],
      "metadata": {
        "id": "FRHdRx2ik-0M"
      }
    },
    {
      "cell_type": "markdown",
      "source": [
        "- Pseudocode"
      ],
      "metadata": {
        "id": "AN2jbSqblKEA"
      }
    },
    {
      "cell_type": "markdown",
      "source": [
        "```\n",
        "BEGIN\n",
        "    INPUT Number1 (A)\n",
        "    INPUT Number2 (B)\n",
        "    WHILE B ≠ 0 DO\n",
        "        SET Temp = B\n",
        "        SET B = A MOD B\n",
        "        SET A = Temp\n",
        "    ENDWHILE\n",
        "    OUTPUT A (which is the GCD)\n",
        "END\n",
        "```"
      ],
      "metadata": {
        "id": "YEWXEy3VlLU-"
      }
    },
    {
      "cell_type": "markdown",
      "source": [
        "**Calculate GCD**\n",
        "- **INPUT Number1 (A):** The first number.\n",
        "- **INPUT Number2 (B):** The second number.\n",
        "- **WHILE B ≠ 0 DO:** Loop until B becomes zero.\n",
        "- **SET Temp = B:** Temporarily store the value of B.\n",
        "- **SET B = A MOD B:** Update B to be the remainder of A divided by B.\n",
        "- **SET A = Temp:** Update A to the value of Temp.\n",
        "- **OUTPUT A:** The GCD is the value of A when B becomes zero."
      ],
      "metadata": {
        "id": "LFaDvX0pl8oX"
      }
    },
    {
      "cell_type": "markdown",
      "source": [
        "###**Example:**\n",
        "- If the two numbers are 48 and 18:\n",
        "\n",
        "- a = 48, b = 18\n",
        "- Iteration 1: temp = 18, b = 48 % 18 = 12, a = 18\n",
        "- Iteration 2: temp = 12, b = 18 % 12 = 6, a = 12\n",
        "- Iteration 3: temp = 6, b = 12 % 6 = 0, a = 6\n",
        "- The GCD is 6."
      ],
      "metadata": {
        "id": "SF8vWMUcESrA"
      }
    },
    {
      "cell_type": "markdown",
      "source": [
        "##**Smallest Number in n Numbers**"
      ],
      "metadata": {
        "id": "kRDLzyWtlZ8X"
      }
    },
    {
      "cell_type": "markdown",
      "source": [
        "**Problem Statement:**\n",
        "Find the smallest number in a list of n numbers."
      ],
      "metadata": {
        "id": "Z5hl0MQjlbWO"
      }
    },
    {
      "cell_type": "markdown",
      "source": [
        "- Pseudocode"
      ],
      "metadata": {
        "id": "6opQDGzMlfLy"
      }
    },
    {
      "cell_type": "markdown",
      "source": [
        "```\n",
        "BEGIN\n",
        "    INPUT n (Number of elements)\n",
        "    INPUT Array of n numbers\n",
        "    SET Smallest = Array[0]\n",
        "    FOR i = 1 TO n-1 DO\n",
        "        IF Array[i] < Smallest THEN\n",
        "            SET Smallest = Array[i]\n",
        "        ENDIF\n",
        "    ENDFOR\n",
        "    OUTPUT Smallest\n",
        "END\n",
        "```"
      ],
      "metadata": {
        "id": "HBKEKMbBlilg"
      }
    },
    {
      "cell_type": "markdown",
      "source": [
        "**Find the Smallest Number in n Numbers**\n",
        "\n",
        "- **INPUT n (Number of elements):** The number of elements in the list.\n",
        "- **INPUT Array of n numbers:** The list of numbers.\n",
        "- **SET Smallest = Array[0]:** Assume the first element is the smallest.\n",
        "- **FOR i = 1 TO n-1 DO:** Loop through the remaining elements.\n",
        "- **IF Array[i] < Smallest THEN:** Check if the current element is smaller.\n",
        "- **SET Smallest = Array[i]:** Update the smallest value if the condition is true.\n",
        "- **OUTPUT Smallest:** Display the smallest number found."
      ],
      "metadata": {
        "id": "4se4M4MNmWn6"
      }
    },
    {
      "cell_type": "markdown",
      "source": [
        "###**Example:**\n",
        "- If the numbers are [34, 15, 88, 2]:\n",
        "\n",
        "- smallest = 34\n",
        "- Iteration 1: **15 < 34**, so smallest = 15\n",
        "- Iteration 2: **88 < 15** (false), smallest remains 15\n",
        "- Iteration 3: **2 < 15**, so smallest = 2\n",
        "- The smallest number is 2."
      ],
      "metadata": {
        "id": "FsvmJbDlEb6Y"
      }
    },
    {
      "cell_type": "markdown",
      "source": [
        "# Exercise 1"
      ],
      "metadata": {
        "id": "fNgt4yF4mibR"
      }
    },
    {
      "cell_type": "markdown",
      "source": [
        "Write pseudo code that performs the following:\n",
        "- Ask a user to enter a number.\n",
        "- If the number is between 0 and 10, write the word blue.\n",
        "- If the number is between 10 and 20, write the word red.\n",
        "- If the number is between 20 and 30, write the word green.\n",
        "- If it is any other number, write that it is not a correct color option."
      ],
      "metadata": {
        "id": "5A_UaQmYml_J"
      }
    },
    {
      "cell_type": "markdown",
      "source": [
        "## Solution"
      ],
      "metadata": {
        "id": "b5vhhqczmvrN"
      }
    },
    {
      "cell_type": "code",
      "source": [
        "Output “Please input a number.”\n",
        "A = input\n",
        "            if 0<A AND A<10, then\n",
        "                        output “blue.”\n",
        "            else if 10<A AND A<20, then\n",
        "                        output “red.”\n",
        "            else if 20<A AND A<30, then\n",
        "                        output “green.”\n",
        "            else output “That is not a correct color option.”\n",
        "            end if"
      ],
      "metadata": {
        "id": "oWYi6CIDnNnE"
      },
      "execution_count": null,
      "outputs": []
    },
    {
      "cell_type": "markdown",
      "source": [
        "![image.png](data:image/png;base64,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)"
      ],
      "metadata": {
        "id": "10bZ6xZZnBKR"
      }
    },
    {
      "cell_type": "markdown",
      "source": [
        "# Exercise 2"
      ],
      "metadata": {
        "id": "_3cj3cWcnFrU"
      }
    },
    {
      "cell_type": "markdown",
      "source": [
        "Write pseudo code to print all multiples of 5 between 1 and 100 (including both 1 and 100)."
      ],
      "metadata": {
        "id": "06gbXe7tnGOQ"
      }
    },
    {
      "cell_type": "markdown",
      "source": [
        "## Solution"
      ],
      "metadata": {
        "id": "nm8tsPLNnXdw"
      }
    },
    {
      "cell_type": "code",
      "source": [
        "Pseudocode:\n",
        "\n",
        "N =1\n",
        "loop while N <= 100\n",
        "            if N mod 5 = 0 then\n",
        "                        output N\n",
        "            end if\n",
        "            N++\n",
        "end loop"
      ],
      "metadata": {
        "id": "LlPF86xAnK2j"
      },
      "execution_count": null,
      "outputs": []
    },
    {
      "cell_type": "markdown",
      "source": [
        "![image.png](data:image/png;base64,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)"
      ],
      "metadata": {
        "id": "oVHRLuRNnSIg"
      }
    },
    {
      "cell_type": "markdown",
      "source": [
        "# Exercise 3"
      ],
      "metadata": {
        "id": "j-Z7664CnZ3u"
      }
    },
    {
      "cell_type": "markdown",
      "source": [
        "Write pseudo code that will count all the even numbers up to a user defined stopping point."
      ],
      "metadata": {
        "id": "2MOiXR-Cnae6"
      }
    },
    {
      "cell_type": "markdown",
      "source": [
        "## Solution"
      ],
      "metadata": {
        "id": "WcOn7fYSniCd"
      }
    },
    {
      "cell_type": "code",
      "source": [
        "S = input\n",
        "\n",
        "N = 0\n",
        "\n",
        "loop until N >= S\n",
        "\n",
        "            N = N + 2\n",
        "\n",
        "            Output N\n",
        "\n",
        "end loop"
      ],
      "metadata": {
        "id": "ZK5QHQfomlYZ"
      },
      "execution_count": null,
      "outputs": []
    },
    {
      "cell_type": "markdown",
      "source": [
        "![image.png](data:image/png;base64,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)"
      ],
      "metadata": {
        "id": "LXSREGrmnet0"
      }
    },
    {
      "cell_type": "markdown",
      "source": [
        "# Exercise 4\n"
      ],
      "metadata": {
        "id": "q952ZL2cnlbB"
      }
    },
    {
      "cell_type": "markdown",
      "source": [
        "Write pseudo code that will perform the following.\n",
        "- Read in 5 separate numbers.\n",
        "- Calculate the average of the five numbers.\n",
        "- Find the smallest (minimum) and largest (maximum) of the five entered numbers.\n",
        "- Write out the results found from steps b and c with a message describing what they are."
      ],
      "metadata": {
        "id": "sgEWcGAEnnCx"
      }
    },
    {
      "cell_type": "markdown",
      "source": [
        "## Solution"
      ],
      "metadata": {
        "id": "J3zKkoICns_n"
      }
    },
    {
      "cell_type": "code",
      "source": [
        "output “Enter 5 numbers separately.”\n",
        "Sum = 0\n",
        "loop for i=o to 4\n",
        "            Output “Enter number” (i+1) “.”i\n",
        "            N[] = input\n",
        "            SUM = SUM + N[i]\n",
        "end loop\n",
        "AVG = SUN /5\n",
        "MAX = N[0] MIN = N[0]\n",
        "loop for a = 0 to 4\n",
        "            if N[a] < N[a+1]\n",
        "                        MAX = N[a+1]\n",
        "            end if\n",
        "            if N[a] > N[a+1]\n",
        "            MIN = N [a+1]\n",
        "            end if\n",
        "and loop\n",
        "output AVG “ ” MAX “ ” MIN"
      ],
      "metadata": {
        "id": "YbEFs0JSngfU"
      },
      "execution_count": null,
      "outputs": []
    },
    {
      "cell_type": "markdown",
      "source": [
        "# Exercise 5"
      ],
      "metadata": {
        "id": "pg9AF0ROnyjO"
      }
    },
    {
      "cell_type": "markdown",
      "source": [
        "Write a pseudocode solution which will take in an integer value and determine whether that value is odd or even."
      ],
      "metadata": {
        "id": "a5lTHpAHnzQ_"
      }
    },
    {
      "cell_type": "markdown",
      "source": [
        "## Solution"
      ],
      "metadata": {
        "id": "X-5jp6qPn1xJ"
      }
    },
    {
      "cell_type": "code",
      "source": [
        "output “Please write an integer.”\n",
        "N = input\n",
        "if N mod 2 = 1, then\n",
        "            output “It is an odd number.”\n",
        "else\n",
        "            output “It is an even numer.”\n",
        "end if"
      ],
      "metadata": {
        "id": "rm9sgV67n3LY"
      },
      "execution_count": null,
      "outputs": []
    },
    {
      "cell_type": "markdown",
      "source": [
        "![image.png](data:image/png;base64,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)"
      ],
      "metadata": {
        "id": "vu2R2paKn5KT"
      }
    }
  ]
}