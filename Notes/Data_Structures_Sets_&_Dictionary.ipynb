{
  "nbformat": 4,
  "nbformat_minor": 0,
  "metadata": {
    "colab": {
      "provenance": [],
      "toc_visible": true
    },
    "kernelspec": {
      "name": "python3",
      "display_name": "Python 3"
    },
    "language_info": {
      "name": "python"
    }
  },
  "cells": [
    {
      "cell_type": "markdown",
      "source": [
        "#**Data Structures in Python: Sets & Dictionaries**"
      ],
      "metadata": {
        "id": "CanzYy--i9rD"
      }
    },
    {
      "cell_type": "markdown",
      "source": [
        "**Agenda**\n",
        "- Sets in Python\n",
        "  - What is a Set?\n",
        "  - Creating a Set\n",
        "  - Basic Operations on Sets\n",
        "  - Applications of Sets\n",
        "  - Set Comprehensions\n",
        "- Dictionaries in Python\n",
        "  - What is a Dictionary?\n",
        "  - Creating a Dictionary\n",
        "  - Accessing Dictionary Elements\n",
        "  - Modifying Dictionary Elements\n",
        "  - Removing Dictionary Elements\n",
        "  - Dictionary Operations\n",
        "  - Nested Dictionaries\n",
        "  - Applications of Dictionaries"
      ],
      "metadata": {
        "id": "qE243seGMY8P"
      }
    },
    {
      "cell_type": "markdown",
      "source": [
        "# **Introduction**"
      ],
      "metadata": {
        "id": "mAqsmZxVM6QQ"
      }
    },
    {
      "cell_type": "markdown",
      "source": [
        "- In Python, data structures are essential for organizing and storing data efficiently. Among the various built-in data structures, sets and dictionaries are particularly useful when dealing with unique elements and key-value pairs, respectively. This guide will explore sets and dictionaries, their characteristics, operations, and practical applications, complete with examples."
      ],
      "metadata": {
        "id": "yeyEDsFLMbRk"
      }
    },
    {
      "cell_type": "markdown",
      "source": [
        "#**Sets in Python**"
      ],
      "metadata": {
        "id": "av3aLBhcjIOT"
      }
    },
    {
      "cell_type": "markdown",
      "source": [
        "- A set in Python is a built-in data structure that represents an unordered collection of unique elements. Unlike lists or tuples, which allow duplicate values, a set automatically removes duplicates, ensuring that each element in the set is unique.\n",
        "\n",
        "**Key Characteristics of a Set:**\n",
        "- **Unordered:** The elements in a set do not have a defined order, meaning that their position in the set can change.\n",
        "- **Unique Elements:** A set does not allow duplicate elements. If you attempt to add a duplicate, it will be ignored.\n",
        "- **Mutable:** Sets are mutable, so you can add or remove elements after the set has been created.\n",
        "- **Unindexed:** Sets do not support indexing, slicing, or other sequence-like behavior because they are unordered.\n"
      ],
      "metadata": {
        "id": "4n9EndZHjG7O"
      }
    },
    {
      "cell_type": "markdown",
      "source": [
        "####**Creating a Set**\n",
        "- Sets can be created using the set() function or by placing comma-separated elements inside curly braces {}."
      ],
      "metadata": {
        "id": "2RC-q8G5jUuj"
      }
    },
    {
      "cell_type": "markdown",
      "source": [
        "**Example:**"
      ],
      "metadata": {
        "id": "0ykmi87Qja6H"
      }
    },
    {
      "cell_type": "code",
      "source": [
        "# Creating a set using curly braces\n",
        "fruits = {\"apple\", \"banana\", \"cherry\"}\n",
        "print(fruits)  # Output: {'apple', 'banana', 'cherry'}\n",
        "\n",
        "# Creating a set using the set() function\n",
        "numbers = set([1, 2, 3, 4, 5])\n",
        "print(numbers)  # Output: {1, 2, 3, 4, 5}\n"
      ],
      "metadata": {
        "colab": {
          "base_uri": "https://localhost:8080/"
        },
        "id": "XnIawDNkjbvP",
        "outputId": "1096063f-e333-4c31-bb67-0564bab291ca"
      },
      "execution_count": null,
      "outputs": [
        {
          "output_type": "stream",
          "name": "stdout",
          "text": [
            "{'apple', 'cherry', 'banana'}\n",
            "{1, 2, 3, 4, 5}\n"
          ]
        }
      ]
    },
    {
      "cell_type": "markdown",
      "source": [
        "- In the example above, fruits is a set containing the elements \"apple\", \"banana\", and \"cherry\".\n",
        "- Similarly, numbers is a set created from a list [1, 2, 3, 4, 5]. If there were any duplicate elements in the list, the set would automatically remove them."
      ],
      "metadata": {
        "id": "yq9t1uD10Obz"
      }
    },
    {
      "cell_type": "markdown",
      "source": [
        "####**Basic Operations on Sets**"
      ],
      "metadata": {
        "id": "UU-R_-HWNF9X"
      }
    },
    {
      "cell_type": "markdown",
      "source": [
        "##### **Adding Elements**"
      ],
      "metadata": {
        "id": "vfqSN8jUNK4s"
      }
    },
    {
      "cell_type": "markdown",
      "source": [
        "\n",
        "  - You can add elements to a set using the add() method.\n",
        "  - Sets in Python provide a variety of operations that allow you to manipulate and query the collection of elements. Here are some of the most common operations you can perform on sets:\n",
        "\n",
        "**Example:**"
      ],
      "metadata": {
        "id": "kACMBtKujfKP"
      }
    },
    {
      "cell_type": "code",
      "source": [
        "# Adding an element to a set\n",
        "fruits = {\"apple\", \"banana\", \"cherry\"}\n",
        "fruits.add(\"orange\")\n",
        "print(fruits)  # Output: {'apple', 'banana', 'cherry', 'orange'}\n"
      ],
      "metadata": {
        "colab": {
          "base_uri": "https://localhost:8080/"
        },
        "id": "yYjUnA35jssX",
        "outputId": "cf521e41-9f17-45c7-deb5-a93fd267db58"
      },
      "execution_count": null,
      "outputs": [
        {
          "output_type": "stream",
          "name": "stdout",
          "text": [
            "{'orange', 'apple', 'cherry', 'banana'}\n"
          ]
        }
      ]
    },
    {
      "cell_type": "markdown",
      "source": [
        "##### **Removing Elements**"
      ],
      "metadata": {
        "id": "mM9AVmYgNPGo"
      }
    },
    {
      "cell_type": "markdown",
      "source": [
        "- There are several methods to remove elements from a set:\n",
        "  - **remove(element):** Removes the specified element from the set. Raises a KeyError if the element is not found.\n",
        "  - **discard(element):** Removes the specified element from the set. Does not raise an error if the element is not found.\n",
        "  - **pop():** Removes and returns an arbitrary element from the set. Raises a KeyError if the set is empty.\n",
        "  - **clear():** Removes all elements from the set, resulting in an empty set.\n",
        "\n",
        "\n",
        "**Example:**"
      ],
      "metadata": {
        "id": "TX7d1Hlsjvc8"
      }
    },
    {
      "cell_type": "code",
      "source": [
        "# Removing an element using remove()\n",
        "fruits = {\"apple\", \"banana\", \"cherry\"}\n",
        "fruits.remove(\"banana\")\n",
        "print(fruits)  # Output: {'apple', 'cherry'}\n",
        "\n",
        "# Removing an element using discard()\n",
        "fruits.discard(\"banana\")  # No error if 'banana' is not in the set\n"
      ],
      "metadata": {
        "colab": {
          "base_uri": "https://localhost:8080/"
        },
        "id": "VDmxctxGj3aE",
        "outputId": "a7e039e4-046c-4238-d428-cbc2eaff5c14"
      },
      "execution_count": null,
      "outputs": [
        {
          "output_type": "stream",
          "name": "stdout",
          "text": [
            "{'apple', 'cherry'}\n"
          ]
        }
      ]
    },
    {
      "cell_type": "markdown",
      "source": [
        "##### **Set Operations**"
      ],
      "metadata": {
        "id": "8rw4nZ_fNS5z"
      }
    },
    {
      "cell_type": "markdown",
      "source": [
        "  - Sets support several standard mathematical operations such as union, intersection, difference, and symmetric difference.\n",
        "\n",
        "**Example:**\n",
        "\n"
      ],
      "metadata": {
        "id": "2dc8Q2xaj6bj"
      }
    },
    {
      "cell_type": "code",
      "source": [
        "# Union of sets\n",
        "A = {1, 2, 3}\n",
        "B = {3, 4, 5}\n",
        "print(A | B)  # Output: {1, 2, 3, 4, 5}\n",
        "\n",
        "# Intersection of sets\n",
        "print(A & B)  # Output: {3}\n",
        "\n",
        "# Difference of sets\n",
        "print(A - B)  # Output: {1, 2}\n",
        "\n",
        "# Symmetric difference of sets\n",
        "print(A ^ B)  # Output: {1, 2, 4, 5}\n"
      ],
      "metadata": {
        "colab": {
          "base_uri": "https://localhost:8080/"
        },
        "id": "FXwi3KNwj9L2",
        "outputId": "fb05f52b-12d3-4063-e570-b3cf26127ff1"
      },
      "execution_count": null,
      "outputs": [
        {
          "output_type": "stream",
          "name": "stdout",
          "text": [
            "{1, 2, 3, 4, 5}\n",
            "{3}\n",
            "{1, 2}\n",
            "{1, 2, 4, 5}\n"
          ]
        }
      ]
    },
    {
      "cell_type": "markdown",
      "source": [
        "####**Applications of Sets**\n",
        "- Sets are versatile data structures in Python, offering unique properties that make them ideal for various applications, especially where uniqueness, membership tests, and mathematical set operations are required.\n",
        "\n"
      ],
      "metadata": {
        "id": "G_NOp01QkDuF"
      }
    },
    {
      "cell_type": "markdown",
      "source": [
        "##### **Removing Duplicates from a Collection**"
      ],
      "metadata": {
        "id": "qvoinMq7NZaD"
      }
    },
    {
      "cell_type": "markdown",
      "source": [
        "- One of the most common uses of sets is to remove duplicates from a list or other iterable. Since sets automatically eliminate duplicate elements, converting a list to a set is a quick and efficient way to ensure all elements are unique."
      ],
      "metadata": {
        "id": "t6m8PNrX1Q_6"
      }
    },
    {
      "cell_type": "code",
      "source": [
        "# Example: Removing duplicates from a list\n",
        "numbers = [1, 2, 2, 3, 4, 4, 5]\n",
        "unique_numbers = list(set(numbers))\n",
        "print(unique_numbers)  # Output: [1, 2, 3, 4, 5]\n"
      ],
      "metadata": {
        "colab": {
          "base_uri": "https://localhost:8080/"
        },
        "id": "tYXcnDz21Smh",
        "outputId": "d8c01288-e6a2-4292-b660-c8f5c86f2bb7"
      },
      "execution_count": null,
      "outputs": [
        {
          "output_type": "stream",
          "name": "stdout",
          "text": [
            "[1, 2, 3, 4, 5]\n"
          ]
        }
      ]
    },
    {
      "cell_type": "markdown",
      "source": [
        "##### **Membership Testing**"
      ],
      "metadata": {
        "id": "K5jPkQd9Nc1Z"
      }
    },
    {
      "cell_type": "markdown",
      "source": [
        "- Sets offer an efficient way to test whether an element is present in a collection. This is particularly useful in scenarios where quick lookups are necessary, as the average time complexity for checking membership in a set is O(1)."
      ],
      "metadata": {
        "id": "Aa0o3rKO1TxP"
      }
    },
    {
      "cell_type": "code",
      "source": [
        "# Example: Checking if an element is in a set\n",
        "fruits = {\"apple\", \"banana\", \"cherry\"}\n",
        "print(\"banana\" in fruits)  # Output: True\n",
        "print(\"mango\" in fruits)   # Output: False\n"
      ],
      "metadata": {
        "colab": {
          "base_uri": "https://localhost:8080/"
        },
        "id": "XujftMex1WtR",
        "outputId": "04a47f38-69ad-4e97-c0a5-8fbf71a322f5"
      },
      "execution_count": null,
      "outputs": [
        {
          "output_type": "stream",
          "name": "stdout",
          "text": [
            "True\n",
            "False\n"
          ]
        }
      ]
    },
    {
      "cell_type": "markdown",
      "source": [
        "##### **Mathematical Set Operations**"
      ],
      "metadata": {
        "id": "I5pYEzx7NgEc"
      }
    },
    {
      "cell_type": "markdown",
      "source": [
        "- Sets are ideal for performing mathematical operations like union, intersection, difference, and symmetric difference. These operations are commonly used in scenarios involving data analysis, where comparisons between datasets are necessary.\n",
        "\n",
        "  - **Union:** Combine elements from two sets.\n",
        "  - **Intersection:** Find common elements between sets.\n",
        "  - **Difference:** Identify elements in one set that are not in another.\n",
        "  - **Symmetric Difference:** Find elements that are in either set but not in both."
      ],
      "metadata": {
        "id": "IrAc8mdb1Ytb"
      }
    },
    {
      "cell_type": "code",
      "source": [
        "# Example: Mathematical set operations\n",
        "set1 = {1, 2, 3}\n",
        "set2 = {3, 4, 5}\n",
        "\n",
        "union_set = set1.union(set2)  # {1, 2, 3, 4, 5}\n",
        "intersection_set = set1.intersection(set2)  # {3}\n",
        "difference_set = set1.difference(set2)  # {1, 2}\n",
        "symmetric_difference_set = set1.symmetric_difference(set2)  # {1, 2, 4, 5}\n"
      ],
      "metadata": {
        "id": "EGykvY4C1sSg"
      },
      "execution_count": null,
      "outputs": []
    },
    {
      "cell_type": "markdown",
      "source": [
        "##### **Data Filtering**"
      ],
      "metadata": {
        "id": "HiP0QwuENtbN"
      }
    },
    {
      "cell_type": "markdown",
      "source": [
        "- Sets can be used to filter data by retaining only unique elements or by finding common elements between two datasets. This application is particularly useful in data preprocessing tasks."
      ],
      "metadata": {
        "id": "2WuZdk4n1xYA"
      }
    },
    {
      "cell_type": "code",
      "source": [
        "# Example: Filtering data\n",
        "data = [\"apple\", \"banana\", \"cherry\", \"apple\", \"banana\"]\n",
        "unique_data = set(data)  # {'apple', 'banana', 'cherry'}\n"
      ],
      "metadata": {
        "id": "O5YrcT7L1y5s"
      },
      "execution_count": null,
      "outputs": []
    },
    {
      "cell_type": "markdown",
      "source": [
        "####**Set Comprehensions**"
      ],
      "metadata": {
        "id": "XINkfqSPNxgG"
      }
    },
    {
      "cell_type": "markdown",
      "source": [
        "- Set comprehensions in Python are a concise and efficient way to create sets by applying an expression to each item in an iterable, optionally including a condition. Similar to list comprehensions, set comprehensions allow you to build sets in a single line of code while maintaining readability.\n",
        "\n",
        "\n",
        "**Syntax of Set Comprehensions:**\n",
        "```\n",
        "{expression for item in iterable if condition}\n",
        "```\n",
        "\n",
        "- **expression:** The value or transformation applied to each item in the iterable.\n",
        "- **item:** The variable representing each element in the iterable.\n",
        "- **iterable:** A collection or sequence of items to iterate over.\n",
        "- **condition:** An optional filter that allows only certain items to be included in the final set.\n"
      ],
      "metadata": {
        "id": "UN1AO8qikRB6"
      }
    },
    {
      "cell_type": "markdown",
      "source": [
        "**Examples:\n",
        "Creating a Set of Squares:** Create a set that contains the squares of numbers from 1 to 10."
      ],
      "metadata": {
        "id": "5_0bZFBv2lt-"
      }
    },
    {
      "cell_type": "code",
      "source": [
        "squares = {x**2 for x in range(1, 11)}\n",
        "print(squares)  # Output: {1, 4, 9, 16, 25, 36, 49, 64, 81, 100}\n"
      ],
      "metadata": {
        "colab": {
          "base_uri": "https://localhost:8080/"
        },
        "id": "AgUamEcc2xPd",
        "outputId": "14226c7d-0a52-48a3-d602-6f3f56bd192d"
      },
      "execution_count": null,
      "outputs": [
        {
          "output_type": "stream",
          "name": "stdout",
          "text": [
            "{64, 1, 4, 36, 100, 9, 16, 49, 81, 25}\n"
          ]
        }
      ]
    },
    {
      "cell_type": "markdown",
      "source": [
        "- **Filtering Even Numbers:** Create a set that contains only the even numbers from 1 to 10."
      ],
      "metadata": {
        "id": "q-ZXHBvI2yl6"
      }
    },
    {
      "cell_type": "code",
      "source": [
        "evens = {x for x in range(1, 11) if x % 2 == 0}\n",
        "print(evens)  # Output: {2, 4, 6, 8, 10}\n"
      ],
      "metadata": {
        "colab": {
          "base_uri": "https://localhost:8080/"
        },
        "id": "tRdfAOat22pU",
        "outputId": "93f9188b-18f0-4dad-d63a-7bab127813ec"
      },
      "execution_count": null,
      "outputs": [
        {
          "output_type": "stream",
          "name": "stdout",
          "text": [
            "{2, 4, 6, 8, 10}\n"
          ]
        }
      ]
    },
    {
      "cell_type": "markdown",
      "source": [
        "- **Transforming and Filtering Simultaneously:**\n",
        "Create a set that contains the uppercase version of strings from a list, but only if the string starts with a vowel."
      ],
      "metadata": {
        "id": "j9buz8eS24AC"
      }
    },
    {
      "cell_type": "code",
      "source": [
        "words = [\"apple\", \"banana\", \"cherry\", \"avocado\", \"grape\"]\n",
        "vowels = {'a', 'e', 'i', 'o', 'u'}\n",
        "vowel_words = {word.upper() for word in words if word[0].lower() in vowels}\n",
        "print(vowel_words)  # Output: {'APPLE', 'AVOCADO'}\n"
      ],
      "metadata": {
        "colab": {
          "base_uri": "https://localhost:8080/"
        },
        "id": "QnYAmgfF24Sw",
        "outputId": "c4ccee21-76a7-4c22-e706-8bde59a64646"
      },
      "execution_count": null,
      "outputs": [
        {
          "output_type": "stream",
          "name": "stdout",
          "text": [
            "{'AVOCADO', 'APPLE'}\n"
          ]
        }
      ]
    },
    {
      "cell_type": "markdown",
      "source": [
        "- **Removing Duplicates with Set Comprehensions:**\n",
        "Create a set from a list of numbers with duplicates, effectively removing the duplicates."
      ],
      "metadata": {
        "id": "VqmmJf-W2-Ta"
      }
    },
    {
      "cell_type": "code",
      "source": [
        "numbers = [1, 2, 2, 3, 4, 4, 5]\n",
        "unique_numbers = {x for x in numbers}\n",
        "print(unique_numbers)  # Output: {1, 2, 3, 4, 5}\n"
      ],
      "metadata": {
        "colab": {
          "base_uri": "https://localhost:8080/"
        },
        "id": "n1Zc9Zt32-ix",
        "outputId": "c1222bb3-44a3-4cc4-c920-584f88220c02"
      },
      "execution_count": null,
      "outputs": [
        {
          "output_type": "stream",
          "name": "stdout",
          "text": [
            "{1, 2, 3, 4, 5}\n"
          ]
        }
      ]
    },
    {
      "cell_type": "markdown",
      "source": [
        "- **Cross Product of Sets:**\n",
        "Create a set that represents the cross product of two sets, but only for certain conditions."
      ],
      "metadata": {
        "id": "iFsgGfjE3JfS"
      }
    },
    {
      "cell_type": "code",
      "source": [
        "set1 = {1, 2, 3}\n",
        "set2 = {'A', 'B', 'C'}\n",
        "cross_product = {(x, y) for x in set1 for y in set2 if x != 2}\n",
        "print(cross_product)  # Output: {(1, 'A'), (1, 'B'), (1, 'C'), (3, 'A'), (3, 'B'), (3, 'C')}\n"
      ],
      "metadata": {
        "colab": {
          "base_uri": "https://localhost:8080/"
        },
        "id": "s1EsQ9x53LMI",
        "outputId": "a3fefddb-ea95-44b4-e7e4-202ced3b4c89"
      },
      "execution_count": null,
      "outputs": [
        {
          "output_type": "stream",
          "name": "stdout",
          "text": [
            "{(1, 'C'), (3, 'B'), (1, 'B'), (3, 'A'), (3, 'C'), (1, 'A')}\n"
          ]
        }
      ]
    },
    {
      "cell_type": "markdown",
      "source": [
        "#**Dictionaries in Python**"
      ],
      "metadata": {
        "id": "QJFAWTpSkXxI"
      }
    },
    {
      "cell_type": "markdown",
      "source": [
        "![Python-dictionary-2-320.webp](data:image/webp;base64,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)"
      ],
      "metadata": {
        "id": "aHnn0Mn8zYWF"
      }
    },
    {
      "cell_type": "markdown",
      "source": [
        "###**What is a Dictionary?**"
      ],
      "metadata": {
        "id": "ctSYQ74IOOw-"
      }
    },
    {
      "cell_type": "markdown",
      "source": [
        "- In Python, a dictionary is an unordered, mutable collection of key-value pairs. Each key in a dictionary is unique and is used to access its corresponding value. Dictionaries are one of the most commonly used data structures in Python, especially for representing structured data, such as real-world objects and their attributes.\n",
        "\n",
        "**Key Characteristics of Dictionaries:**\n",
        "- **Unordered:** Unlike lists or tuples, dictionaries do not maintain any order for the elements they contain. However, starting from Python 3.7, dictionaries maintain the insertion order as an implementation detail.\n",
        "\n",
        "- **Mutable:** Dictionaries are mutable, meaning that the contents (i.e., key-value pairs) can be changed after the dictionary is created. You can add, modify, or remove key-value pairs as needed.\n",
        "\n",
        "- **Key-Value Pairs:** Each entry in a dictionary consists of a key and a value. The key acts as an identifier, while the value is the data associated with that key. Keys must be of a hashable type, such as strings, numbers, or tuples, while values can be of any data type.\n",
        "\n",
        "- **Unique Keys:** Each key in a dictionary must be unique. If you try to assign a value to an existing key, the old value will be overwritten."
      ],
      "metadata": {
        "id": "078wXrN9ka4G"
      }
    },
    {
      "cell_type": "markdown",
      "source": [
        "###**Creating a Dictionary**"
      ],
      "metadata": {
        "id": "M4eLMBR_ORL0"
      }
    },
    {
      "cell_type": "markdown",
      "source": [
        "- Dictionaries can be created using curly braces {} with key-value pairs, or by using the dict() function.\n",
        "- Dictionaries in Python can be created in several ways, depending on the data you have and the requirements of your program.\n",
        "\n"
      ],
      "metadata": {
        "id": "zMM3BZIhkq0Y"
      }
    },
    {
      "cell_type": "markdown",
      "source": [
        "**Some common methods for creating dictionaries:**\n",
        "  "
      ],
      "metadata": {
        "id": "iknrGtQ_PfTb"
      }
    },
    {
      "cell_type": "markdown",
      "source": [
        "**1. Using Curly Braces {}**\n",
        "- The most straightforward way to create a dictionary.\n",
        "\n",
        "**Syntax:**\n",
        "```\n",
        "my_dict = {'key1': 'value1', 'key2': 'value2'}\n",
        "```\n",
        "\n",
        "\n",
        "\n"
      ],
      "metadata": {
        "id": "1ZemjyBTPjPf"
      }
    },
    {
      "cell_type": "markdown",
      "source": [
        "- **Example:**"
      ],
      "metadata": {
        "id": "G-RoYWk1QXEr"
      }
    },
    {
      "cell_type": "code",
      "source": [
        "person = {'name': 'Alice', 'age': 30, 'city': 'New York'}\n"
      ],
      "metadata": {
        "id": "N55hD02WQYEv"
      },
      "execution_count": null,
      "outputs": []
    },
    {
      "cell_type": "markdown",
      "source": [
        "**2. Using the dict() Constructor**\n",
        "- You can create a dictionary using the dict() function.\n",
        "\n",
        "**Syntax:**\n",
        "```\n",
        "my_dict = dict(key1='value1', key2='value2')\n",
        "```\n",
        "\n",
        "\n",
        "  "
      ],
      "metadata": {
        "id": "SgjzewYPPmaF"
      }
    },
    {
      "cell_type": "markdown",
      "source": [
        "- **Example:**"
      ],
      "metadata": {
        "id": "OGRQkvGJQk-i"
      }
    },
    {
      "cell_type": "code",
      "source": [
        "person = dict(name='Bob', age=25, city='San Francisco')\n"
      ],
      "metadata": {
        "id": "G9WmL-aSQnxI"
      },
      "execution_count": null,
      "outputs": []
    },
    {
      "cell_type": "markdown",
      "source": [
        "**3. Using Dictionary Comprehensions**\n",
        "- A concise way to create dictionaries, similar to list comprehensions.\n",
        "\n",
        "**Syntax:**\n",
        "```\n",
        "my_dict = {key_expression: value_expression for item in iterable}\n",
        "```\n"
      ],
      "metadata": {
        "id": "xdi4WmsxPorq"
      }
    },
    {
      "cell_type": "markdown",
      "source": [
        "- **Example:**"
      ],
      "metadata": {
        "id": "gPY4ZEGLQygZ"
      }
    },
    {
      "cell_type": "code",
      "source": [
        "squares = {x: x**2 for x in range(6)}\n",
        "# Output: {0: 0, 1: 1, 2: 4, 3: 9, 4: 16, 5: 25}\n"
      ],
      "metadata": {
        "id": "uolol2GzQ0qp"
      },
      "execution_count": null,
      "outputs": []
    },
    {
      "cell_type": "markdown",
      "source": [
        "**4. Using the fromkeys() Method**\n",
        "- Creates a new dictionary with keys from an iterable and a single value for all keys.\n",
        "\n",
        "**Syntax:**\n",
        "```\n",
        "my_dict = dict.fromkeys(iterable, value)\n",
        "```\n",
        "\n",
        "  "
      ],
      "metadata": {
        "id": "2GUA-yj4PqXe"
      }
    },
    {
      "cell_type": "markdown",
      "source": [
        "- **Example:**"
      ],
      "metadata": {
        "id": "SjoAL1kUQ_h-"
      }
    },
    {
      "cell_type": "code",
      "source": [
        "keys = ['a', 'b', 'c']\n",
        "my_dict = dict.fromkeys(keys, 0)\n",
        "# Output: {'a': 0, 'b': 0, 'c': 0}\n"
      ],
      "metadata": {
        "id": "_TJwOJ2-RBxt"
      },
      "execution_count": null,
      "outputs": []
    },
    {
      "cell_type": "markdown",
      "source": [
        "**5. Creating a Dictionary with Nested Structures**\n",
        "- You can create dictionaries with values that are other dictionaries or even lists.\n",
        "\n",
        "**Syntax:**\n",
        "```\n",
        "my_dict = {\n",
        "    'key1': {'sub_key1': 'value1'},\n",
        "    'key2': {'sub_key2': 'value2'}\n",
        "}\n",
        "```"
      ],
      "metadata": {
        "id": "6FouH1rePsKU"
      }
    },
    {
      "cell_type": "markdown",
      "source": [
        "- **Example:**"
      ],
      "metadata": {
        "id": "tRq2c6GeRS2K"
      }
    },
    {
      "cell_type": "code",
      "source": [
        "student = {\n",
        "    'name': 'John',\n",
        "    'grades': {'math': 90, 'science': 85},\n",
        "    'activities': ['soccer', 'chess']\n",
        "}\n"
      ],
      "metadata": {
        "id": "gai49p7rRVNv"
      },
      "execution_count": null,
      "outputs": []
    },
    {
      "cell_type": "markdown",
      "source": [
        "###**Accessing Dictionary Elements**"
      ],
      "metadata": {
        "id": "ZufGE1avOU9p"
      }
    },
    {
      "cell_type": "markdown",
      "source": [
        "- Dictionaries in Python store data in key-value pairs. To retrieve values from a dictionary, you use the keys associated with those values.\n",
        "\n"
      ],
      "metadata": {
        "id": "PSvdePHSkxNP"
      }
    },
    {
      "cell_type": "markdown",
      "source": [
        "**Here are the common methods for accessing dictionary elements:**\n",
        "  "
      ],
      "metadata": {
        "id": "DVy9n0qtRtfH"
      }
    },
    {
      "cell_type": "markdown",
      "source": [
        "**1. Accessing Values Using Keys**\n",
        "- You can directly access a value in a dictionary by specifying its key within square brackets ([]).\n",
        "  "
      ],
      "metadata": {
        "id": "OMy5bEAAgVmm"
      }
    },
    {
      "cell_type": "code",
      "source": [
        "# Example dictionary\n",
        "my_dict = {'name': 'Alice', 'age': 25, 'city': 'New York'}\n",
        "\n",
        "# Accessing elements\n",
        "print(my_dict['name'])  # Output: Alice\n",
        "print(my_dict['age'])   # Output: 25\n"
      ],
      "metadata": {
        "colab": {
          "base_uri": "https://localhost:8080/"
        },
        "id": "R3h_99JlgIPa",
        "outputId": "2c76f355-9b15-4d86-b106-a6b910d0af07"
      },
      "execution_count": null,
      "outputs": [
        {
          "output_type": "stream",
          "name": "stdout",
          "text": [
            "Alice\n",
            "25\n"
          ]
        }
      ]
    },
    {
      "cell_type": "markdown",
      "source": [
        "**2. Using the get() Method**\n",
        "- The get() method is a safer way to access dictionary elements because it allows you to specify a default value if the key does not exist."
      ],
      "metadata": {
        "id": "gDh9PjQTgSS5"
      }
    },
    {
      "cell_type": "code",
      "source": [
        "# Accessing dictionary elements\n",
        "student = {\"name\": \"John\", \"age\": 25, \"major\": \"Computer Science\"}\n",
        "print(student[\"name\"])  # Output: John\n",
        "print(student.get(\"age\"))  # Output: 25\n"
      ],
      "metadata": {
        "colab": {
          "base_uri": "https://localhost:8080/"
        },
        "id": "OQtUn7DGk0F4",
        "outputId": "fe1eac50-54e0-4f5d-db88-5ade408da43a"
      },
      "execution_count": null,
      "outputs": [
        {
          "output_type": "stream",
          "name": "stdout",
          "text": [
            "John\n",
            "25\n"
          ]
        }
      ]
    },
    {
      "cell_type": "markdown",
      "source": [
        "**3. Updating Multiple Elements Using the update() Method**\n",
        "- The update() method allows you to update multiple key-value pairs at once. You can pass another dictionary or an iterable of key-value pairs (like a list of tuples)."
      ],
      "metadata": {
        "id": "VTaS350YjOji"
      }
    },
    {
      "cell_type": "code",
      "source": [
        "# Updating multiple elements using update()\n",
        "my_dict.update({'age': 27, 'city': 'Boston', 'profession': 'Engineer'})\n",
        "print(my_dict)\n",
        "# Output: {'name': 'Alice', 'age': 27, 'city': 'Boston', 'country': 'USA', 'profession': 'Engineer'}\n"
      ],
      "metadata": {
        "colab": {
          "base_uri": "https://localhost:8080/"
        },
        "id": "zfLdHicojOT8",
        "outputId": "96ea0b1f-8ba0-4fc6-86aa-463404fc941b"
      },
      "execution_count": null,
      "outputs": [
        {
          "output_type": "stream",
          "name": "stdout",
          "text": [
            "{'name': 'Alice', 'age': 27, 'city': 'Boston', 'profession': 'Engineer'}\n"
          ]
        }
      ]
    },
    {
      "cell_type": "markdown",
      "source": [
        "**4. Modifying Elements in a Nested Dictionary**\n",
        "- To modify elements in a nested dictionary, you can access the nested dictionary first and then modify its elements."
      ],
      "metadata": {
        "id": "sBRQAK5zjYQ6"
      }
    },
    {
      "cell_type": "code",
      "source": [
        "# Example of a nested dictionary\n",
        "nested_dict = {\n",
        "    'person': {\n",
        "        'name': 'Bob',\n",
        "        'age': 30,\n",
        "        'location': {\n",
        "            'city': 'San Francisco',\n",
        "            'state': 'California'\n",
        "        }\n",
        "    }\n",
        "}\n",
        "\n",
        "# Modifying an element in a nested dictionary\n",
        "nested_dict['person']['location']['city'] = 'Los Angeles'\n",
        "print(nested_dict)\n",
        "# Output: {'person': {'name': 'Bob', 'age': 30, 'location': {'city': 'Los Angeles', 'state': 'California'}}}\n"
      ],
      "metadata": {
        "colab": {
          "base_uri": "https://localhost:8080/"
        },
        "id": "CV9H0w8FjYiV",
        "outputId": "a3621b2d-5659-49fd-881f-81046ffe123e"
      },
      "execution_count": null,
      "outputs": [
        {
          "output_type": "stream",
          "name": "stdout",
          "text": [
            "{'person': {'name': 'Bob', 'age': 30, 'location': {'city': 'Los Angeles', 'state': 'California'}}}\n"
          ]
        }
      ]
    },
    {
      "cell_type": "markdown",
      "source": [
        "**5. Deleting Elements from a Dictionary**\n",
        "- You can remove elements from a dictionary using the del statement, the pop() method, or the popitem() method.\n",
        "\n",
        "\n",
        "\n"
      ],
      "metadata": {
        "id": "ugFR9PFXjibJ"
      }
    },
    {
      "cell_type": "markdown",
      "source": [
        "- **Using del to Remove a Specific Key-Value Pair:**"
      ],
      "metadata": {
        "id": "_9apzcmqkPol"
      }
    },
    {
      "cell_type": "code",
      "source": [
        "my_dict = {'name': 'Alice', 'age': 27, 'city': 'Boston', 'profession': 'Engineer'}\n",
        "\n",
        "if 'country' in my_dict:\n",
        "    del my_dict['country']\n",
        "\n",
        "print(my_dict)  # Output: {'name': 'Alice', 'age': 27, 'city': 'Boston', 'profession': 'Engineer'}\n"
      ],
      "metadata": {
        "colab": {
          "base_uri": "https://localhost:8080/"
        },
        "id": "kpGzbI_mkRcg",
        "outputId": "a6f9ab08-5b55-4954-92d9-b2cda203a8f7"
      },
      "execution_count": null,
      "outputs": [
        {
          "output_type": "stream",
          "name": "stdout",
          "text": [
            "{'name': 'Alice', 'age': 27, 'city': 'Boston', 'profession': 'Engineer'}\n"
          ]
        }
      ]
    },
    {
      "cell_type": "markdown",
      "source": [
        "- **Using pop() to Remove a Specific Key and Get Its Value:**"
      ],
      "metadata": {
        "id": "26YQGY_ekU7p"
      }
    },
    {
      "cell_type": "code",
      "source": [
        "age = my_dict.pop('age')\n",
        "print(age)  # Output: 27\n",
        "print(my_dict)  # Output: {'name': 'Alice', 'city': 'Boston', 'profession': 'Engineer'}\n"
      ],
      "metadata": {
        "colab": {
          "base_uri": "https://localhost:8080/"
        },
        "id": "OuIWc5gBkWgi",
        "outputId": "cc63b077-1010-43a7-a795-9cfd66bc6ea1"
      },
      "execution_count": null,
      "outputs": [
        {
          "output_type": "stream",
          "name": "stdout",
          "text": [
            "27\n",
            "{'name': 'Alice', 'city': 'Boston', 'profession': 'Engineer'}\n"
          ]
        }
      ]
    },
    {
      "cell_type": "markdown",
      "source": [
        "- **Using popitem() to Remove the Last Inserted Key-Value Pair (Python 3.7+):**"
      ],
      "metadata": {
        "id": "zQInSzpxkaxm"
      }
    },
    {
      "cell_type": "code",
      "source": [
        "last_item = my_dict.popitem()\n",
        "print(last_item)  # Output: ('profession', 'Engineer')\n",
        "print(my_dict)  # Output: {'name': 'Alice', 'city': 'Boston'}\n"
      ],
      "metadata": {
        "colab": {
          "base_uri": "https://localhost:8080/"
        },
        "id": "VE1PidsPkcxv",
        "outputId": "2521adf4-d067-4bb9-aaee-09aed3f9624f"
      },
      "execution_count": null,
      "outputs": [
        {
          "output_type": "stream",
          "name": "stdout",
          "text": [
            "('profession', 'Engineer')\n",
            "{'name': 'Alice', 'city': 'Boston'}\n"
          ]
        }
      ]
    },
    {
      "cell_type": "markdown",
      "source": [
        "###**Modifying Dictionary Elements**"
      ],
      "metadata": {
        "id": "7XJgTdzDOra6"
      }
    },
    {
      "cell_type": "markdown",
      "source": [
        "- Dictionaries in Python are mutable, meaning you can change their contents after they are created. This includes adding new key-value pairs, updating existing ones, and removing items.\n",
        "\n",
        "\n",
        "\n",
        "\n",
        "\n",
        "\n"
      ],
      "metadata": {
        "id": "cTPZo5iwk27p"
      }
    },
    {
      "cell_type": "markdown",
      "source": [
        " **Here’s how you can modify dictionaries:**"
      ],
      "metadata": {
        "id": "68JWspKaoQmj"
      }
    },
    {
      "cell_type": "markdown",
      "source": [
        "**1. Adding New Key-Value Pairs**\n",
        "- To add a new key-value pair to a dictionary, you simply assign a value to a new key."
      ],
      "metadata": {
        "id": "KuTiHeyIoTaS"
      }
    },
    {
      "cell_type": "code",
      "source": [
        "# Example dictionary\n",
        "my_dict = {'name': 'Alice', 'age': 25}\n",
        "\n",
        "# Adding a new key-value pair\n",
        "my_dict['city'] = 'New York'\n",
        "print(my_dict)  # Output: {'name': 'Alice', 'age': 25, 'city': 'New York'}\n"
      ],
      "metadata": {
        "colab": {
          "base_uri": "https://localhost:8080/"
        },
        "id": "WJKSJEZcoTzQ",
        "outputId": "c356d3a8-e954-4062-b3eb-6aaf149e49b3"
      },
      "execution_count": null,
      "outputs": [
        {
          "output_type": "stream",
          "name": "stdout",
          "text": [
            "{'name': 'Alice', 'age': 25, 'city': 'New York'}\n"
          ]
        }
      ]
    },
    {
      "cell_type": "markdown",
      "source": [
        "**2. Updating Existing Key-Value Pairs**\n",
        "- You can update the value associated with an existing key by assigning a new value to that key."
      ],
      "metadata": {
        "id": "vPS4d8hdoaf6"
      }
    },
    {
      "cell_type": "code",
      "source": [
        "# Updating an existing key-value pair\n",
        "my_dict['age'] = 26\n",
        "print(my_dict)  # Output: {'name': 'Alice', 'age': 26, 'city': 'New York'}\n"
      ],
      "metadata": {
        "colab": {
          "base_uri": "https://localhost:8080/"
        },
        "id": "B9PRUMkpobDW",
        "outputId": "14c87c52-ed79-47cc-d9db-223e62c00461"
      },
      "execution_count": null,
      "outputs": [
        {
          "output_type": "stream",
          "name": "stdout",
          "text": [
            "{'name': 'Alice', 'age': 26, 'city': 'New York'}\n"
          ]
        }
      ]
    },
    {
      "cell_type": "markdown",
      "source": [
        "**3. Using the update() Method**\n",
        "- The update() method allows you to update a dictionary with key-value pairs from another dictionary or iterable of key-value pairs.\n",
        "- It can also add new key-value pairs if the keys do not exist."
      ],
      "metadata": {
        "id": "PZXP2TXtobVo"
      }
    },
    {
      "cell_type": "code",
      "source": [
        "# Updating and adding multiple key-value pairs using update()\n",
        "my_dict.update({'age': 27, 'country': 'USA'})\n",
        "print(my_dict)  # Output: {'name': 'Alice', 'age': 27, 'city': 'New York', 'country': 'USA'}\n"
      ],
      "metadata": {
        "colab": {
          "base_uri": "https://localhost:8080/"
        },
        "id": "IthB3beiobo0",
        "outputId": "e1566655-5f72-40d0-9a2c-a57a1fed37e2"
      },
      "execution_count": null,
      "outputs": [
        {
          "output_type": "stream",
          "name": "stdout",
          "text": [
            "{'name': 'Alice', 'age': 27, 'city': 'New York', 'country': 'USA'}\n"
          ]
        }
      ]
    },
    {
      "cell_type": "markdown",
      "source": [
        "**4. Removing Key-Value Pairs**\n",
        "- You can remove key-value pairs from a dictionary using the del statement or the pop() method.\n",
        "\n"
      ],
      "metadata": {
        "id": "EDPBy96vofCk"
      }
    },
    {
      "cell_type": "markdown",
      "source": [
        "- **Using del Statement:**"
      ],
      "metadata": {
        "id": "TVCD7rBcotQu"
      }
    },
    {
      "cell_type": "code",
      "source": [
        "# Removing a key-value pair using del\n",
        "del my_dict['city']\n",
        "print(my_dict)  # Output: {'name': 'Alice', 'age': 27, 'country': 'USA'}\n"
      ],
      "metadata": {
        "colab": {
          "base_uri": "https://localhost:8080/"
        },
        "id": "Tq9Ng1G3ofS8",
        "outputId": "46a4b987-0483-4fc8-8466-4506ff6bfddc"
      },
      "execution_count": null,
      "outputs": [
        {
          "output_type": "stream",
          "name": "stdout",
          "text": [
            "{'name': 'Alice', 'age': 27, 'country': 'USA'}\n"
          ]
        }
      ]
    },
    {
      "cell_type": "markdown",
      "source": [
        "- **Using pop() Method:**"
      ],
      "metadata": {
        "id": "upAzBsIIot7a"
      }
    },
    {
      "cell_type": "code",
      "source": [
        "# Removing a key-value pair using pop and retrieving its value\n",
        "age = my_dict.pop('age')\n",
        "print(age)  # Output: 27\n",
        "print(my_dict)  # Output: {'name': 'Alice', 'country': 'USA'}\n"
      ],
      "metadata": {
        "colab": {
          "base_uri": "https://localhost:8080/"
        },
        "id": "bmTMPvTao2M1",
        "outputId": "0355b02b-c162-415a-8ef6-4ee1ee9cc03f"
      },
      "execution_count": null,
      "outputs": [
        {
          "output_type": "stream",
          "name": "stdout",
          "text": [
            "27\n",
            "{'name': 'Alice', 'country': 'USA'}\n"
          ]
        }
      ]
    },
    {
      "cell_type": "markdown",
      "source": [
        "**5. Removing All Key-Value Pairs**\n",
        "- You can remove all key-value pairs from a dictionary using the clear() method."
      ],
      "metadata": {
        "id": "ti1HlzNuoiCM"
      }
    },
    {
      "cell_type": "code",
      "source": [
        "# Removing all key-value pairs\n",
        "my_dict.clear()\n",
        "print(my_dict)  # Output: {}\n"
      ],
      "metadata": {
        "colab": {
          "base_uri": "https://localhost:8080/"
        },
        "id": "uqWh6niKoiT5",
        "outputId": "80bc0066-0bf9-4ea1-85fe-bc54dec35311"
      },
      "execution_count": null,
      "outputs": [
        {
          "output_type": "stream",
          "name": "stdout",
          "text": [
            "{}\n"
          ]
        }
      ]
    },
    {
      "cell_type": "markdown",
      "source": [
        "###**Removing Dictionary Elements**"
      ],
      "metadata": {
        "id": "lu3lMfzuO08V"
      }
    },
    {
      "cell_type": "markdown",
      "source": [
        "- Dictionaries in Python allow you to remove key-value pairs in various ways.\n",
        "\n",
        "\n",
        "\n"
      ],
      "metadata": {
        "id": "BmKLBB-6k81g"
      }
    },
    {
      "cell_type": "markdown",
      "source": [
        "**Here’s how you can remove elements from a dictionary:**\n"
      ],
      "metadata": {
        "id": "1ODhE7THplEB"
      }
    },
    {
      "cell_type": "markdown",
      "source": [
        "**1. Using the del Statement**\n",
        "- The del statement removes a key-value pair from a dictionary. If the key does not exist, it raises\n"
      ],
      "metadata": {
        "id": "mYB4zb0upoIW"
      }
    },
    {
      "cell_type": "code",
      "source": [
        "# Example dictionary\n",
        "my_dict = {'name': 'Alice', 'age': 25, 'city': 'New York'}\n",
        "\n",
        "# Removing a key-value pair using del\n",
        "del my_dict['city']\n",
        "print(my_dict)  # Output: {'name': 'Alice', 'age': 25}\n",
        "\n",
        "# Attempting to delete a non-existent key will raise an error\n",
        "# del my_dict['country']  # Raises KeyError: 'country'\n"
      ],
      "metadata": {
        "colab": {
          "base_uri": "https://localhost:8080/"
        },
        "id": "uNkMWgnYpzM-",
        "outputId": "f3cf082f-d887-44c2-b822-c8133e4cf4a3"
      },
      "execution_count": null,
      "outputs": [
        {
          "output_type": "stream",
          "name": "stdout",
          "text": [
            "{'name': 'Alice', 'age': 25}\n"
          ]
        }
      ]
    },
    {
      "cell_type": "markdown",
      "source": [
        "**2. Using the pop() Method**\n",
        "- The pop() method removes a specified key and returns its corresponding value. If the key is not found, it raises a KeyError unless a default value is provided.\n",
        "  "
      ],
      "metadata": {
        "id": "qTxADgbOpqdk"
      }
    },
    {
      "cell_type": "code",
      "source": [
        "# Removing a key-value pair using pop and retrieving its value\n",
        "age = my_dict.pop('age')\n",
        "print(age)  # Output: 25\n",
        "print(my_dict)  # Output: {'name': 'Alice'}\n",
        "\n",
        "# Providing a default value to avoid KeyError\n",
        "city = my_dict.pop('city', 'Not Found')\n",
        "print(city)  # Output: Not Found\n"
      ],
      "metadata": {
        "colab": {
          "base_uri": "https://localhost:8080/"
        },
        "id": "UAyCtVGlpz6j",
        "outputId": "7b314405-4db6-4783-8052-889ed676091f"
      },
      "execution_count": null,
      "outputs": [
        {
          "output_type": "stream",
          "name": "stdout",
          "text": [
            "25\n",
            "{'name': 'Alice'}\n",
            "Not Found\n"
          ]
        }
      ]
    },
    {
      "cell_type": "markdown",
      "source": [
        "**3. Using the popitem() Method**\n",
        "- The popitem() method removes and returns the last key-value pair added to the dictionary as a tuple. If the dictionary is empty, it raises a KeyError. This method is useful for LIFO (Last In, First Out) operations.\n"
      ],
      "metadata": {
        "id": "5QWwdfyWpsFw"
      }
    },
    {
      "cell_type": "code",
      "source": [
        "# Adding some items back to demonstrate popitem()\n",
        "my_dict['city'] = 'Boston'\n",
        "my_dict['country'] = 'USA'\n",
        "\n",
        "# Removing the last key-value pair using popitem\n",
        "last_item = my_dict.popitem()\n",
        "print(last_item)  # Output: ('country', 'USA')\n",
        "print(my_dict)    # Output: {'name': 'Alice', 'city': 'Boston'}\n"
      ],
      "metadata": {
        "colab": {
          "base_uri": "https://localhost:8080/"
        },
        "id": "m27EEoIwp0W6",
        "outputId": "aea83795-a010-455b-97c4-6558f25f2b32"
      },
      "execution_count": null,
      "outputs": [
        {
          "output_type": "stream",
          "name": "stdout",
          "text": [
            "('country', 'USA')\n",
            "{'name': 'Alice', 'city': 'Boston'}\n"
          ]
        }
      ]
    },
    {
      "cell_type": "markdown",
      "source": [
        "**4. Using the clear() Method**\n",
        "- The clear() method removes all key-value pairs from the dictionary, effectively making it empty.\n"
      ],
      "metadata": {
        "id": "y7RliZPapt8y"
      }
    },
    {
      "cell_type": "code",
      "source": [
        "# Removing all key-value pairs\n",
        "my_dict.clear()\n",
        "print(my_dict)  # Output: {}\n"
      ],
      "metadata": {
        "colab": {
          "base_uri": "https://localhost:8080/"
        },
        "id": "LSYN2YGfp0si",
        "outputId": "2f0c461d-1e11-48e8-f744-32f63f1d2ad4"
      },
      "execution_count": null,
      "outputs": [
        {
          "output_type": "stream",
          "name": "stdout",
          "text": [
            "{}\n"
          ]
        }
      ]
    },
    {
      "cell_type": "markdown",
      "source": [
        "###**Dictionary Comprehensions**\n",
        "\n",
        "Dictionary comprehensions provide a concise way to create dictionaries by using an expression within curly braces {}. This approach allows you to generate key-value pairs dynamically based on existing iterables, making your code more readable and expressive.\n",
        "\n",
        "**Basic Syntax**\n",
        "```\n",
        "{key_expression: value_expression for item in iterable if condition}\n",
        "```\n",
        "\n",
        "- **key_expression:** Expression for the key in the dictionary.\n",
        "- **value_expression:** Expression for the value in the dictionary.\n",
        "- **item:** The variable representing each element in the iterable.\n",
        "- **iterable:** Any iterable (like a list, tuple, string, etc.) that you want to iterate over.\n",
        "- **if condition:** (Optional) Condition to filter which items to include."
      ],
      "metadata": {
        "id": "RYAnAl3TlNDZ"
      }
    },
    {
      "cell_type": "markdown",
      "source": [
        "**Examples of Dictionary Comprehensions**\n"
      ],
      "metadata": {
        "id": "t8bMTKcLtS87"
      }
    },
    {
      "cell_type": "markdown",
      "source": [
        "**1. Creating a Dictionary from a List**\n",
        "- Suppose you have a list of numbers, and you want to create a dictionary where the keys are the numbers and the values are their squares."
      ],
      "metadata": {
        "id": "0_9LNJq-tWdq"
      }
    },
    {
      "cell_type": "code",
      "source": [
        "numbers = [1, 2, 3, 4, 5]\n",
        "squares = {x: x**2 for x in numbers}\n",
        "print(squares)  # Output: {1: 1, 2: 4, 3: 9, 4: 16, 5: 25}\n"
      ],
      "metadata": {
        "id": "ANvoAmEttZ6A"
      },
      "execution_count": null,
      "outputs": []
    },
    {
      "cell_type": "markdown",
      "source": [
        "**2. Filtering Items in a Dictionary Comprehension**\n",
        "- You can add a condition to include only certain items.\n",
        "- For example, creating a dictionary of even numbers and their squares."
      ],
      "metadata": {
        "id": "o-xi7wDwtbzE"
      }
    },
    {
      "cell_type": "code",
      "source": [
        "even_squares = {x: x**2 for x in numbers if x % 2 == 0}\n",
        "print(even_squares)  # Output: {2: 4, 4: 16}\n"
      ],
      "metadata": {
        "id": "RRLcBd8ptdgs"
      },
      "execution_count": null,
      "outputs": []
    },
    {
      "cell_type": "markdown",
      "source": [
        "**3. Creating a Dictionary from Two Lists**\n",
        "- If you have two lists, one for keys and one for values, you can combine them into a dictionary using a comprehension.\n",
        "\n"
      ],
      "metadata": {
        "id": "igJ_hEL6tkzs"
      }
    },
    {
      "cell_type": "code",
      "source": [
        "keys = ['a', 'b', 'c']\n",
        "values = [1, 2, 3]\n",
        "combined_dict = {k: v for k, v in zip(keys, values)}\n",
        "print(combined_dict)  # Output: {'a': 1, 'b': 2, 'c': 3}\n"
      ],
      "metadata": {
        "id": "BN7_sZomtm8V"
      },
      "execution_count": null,
      "outputs": []
    },
    {
      "cell_type": "markdown",
      "source": [
        "**4. Inverting a Dictionary**\n",
        "- You can reverse the keys and values of a dictionary using a comprehension."
      ],
      "metadata": {
        "id": "g977pKZmtqag"
      }
    },
    {
      "cell_type": "code",
      "source": [
        "original_dict = {'a': 1, 'b': 2, 'c': 3}\n",
        "inverted_dict = {v: k for k, v in original_dict.items()}\n",
        "print(inverted_dict)  # Output: {1: 'a', 2: 'b', 3: 'c'}\n"
      ],
      "metadata": {
        "id": "q_Um62i-ttGV"
      },
      "execution_count": null,
      "outputs": []
    },
    {
      "cell_type": "markdown",
      "source": [
        "**5. Conditional Assignment in Dictionary Comprehension**\n",
        "- You can use a dictionary comprehension to categorize values.\n",
        "- For example, classify numbers as 'even' or 'odd'."
      ],
      "metadata": {
        "id": "q2jNAttCtwIm"
      }
    },
    {
      "cell_type": "code",
      "source": [
        "classification = {x: ('even' if x % 2 == 0 else 'odd') for x in range(1, 6)}\n",
        "print(classification)  # Output: {1: 'odd', 2: 'even', 3: 'odd', 4: 'even', 5: 'odd'}\n"
      ],
      "metadata": {
        "id": "xQAuYQsxtzv2"
      },
      "execution_count": null,
      "outputs": []
    },
    {
      "cell_type": "markdown",
      "source": [
        "**6. Nested Dictionary Comprehension**\n",
        "- You can also nest dictionary comprehensions. For example, create a multiplication table."
      ],
      "metadata": {
        "id": "Vnxqjiast3Ii"
      }
    },
    {
      "cell_type": "code",
      "source": [
        "multiplication_table = {i: {j: i*j for j in range(1, 6)} for i in range(1, 6)}\n",
        "print(multiplication_table)\n",
        "# Output:\n",
        "# {1: {1: 1, 2: 2, 3: 3, 4: 4, 5: 5},\n",
        "#  2: {1: 2, 2: 4, 3: 6, 4: 8, 5: 10},\n",
        "#  3: {1: 3, 2: 6, 3: 9, 4: 12, 5: 15},\n",
        "#  4: {1: 4, 2: 8, 3: 12, 4: 16, 5: 20},\n",
        "#  5: {1: 5, 2: 10, 3: 15, 4: 20, 5: 25}}\n"
      ],
      "metadata": {
        "id": "TjNj1BWut4v6"
      },
      "execution_count": null,
      "outputs": []
    },
    {
      "cell_type": "markdown",
      "source": [
        "**Advantages of Dictionary Comprehensions**\n",
        "- **Concise and Readable:** Reduces the amount of code needed to create a dictionary, making it more readable.\n",
        "- **Efficient:** Allows for fast and efficient creation of dictionaries, especially when transforming or filtering data.\n",
        "- **Expressive:** Enhances the ability to write more expressive and intuitive code."
      ],
      "metadata": {
        "id": "zmevbgJttSHh"
      }
    },
    {
      "cell_type": "markdown",
      "source": [
        "###**Nested Dictionaries**"
      ],
      "metadata": {
        "id": "IfOQhLmCPYyd"
      }
    },
    {
      "cell_type": "markdown",
      "source": [
        "- Nested dictionaries are dictionaries where values can themselves be dictionaries.\n",
        "- This hierarchical structure allows for the representation of complex data relationships, such as organizational hierarchies or detailed records. Here’s an in-depth look at working with nested dictionaries in Python.\n",
        "\n",
        "\n"
      ],
      "metadata": {
        "id": "_0v-MfYglUJ1"
      }
    },
    {
      "cell_type": "markdown",
      "source": [
        "#### **Creating Nested Dictionaries**"
      ],
      "metadata": {
        "id": "IeBYG6-FPdZU"
      }
    },
    {
      "cell_type": "markdown",
      "source": [
        "- You create a nested dictionary by assigning a dictionary as the value for a key in another dictionary."
      ],
      "metadata": {
        "id": "eHk6IeoVXtUW"
      }
    },
    {
      "cell_type": "code",
      "source": [
        "# Creating a nested dictionary\n",
        "company = {\n",
        "    \"department1\": {\n",
        "        \"employee1\": {\"name\": \"Alice\", \"age\": 30, \"position\": \"Engineer\"},\n",
        "        \"employee2\": {\"name\": \"Bob\", \"age\": 25, \"position\": \"Analyst\"}\n",
        "    },\n",
        "    \"department2\": {\n",
        "        \"employee3\": {\"name\": \"Charlie\", \"age\": 35, \"position\": \"Manager\"},\n",
        "        \"employee4\": {\"name\": \"David\", \"age\": 28, \"position\": \"Developer\"}\n",
        "    }\n",
        "}\n"
      ],
      "metadata": {
        "id": "tUrrIItVXvNb"
      },
      "execution_count": null,
      "outputs": []
    },
    {
      "cell_type": "markdown",
      "source": [
        "#### **Accessing Nested Dictionary Elements**"
      ],
      "metadata": {
        "id": "T4aEsc2RPhc3"
      }
    },
    {
      "cell_type": "markdown",
      "source": [
        "- To access elements in a nested dictionary, use a chain of keys."
      ],
      "metadata": {
        "id": "OwbcjPptXygH"
      }
    },
    {
      "cell_type": "code",
      "source": [
        "# Accessing nested elements\n",
        "employee1_name = company[\"department1\"][\"employee1\"][\"name\"]\n",
        "print(employee1_name)  # Output: Alice\n",
        "\n",
        "employee4_position = company[\"department2\"][\"employee4\"][\"position\"]\n",
        "print(employee4_position)  # Output: Developer\n"
      ],
      "metadata": {
        "colab": {
          "base_uri": "https://localhost:8080/"
        },
        "id": "_nqcsVZpXz3E",
        "outputId": "4659d2b2-19c7-48e5-e33c-f3cca3404719"
      },
      "execution_count": null,
      "outputs": [
        {
          "output_type": "stream",
          "name": "stdout",
          "text": [
            "Alice\n",
            "Developer\n"
          ]
        }
      ]
    },
    {
      "cell_type": "markdown",
      "source": [
        "#### **Adding and Updating Nested Dictionary Elements**"
      ],
      "metadata": {
        "id": "2yioNmouPlY9"
      }
    },
    {
      "cell_type": "markdown",
      "source": [
        "- Adding New Nested Elements: Assign a value to a new key."
      ],
      "metadata": {
        "id": "xiXBmjYFX1Rd"
      }
    },
    {
      "cell_type": "code",
      "source": [
        "# Adding a new nested element\n",
        "company[\"department3\"] = {\n",
        "    \"employee5\": {\"name\": \"Eve\", \"age\": 29, \"position\": \"Designer\"}\n",
        "}\n",
        "\n",
        "print(company[\"department3\"])\n",
        "# Output: {'employee5': {'name': 'Eve', 'age': 29, 'position': 'Designer'}}\n"
      ],
      "metadata": {
        "colab": {
          "base_uri": "https://localhost:8080/"
        },
        "id": "XYFJegfFX4Fq",
        "outputId": "4b9471ef-f08e-468c-c344-1b58f174fecb"
      },
      "execution_count": null,
      "outputs": [
        {
          "output_type": "stream",
          "name": "stdout",
          "text": [
            "{'employee5': {'name': 'Eve', 'age': 29, 'position': 'Designer'}}\n"
          ]
        }
      ]
    },
    {
      "cell_type": "markdown",
      "source": [
        "- Updating Existing Nested Elements: Reassign a value to an existing key."
      ],
      "metadata": {
        "id": "Cz18XLbgX5k-"
      }
    },
    {
      "cell_type": "code",
      "source": [
        "# Updating an existing nested element\n",
        "company[\"department1\"][\"employee1\"][\"age\"] = 31\n",
        "\n",
        "print(company[\"department1\"][\"employee1\"])\n",
        "# Output: {'name': 'Alice', 'age': 31, 'position': 'Engineer'}\n"
      ],
      "metadata": {
        "colab": {
          "base_uri": "https://localhost:8080/"
        },
        "id": "Zc5NOMAyX8KU",
        "outputId": "948509f9-be07-4b47-b4f7-25ac214f2eee"
      },
      "execution_count": null,
      "outputs": [
        {
          "output_type": "stream",
          "name": "stdout",
          "text": [
            "{'name': 'Alice', 'age': 31, 'position': 'Engineer'}\n"
          ]
        }
      ]
    },
    {
      "cell_type": "markdown",
      "source": [
        "#### **Removing Nested Dictionary Elements**"
      ],
      "metadata": {
        "id": "8RfIIL44Pphz"
      }
    },
    {
      "cell_type": "markdown",
      "source": [
        "- Removing Nested Elements: Use del or pop() to delete items."
      ],
      "metadata": {
        "id": "-SgCjYhWX9va"
      }
    },
    {
      "cell_type": "code",
      "source": [
        "# Removing a specific key-value pair\n",
        "del company[\"department2\"][\"employee4\"]\n",
        "\n",
        "# Removing an entire nested dictionary\n",
        "del company[\"department3\"]\n",
        "\n",
        "print(company)\n",
        "# Output: {'department1': {'employee1': {'name': 'Alice', 'age': 31, 'position': 'Engineer'}, 'employee2': {'name': 'Bob', 'age': 25, 'position': 'Analyst'}}, 'department2': {'employee3': {'name': 'Charlie', 'age': 35, 'position': 'Manager'}}}\n"
      ],
      "metadata": {
        "colab": {
          "base_uri": "https://localhost:8080/"
        },
        "id": "TAjERtNJYB-_",
        "outputId": "f7f7b450-1fa9-40b1-f62a-daebfdbc1069"
      },
      "execution_count": null,
      "outputs": [
        {
          "output_type": "stream",
          "name": "stdout",
          "text": [
            "{'department1': {'employee1': {'name': 'Alice', 'age': 31, 'position': 'Engineer'}, 'employee2': {'name': 'Bob', 'age': 25, 'position': 'Analyst'}}, 'department2': {'employee3': {'name': 'Charlie', 'age': 35, 'position': 'Manager'}}}\n"
          ]
        }
      ]
    },
    {
      "cell_type": "markdown",
      "source": [
        "#### **Iterating Through Nested Dictionaries**"
      ],
      "metadata": {
        "id": "oIURTh2KPtfb"
      }
    },
    {
      "cell_type": "markdown",
      "source": [
        "- You can loop through nested dictionaries using nested loops.\n",
        "  - Iterating Over Keys and Values:"
      ],
      "metadata": {
        "id": "tQS1AfN6YEsb"
      }
    },
    {
      "cell_type": "code",
      "source": [
        "for department, employees in company.items():\n",
        "    print(f\"Department: {department}\")\n",
        "    for employee_id, details in employees.items():\n",
        "        print(f\"  Employee ID: {employee_id}\")\n",
        "        for key, value in details.items():\n",
        "            print(f\"    {key}: {value}\")\n",
        "\n",
        "# Output:\n",
        "# Department: department1\n",
        "#   Employee ID: employee1\n",
        "#     name: Alice\n",
        "#     age: 31\n",
        "#     position: Engineer\n",
        "#   Employee ID: employee2\n",
        "#     name: Bob\n",
        "#     age: 25\n",
        "#     position: Analyst\n",
        "# Department: department2\n",
        "#   Employee ID: employee3\n",
        "#     name: Charlie\n",
        "#     age: 35\n",
        "#     position: Manager\n"
      ],
      "metadata": {
        "colab": {
          "base_uri": "https://localhost:8080/"
        },
        "id": "kwTIS5UjYIf5",
        "outputId": "edfb44c1-db91-483a-d147-c698b96864da"
      },
      "execution_count": null,
      "outputs": [
        {
          "output_type": "stream",
          "name": "stdout",
          "text": [
            "Department: department1\n",
            "  Employee ID: employee1\n",
            "    name: Alice\n",
            "    age: 31\n",
            "    position: Engineer\n",
            "  Employee ID: employee2\n",
            "    name: Bob\n",
            "    age: 25\n",
            "    position: Analyst\n",
            "Department: department2\n",
            "  Employee ID: employee3\n",
            "    name: Charlie\n",
            "    age: 35\n",
            "    position: Manager\n"
          ]
        }
      ]
    },
    {
      "cell_type": "markdown",
      "source": [
        "#### **Using Dictionary Comprehensions with Nested Dictionaries**"
      ],
      "metadata": {
        "id": "RPaShHFLPxKx"
      }
    },
    {
      "cell_type": "markdown",
      "source": [
        "- Dictionary comprehensions can be employed to create or transform nested dictionaries."
      ],
      "metadata": {
        "id": "GGfUR3gGYMf5"
      }
    },
    {
      "cell_type": "code",
      "source": [
        "# Creating a nested dictionary using comprehension\n",
        "employees = {\n",
        "    f\"employee{i}\": {\"name\": f\"Name{i}\", \"age\": 20 + i} for i in range(1, 4)\n",
        "}\n",
        "print(employees)\n",
        "# Output: {'employee1': {'name': 'Name1', 'age': 21}, 'employee2': {'name': 'Name2', 'age': 22}, 'employee3': {'name': 'Name3', 'age': 23}}\n"
      ],
      "metadata": {
        "colab": {
          "base_uri": "https://localhost:8080/"
        },
        "id": "oEg5waOkYPcm",
        "outputId": "4ac14bb0-ad06-41ee-ff5c-b67c987e11ef"
      },
      "execution_count": null,
      "outputs": [
        {
          "output_type": "stream",
          "name": "stdout",
          "text": [
            "{'employee1': {'name': 'Name1', 'age': 21}, 'employee2': {'name': 'Name2', 'age': 22}, 'employee3': {'name': 'Name3', 'age': 23}}\n"
          ]
        }
      ]
    },
    {
      "cell_type": "markdown",
      "source": [
        "#### **Handling Missing Keys in Nested Dictionaries**"
      ],
      "metadata": {
        "id": "JrMeYvFCP0eO"
      }
    },
    {
      "cell_type": "markdown",
      "source": [
        "- To manage missing keys, use the get() method with default values or handle exceptions."
      ],
      "metadata": {
        "id": "7j0D4Ld8YR4K"
      }
    },
    {
      "cell_type": "code",
      "source": [
        "# Using get() with default values\n",
        "department_info = company.get(\"department4\", {})\n",
        "employee_info = department_info.get(\"employee1\", \"No such employee\")\n",
        "\n",
        "print(employee_info)  # Output: No such employee\n"
      ],
      "metadata": {
        "colab": {
          "base_uri": "https://localhost:8080/"
        },
        "id": "iwlbu7boYVEW",
        "outputId": "b859feb0-a3cd-4c4c-93c7-3c6453e03206"
      },
      "execution_count": null,
      "outputs": [
        {
          "output_type": "stream",
          "name": "stdout",
          "text": [
            "No such employee\n"
          ]
        }
      ]
    },
    {
      "cell_type": "markdown",
      "source": [
        "###**Applications of Dictionaries**\n",
        "- Dictionaries are one of the most versatile data structures in Python. They are especially useful when you need to store and retrieve data in a way that pairs keys with values. Let’s explore some common applications of dictionaries in a beginner-friendly manner.\n"
      ],
      "metadata": {
        "id": "0tpqWY7Wlato"
      }
    },
    {
      "cell_type": "markdown",
      "source": [
        "**1. Storing Contact Information**\n",
        "- Imagine you’re making a phone book. Each contact’s name is a key, and their phone number is the value associated with that key."
      ],
      "metadata": {
        "id": "T_OhJcb8ZfL6"
      }
    },
    {
      "cell_type": "code",
      "source": [
        "# Creating a dictionary to store contacts\n",
        "phone_book = {\n",
        "    \"Alice\": \"555-1234\",\n",
        "    \"Bob\": \"555-5678\",\n",
        "    \"Charlie\": \"555-8765\"\n",
        "}\n",
        "\n",
        "# Accessing a contact's phone number\n",
        "print(phone_book[\"Alice\"])  # Output: 555-1234\n"
      ],
      "metadata": {
        "colab": {
          "base_uri": "https://localhost:8080/"
        },
        "id": "wYr7WDanZgiY",
        "outputId": "77dc8e61-e3d7-46f0-f55d-6bb190e7bea0"
      },
      "execution_count": null,
      "outputs": [
        {
          "output_type": "stream",
          "name": "stdout",
          "text": [
            "555-1234\n"
          ]
        }
      ]
    },
    {
      "cell_type": "markdown",
      "source": [
        "- Here, \"Alice\", \"Bob\", and \"Charlie\" are keys, and \"555-1234\", \"555-5678\", and \"555-8765\" are the corresponding values.\n",
        "\n"
      ],
      "metadata": {
        "id": "S9gMJWJ3ZjG9"
      }
    },
    {
      "cell_type": "markdown",
      "source": [
        "**2. Counting Items**\n",
        "- Dictionaries are great for counting occurrences of items, such as counting the number of times each word appears in a text."
      ],
      "metadata": {
        "id": "4VxbteIhZkQa"
      }
    },
    {
      "cell_type": "code",
      "source": [
        "# Counting word frequencies\n",
        "text = \"apple banana apple orange banana apple\"\n",
        "word_count = {}\n",
        "\n",
        "for word in text.split():\n",
        "    if word in word_count:\n",
        "        word_count[word] += 1\n",
        "    else:\n",
        "        word_count[word] = 1\n",
        "\n",
        "print(word_count)\n",
        "# Output: {'apple': 3, 'banana': 2, 'orange': 1}\n"
      ],
      "metadata": {
        "colab": {
          "base_uri": "https://localhost:8080/"
        },
        "id": "t4spnbdvZqbs",
        "outputId": "a0964332-be19-4dcf-ee91-acb45aaa1d24"
      },
      "execution_count": null,
      "outputs": [
        {
          "output_type": "stream",
          "name": "stdout",
          "text": [
            "{'apple': 3, 'banana': 2, 'orange': 1}\n"
          ]
        }
      ]
    },
    {
      "cell_type": "markdown",
      "source": [
        "- In this example, each word is a key, and its count is the value."
      ],
      "metadata": {
        "id": "BvIg1TBXZsM-"
      }
    },
    {
      "cell_type": "markdown",
      "source": [
        "**3. Storing User Profiles**\n",
        "- Dictionaries can store user profiles where each user ID is a key, and the profile information is the value."
      ],
      "metadata": {
        "id": "Jjyjl-Q9ZtTk"
      }
    },
    {
      "cell_type": "code",
      "source": [
        "# Creating user profiles\n",
        "profiles = {\n",
        "    \"user1\": {\"name\": \"Alice\", \"age\": 30},\n",
        "    \"user2\": {\"name\": \"Bob\", \"age\": 25},\n",
        "    \"user3\": {\"name\": \"Charlie\", \"age\": 35}\n",
        "}\n",
        "\n",
        "# Accessing a user's profile\n",
        "print(profiles[\"user1\"][\"name\"])  # Output: Alice\n"
      ],
      "metadata": {
        "colab": {
          "base_uri": "https://localhost:8080/"
        },
        "id": "sw8JfxJ6Zxyj",
        "outputId": "d6d531dc-23d0-49f0-b3ef-81ce814f9d95"
      },
      "execution_count": null,
      "outputs": [
        {
          "output_type": "stream",
          "name": "stdout",
          "text": [
            "Alice\n"
          ]
        }
      ]
    },
    {
      "cell_type": "markdown",
      "source": [
        "- Here, \"user1\", \"user2\", and \"user3\" are keys, and their corresponding values are dictionaries containing user information."
      ],
      "metadata": {
        "id": "CRhTIln6Zzkl"
      }
    },
    {
      "cell_type": "markdown",
      "source": [
        "**4. Mapping Data**\n",
        "- Dictionaries are useful for mapping data, such as mapping student names to their grades."
      ],
      "metadata": {
        "id": "goL6hh35Z3_a"
      }
    },
    {
      "cell_type": "code",
      "source": [
        "# Storing student grades\n",
        "grades = {\n",
        "    \"Alice\": \"A\",\n",
        "    \"Bob\": \"B\",\n",
        "    \"Charlie\": \"A\"\n",
        "}\n",
        "\n",
        "# Accessing a student's grade\n",
        "print(grades[\"Bob\"])  # Output: B\n"
      ],
      "metadata": {
        "colab": {
          "base_uri": "https://localhost:8080/"
        },
        "id": "TLvdAvBcZ7PM",
        "outputId": "d9e5e1be-879c-4faa-d974-cb28393c6868"
      },
      "execution_count": null,
      "outputs": [
        {
          "output_type": "stream",
          "name": "stdout",
          "text": [
            "B\n"
          ]
        }
      ]
    },
    {
      "cell_type": "markdown",
      "source": [
        "- Each student’s name is a key, and their grade is the value."
      ],
      "metadata": {
        "id": "NLdOLrHoaURi"
      }
    }
  ]
}