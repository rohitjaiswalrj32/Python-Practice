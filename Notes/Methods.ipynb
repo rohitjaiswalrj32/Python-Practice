{
  "nbformat": 4,
  "nbformat_minor": 0,
  "metadata": {
    "colab": {
      "provenance": [],
      "toc_visible": true
    },
    "kernelspec": {
      "name": "python3",
      "display_name": "Python 3"
    },
    "language_info": {
      "name": "python"
    }
  },
  "cells": [
    {
      "cell_type": "markdown",
      "source": [
        "# Methods\n"
      ],
      "metadata": {
        "id": "ObWGotQwOvYP"
      }
    },
    {
      "cell_type": "markdown",
      "source": [
        "Agenda\n",
        "1. Introduction to Methods\n",
        "    * Difference between Functions and Methods\n",
        "    * Built-in Methods for Data Types (e.g., str, list, dict methods)\n",
        "2. Defining Methods in Classes\n",
        "    * Creating a class in Python\n",
        "    * Defining Class Attributes\n",
        "    * The self parameter\n",
        "3. Types of methods\n",
        "  * Instance Methods\n",
        "    * Creating and Using Instance Methods\n",
        "    * Modifying Object State with Instance Methods\n",
        "  * Class Methods\n",
        "    * Defining and Using Class Methods (@classmethod)\n",
        "    * Understanding cls as an Alternative to self\n",
        "  * Static Methods\n",
        "    * Defining and Using Static Methods (@staticmethod)\n",
        "    * When to Use Static Methods\n",
        "4. Method Overloading\n",
        "    * Introduction to Method Overloading (Polymorphism)\n",
        "    * Using Default Arguments for Method Overloading\n",
        "5. Method Overriding\n",
        "    * Overriding Methods in Subclasses\n",
        "    * Understanding the super() Function\n",
        "6. Property Methods\n",
        "    * Introduction to Property Methods (@property)\n",
        "    * Creating Getter, Setter, and Deleter Methods\n",
        "7. Decorators and Methods\n",
        "    * Applying Decorators to Methods\n",
        "    * Creating Custom Method Decorators\n",
        "8. Private and Protected Methods\n",
        "    * Naming conventions for private (__methodname) and protected methods (_methodname)\n",
        "    * Access control and visibility in Python\n",
        "9. ABC classes\n",
        "    * Introduction to Abstract Base Classes (ABC)\n",
        "    * Creating Abstract Base Classes\n",
        "    *  Using abc.ABCMeta Directly"
      ],
      "metadata": {
        "id": "p7XrIiQ70TaW"
      }
    },
    {
      "cell_type": "markdown",
      "source": [
        "# 1. Introduction to methods\n"
      ],
      "metadata": {
        "id": "qyPZYTZ_K6wp"
      }
    },
    {
      "cell_type": "markdown",
      "source": [
        "Methods in Python are functions that are defined within a class. They are used to encapsulate the behavior and logic associated with objects of that class. Methods provide a structured way to interact with and manipulate objects, making your code more organized and reusable.\n",
        "* Key points to remember:\n",
        "\n",
        "  * Methods are specific to a particular class.\n",
        "  * Methods operate on the data contained within the object.\n",
        "  * Methods can be used to perform actions, calculations, or return values.\n"
      ],
      "metadata": {
        "id": "vZZNgx3gK_lx"
      }
    },
    {
      "cell_type": "markdown",
      "source": [
        "##**Difference Between Functions and Methods**\n",
        "\n"
      ],
      "metadata": {
        "id": "C07EKcuSLGHu"
      }
    },
    {
      "cell_type": "markdown",
      "source": [
        "While both functions and methods are used to define reusable code, there's a fundamental difference:\n",
        "\n",
        "* Functions: Are standalone entities that can be called independently. They are not associated with a specific class.\n",
        "\n",
        "* Methods: Are defined within a class and operate on the objects of that class. They have access to the object's attributes and can modify its state."
      ],
      "metadata": {
        "id": "W9blGjt7jn5H"
      }
    },
    {
      "cell_type": "markdown",
      "source": [
        "##**Built-in Methods for Data Types**\n",
        "\n"
      ],
      "metadata": {
        "id": "cLQ9nkJlLiy2"
      }
    },
    {
      "cell_type": "markdown",
      "source": [
        "Python provides a rich set of built-in methods for various data types, making it easier to work with and manipulate data. Here are some common methods for str, list, and dict data types, along with additional details and examples:"
      ],
      "metadata": {
        "id": "W1bocfm8jx83"
      }
    },
    {
      "cell_type": "markdown",
      "source": [
        "**String Methods**\n",
        "* str.upper(): Converts all characters to uppercase."
      ],
      "metadata": {
        "id": "oSXMeX5vLo4h"
      }
    },
    {
      "cell_type": "code",
      "source": [
        "text = \"hello, world!\"\n",
        "uppercase_text = text.upper()\n",
        "print(uppercase_text)  # Output: HELLO, WORLD!"
      ],
      "metadata": {
        "colab": {
          "base_uri": "https://localhost:8080/"
        },
        "id": "bQDNwOgmLvoh",
        "outputId": "e6ffe744-6dfd-4695-f720-f325d98417f4"
      },
      "execution_count": null,
      "outputs": [
        {
          "output_type": "stream",
          "name": "stdout",
          "text": [
            "HELLO, WORLD!\n"
          ]
        }
      ]
    },
    {
      "cell_type": "markdown",
      "source": [
        "* str.capitalize(): Capitalizes the first character of the string."
      ],
      "metadata": {
        "id": "zk0iuS9gMBFt"
      }
    },
    {
      "cell_type": "code",
      "source": [
        "text = \"hello, world!\"\n",
        "capitalized_text = text.capitalize()\n",
        "print(capitalized_text)  # Output: Hello, world!"
      ],
      "metadata": {
        "colab": {
          "base_uri": "https://localhost:8080/"
        },
        "id": "giOxB-g-MGFc",
        "outputId": "91cc7f62-da90-4481-fea2-df5a67d419a6"
      },
      "execution_count": null,
      "outputs": [
        {
          "output_type": "stream",
          "name": "stdout",
          "text": [
            "Hello, world!\n"
          ]
        }
      ]
    },
    {
      "cell_type": "markdown",
      "source": [
        "* str.replace(old, new): Replaces occurrences of old with new."
      ],
      "metadata": {
        "id": "HCNxs8BZMI1g"
      }
    },
    {
      "cell_type": "code",
      "source": [
        "text = \"hello, world!\"\n",
        "replaced_text = text.replace(\"world\", \"everyone\")\n",
        "print(replaced_text)  # Output: hello, everyone!"
      ],
      "metadata": {
        "colab": {
          "base_uri": "https://localhost:8080/"
        },
        "id": "AG965gCoMRnv",
        "outputId": "e17843e9-7b8a-407d-99aa-f6c977ec3310"
      },
      "execution_count": null,
      "outputs": [
        {
          "output_type": "stream",
          "name": "stdout",
          "text": [
            "hello, everyone!\n"
          ]
        }
      ]
    },
    {
      "cell_type": "markdown",
      "source": [
        "* str.split(sep=None): Splits the string into a list of substrings based on the separator sep."
      ],
      "metadata": {
        "id": "cT17yMIdMXXM"
      }
    },
    {
      "cell_type": "code",
      "source": [
        "text = \"apple,banana,orange\"\n",
        "fruits = text.split(\",\")\n",
        "print(fruits)  # Output: ['apple', 'banana', 'orange']"
      ],
      "metadata": {
        "colab": {
          "base_uri": "https://localhost:8080/"
        },
        "id": "mWq4_EBLMadI",
        "outputId": "dd18ab5a-11cb-456c-a958-6b3b50fdada3"
      },
      "execution_count": null,
      "outputs": [
        {
          "output_type": "stream",
          "name": "stdout",
          "text": [
            "['apple', 'banana', 'orange']\n"
          ]
        }
      ]
    },
    {
      "cell_type": "markdown",
      "source": [
        "* str.join(iterable): Joins the elements of an iterable (like a list or tuple) into a single string using the string as a separator."
      ],
      "metadata": {
        "id": "jUS1IdAVMdPe"
      }
    },
    {
      "cell_type": "code",
      "source": [
        "fruits = [\"apple\", \"banana\", \"orange\"]\n",
        "joined_text = \", \".join(fruits)\n",
        "print(joined_text)  # Output: apple, banana, orange"
      ],
      "metadata": {
        "colab": {
          "base_uri": "https://localhost:8080/"
        },
        "id": "ZMX6gpjbMjqJ",
        "outputId": "3e62b7fa-157a-4508-c5b3-7f103757e14a"
      },
      "execution_count": null,
      "outputs": [
        {
          "output_type": "stream",
          "name": "stdout",
          "text": [
            "apple, banana, orange\n"
          ]
        }
      ]
    },
    {
      "cell_type": "markdown",
      "source": [
        "* str.startswith(prefix): Returns True if the string starts with the specified prefix."
      ],
      "metadata": {
        "id": "7cbEVrRLMngz"
      }
    },
    {
      "cell_type": "code",
      "source": [
        "text = \"hello, world!\"\n",
        "starts_with_hello = text.startswith(\"hello\")\n",
        "print(starts_with_hello)  # Output: True"
      ],
      "metadata": {
        "colab": {
          "base_uri": "https://localhost:8080/"
        },
        "id": "IpMENhfqMrft",
        "outputId": "68f4c282-1c08-40ad-c936-cbaa70263705"
      },
      "execution_count": null,
      "outputs": [
        {
          "output_type": "stream",
          "name": "stdout",
          "text": [
            "True\n"
          ]
        }
      ]
    },
    {
      "cell_type": "markdown",
      "source": [
        "* str.endswith(suffix): Returns True if the string ends with the specified suffix.\n"
      ],
      "metadata": {
        "id": "I_i51AO4MuY3"
      }
    },
    {
      "cell_type": "code",
      "source": [
        "text = \"hello, world!\"\n",
        "ends_with_world = text.endswith(\"world\")\n",
        "print(ends_with_world)  # Output: True"
      ],
      "metadata": {
        "colab": {
          "base_uri": "https://localhost:8080/"
        },
        "id": "CWvclzQ8My4G",
        "outputId": "a29de056-6318-4540-d130-7c445989f34b"
      },
      "execution_count": null,
      "outputs": [
        {
          "output_type": "stream",
          "name": "stdout",
          "text": [
            "False\n"
          ]
        }
      ]
    },
    {
      "cell_type": "markdown",
      "source": [
        "**List Methods**\n",
        "\n",
        "\n",
        "* list.append(item): Adds an item to the end of the list."
      ],
      "metadata": {
        "id": "5i6eQe1PM1oM"
      }
    },
    {
      "cell_type": "code",
      "source": [
        "fruits = [\"apple\", \"banana\"]\n",
        "fruits.append(\"orange\")\n",
        "print(fruits)  # Output: ['apple', 'banana', 'orange']"
      ],
      "metadata": {
        "colab": {
          "base_uri": "https://localhost:8080/"
        },
        "id": "K1ScLfDxM96Z",
        "outputId": "876d0347-13cd-48bd-bf84-5faf62004e4b"
      },
      "execution_count": null,
      "outputs": [
        {
          "output_type": "stream",
          "name": "stdout",
          "text": [
            "['apple', 'banana', 'orange']\n"
          ]
        }
      ]
    },
    {
      "cell_type": "markdown",
      "source": [
        "* list.insert(index, item): Inserts an item at a specified index."
      ],
      "metadata": {
        "id": "8QcAP3siNBOI"
      }
    },
    {
      "cell_type": "code",
      "source": [
        "fruits = [\"apple\", \"banana\"]\n",
        "fruits.insert(1, \"orange\")\n",
        "print(fruits)  # Output: ['apple', 'orange', 'banana']"
      ],
      "metadata": {
        "id": "qBon_VbwNDYH"
      },
      "execution_count": null,
      "outputs": []
    },
    {
      "cell_type": "markdown",
      "source": [
        "* list.remove(item): Removes the first occurrence of an item from the list.\n"
      ],
      "metadata": {
        "id": "mzXficlkNFh3"
      }
    },
    {
      "cell_type": "code",
      "source": [
        "fruits = [\"apple\", \"banana\", \"orange\", \"apple\"]\n",
        "fruits.remove(\"apple\")\n",
        "print(fruits)  # Output: ['banana', 'orange', 'apple']"
      ],
      "metadata": {
        "id": "phzRsmW6NKt8"
      },
      "execution_count": null,
      "outputs": []
    },
    {
      "cell_type": "markdown",
      "source": [
        "**Dictionary Methods**\n",
        "\n",
        "* dict.get(key, default=None): Returns the value for the specified key. If the key doesn't exist, it returns the default value."
      ],
      "metadata": {
        "id": "kHoYAQPONPYp"
      }
    },
    {
      "cell_type": "code",
      "source": [
        "person = {\"name\": \"Alice\", \"age\": 30}\n",
        "name = person.get(\"name\")\n",
        "print(name)  # Output: Alice"
      ],
      "metadata": {
        "colab": {
          "base_uri": "https://localhost:8080/"
        },
        "id": "xCZRd8hmNkF3",
        "outputId": "2914be8d-a868-4434-b0cc-70d0f4a4c3e8"
      },
      "execution_count": null,
      "outputs": [
        {
          "output_type": "stream",
          "name": "stdout",
          "text": [
            "Alice\n"
          ]
        }
      ]
    },
    {
      "cell_type": "markdown",
      "source": [
        "* dict.keys(): Returns a view of the dictionary's keys."
      ],
      "metadata": {
        "id": "AgA1YPy8NmcZ"
      }
    },
    {
      "cell_type": "code",
      "source": [
        "person = {\"name\": \"Alice\", \"age\": 30}\n",
        "keys = person.keys()\n",
        "print(keys)  # Output: dict_keys(['name', 'age'])"
      ],
      "metadata": {
        "colab": {
          "base_uri": "https://localhost:8080/"
        },
        "id": "Za7KQ9-8NpM-",
        "outputId": "190a4e32-d739-4201-b1d2-d67143ea6e20"
      },
      "execution_count": null,
      "outputs": [
        {
          "output_type": "stream",
          "name": "stdout",
          "text": [
            "dict_keys(['name', 'age'])\n"
          ]
        }
      ]
    },
    {
      "cell_type": "markdown",
      "source": [
        "* dict.values(): Returns a view of the dictionary's values."
      ],
      "metadata": {
        "id": "9Upvx6w5NtaQ"
      }
    },
    {
      "cell_type": "code",
      "source": [
        "person = {\"name\": \"Alice\", \"age\": 30}\n",
        "values = person.values()\n",
        "print(values)  # Output: dict_values(['Alice', 30])"
      ],
      "metadata": {
        "colab": {
          "base_uri": "https://localhost:8080/"
        },
        "id": "3KQEcqG1NvYB",
        "outputId": "f47f15b0-f88e-4a3b-e0f3-49aecd5af6ec"
      },
      "execution_count": null,
      "outputs": [
        {
          "output_type": "stream",
          "name": "stdout",
          "text": [
            "dict_values(['Alice', 30])\n"
          ]
        }
      ]
    },
    {
      "cell_type": "markdown",
      "source": [
        "These are just a few examples of the many built-in methods available for Python data types. By understanding and utilizing these methods, you can write more efficient and concise Python code."
      ],
      "metadata": {
        "id": "OmGDIDFkNyO0"
      }
    },
    {
      "cell_type": "markdown",
      "source": [
        "# 2. Defining methods in classes"
      ],
      "metadata": {
        "id": "MhKCfBICOCRY"
      }
    },
    {
      "cell_type": "markdown",
      "source": [
        "## Creating a class in Python"
      ],
      "metadata": {
        "id": "5RtzMdsXRmRq"
      }
    },
    {
      "cell_type": "markdown",
      "source": [
        "* Creating a class in Python is straightforward. A class is defined using the class keyword followed by the class name and a colon. The body of the class contains attributes (variables) and methods (functions).\n"
      ],
      "metadata": {
        "id": "MLnqM9UOK3Hr"
      }
    },
    {
      "cell_type": "code",
      "source": [
        "class Person:\n",
        "    # Class attributes\n",
        "    species = \"Homo sapiens\"\n",
        "\n",
        "    # Methods\n",
        "    def greet(self):\n",
        "        print(\"Hello!\")\n",
        "\n",
        "# Creating an object of the class\n",
        "person = Person()\n",
        "person.greet()  # Output: Hello!\n"
      ],
      "metadata": {
        "colab": {
          "base_uri": "https://localhost:8080/"
        },
        "id": "9yeM-Z_rRpWS",
        "outputId": "6855fd8c-dd1f-45f1-9126-495688a30d3c"
      },
      "execution_count": null,
      "outputs": [
        {
          "output_type": "stream",
          "name": "stdout",
          "text": [
            "Hello!\n"
          ]
        }
      ]
    },
    {
      "cell_type": "markdown",
      "source": [
        "**Instantiating a Class:**"
      ],
      "metadata": {
        "id": "o_fMfBx0YnNF"
      }
    },
    {
      "cell_type": "code",
      "source": [
        "class Student:\n",
        "    pass  # Placeholder indicating an empty block of code\n",
        "s1 = Student()\n",
        "s2 = Student()\n"
      ],
      "metadata": {
        "id": "DDee7rosYxWB"
      },
      "execution_count": null,
      "outputs": []
    },
    {
      "cell_type": "markdown",
      "source": [
        "s1 and s2 are objects (instances) of the Student class."
      ],
      "metadata": {
        "id": "HS9kzeheY-F8"
      }
    },
    {
      "cell_type": "markdown",
      "source": [
        "**Accessing the Type and ID:**"
      ],
      "metadata": {
        "id": "UTJxPMPWZB8h"
      }
    },
    {
      "cell_type": "code",
      "source": [
        "print(type(s1))  # Outputs: <class '__main__.Student'>\n",
        "print(id(s1))    # Unique identifier for the object (memory address)\n"
      ],
      "metadata": {
        "colab": {
          "base_uri": "https://localhost:8080/"
        },
        "id": "lSCCbDv-ZDWo",
        "outputId": "6b188450-5af6-4315-dbb2-b5d21bc4da1a"
      },
      "execution_count": null,
      "outputs": [
        {
          "output_type": "stream",
          "name": "stdout",
          "text": [
            "<class '__main__.Student'>\n",
            "137270190730608\n"
          ]
        }
      ]
    },
    {
      "cell_type": "markdown",
      "source": [
        "* Class attributes are variables that are shared across all instances of the class. There are two primary ways to define class attributes: without using __init__ and with __init__.\n",
        "* Class attributes are variables that are defined directly within the class body. These attributes are shared among all instances of the class. There are two primary methods to define class attributes:"
      ],
      "metadata": {
        "id": "GbmhuPOqRxMG"
      }
    },
    {
      "cell_type": "markdown",
      "source": [
        "## Defining Class Attributes\n"
      ],
      "metadata": {
        "id": "IRTaPyorRzlh"
      }
    },
    {
      "cell_type": "markdown",
      "source": [
        "**Method 1: Without __init__**\n",
        "\n",
        "* Class attributes can be defined directly within the class body without using the __init__ method. These attributes are shared by all instances of the class."
      ],
      "metadata": {
        "id": "QwVghA68KZ6Z"
      }
    },
    {
      "cell_type": "code",
      "source": [
        "class Student:\n",
        "    school_name = \"XYZ School\"  # Class attribute shared by all instances\n",
        "    uniform_color = \"Blue\"      # Another class attribute\n",
        "\n"
      ],
      "metadata": {
        "id": "Zh-6rZGBR-lr"
      },
      "execution_count": null,
      "outputs": []
    },
    {
      "cell_type": "markdown",
      "source": [
        "In this example, school_name and uniform_color are class attributes shared by all instances of the Student class.\n",
        "\n",
        "**Accessing and Modifying Class Attributes:**"
      ],
      "metadata": {
        "id": "0s_GccNLbPdg"
      }
    },
    {
      "cell_type": "code",
      "source": [
        "# Creating instances\n",
        "s1 = Student()\n",
        "s2 = Student()\n",
        "\n",
        "# Accessing class attributes\n",
        "print(s1.school_name)  # Outputs: XYZ School\n",
        "print(s2.uniform_color)  # Outputs: Blue\n",
        "\n",
        "# Modifying class attributes\n",
        "Student.school_name = \"ABC School\"\n",
        "\n",
        "print(s1.school_name)  # Outputs: ABC School (shared change)\n",
        "print(s2.school_name)  # Outputs: ABC School (shared change)\n"
      ],
      "metadata": {
        "colab": {
          "base_uri": "https://localhost:8080/"
        },
        "id": "YVJvOyuIbS5G",
        "outputId": "6ffba824-8f48-464f-afcc-d4dd8906caca"
      },
      "execution_count": null,
      "outputs": [
        {
          "output_type": "stream",
          "name": "stdout",
          "text": [
            "XYZ School\n",
            "Blue\n",
            "ABC School\n",
            "ABC School\n"
          ]
        }
      ]
    },
    {
      "cell_type": "markdown",
      "source": [
        "In this case, modifying the class attribute school_name through the class itself changes it for all instances of the class."
      ],
      "metadata": {
        "id": "LXllKWymbYfJ"
      }
    },
    {
      "cell_type": "markdown",
      "source": [
        "**Method 2**: Using __init__\n",
        "* The __init__ method is a special method in Python classes, known as the constructor. It’s called automatically when an object is created, and it’s typically used to initialize the instance attributes of the class."
      ],
      "metadata": {
        "id": "aOEbMHHfSM5k"
      }
    },
    {
      "cell_type": "code",
      "source": [
        "class Student:\n",
        "    def __init__(self, name, age):\n",
        "        self.name = name  # Instance attribute\n",
        "        self.age = age    # Instance attribute\n",
        "\n"
      ],
      "metadata": {
        "id": "1jdqBlOOSRho"
      },
      "execution_count": null,
      "outputs": []
    },
    {
      "cell_type": "markdown",
      "source": [
        "In this example, school_name and uniform_color are class attributes shared by all instances of the Student class.\n",
        "\n",
        "**Accessing and Modifying Class Attributes: **"
      ],
      "metadata": {
        "id": "Q9Uat7QjSTMd"
      }
    },
    {
      "cell_type": "code",
      "source": [
        "# Creating instances with different attributes\n",
        "s1 = Student(\"Alice\", 20)\n",
        "s2 = Student(\"Bob\", 22)\n",
        "\n",
        "# Accessing instance attributes\n",
        "print(s1.name)  # Outputs: Alice\n",
        "print(s1.age)   # Outputs: 20\n",
        "\n",
        "print(s2.name)  # Outputs: Bob\n",
        "print(s2.age)   # Outputs: 22\n",
        "\n"
      ],
      "metadata": {
        "colab": {
          "base_uri": "https://localhost:8080/"
        },
        "id": "y7sAHkO4bzal",
        "outputId": "08f27567-3344-435f-d5d7-a973f6614ed5"
      },
      "execution_count": null,
      "outputs": [
        {
          "output_type": "stream",
          "name": "stdout",
          "text": [
            "Alice\n",
            "20\n",
            "Bob\n",
            "22\n"
          ]
        }
      ]
    },
    {
      "cell_type": "markdown",
      "source": [
        "In this example, s1 and s2 have their own separate name and age attributes.\n",
        "\n",
        "**Key Differences:**\n",
        "\n",
        "* Class Attributes: Shared across all instances of the class. Defined directly in the class body. Accessible using the class name or any instance.\n",
        "* Instance Attributes: Unique to each instance. Defined within the __init__ method. Accessible only through the instance."
      ],
      "metadata": {
        "id": "iTpRJoD_cTRV"
      }
    },
    {
      "cell_type": "markdown",
      "source": [
        "## The self parameter\n"
      ],
      "metadata": {
        "id": "GJk3IE2iSiDf"
      }
    },
    {
      "cell_type": "markdown",
      "source": [
        "* When you call a method on an instance of a class, Python automatically passes the instance as the first argument to the method. This is why you need to include self in your method definitions.\n",
        "* Self allows you to access attributes and methods of the class in Python. It binds the attributes with the given arguments.\n"
      ],
      "metadata": {
        "id": "DI5hbeVIKBdU"
      }
    },
    {
      "cell_type": "code",
      "source": [
        "class Dog:\n",
        "    def __init__(self, name, breed):\n",
        "        self.name = name  # 'self.name' is the instance variable\n",
        "        self.breed = breed  # 'self.breed' is the instance variable\n",
        "\n",
        "    def bark(self):\n",
        "        print(f\"{self.name} says woof!\")\n",
        "\n",
        "# Creating an instance of Dog\n",
        "my_dog = Dog(\"Buddy\", \"Golden Retriever\")\n",
        "\n",
        "# Accessing methods and attributes\n",
        "print(my_dog.name)  # Output: Buddy\n",
        "my_dog.bark()       # Output: Buddy says woof!\n",
        "\n"
      ],
      "metadata": {
        "colab": {
          "base_uri": "https://localhost:8080/"
        },
        "id": "zWTIxYEFSk71",
        "outputId": "d22054d7-e5bb-47a8-e9dd-84a667effcc2"
      },
      "execution_count": null,
      "outputs": [
        {
          "output_type": "stream",
          "name": "stdout",
          "text": [
            "Buddy\n",
            "Buddy says woof!\n"
          ]
        }
      ]
    },
    {
      "cell_type": "markdown",
      "source": [
        "Explaination:In this example, self.name and self.breed refer to the instance variables name and breed that are specific to the my_dog instance. The bark method uses self.name to print the name of the dog when it barks.\n"
      ],
      "metadata": {
        "id": "ZTxYwoV2J8e9"
      }
    },
    {
      "cell_type": "markdown",
      "source": [
        "**Implicit self**\n",
        "* In Python, the self parameter in methods is a reference to the current instance of the class. It’s implicitly passed to the method when it’s called on an object. It allows access to the instance’s attributes and other methods.\n",
        "* when you define a method inside a class, the first parameter is typically self. This self parameter refers to the instance of the class through which the method is being called. When you call the method, you don't need to pass the self argument explicitly; Python implicitly passes it for you. This is what we refer to as implicit self."
      ],
      "metadata": {
        "id": "mQC89t4ySosL"
      }
    },
    {
      "cell_type": "markdown",
      "source": [
        "**How it Works:**\n",
        "\n",
        "* When a method is called on an object, Python automatically passes the object itself as the first argument to the method.\n",
        "* The self parameter is used within the method to access attributes and other methods on the same object."
      ],
      "metadata": {
        "id": "RgblWGyGWfVD"
      }
    },
    {
      "cell_type": "code",
      "source": [
        "class Car:\n",
        "    def __init__(self, brand, model):\n",
        "        self.brand = brand  # `self` is used to assign the instance's brand attribute\n",
        "        self.model = model  # `self` is used to assign the instance's model attribute\n",
        "\n",
        "    def start(self):\n",
        "        print(f\"{self.brand} {self.model} is starting...\")\n",
        "\n",
        "# Creating an instance (object) of the Car class\n",
        "my_car = Car(\"Tesla\", \"Model 3\")\n",
        "\n",
        "# Calling the start method on the my_car object\n",
        "# Python implicitly passes `my_car` as the `self` parameter\n",
        "my_car.start()  # Output: Tesla Model 3 is starting...\n",
        "\n"
      ],
      "metadata": {
        "colab": {
          "base_uri": "https://localhost:8080/"
        },
        "id": "NpOFLqtAS-O0",
        "outputId": "5a03bf9f-dcae-4f88-e035-4414c471a1d9"
      },
      "execution_count": null,
      "outputs": [
        {
          "output_type": "stream",
          "name": "stdout",
          "text": [
            "Tesla Model 3 is starting...\n"
          ]
        }
      ]
    },
    {
      "cell_type": "markdown",
      "source": [
        "**Explanation:**\n",
        "\n",
        "When my_car.start() is called, Python automatically passes the my_car object as the self parameter to the start method.\n",
        "Inside the start method, self.brand refers to my_car.brand, which is \"Tesla\", and self.model refers to my_car.model, which is \"Model 3\".\n"
      ],
      "metadata": {
        "id": "XzBsvGl3TNZ9"
      }
    },
    {
      "cell_type": "markdown",
      "source": [
        "**Explicit self**\n",
        "* When defining a method in a class, the self parameter is explicitly included as the first parameter in the method definition, though it’s implicitly passed when the method is called.\n",
        "* While the self parameter is explicitly defined in the method definition, you never need to explicitly pass it when calling the method on an object. However, the term \"explicit self\" refers to the fact that self must be explicitly included in the method's signature when the method is defined."
      ],
      "metadata": {
        "id": "N1UpMKx0TSVz"
      }
    },
    {
      "cell_type": "markdown",
      "source": [
        "**How it Works:**\n",
        "\n",
        "When you define a method within a class, self must be included as the first parameter explicitly.\n",
        "Even though you explicitly write self in the method definition, you do not explicitly pass self when calling the method—Python does that for you automatically."
      ],
      "metadata": {
        "id": "Rki0tR3-W-a1"
      }
    },
    {
      "cell_type": "code",
      "source": [
        "class Calculator:\n",
        "    def add(self, x, y):\n",
        "        return x + y\n",
        "\n",
        "# Creating an instance (object) of the Calculator class\n",
        "calc = Calculator()\n",
        "\n",
        "# Calling the add method on the calc object\n",
        "# Python implicitly passes `calc` as the `self` parameter\n",
        "result = calc.add(5, 3)\n",
        "print(result)  # Output: 8\n"
      ],
      "metadata": {
        "colab": {
          "base_uri": "https://localhost:8080/"
        },
        "id": "N_Y8mUFSTc4m",
        "outputId": "aa958409-793a-4643-bf37-91c41758c417"
      },
      "execution_count": null,
      "outputs": [
        {
          "output_type": "stream",
          "name": "stdout",
          "text": [
            "8\n"
          ]
        }
      ]
    },
    {
      "cell_type": "markdown",
      "source": [
        "**Explanation:**\n",
        "\n",
        "In the method definition def add(self, x, y):, self is explicitly declared as the first parameter.\n",
        "When calc.add(5, 3) is called, Python implicitly passes the calc object as the self parameter to the add method.\n",
        "Inside the add method, self refers to the calc object, although it isn't used in this particular method.\n"
      ],
      "metadata": {
        "id": "K_pnXZV3Tkfg"
      }
    },
    {
      "cell_type": "markdown",
      "source": [
        "# 3. Types of methods"
      ],
      "metadata": {
        "id": "GpXuoUbAQ0PP"
      }
    },
    {
      "cell_type": "markdown",
      "source": [
        "## Instance Methods"
      ],
      "metadata": {
        "id": "xxP7o0uPQ5mi"
      }
    },
    {
      "cell_type": "markdown",
      "source": [
        "* Instance methods are the most common type of method in Python classes. They operate on instances of the class and can access and modify the object's state (its attributes).\n",
        "* Instance methods are associated with individual instances of a class. They have access to the instance's attributes and can modify the object's state.\n",
        "\n",
        "**Syntax:**"
      ],
      "metadata": {
        "id": "IT2_RWCoRuYl"
      }
    },
    {
      "cell_type": "code",
      "source": [
        "class MyClass:\n",
        "    def instance_method(self):\n",
        "        # Access instance attributes and modify object state\n",
        "        print(self.attribute)\n",
        "        self.attribute = new_value"
      ],
      "metadata": {
        "id": "4LOfgaWiSHqU"
      },
      "execution_count": null,
      "outputs": []
    },
    {
      "cell_type": "markdown",
      "source": [
        "**Explanation:**\n",
        "\n",
        "The self parameter represents the instance of the class on which the method is called.\n",
        "Instance methods can directly access and modify the instance's attributes.\n",
        "They are used for operations that are specific to a particular object.\n",
        "\n"
      ],
      "metadata": {
        "id": "QE0ou9mFSIpT"
      }
    },
    {
      "cell_type": "markdown",
      "source": [
        "### Creating and Using Instance Methods\n",
        "\n",
        "\n",
        "\n"
      ],
      "metadata": {
        "id": "3GcSv4tdLC7r"
      }
    },
    {
      "cell_type": "markdown",
      "source": [
        "* Instance methods must include self as the first parameter. This self parameter represents the instance of the class and allows you to access the instance's attributes and methods."
      ],
      "metadata": {
        "id": "wDcLhcEhLGX-"
      }
    },
    {
      "cell_type": "code",
      "source": [
        "class Car:\n",
        "    def __init__(self, make, model, year):\n",
        "        self.make = make\n",
        "        self.model = model\n",
        "        self.year = year\n",
        "\n",
        "    def description(self):\n",
        "        return f\"{self.year} {self.make} {self.model}\"\n",
        "\n",
        "# Creating an instance of Car\n",
        "my_car = Car(\"Toyota\", \"Camry\", 2020)\n",
        "\n",
        "# Using an instance method\n",
        "print(my_car.description())  # Output: 2020 Toyota Camry\n"
      ],
      "metadata": {
        "colab": {
          "base_uri": "https://localhost:8080/"
        },
        "id": "uJQd8FpASxfo",
        "outputId": "14cd267a-932c-4a34-e59c-27a593f09ca5"
      },
      "execution_count": null,
      "outputs": [
        {
          "output_type": "stream",
          "name": "stdout",
          "text": [
            "2020 Toyota Camry\n"
          ]
        }
      ]
    },
    {
      "cell_type": "markdown",
      "source": [
        "**Explanantion:**\n",
        "In this example, the description method is an instance method that uses the instance’s attributes (self.make, self.model, self.year) to return a formatted string.\n"
      ],
      "metadata": {
        "id": "DN87ffR4SzIl"
      }
    },
    {
      "cell_type": "markdown",
      "source": [
        "### Modifying Object State with Instance Methods\n",
        "\n"
      ],
      "metadata": {
        "id": "RjW5Q31SLMaf"
      }
    },
    {
      "cell_type": "markdown",
      "source": [
        "Instance methods can also modify the state of an object by changing its attributes."
      ],
      "metadata": {
        "id": "tABm8MWnLQ2j"
      }
    },
    {
      "cell_type": "code",
      "source": [
        "class BankAccount:\n",
        "    def __init__(self, balance):\n",
        "        self.balance = balance\n",
        "\n",
        "    def deposit(self, amount):\n",
        "        self.balance += amount  # Modifies the state\n",
        "\n",
        "    def withdraw(self, amount):\n",
        "        if amount <= self.balance:\n",
        "            self.balance -= amount  # Modifies the state\n",
        "        else:\n",
        "            print(\"Insufficient funds\")\n",
        "\n",
        "# Creating an instance of BankAccount\n",
        "account = BankAccount(1000)\n",
        "\n",
        "# Modifying the object’s state using instance methods\n",
        "account.deposit(500)\n",
        "print(account.balance)  # Output: 1500\n",
        "\n",
        "account.withdraw(200)\n",
        "print(account.balance)  # Output: 1300\n"
      ],
      "metadata": {
        "colab": {
          "base_uri": "https://localhost:8080/"
        },
        "id": "9PotO5muTFYj",
        "outputId": "13c3ff12-bb5c-4f5e-ed57-f59e18d885b0"
      },
      "execution_count": null,
      "outputs": [
        {
          "output_type": "stream",
          "name": "stdout",
          "text": [
            "1500\n",
            "1300\n"
          ]
        }
      ]
    },
    {
      "cell_type": "markdown",
      "source": [
        "Here, deposit and withdraw are instance methods that modify the balance attribute of the BankAccount object."
      ],
      "metadata": {
        "id": "1nKnoRCtTJo7"
      }
    },
    {
      "cell_type": "markdown",
      "source": [
        "##Class Methods"
      ],
      "metadata": {
        "id": "E0rTn0oeTMmB"
      }
    },
    {
      "cell_type": "markdown",
      "source": [
        "*  Class methods are associated with the class itself, not with individual instances. They are typically used for operations that don't require access to instance attributes or for creating new instances from alternative data sources.\n",
        "* Class methods are methods that are bound to the class and not the instance of the class. They can modify class state that applies across all instances of the class. Class methods are defined using the @classmethod decorator.\n",
        "\n",
        "**Syntax:**"
      ],
      "metadata": {
        "id": "gR-5fFN2TVUn"
      }
    },
    {
      "cell_type": "code",
      "source": [
        "class MyClass:\n",
        "    @classmethod\n",
        "    def class_method(cls):\n",
        "        # Access class attributes and create new instances\n",
        "        print(cls.class_attribute)\n",
        "        new_instance = cls(arguments)"
      ],
      "metadata": {
        "id": "7-I5Or02Teve"
      },
      "execution_count": null,
      "outputs": []
    },
    {
      "cell_type": "markdown",
      "source": [
        "**Explanation:**\n",
        "\n",
        "The cls parameter represents the class itself.\n",
        "Class methods can access class attributes and create new instances of the class.\n",
        "They are often used for factory methods or utility functions.\n",
        "\n",
        "\n",
        "\n"
      ],
      "metadata": {
        "id": "7BZLOmJZToDX"
      }
    },
    {
      "cell_type": "markdown",
      "source": [
        "### Defining and Using Class Methods (@classmethod)\n",
        "\n"
      ],
      "metadata": {
        "id": "fbq-Fs4KMBBG"
      }
    },
    {
      "cell_type": "markdown",
      "source": [
        "* Class methods take cls as the first parameter, which refers to the class itself, rather than an instance of the class."
      ],
      "metadata": {
        "id": "rwp83KXEMC3l"
      }
    },
    {
      "cell_type": "code",
      "source": [
        "class Employee:\n",
        "    raise_percentage = 1.05  # Class attribute\n",
        "\n",
        "    def __init__(self, name, salary):\n",
        "        self.name = name\n",
        "        self.salary = salary\n",
        "\n",
        "    @classmethod\n",
        "    def set_raise_percentage(cls, amount):\n",
        "        cls.raise_percentage = amount  # Modifies the class attribute\n",
        "\n",
        "    def apply_raise(self):\n",
        "        self.salary *= self.raise_percentage\n",
        "\n",
        "# Using a class method to modify class attribute\n",
        "Employee.set_raise_percentage(1.10)\n",
        "\n",
        "# Creating instances of Employee\n",
        "emp1 = Employee(\"Alice\", 50000)\n",
        "emp2 = Employee(\"Bob\", 60000)\n",
        "\n",
        "emp1.apply_raise()\n",
        "emp2.apply_raise()\n",
        "\n",
        "print(emp1.salary)  # Output: 55000.0\n",
        "print(emp2.salary)  # Output: 66000.0\n"
      ],
      "metadata": {
        "colab": {
          "base_uri": "https://localhost:8080/"
        },
        "id": "PukxOVwWUBEW",
        "outputId": "b80ec5ae-ba94-4c78-d71f-b7a4c813e6d5"
      },
      "execution_count": null,
      "outputs": [
        {
          "output_type": "stream",
          "name": "stdout",
          "text": [
            "55000.00000000001\n",
            "66000.0\n"
          ]
        }
      ]
    },
    {
      "cell_type": "markdown",
      "source": [
        "In this example, the set_raise_percentage method is a class method that modifies the raise_percentage class attribute, which affects all instances of the class."
      ],
      "metadata": {
        "id": "O2QUcL86UDsI"
      }
    },
    {
      "cell_type": "markdown",
      "source": [
        "### Understanding cls as an Alternative to self\n"
      ],
      "metadata": {
        "id": "lmlLDDylUHJj"
      }
    },
    {
      "cell_type": "markdown",
      "source": [
        "\n",
        "* The cls parameter in class methods is similar to the self parameter in instance methods. However, cls refers to the class itself, while self refers to an instance of the class.\n",
        "* Class methods can be used when you need to access or modify the class state (class attributes) rather than instance-specific data.\n"
      ],
      "metadata": {
        "id": "svC2w0TTMM2Z"
      }
    },
    {
      "cell_type": "markdown",
      "source": [
        "##Static methods"
      ],
      "metadata": {
        "id": "wpiSD-j_UdXS"
      }
    },
    {
      "cell_type": "markdown",
      "source": [
        "\n",
        "* Static methods are methods that do not operate on an instance or a class but are included in the class for organizational purposes. They don’t take self or cls as the first parameter. Static methods are defined using the @staticmethod decorator.\n",
        "\n",
        "**Syntax:**"
      ],
      "metadata": {
        "id": "w8p8oaLWUhGk"
      }
    },
    {
      "cell_type": "code",
      "source": [
        "class MyClass:\n",
        "    @staticmethod\n",
        "    def static_method():\n",
        "        # Perform operations without accessing instance or class attributes\n",
        "        print(\"This is a static method\")"
      ],
      "metadata": {
        "id": "SZodmhKfUvE3"
      },
      "execution_count": null,
      "outputs": []
    },
    {
      "cell_type": "markdown",
      "source": [
        "**Explanation:**\n",
        "\n",
        "Static methods do not have access to self or cls.\n",
        "They are often used for utility functions that don't require any context about the class or its instances."
      ],
      "metadata": {
        "id": "ttf_OXYsUxIY"
      }
    },
    {
      "cell_type": "markdown",
      "source": [
        "### Defining and Using Static Methods (@staticmethod)\n",
        "\n"
      ],
      "metadata": {
        "id": "QMBcYPoCUzz_"
      }
    },
    {
      "cell_type": "markdown",
      "source": [
        "* Static methods behave like plain functions but are logically related to a class. They do not modify object or class state."
      ],
      "metadata": {
        "id": "vKGKs2rOMUMc"
      }
    },
    {
      "cell_type": "code",
      "source": [
        "class MathOperations:\n",
        "    @staticmethod\n",
        "    def add(x, y):\n",
        "        return x + y\n",
        "\n",
        "    @staticmethod\n",
        "    def subtract(x, y):\n",
        "        return x - y\n",
        "\n",
        "# Using static methods\n",
        "result1 = MathOperations.add(10, 5)\n",
        "result2 = MathOperations.subtract(10, 5)\n",
        "\n",
        "print(result1)  # Output: 15\n",
        "print(result2)  # Output: 5\n"
      ],
      "metadata": {
        "colab": {
          "base_uri": "https://localhost:8080/"
        },
        "id": "LLRO33SkU6nI",
        "outputId": "9e993206-b63d-49df-e6cd-f1061bc1f97d"
      },
      "execution_count": null,
      "outputs": [
        {
          "output_type": "stream",
          "name": "stdout",
          "text": [
            "15\n",
            "5\n"
          ]
        }
      ]
    },
    {
      "cell_type": "markdown",
      "source": [
        "**Explanantion:**In this example, add and subtract are static methods that perform mathematical operations. They do not interact with any class or instance data.\n",
        "\n"
      ],
      "metadata": {
        "id": "y7-wia6DU8pF"
      }
    },
    {
      "cell_type": "markdown",
      "source": [
        "### When to Use Static Methods\n",
        "\n"
      ],
      "metadata": {
        "id": "nUXEDSJHVEmu"
      }
    },
    {
      "cell_type": "markdown",
      "source": [
        "Static methods are suitable for:\n",
        "\n",
        "* Utility functions that don't depend on the class or its instances.\n",
        "* Functions that are logically related to the class but don't require access to instance or class attributes.\n",
        "* Functions that can be used independently of the class.\n",
        "* By understanding the differences between instance, class, and static methods, you can choose the appropriate method type for your specific use cases and write more organized and efficient Python code."
      ],
      "metadata": {
        "id": "wGwTCRFaMcui"
      }
    },
    {
      "cell_type": "markdown",
      "source": [
        "# 4. Method Overloading in Python"
      ],
      "metadata": {
        "id": "qjZn3-OLVl3F"
      }
    },
    {
      "cell_type": "markdown",
      "source": [
        "## Introduction to Method Overloading (Polymorphism)"
      ],
      "metadata": {
        "id": "oEAQ2u_-Vnz4"
      }
    },
    {
      "cell_type": "markdown",
      "source": [
        "* Method Overloading is a concept of Polymorphism in which multiple methods in the same class share the same name but differ in the number or type of parameters. In many programming languages like Java and C++, method overloading is achieved by defining multiple methods with the same name but different parameter lists.\n",
        "* However, Python does not support method overloading by default. In Python, if you define multiple methods with the same name, the last method definition will override the previous ones. Despite this, you can achieve a form of method overloading by using default arguments, variable-length arguments, or manually handling different argument types within a single method.\n"
      ],
      "metadata": {
        "id": "hOhgiYq7VtKQ"
      }
    },
    {
      "cell_type": "markdown",
      "source": [
        "\n",
        "##Using Default Arguments for Method Overloading\n",
        "\n",
        "\n"
      ],
      "metadata": {
        "id": "AVGHqALhXXOQ"
      }
    },
    {
      "cell_type": "markdown",
      "source": [
        "By utilizing default arguments, you can create methods that behave as if they were overloaded. This involves defining methods with the same name but varying the number and types of parameters, and assigning default values to some of them."
      ],
      "metadata": {
        "id": "3BwhnC6hXcAw"
      }
    },
    {
      "cell_type": "code",
      "source": [
        "class Calculator:\n",
        "    def add(self, x, y=0, z=0):\n",
        "        return x + y + z\n",
        "\n",
        "calculator = Calculator()\n",
        "result1 = calculator.add(5, 3)  # Using only two arguments\n",
        "result2 = calculator.add(1, 2, 3)  # Using all three arguments\n",
        "print(result1)  # Output: 8\n",
        "print(result2)  # Output: 6"
      ],
      "metadata": {
        "colab": {
          "base_uri": "https://localhost:8080/"
        },
        "id": "DNwd7efdWHKV",
        "outputId": "1e3b205a-5773-46e0-c892-5c9dcacd4463"
      },
      "execution_count": null,
      "outputs": [
        {
          "output_type": "stream",
          "name": "stdout",
          "text": [
            "8\n",
            "6\n"
          ]
        }
      ]
    },
    {
      "cell_type": "markdown",
      "source": [
        "In this example, the add method can be called with either two or three arguments. If only two arguments are provided, the z parameter will take its default value of 0. This effectively simulates method overloading in Python.\n",
        "\n",
        "**Explanation:**\n",
        "\n",
        "* When you define a method with default arguments, you specify a value that will be used if the corresponding argument is not provided when the method is called.\n",
        "* Python will match the number of arguments passed to the method with the available parameters and use the default values for any missing arguments.\n",
        "* This allows you to create methods that can handle different input scenarios without explicitly defining multiple methods with the same name."
      ],
      "metadata": {
        "id": "CsuIjGY5WKSl"
      }
    },
    {
      "cell_type": "markdown",
      "source": [
        "\n",
        "\n",
        "**Using Variable-Length Arguments for Method Overloading**\n",
        "\n",
        "\n",
        "Another way to mimic method overloading is to use variable-length arguments (*args and **kwargs). This allows a method to accept any number of positional or keyword arguments and then determine the behavior based on what was passed."
      ],
      "metadata": {
        "id": "IMQja_oxWiJq"
      }
    },
    {
      "cell_type": "code",
      "source": [
        "class Example:\n",
        "    def show(self, *args):\n",
        "        if len(args) == 1:\n",
        "            print(f\"One argument: {args[0]}\")\n",
        "        elif len(args) == 2:\n",
        "            print(f\"Two arguments: {args[0]}, {args[1]}\")\n",
        "        else:\n",
        "            print(\"Multiple arguments: \", args)\n",
        "\n",
        "# Creating an instance of Example\n",
        "obj = Example()\n",
        "\n",
        "# Different ways to call the overloaded method\n",
        "obj.show(10)               # Output: One argument: 10\n",
        "obj.show(10, 20)           # Output: Two arguments: 10, 20\n",
        "obj.show(10, 20, 30)       # Output: Multiple arguments: (10, 20, 30)\n"
      ],
      "metadata": {
        "colab": {
          "base_uri": "https://localhost:8080/"
        },
        "id": "U79yzNK0Wufv",
        "outputId": "b4ae0179-30a9-46b3-e504-91b6bca8b4a0"
      },
      "execution_count": null,
      "outputs": [
        {
          "output_type": "stream",
          "name": "stdout",
          "text": [
            "One argument: 10\n",
            "Two arguments: 10, 20\n",
            "Multiple arguments:  (10, 20, 30)\n"
          ]
        }
      ]
    },
    {
      "cell_type": "markdown",
      "source": [
        "Here, the show method uses *args to accept any number of arguments and then checks the number of arguments to determine which behavior to execute.\n",
        "\n",
        "**Manual Handling for Method Overloading**\n",
        "\n",
        "Python's dynamic typing allows you to check the type of arguments manually within a method and decide the behavior accordingly. This approach can also be used to mimic method overloading.\n",
        "\n"
      ],
      "metadata": {
        "id": "fjxKIkukW2Bk"
      }
    },
    {
      "cell_type": "code",
      "source": [
        "class Example:\n",
        "    def show(self, a=None):\n",
        "        if isinstance(a, int):\n",
        "            print(f\"Integer argument: {a}\")\n",
        "        elif isinstance(a, str):\n",
        "            print(f\"String argument: {a}\")\n",
        "        else:\n",
        "            print(\"Unsupported type\")\n",
        "\n",
        "# Creating an instance of Example\n",
        "obj = Example()\n",
        "\n",
        "# Different ways to call the overloaded method\n",
        "obj.show(10)               # Output: Integer argument: 10\n",
        "obj.show(\"Hello\")          # Output: String argument: Hello\n",
        "obj.show([1, 2, 3])        # Output: Unsupported type\n"
      ],
      "metadata": {
        "colab": {
          "base_uri": "https://localhost:8080/"
        },
        "id": "EqASHxwLW51A",
        "outputId": "900aa93b-e74c-4795-d1de-06474af2717a"
      },
      "execution_count": null,
      "outputs": [
        {
          "output_type": "stream",
          "name": "stdout",
          "text": [
            "Integer argument: 10\n",
            "String argument: Hello\n",
            "Unsupported type\n"
          ]
        }
      ]
    },
    {
      "cell_type": "markdown",
      "source": [
        "In this example, the show method checks the type of the argument passed and behaves accordingly.\n",
        "\n",
        "Key Points\n",
        "* Method Overloading in Python is not supported directly as it is in some other programming languages. However, you can mimic method overloading using techniques like default arguments, variable-length arguments, or type checking.\n",
        "* Default Arguments: Allow methods to handle different numbers of arguments.\n",
        "* Variable-Length Arguments: Use *args and **kwargs to handle any number of positional or keyword arguments.\n",
        "* Manual Handling: Use type checking to decide how to handle different types of arguments within a single method.\n",
        "\n",
        "**Additional Considerations:**\n",
        "\n",
        "* While default arguments are a powerful technique for simulating method overloading, it's important to use them judiciously. Overusing default arguments can make your code less clear and harder to understand.\n",
        "* Consider using optional arguments or keyword arguments if you need more complex parameter handling.\n",
        "* If you need true method overloading, you might explore other programming languages or libraries that support it.\n"
      ],
      "metadata": {
        "id": "o5SRKvEBW8fW"
      }
    },
    {
      "cell_type": "markdown",
      "source": [
        "# 5. Method Overriding"
      ],
      "metadata": {
        "id": "Yy8prTNGX4Xo"
      }
    },
    {
      "cell_type": "markdown",
      "source": [
        "* Method overriding allows a subclass to provide a specific implementation of a method that is already defined in its superclass. This is a key feature of object-oriented programming and is used to achieve polymorphism."
      ],
      "metadata": {
        "id": "Ml8Ov_Z2Z9Z3"
      }
    },
    {
      "cell_type": "markdown",
      "source": [
        "## Overriding Methods in Subclasses"
      ],
      "metadata": {
        "id": "3ogH3oQIX9_x"
      }
    },
    {
      "cell_type": "markdown",
      "source": [
        "* To override a method in a subclass, you define a method with the same name in the subclass. When an object of the subclass calls the overridden method, the subclass's implementation will be executed instead of the superclass's."
      ],
      "metadata": {
        "id": "2qxBBwUcaHLG"
      }
    },
    {
      "cell_type": "code",
      "source": [
        "class Animal:\n",
        "    def sound(self):\n",
        "        return \"Some generic animal sound\"\n",
        "\n",
        "class Dog(Animal):\n",
        "    def sound(self):\n",
        "        return \"Bark\"\n",
        "\n",
        "class Cat(Animal):\n",
        "    def sound(self):\n",
        "        return \"Meow\"\n",
        "\n",
        "# Creating instances of subclasses\n",
        "dog = Dog()\n",
        "cat = Cat()\n",
        "\n",
        "# Calling the overridden method\n",
        "print(dog.sound())  # Output: Bark\n",
        "print(cat.sound())  # Output: Meow\n"
      ],
      "metadata": {
        "colab": {
          "base_uri": "https://localhost:8080/"
        },
        "id": "8a2M1vF1aODM",
        "outputId": "9919cc37-3c54-4c4a-97b4-c2dc0531f377"
      },
      "execution_count": null,
      "outputs": [
        {
          "output_type": "stream",
          "name": "stdout",
          "text": [
            "Bark\n",
            "Meow\n"
          ]
        }
      ]
    },
    {
      "cell_type": "markdown",
      "source": [
        "**Explanation:**\n",
        "In this example, the sound method is defined in the Animal superclass. The Dog and Cat subclasses override this method to provide their specific implementations. When the sound method is called on instances of Dog or Cat, the respective subclass method is executed, demonstrating method overriding.\n",
        "\n",
        "**Key Points about Method Overriding:**\n",
        "\n",
        "Same Signature: The method in the subclass should have the same name and parameters as the method in the superclass.\n",
        "Dynamic Dispatch: The method to be called is determined at runtime based on the object's type. This is known as dynamic dispatch and is essential for achieving polymorphism.\n",
        "Inheritance: Method overriding occurs in the context of inheritance, where a subclass inherits methods from a superclass but provides its own implementation for some of them.\n"
      ],
      "metadata": {
        "id": "wkba0CwgaQw_"
      }
    },
    {
      "cell_type": "markdown",
      "source": [
        "## Understanding the super() Function"
      ],
      "metadata": {
        "id": "zLlA5jK8aZf_"
      }
    },
    {
      "cell_type": "markdown",
      "source": [
        "* The super() function is used to call a method from the superclass in the context of the subclass. This is especially useful when you want to extend the functionality of the superclass method rather than completely replace it.\n",
        "\n",
        "**Using super() to Call a Superclass Method:**"
      ],
      "metadata": {
        "id": "9sGOloDDadQp"
      }
    },
    {
      "cell_type": "code",
      "source": [
        "class Animal:\n",
        "    def __init__(self, name):\n",
        "        self.name = name\n",
        "\n",
        "    def sound(self):\n",
        "        return \"Some generic animal sound\"\n",
        "\n",
        "class Dog(Animal):\n",
        "    def __init__(self, name, breed):\n",
        "        super().__init__(name)  # Calling the superclass constructor\n",
        "        self.breed = breed\n",
        "\n",
        "    def sound(self):\n",
        "        base_sound = super().sound()  # Calling the superclass method\n",
        "        return f\"{base_sound}, but also barks\"\n",
        "\n",
        "# Creating an instance of Dog\n",
        "dog = Dog(\"Buddy\", \"Golden Retriever\")\n",
        "\n",
        "# Using overridden and superclass methods\n",
        "print(dog.name)          # Output: Buddy\n",
        "print(dog.breed)         # Output: Golden Retriever\n",
        "print(dog.sound())       # Output: Some generic animal sound, but also barks\n"
      ],
      "metadata": {
        "colab": {
          "base_uri": "https://localhost:8080/"
        },
        "id": "QBy5efndaj4X",
        "outputId": "b3e042c5-d005-496e-96fa-12dc36d1a8a8"
      },
      "execution_count": null,
      "outputs": [
        {
          "output_type": "stream",
          "name": "stdout",
          "text": [
            "Buddy\n",
            "Golden Retriever\n",
            "Some generic animal sound, but also barks\n"
          ]
        }
      ]
    },
    {
      "cell_type": "markdown",
      "source": [
        "**Explanation:**\n",
        "* The Dog class inherits from the Animal class and overrides the sound method.\n",
        "* The __init__ method of the Dog class calls the __init__ method of the Animal class using super().\n",
        "* This ensures that the name attribute is properly initialized by the superclass.\n",
        "* The sound method in the Dog class calls the sound method of the Animal class using super() to get the base sound and then extends it.\n",
        "\n",
        "**Key Points about super() Function:**\n",
        "\n",
        "* Calling Superclass Methods: super() is used to call a method from the superclass. This is helpful when the subclass needs to extend, rather than completely replace, the behavior of the superclass method.\n",
        "* Initialization: super() is often used in the __init__ method of a subclass to ensure that the superclass's initialization code is executed.\n",
        "* Multiple Inheritance: In the context of multiple inheritance, super() plays a crucial role in ensuring that all the necessary methods are called in the correct order, following the method resolution order (MRO)."
      ],
      "metadata": {
        "id": "Do3Uke8MalIy"
      }
    },
    {
      "cell_type": "markdown",
      "source": [
        "# 6. Property Methods"
      ],
      "metadata": {
        "id": "IkilYkmDZ_TM"
      }
    },
    {
      "cell_type": "markdown",
      "source": [
        "Property methods in Python allow you to manage access to instance attributes in a controlled way by using getter, setter, and deleter methods. Python's @property decorator makes it easier to define methods that act as getters, and you can use @<property_name>.setter and @<property_name>.deleter for setting and deleting properties, respectively."
      ],
      "metadata": {
        "id": "fF6Dmjq_YCc7"
      }
    },
    {
      "cell_type": "markdown",
      "source": [
        "## Introduction to Property Methods (@property)"
      ],
      "metadata": {
        "id": "vnoQN9PUb1p7"
      }
    },
    {
      "cell_type": "markdown",
      "source": [
        "The @property decorator allows you to define a method in a class that can be accessed like an attribute. This is useful when you want to encapsulate the access to an attribute and add some logic when getting or setting its value.\n",
        "\n",
        "**Why Use Property Methods?**\n",
        "\n",
        "* Encapsulation: Control access to the internal state of an object.\n",
        "* Validation: Perform validation or modification of the data before setting or returning an attribute's value.\n",
        "* Read-Only Attributes: Create attributes that are read-only and cannot be modified after creation.\n",
        "* Lazy Evaluation: Property methods can be used to implement lazy evaluation, where the attribute value is calculated only when it's actually needed, improving performance in certain scenarios.\n",
        "* Custom Behavior: You can define custom behavior within the getter, setter, and deleter methods to tailor attribute access and modification to your specific requirements."
      ],
      "metadata": {
        "id": "UhyTvHeWb42k"
      }
    },
    {
      "cell_type": "code",
      "source": [
        "class Circle:\n",
        "    def __init__(self, radius):\n",
        "        self._radius = radius  # _radius is a protected attribute\n",
        "\n",
        "    @property\n",
        "    def radius(self):\n",
        "        return self._radius\n",
        "\n",
        "    @radius.setter\n",
        "    def radius(self, value):\n",
        "        if value >= 0:\n",
        "            self._radius = value\n",
        "        else:\n",
        "            raise ValueError(\"Radius cannot be negative\")\n",
        "\n",
        "    @property\n",
        "    def area(self):\n",
        "        return 3.14159 * (self._radius ** 2)\n",
        "\n",
        "# Creating an instance of Circle\n",
        "c = Circle(5)\n",
        "\n",
        "# Accessing the radius and area using property methods\n",
        "print(c.radius)  # Output: 5\n",
        "print(c.area)    # Output: 78.53975\n",
        "\n",
        "# Modifying the radius using the setter\n",
        "c.radius = 10\n",
        "print(c.radius)  # Output: 10\n",
        "print(c.area)    # Output: 314.159\n",
        "\n",
        "# Attempting to set a negative radius raises an error\n",
        "# c.radius = -5  # Raises ValueError: Radius cannot be negative\n"
      ],
      "metadata": {
        "colab": {
          "base_uri": "https://localhost:8080/"
        },
        "id": "uPPwhfq2cM7W",
        "outputId": "5d746d4c-eb2e-4e72-fdc9-73f3ccb883da"
      },
      "execution_count": null,
      "outputs": [
        {
          "output_type": "stream",
          "name": "stdout",
          "text": [
            "5\n",
            "78.53975\n",
            "10\n",
            "314.159\n"
          ]
        }
      ]
    },
    {
      "cell_type": "markdown",
      "source": [
        "**Explanation:**\n",
        "\n",
        "In this example, radius is a property that manages access to the _radius attribute. The @property decorator is used to define the getter method, @radius.setter is used for the setter method, and area is a read-only property that computes the area of the circle.\n",
        "\n"
      ],
      "metadata": {
        "id": "PZ2CB-ntcOKp"
      }
    },
    {
      "cell_type": "markdown",
      "source": [
        "# 7. Decorators and Methods"
      ],
      "metadata": {
        "id": "9B4Xo1Zydr4D"
      }
    },
    {
      "cell_type": "markdown",
      "source": [
        "\n",
        "\n",
        "* Decorators in Python are a powerful mechanism for modifying the behavior of functions and methods without directly altering their source code. They provide a flexible and reusable way to add additional functionality to existing code.\n"
      ],
      "metadata": {
        "id": "MBSddQhSdvjt"
      }
    },
    {
      "cell_type": "markdown",
      "source": [
        "## Applying Decorators to Methods"
      ],
      "metadata": {
        "id": "82fS8XezeRKr"
      }
    },
    {
      "cell_type": "markdown",
      "source": [
        "To apply a decorator to a method, you place the decorator name (as a function) before the method definition. This tells Python to wrap the method with the decorator's functionality.\n",
        "\n"
      ],
      "metadata": {
        "id": "aFu_I6syeSjd"
      }
    },
    {
      "cell_type": "code",
      "source": [
        "def my_decorator(func):\n",
        "    def wrapper(*args, **kwargs):\n",
        "        print(\"Before function call\")\n",
        "        result = func(*args, **kwargs)\n",
        "        print(\"After function call\")\n",
        "        return result\n",
        "    return wrapper\n",
        "\n",
        "class MyClass:\n",
        "    @my_decorator\n",
        "    def my_method(self, x):\n",
        "        print(\"Inside my_method:\", x)\n",
        "        return x * 2\n",
        "\n",
        "obj = MyClass()\n",
        "result = obj.my_method(5)\n",
        "print(result)"
      ],
      "metadata": {
        "colab": {
          "base_uri": "https://localhost:8080/"
        },
        "id": "z6aecpGZeU3M",
        "outputId": "a8867757-24d1-4ce3-dab4-277bc4f67948"
      },
      "execution_count": null,
      "outputs": [
        {
          "output_type": "stream",
          "name": "stdout",
          "text": [
            "Before function call\n",
            "Inside my_method: 5\n",
            "After function call\n",
            "10\n"
          ]
        }
      ]
    },
    {
      "cell_type": "markdown",
      "source": [
        "**Explanation:**\n",
        "In this example, the my_decorator function is applied to the my_method using the @my_decorator syntax. When my_method is called, the my_decorator function is executed first, printing \"Before function call\" and \"After function call.\" Then, the original my_method is called, and its result is returned.\n",
        "\n",
        "\n",
        "**Built-in Decorators for Methods:**\n",
        "\n",
        "Python provides several built-in decorators that are commonly used with methods:\n",
        "\n",
        "* @staticmethod: Defines a method that does not depend on instance or class data. It can be called on the class itself.\n",
        "* @classmethod: Defines a method that takes the class (cls) as its first argument rather than an instance (self). It can be called on the class itself and can modify class state.\n",
        "* @property: Converts a method into a property, allowing you to access it as an attribute.\n"
      ],
      "metadata": {
        "id": "ucPLAIS1eXQj"
      }
    },
    {
      "cell_type": "markdown",
      "source": [
        "## Creating Custom Method Decorators"
      ],
      "metadata": {
        "id": "KXfevZKZefkT"
      }
    },
    {
      "cell_type": "markdown",
      "source": [
        "Custom method decorators are functions that you define to modify or extend the behavior of methods. These can be tailored to specific needs, such as logging, enforcing access control, timing method execution, etc.\n",
        "\n",
        "Example: Logging Decorator for Methods"
      ],
      "metadata": {
        "id": "SEXZ_PdbehDl"
      }
    },
    {
      "cell_type": "code",
      "source": [
        "def log_method_call(func):\n",
        "    def wrapper(self, *args, **kwargs):\n",
        "        print(f\"Calling method {func.__name__} with arguments {args} and {kwargs}\")\n",
        "        result = func(self, *args, **kwargs)\n",
        "        print(f\"Method {func.__name__} returned {result}\")\n",
        "        return result\n",
        "    return wrapper\n",
        "\n",
        "class MyClass:\n",
        "    @log_method_call\n",
        "    def add(self, a, b):\n",
        "        return a + b\n",
        "\n",
        "# Creating an instance of MyClass\n",
        "obj = MyClass()\n",
        "\n",
        "# Using the decorated method\n",
        "result = obj.add(3, 5)\n",
        "# Output:\n",
        "# Calling method add with arguments (3, 5) and {}\n",
        "# Method add returned 8\n"
      ],
      "metadata": {
        "colab": {
          "base_uri": "https://localhost:8080/"
        },
        "id": "2amhvFale3ug",
        "outputId": "d44f4bb6-1c46-4c2d-b73d-c7313efcdf6f"
      },
      "execution_count": null,
      "outputs": [
        {
          "output_type": "stream",
          "name": "stdout",
          "text": [
            "Calling method add with arguments (3, 5) and {}\n",
            "Method add returned 8\n"
          ]
        }
      ]
    },
    {
      "cell_type": "markdown",
      "source": [
        "In this example, the log_method_call decorator logs the method's name, arguments, and return value whenever the add method is called.\n",
        "\n",
        "Example: Access Control Decorator\n",
        "\n"
      ],
      "metadata": {
        "id": "wZKuiVwAfHNH"
      }
    },
    {
      "cell_type": "code",
      "source": [
        "def require_authentication(func):\n",
        "    def wrapper(self, *args, **kwargs):\n",
        "        if not self.is_authenticated:\n",
        "            raise PermissionError(\"User is not authenticated.\")\n",
        "        return func(self, *args, **kwargs)\n",
        "    return wrapper\n",
        "\n",
        "class MyClass:\n",
        "    def __init__(self, authenticated):\n",
        "        self.is_authenticated = authenticated\n",
        "\n",
        "    @require_authentication\n",
        "    def secret_method(self):\n",
        "        return \"This is a secret message.\"\n",
        "\n",
        "# Creating instances\n",
        "obj1 = MyClass(authenticated=True)\n",
        "obj2 = MyClass(authenticated=False)\n",
        "\n",
        "# Accessing the method with authentication\n",
        "print(obj1.secret_method())  # Output: This is a secret message.\n",
        "\n",
        "# Attempting to access the method without authentication\n",
        "# print(obj2.secret_method())  # Raises PermissionError: User is not authenticated.\n"
      ],
      "metadata": {
        "colab": {
          "base_uri": "https://localhost:8080/"
        },
        "id": "I5OBE1CRfKzB",
        "outputId": "a48f905f-1fe1-4542-e4f4-4e9f738722d6"
      },
      "execution_count": null,
      "outputs": [
        {
          "output_type": "stream",
          "name": "stdout",
          "text": [
            "This is a secret message.\n"
          ]
        }
      ]
    },
    {
      "cell_type": "markdown",
      "source": [
        "In this example, the require_authentication decorator checks if the user is authenticated before allowing access to the secret_method."
      ],
      "metadata": {
        "id": "35rMRbEgfP4D"
      }
    },
    {
      "cell_type": "markdown",
      "source": [
        "**Key Points:**\n",
        "\n",
        "* Decorators provide a flexible way to modify the behavior of functions and methods without altering their source code.\n",
        "* Decorators are applied using the @decorator_name syntax.\n",
        "* Custom decorators can be created by defining functions that wrap the original function.\n",
        "* Decorators can be used for various purposes, such as timing methods, caching results, logging, and more."
      ],
      "metadata": {
        "id": "jjesWAN_fTwx"
      }
    },
    {
      "cell_type": "markdown",
      "source": [
        "# Private and Protected Methods in Python"
      ],
      "metadata": {
        "id": "vKl3hvQ3dX7W"
      }
    },
    {
      "cell_type": "markdown",
      "source": [
        "* In Python, methods can be categorized based on their intended visibility and access control, primarily using naming conventions. Python does not have strict access modifiers like private, protected, or public found in other languages like Java or C++. However, Python uses a system based on naming conventions to indicate the intended use of methods and attributes."
      ],
      "metadata": {
        "id": "xxUxAhZcdZua"
      }
    },
    {
      "cell_type": "markdown",
      "source": [
        "## Naming Conventions for Private and Protected Methods"
      ],
      "metadata": {
        "id": "VPrJzPNEdfGr"
      }
    },
    {
      "cell_type": "markdown",
      "source": [
        "### Protected Methods (_methodname)\n",
        "\n"
      ],
      "metadata": {
        "id": "TcqeEsm2djU6"
      }
    },
    {
      "cell_type": "markdown",
      "source": [
        "**Naming Convention:**\n",
        "\n",
        "* Protected methods in Python are indicated by a single underscore (_) prefix before the method name, like _methodname.\n",
        "\n",
        "**Purpose:**\n",
        "\n",
        "* This convention signals that the method is intended for internal use within the class or its subclasses. It should not be accessed directly from outside the class.\n"
      ],
      "metadata": {
        "id": "Hg0E4bQDdpP5"
      }
    },
    {
      "cell_type": "code",
      "source": [
        "class MyClass:\n",
        "    def __init__(self):\n",
        "        self._protected_variable = 42\n",
        "\n",
        "    def _protected_method(self):\n",
        "        return \"This is a protected method\"\n",
        "\n",
        "class SubClass(MyClass):\n",
        "    def access_protected(self):\n",
        "        return self._protected_method()\n",
        "\n",
        "obj = SubClass()\n",
        "\n",
        "# Accessing protected method from within a subclass\n",
        "print(obj.access_protected())  # Output: This is a protected method\n",
        "\n",
        "# Accessing protected method directly (not recommended)\n",
        "print(obj._protected_method())  # Output: This is a protected method\n"
      ],
      "metadata": {
        "colab": {
          "base_uri": "https://localhost:8080/"
        },
        "id": "7LCL1FzYdy6o",
        "outputId": "ad1f31c3-278e-4738-d359-8ecf9d3915dd"
      },
      "execution_count": null,
      "outputs": [
        {
          "output_type": "stream",
          "name": "stdout",
          "text": [
            "This is a protected method\n",
            "This is a protected method\n"
          ]
        }
      ]
    },
    {
      "cell_type": "markdown",
      "source": [
        "**Explanation:**\n",
        "\n",
        "The _protected_method is meant to be used within MyClass or any of its subclasses, not from outside. However, Python does not enforce this, so you can technically access it directly from an instance, but it's considered bad practice.\n"
      ],
      "metadata": {
        "id": "SDDnEyTgd2Co"
      }
    },
    {
      "cell_type": "markdown",
      "source": [
        "### Private Methods (__methodname)"
      ],
      "metadata": {
        "id": "7Fann3Fed8j0"
      }
    },
    {
      "cell_type": "markdown",
      "source": [
        "**Naming Convention:**\n",
        "\n",
        "* Private methods in Python are indicated by a double underscore (__) prefix before the method name, like __methodname.\n",
        "\n",
        "**Purpose:**\n",
        "\n",
        "* This convention is used to avoid method name conflicts in subclasses. It essentially \"mangles\" the method name to make it harder to access from outside the class. However, it’s important to note that this is still not true access control as seen in other programming languages.\n",
        "\n",
        "**Name Mangling:**\n",
        "\n",
        "* Python automatically \"mangles\" the method name by prefixing it with _ClassName, making it more challenging (but not impossible) to access from outside the class."
      ],
      "metadata": {
        "id": "trjN9aFyeDx0"
      }
    },
    {
      "cell_type": "code",
      "source": [
        "class MyClass:\n",
        "    def __init__(self):\n",
        "        self.__private_variable = 99\n",
        "\n",
        "    def __private_method(self):\n",
        "        return \"This is a private method\"\n",
        "\n",
        "    def access_private_method(self):\n",
        "        return self.__private_method()\n",
        "\n",
        "obj = MyClass()\n",
        "\n",
        "# Accessing private method from within the class\n",
        "print(obj.access_private_method())  # Output: This is a private method\n",
        "\n",
        "# Trying to access private method directly will raise an error\n",
        "# print(obj.__private_method())  # AttributeError: 'MyClass' object has no attribute '__private_method'\n",
        "\n",
        "# Accessing private method using name mangling\n",
        "print(obj._MyClass__private_method())  # Output: This is a private method\n"
      ],
      "metadata": {
        "colab": {
          "base_uri": "https://localhost:8080/"
        },
        "id": "98e3FCaeeQkh",
        "outputId": "701aeb97-ebec-4449-beb8-d606c2eb88d2"
      },
      "execution_count": null,
      "outputs": [
        {
          "output_type": "stream",
          "name": "stdout",
          "text": [
            "This is a private method\n",
            "This is a private method\n"
          ]
        }
      ]
    },
    {
      "cell_type": "markdown",
      "source": [
        "**Explanation:**\n",
        "\n",
        "* The __private_method is \"mangled\" by Python to _MyClass__private_method, making it less likely to be accidentally accessed from outside the class.\n",
        "* Attempting to directly access __private_method using obj.__private_method() will result in an AttributeError.\n",
        "* However, it is still possible to access the private method by using its mangled name, though this is discouraged as it goes against the intended use of private methods."
      ],
      "metadata": {
        "id": "U4klikpueSGL"
      }
    },
    {
      "cell_type": "markdown",
      "source": [
        "## Access Control and Visibility in Python"
      ],
      "metadata": {
        "id": "ylnR4W-ZeciJ"
      }
    },
    {
      "cell_type": "markdown",
      "source": [
        "**Access Control:**\n",
        "\n",
        "* Python’s approach to access control is based on naming conventions rather than strict enforcement. This is aligned with Python’s philosophy of \"we are all consenting adults here,\" meaning developers are trusted to respect the conventions.\n",
        "\n",
        "***Visibility:***\n",
        "\n",
        "**Public:**\n",
        "\n",
        "Methods and attributes without any leading underscores are considered public and can be accessed from anywhere.\n",
        "\n",
        "**Protected:**\n",
        "\n",
        "Methods and attributes with a single leading underscore (_methodname) are intended to be protected. They should be accessed only within the class and its subclasses.\n",
        "\n",
        "**Private:**\n",
        "\n",
        "Methods and attributes with a double leading underscore (__methodname) are considered private. They are intended to be accessed only within the class itself. Python enforces this by name mangling."
      ],
      "metadata": {
        "id": "VAr7hIIledaZ"
      }
    },
    {
      "cell_type": "code",
      "source": [
        "class MyClass:\n",
        "    public_var = \"I am public\"\n",
        "    _protected_var = \"I am protected\"\n",
        "    __private_var = \"I am private\"\n",
        "\n",
        "    def public_method(self):\n",
        "        return \"Public method\"\n",
        "\n",
        "    def _protected_method(self):\n",
        "        return \"Protected method\"\n",
        "\n",
        "    def __private_method(self):\n",
        "        return \"Private method\"\n",
        "\n",
        "# Instantiating the class\n",
        "obj = MyClass()\n",
        "\n",
        "# Accessing public variables and methods\n",
        "print(obj.public_var)  # Output: I am public\n",
        "print(obj.public_method())  # Output: Public method\n",
        "\n",
        "# Accessing protected variables and methods (not recommended)\n",
        "print(obj._protected_var)  # Output: I am protected\n",
        "print(obj._protected_method())  # Output: Protected method\n",
        "\n",
        "# Accessing private variables and methods (will raise an error)\n",
        "# print(obj.__private_var)  # AttributeError: 'MyClass' object has no attribute '__private_var'\n",
        "# print(obj.__private_method())  # AttributeError: 'MyClass' object has no attribute '__private_method'\n",
        "\n",
        "# Accessing private variables and methods using name mangling\n",
        "print(obj._MyClass__private_var)  # Output: I am private\n",
        "print(obj._MyClass__private_method())  # Output: Private method\n"
      ],
      "metadata": {
        "colab": {
          "base_uri": "https://localhost:8080/"
        },
        "id": "ih1j7XdSe1Mx",
        "outputId": "80cbf88c-8096-4c5d-ba7f-f6316887d105"
      },
      "execution_count": null,
      "outputs": [
        {
          "output_type": "stream",
          "name": "stdout",
          "text": [
            "I am public\n",
            "Public method\n",
            "I am protected\n",
            "Protected method\n",
            "I am private\n",
            "Private method\n"
          ]
        }
      ]
    },
    {
      "cell_type": "markdown",
      "source": [
        "**Explanation:**\n",
        "\n",
        "* Public: The public_var and public_method are freely accessible from outside the class.\n",
        "* Protected: The _protected_var and _protected_method can be accessed from outside, but it is against convention and not recommended.\n",
        "* Private: The __private_var and __private_method are meant to be hidden, but can still be accessed using the mangled name, which should be avoided in practice."
      ],
      "metadata": {
        "id": "sFqYvcdQe2bN"
      }
    },
    {
      "cell_type": "markdown",
      "source": [
        "# ABC classes\n"
      ],
      "metadata": {
        "id": "NlueJSuhwWvO"
      }
    },
    {
      "cell_type": "markdown",
      "source": [
        "In Python, ABC stands for Abstract Base Classes. These classes are part of the abc module and are used to define abstract classes that cannot be instantiated directly but serve as blueprints for other classes. Abstract Base Classes can define abstract methods that must be implemented by any subclass, ensuring that certain methods are present in subclasses.\n",
        "\n"
      ],
      "metadata": {
        "id": "8_oJkM3Ywcy9"
      }
    },
    {
      "cell_type": "markdown",
      "source": [
        "##  Introduction to Abstract Base Classes (ABC)"
      ],
      "metadata": {
        "id": "EtV_agy4wfIq"
      }
    },
    {
      "cell_type": "markdown",
      "source": [
        "An Abstract Base Class is a class that is meant to be inherited from, and it may include one or more abstract methods. Abstract methods are methods that are declared in the base class but contain no implementation. Subclasses of the abstract base class must override these methods.\n",
        "\n",
        "**Why Use Abstract Base Classes?**\n",
        "\n",
        "Enforce Implementation: ABCs ensure that certain methods are implemented in any subclass, which can help maintain consistency across different implementations.\n",
        "Polymorphism: ABCs enable polymorphism by allowing you to define methods in an abstract class that can be overridden in subclasses with specific implementations.\n",
        "Prevent Instantiation: You can use ABCs to prevent direct instantiation of a base class, enforcing that only subclasses can be instantiated.\n"
      ],
      "metadata": {
        "id": "N_XSW9cbwiBD"
      }
    },
    {
      "cell_type": "markdown",
      "source": [
        "## Creating Abstract Base Classes"
      ],
      "metadata": {
        "id": "Ixn6kiIuwmmR"
      }
    },
    {
      "cell_type": "markdown",
      "source": [
        "To create an Abstract Base Class, you need to import the ABC and abstractmethod decorators from the abc module. The ABC class itself is a subclass of object, and it provides a mechanism for defining abstract methods."
      ],
      "metadata": {
        "id": "TOFf9EK7wq0n"
      }
    },
    {
      "cell_type": "code",
      "source": [
        "from abc import ABC, abstractmethod\n",
        "\n",
        "class MyAbstractClass(ABC):\n",
        "\n",
        "    @abstractmethod\n",
        "    def my_abstract_method(self):\n",
        "        pass\n"
      ],
      "metadata": {
        "id": "8rfH2SSdwsuP"
      },
      "execution_count": null,
      "outputs": []
    },
    {
      "cell_type": "markdown",
      "source": [
        "* ABC: The base class that all abstract classes should inherit from.\n",
        "* @abstractmethod: A decorator used to declare an abstract method that must be implemented by subclasses."
      ],
      "metadata": {
        "id": "C-5dbxjiwu4y"
      }
    },
    {
      "cell_type": "markdown",
      "source": [
        "**Here’s a simple example that demonstrates the use of an Abstract Base Class**"
      ],
      "metadata": {
        "id": "KeGbr84dwydp"
      }
    },
    {
      "cell_type": "code",
      "source": [
        "from abc import ABC, abstractmethod\n",
        "\n",
        "# Define an Abstract Base Class\n",
        "class Shape(ABC):\n",
        "\n",
        "    @abstractmethod\n",
        "    def area(self):\n",
        "        pass\n",
        "\n",
        "    @abstractmethod\n",
        "    def perimeter(self):\n",
        "        pass\n",
        "\n",
        "# Subclass that implements the abstract methods\n",
        "class Rectangle(Shape):\n",
        "    def __init__(self, width, height):\n",
        "        self.width = width\n",
        "        self.height = height\n",
        "\n",
        "    def area(self):\n",
        "        return self.width * self.height\n",
        "\n",
        "    def perimeter(self):\n",
        "        return 2 * (self.width + self.height)\n",
        "\n",
        "# Another subclass implementing the abstract methods\n",
        "class Circle(Shape):\n",
        "    def __init__(self, radius):\n",
        "        self.radius = radius\n",
        "\n",
        "    def area(self):\n",
        "        return 3.14159 * self.radius ** 2\n",
        "\n",
        "    def perimeter(self):\n",
        "        return 2 * 3.14159 * self.radius\n",
        "\n",
        "# Instantiate the subclasses\n",
        "rect = Rectangle(5, 10)\n",
        "circle = Circle(7)\n",
        "\n",
        "# Call the implemented methods\n",
        "print(f\"Rectangle Area: {rect.area()}, Perimeter: {rect.perimeter()}\")\n",
        "# Output: Rectangle Area: 50, Perimeter: 30\n",
        "\n",
        "print(f\"Circle Area: {circle.area()}, Perimeter: {circle.perimeter()}\")\n",
        "# Output: Circle Area: 153.93791, Perimeter: 43.98226\n"
      ],
      "metadata": {
        "colab": {
          "base_uri": "https://localhost:8080/"
        },
        "id": "lvaIGaXTxsRs",
        "outputId": "e297f8f6-003c-44ec-d66b-403ab88eabae"
      },
      "execution_count": null,
      "outputs": [
        {
          "output_type": "stream",
          "name": "stdout",
          "text": [
            "Rectangle Area: 50, Perimeter: 30\n",
            "Circle Area: 153.93791, Perimeter: 43.98226\n"
          ]
        }
      ]
    },
    {
      "cell_type": "markdown",
      "source": [
        "**Explanation:**\n",
        "\n",
        "* Shape: An abstract base class with two abstract methods: area() and perimeter().\n",
        "* Rectangle and Circle: Subclasses of Shape that implement the area() and perimeter() methods.\n"
      ],
      "metadata": {
        "id": "Co0ul0pvxvtS"
      }
    },
    {
      "cell_type": "markdown",
      "source": [
        "## Using abc.ABCMeta Directly"
      ],
      "metadata": {
        "id": "VbflvrTSx5wr"
      }
    },
    {
      "cell_type": "markdown",
      "source": [
        "The ABC class is just a convenience that uses abc.ABCMeta as its metaclass. If needed, you can also create an abstract base class directly by specifying ABCMeta as the metaclass."
      ],
      "metadata": {
        "id": "Q9YJ1IXxx-kf"
      }
    },
    {
      "cell_type": "markdown",
      "source": [
        "### Meta class"
      ],
      "metadata": {
        "id": "1cV9NRFZzNGQ"
      }
    },
    {
      "cell_type": "markdown",
      "source": [
        "* A metaclass is a class of a class. In other words, while classes define the structure and behavior of objects, a metaclass defines the structure and behavior of classes themselves.\n",
        "* ABCMeta is a special metaclass provided by the abc module. It allows the creation of abstract base classes, enabling you to define abstract methods that must be implemented by any subclass."
      ],
      "metadata": {
        "id": "KxxOpBDtzQXj"
      }
    },
    {
      "cell_type": "code",
      "source": [
        "import abc\n",
        "\n",
        "class MyABC(metaclass=abc.ABCMeta):\n",
        "    @abc.abstractmethod\n",
        "    def my_method(self):\n",
        "        pass\n"
      ],
      "metadata": {
        "id": "fCqzw4mUyAZ7"
      },
      "execution_count": null,
      "outputs": []
    },
    {
      "cell_type": "markdown",
      "source": [
        "**Explanation:**\n",
        "* class MyABC: This defines a new class called MyABC.\n",
        "* metaclass=abc.ABCMeta: This specifies that the MyABC class uses ABCMeta as its metaclass.\n",
        "* In this example, MySubclass is a subclass of MyABC.\n",
        "* MySubclass implements the my_method, which is required by the abstract base class.\n",
        "* Now you can create an instance of MySubclass and call my_method, which will return \"Method implemented!\".\n",
        "\n",
        "\n"
      ],
      "metadata": {
        "id": "DH2ZTDvYyCD-"
      }
    },
    {
      "cell_type": "markdown",
      "source": [
        "**Key Points About ABCs:**\n",
        "\n",
        "* Cannot Instantiate: You cannot create an instance of an abstract base class directly. For example, trying to instantiate Shape directly would raise a TypeError:"
      ],
      "metadata": {
        "id": "chjl4C_dyLSC"
      }
    },
    {
      "cell_type": "code",
      "source": [
        "shape = Shape()  # TypeError: Can't instantiate abstract class Shape with abstract methods area, perimeter\n"
      ],
      "metadata": {
        "colab": {
          "base_uri": "https://localhost:8080/",
          "height": 139
        },
        "id": "m7RUYm6AyV1z",
        "outputId": "aa470a9d-259b-4494-a283-7bd12f2e4b7a"
      },
      "execution_count": null,
      "outputs": [
        {
          "output_type": "error",
          "ename": "TypeError",
          "evalue": "Can't instantiate abstract class Shape with abstract methods area, perimeter",
          "traceback": [
            "\u001b[0;31m---------------------------------------------------------------------------\u001b[0m",
            "\u001b[0;31mTypeError\u001b[0m                                 Traceback (most recent call last)",
            "\u001b[0;32m<ipython-input-19-0aaa6df02e09>\u001b[0m in \u001b[0;36m<cell line: 1>\u001b[0;34m()\u001b[0m\n\u001b[0;32m----> 1\u001b[0;31m \u001b[0mshape\u001b[0m \u001b[0;34m=\u001b[0m \u001b[0mShape\u001b[0m\u001b[0;34m(\u001b[0m\u001b[0;34m)\u001b[0m  \u001b[0;31m# TypeError: Can't instantiate abstract class Shape with abstract methods area, perimeter\u001b[0m\u001b[0;34m\u001b[0m\u001b[0;34m\u001b[0m\u001b[0m\n\u001b[0m",
            "\u001b[0;31mTypeError\u001b[0m: Can't instantiate abstract class Shape with abstract methods area, perimeter"
          ]
        }
      ]
    },
    {
      "cell_type": "markdown",
      "source": [
        "* Must Implement All Abstract Methods: Subclasses of an abstract base class must implement all abstract methods defined in the base class. If a subclass fails to do so, it also becomes an abstract class and cannot be instantiated.\n",
        "* Partial Implementation: If a subclass implements some but not all abstract methods, it remains an abstract class, and you cannot create instances of it.\n"
      ],
      "metadata": {
        "id": "HuXeve5Iyb9e"
      }
    }
  ]
}