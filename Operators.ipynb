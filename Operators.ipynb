{
  "nbformat": 4,
  "nbformat_minor": 0,
  "metadata": {
    "colab": {
      "provenance": [],
      "authorship_tag": "ABX9TyP1iG8uDqeXhlvYBE4Z1FhQ",
      "include_colab_link": true
    },
    "kernelspec": {
      "name": "python3",
      "display_name": "Python 3"
    },
    "language_info": {
      "name": "python"
    }
  },
  "cells": [
    {
      "cell_type": "markdown",
      "metadata": {
        "id": "view-in-github",
        "colab_type": "text"
      },
      "source": [
        "<a href=\"https://colab.research.google.com/github/rohitjaiswalrj32/Python-Practice/blob/main/Operators.ipynb\" target=\"_parent\"><img src=\"https://colab.research.google.com/assets/colab-badge.svg\" alt=\"Open In Colab\"/></a>"
      ]
    },
    {
      "cell_type": "code",
      "execution_count": 1,
      "metadata": {
        "id": "RLqslX5xyvgx"
      },
      "outputs": [],
      "source": [
        "# 1. Arithmetic Operators\n",
        "\n",
        "Num1 = int(input(\"Enter First Number: \"))\n",
        "Num2 = int(input(\"Enter Second Number: \"))"
      ]
    },
    {
      "cell_type": "code",
      "source": [
        "#Addition\n",
        "print(\"Sum:\", Num1 + Num2)\n",
        "\n",
        "#Substraction\n",
        "print(\"Substraction:\", Num1 - Num2)\n",
        "\n",
        "#Multiply\n",
        "print(\"Multiplication:\", Num1 * Num2)\n",
        "\n",
        "#Division\n",
        "print(\"Division:\", Num1 / Num2)\n",
        "\n",
        "#Floor Division\n",
        "print(\"Floor Division:\", Num1 // Num2)\n",
        "\n",
        "#Modulo\n",
        "print(\"Modulus:\", Num1 % Num2)\n",
        "\n",
        "#Exponent\n",
        "print(\"Exponent:\", Num1 ** Num2)\n"
      ],
      "metadata": {
        "colab": {
          "base_uri": "https://localhost:8080/"
        },
        "id": "JfHMNuL7zjdq",
        "outputId": "91615aab-26d8-4382-a83a-0573bc13cf75"
      },
      "execution_count": 7,
      "outputs": [
        {
          "output_type": "stream",
          "name": "stdout",
          "text": [
            "Sum: 17\n",
            "Substraction: 7\n",
            "Multiplication: 60\n",
            "Division: 2.4\n",
            "Floor Division: 2\n",
            "Modulus: 2\n",
            "Exponent: 248832\n"
          ]
        }
      ]
    },
    {
      "cell_type": "code",
      "source": [
        "# 2. Comparision Operators\n",
        "\n",
        "#Equality\n",
        "print(\"Equal to:\", Num1 == Num2)\n",
        "\n",
        "#Not-Equal\n",
        "print(\"Not Equal to:\", Num1 != Num2)\n",
        "\n",
        "#Greater than\n",
        "print(\"Greater than:\", Num1 > Num2)\n",
        "\n",
        "#Less than\n",
        "print(\"Less than:\", Num1 < Num2)\n",
        "\n",
        "#Greater or Equal-to\n",
        "print(\"Greater than or equal to:\", Num1 >= Num2)\n",
        "\n",
        "#Less than or Equal-to\n",
        "print(\"Less than or equal to:\", Num1 <= Num2)"
      ],
      "metadata": {
        "colab": {
          "base_uri": "https://localhost:8080/"
        },
        "id": "DGl5NLSC0MzY",
        "outputId": "5d577f64-f0ab-4189-cdce-e1f51f68afb4"
      },
      "execution_count": 8,
      "outputs": [
        {
          "output_type": "stream",
          "name": "stdout",
          "text": [
            "Equal to: False\n",
            "Not Equal to: True\n",
            "Greater than: True\n",
            "Less than: False\n",
            "Greater than or equal to: True\n",
            "Less than or equal to: False\n"
          ]
        }
      ]
    },
    {
      "cell_type": "code",
      "source": [
        "# 3. Logical Operators\n",
        "\n",
        "#AND\n",
        "print(\"AND:\", Num1 > Num2 and Num1 < Num2)\n",
        "\n",
        "#OR\n",
        "print(\"OR:\", Num1 > Num2 or Num1 < Num2)\n",
        "\n",
        "#NOT\n",
        "print(\"NOT:\", not(Num1 > Num2 and Num1 < Num2))"
      ],
      "metadata": {
        "colab": {
          "base_uri": "https://localhost:8080/"
        },
        "id": "XkxCXFO01-op",
        "outputId": "67ec4600-0301-498d-caee-04fd6fed7900"
      },
      "execution_count": 9,
      "outputs": [
        {
          "output_type": "stream",
          "name": "stdout",
          "text": [
            "AND: False\n",
            "OR: True\n",
            "NOT: True\n"
          ]
        }
      ]
    },
    {
      "cell_type": "code",
      "source": [
        "# 4. Assignment Operators\n",
        "\n",
        "# Add Assignment\n",
        "Num1 += 5\n",
        "print(\"Add Assignment:\", Num1)\n",
        "\n",
        "# Subtract Assignment\n",
        "Num1 -= 3\n",
        "print(\"Subtract Assignment:\", Num1)\n",
        "\n",
        "# Multiply Assignment\n",
        "Num1 *= 2\n",
        "print(\"Multiply Assignment:\", Num1)\n",
        "\n",
        "# Divide Assignment\n",
        "Num1 /= 4\n",
        "print(\"Divide Assignment:\", Num1)\n",
        "\n",
        "# Floor Divide Assignment\n",
        "Num1 //= 3\n",
        "print(\"Floor Divide Assignment:\", Num1)\n",
        "\n",
        "# Modulus Assignment\n",
        "Num1 %= 2\n",
        "print(\"Modulus Assignment:\", Num1)\n",
        "\n",
        "# Exponent Assignment\n",
        "Num1 **= 3\n",
        "print(\"Exponent Assignment:\", Num1)\n",
        "\n",
        "\n",
        "\n"
      ],
      "metadata": {
        "colab": {
          "base_uri": "https://localhost:8080/"
        },
        "id": "hK8LyTwQ2W1V",
        "outputId": "4f3925fc-5f26-43e8-e115-d0a13649e95e"
      },
      "execution_count": 11,
      "outputs": [
        {
          "output_type": "stream",
          "name": "stdout",
          "text": [
            "Add Assignment: 5.0\n",
            "Subtract Assignment: 2.0\n",
            "Multiply Assignment: 4.0\n",
            "Divide Assignment: 1.0\n",
            "Floor Divide Assignment: 0.0\n",
            "Modulus Assignment: 0.0\n",
            "Exponent Assignment: 0.0\n"
          ]
        }
      ]
    },
    {
      "cell_type": "code",
      "source": [
        "# 5. Membership Operators\n",
        "\n",
        "# IN Membership Operator\n",
        "\n",
        "# String example\n",
        "name = \"Rohit Jaiswal\"\n",
        "print(\"In:\", 'J' in name)\n",
        "\n",
        "# List example\n",
        "fruits = [\"apple\", \"banana\", \"cherry\"]\n",
        "print(\"In:\", \"banana\" in fruits)\n",
        "\n",
        "\n",
        "# NOT IN Membership Operator\n",
        "\n",
        "# String example\n",
        "name = \"Rohit Jaiswal\"\n",
        "print(\"Not In:\", 'e' not in name)\n",
        "\n",
        "# List example\n",
        "fruits = [\"apple\", \"banana\", \"cherry\"]\n",
        "print(\"Not In:\", \"orange\" not in fruits)\n",
        "\n",
        "#Note: It is case-sensitive. It can only find exact match which include upper and lower case.\n"
      ],
      "metadata": {
        "colab": {
          "base_uri": "https://localhost:8080/"
        },
        "id": "egaLOVUU4Bh8",
        "outputId": "e4654adc-7e18-467c-81cd-3a1124853b97"
      },
      "execution_count": 21,
      "outputs": [
        {
          "output_type": "stream",
          "name": "stdout",
          "text": [
            "In: True\n",
            "In: True\n",
            "Not In: True\n",
            "Not In: True\n"
          ]
        }
      ]
    },
    {
      "cell_type": "code",
      "source": [
        "# 6. Identity Operators\n",
        "\n",
        "a = 10\n",
        "b = 10\n",
        "c = [1, 2, 3]\n",
        "d = [1, 2, 3]\n",
        "\n",
        "\n",
        "# Using `is` with simple values\n",
        "print(\"is:\", a is b)\n",
        "\n",
        "# Using `is` with complex objects\n",
        "print(\"is:\", c is d)\n",
        "\n",
        "# Using IS NOT with simple values\n",
        "print(\"is not:\", a is not b)\n",
        "\n",
        "# Using IS NOT with complex objects\n",
        "print(\"is not:\", c is not d)\n"
      ],
      "metadata": {
        "colab": {
          "base_uri": "https://localhost:8080/"
        },
        "id": "3ptJdRvo4zoC",
        "outputId": "cc1cb595-48d3-4a97-9df6-0dd3c83e2922"
      },
      "execution_count": 22,
      "outputs": [
        {
          "output_type": "stream",
          "name": "stdout",
          "text": [
            "is: True\n",
            "is: False\n",
            "is not: False\n",
            "is not: True\n"
          ]
        }
      ]
    },
    {
      "cell_type": "code",
      "source": [
        "# Practice Questions....\n",
        "\n",
        "#Arithmetic Operators\n",
        "\n",
        "# Q1: Take two numbers from the user. Print their:\n",
        "# - sum\n",
        "# - difference\n",
        "# - product\n",
        "# - quotient\n",
        "# - remainder\n",
        "# - exponentiation\n",
        "\n",
        "\n",
        "# Solution:\n",
        "Num1 = int(input(\"Enter First Number: \"))\n",
        "Num2 = int(input(\"Enter Second Number: \"))\n",
        "\n",
        "print(\"Sum:\", Num1 + Num2)\n",
        "print(\"Difference:\", Num1 - Num2)\n",
        "print(\"Product:\", Num1*Num2)\n",
        "print(\"Quotient:\", Num1/Num2)\n",
        "print(\"Reminder:\", Num1%Num2)\n",
        "print(\"Exponentiation:\", Num1**Num2)"
      ],
      "metadata": {
        "colab": {
          "base_uri": "https://localhost:8080/"
        },
        "id": "9sU0JhZl6Y-C",
        "outputId": "d3802328-8fc1-4772-be74-8c060a774246"
      },
      "execution_count": 28,
      "outputs": [
        {
          "output_type": "stream",
          "name": "stdout",
          "text": [
            "Enter First Number: 3\n",
            "Enter Second Number: 2\n",
            "Sum: 5\n",
            "Difference: 1\n",
            "Product: 6\n",
            "Quotient: 1.5\n",
            "Reminder: 1\n",
            "Exponentiation: 9\n"
          ]
        }
      ]
    },
    {
      "cell_type": "code",
      "source": [
        "#Comparison Operators\n",
        "\n",
        "# Q2: Take two numbers and print whether:\n",
        "# - They are equal\n",
        "# - First is greater\n",
        "# - Second is greater\n",
        "\n",
        "#Solution:\n",
        "Num1 = int(input(\"Enter First Number:\"))\n",
        "Num2 = int(input(\"Enter Second Number:\"))\n",
        "\n",
        "if Num1 == Num2:\n",
        "    print(\"They are equal\")\n",
        "elif Num1 > Num2:\n",
        "    print(\"First Number is greater\")\n",
        "else:\n",
        "    print(\"Second Number is greater\")"
      ],
      "metadata": {
        "colab": {
          "base_uri": "https://localhost:8080/"
        },
        "id": "Ntxc0Sp56_U2",
        "outputId": "6f75aaf5-6a4c-4198-a043-dc98cd6154fc"
      },
      "execution_count": 34,
      "outputs": [
        {
          "output_type": "stream",
          "name": "stdout",
          "text": [
            "Enter First Number:17\n",
            "Enter Second Number:19\n",
            "Second Number is greater\n"
          ]
        }
      ]
    },
    {
      "cell_type": "code",
      "source": [
        "#Logical Operator\n",
        "\n",
        "# Q3: Take a number and check:\n",
        "# - if it is greater than 10 AND even\n",
        "# - if it is less than 5 OR greater than 20\n",
        "# - if it is NOT equal to 15\n",
        "\n",
        "#Solution:\n",
        "Num1 = int(input(\"Enter a Number:\"))\n",
        "if Num1 > 10 and Num1 % 2 == 0:\n",
        "    print(\"Number is greater than 10 AND even\")\n",
        "elif Num1 < 5 or Num1 > 20:\n",
        "    print(\"Number is less than 5 OR greater than 20\")\n",
        "elif Num1 != 15:\n",
        "    print(\"Number is NOT equal to 15\")\n",
        "else:\n",
        "    print(\"Number does not satisy any condition\")"
      ],
      "metadata": {
        "colab": {
          "base_uri": "https://localhost:8080/"
        },
        "id": "GqbGTScx9z4x",
        "outputId": "f7673623-330e-4a4b-f936-b47849906820"
      },
      "execution_count": 40,
      "outputs": [
        {
          "output_type": "stream",
          "name": "stdout",
          "text": [
            "Enter a Number:23\n",
            "Number is less than 5 OR greater than 20\n"
          ]
        }
      ]
    },
    {
      "cell_type": "code",
      "source": [],
      "metadata": {
        "id": "IaGLwdkT_GrX"
      },
      "execution_count": null,
      "outputs": []
    }
  ]
}