{
  "nbformat": 4,
  "nbformat_minor": 0,
  "metadata": {
    "colab": {
      "provenance": [],
      "authorship_tag": "ABX9TyOWzuXyz/tSLD2MexKGbtcS",
      "include_colab_link": true
    },
    "kernelspec": {
      "name": "python3",
      "display_name": "Python 3"
    },
    "language_info": {
      "name": "python"
    }
  },
  "cells": [
    {
      "cell_type": "markdown",
      "metadata": {
        "id": "view-in-github",
        "colab_type": "text"
      },
      "source": [
        "<a href=\"https://colab.research.google.com/github/rohitjaiswalrj32/Python-Practice/blob/main/Operators.ipynb\" target=\"_parent\"><img src=\"https://colab.research.google.com/assets/colab-badge.svg\" alt=\"Open In Colab\"/></a>"
      ]
    },
    {
      "cell_type": "code",
      "execution_count": 1,
      "metadata": {
        "id": "RLqslX5xyvgx"
      },
      "outputs": [],
      "source": [
        "# 1. Arithmetic Operators\n",
        "\n",
        "Num1 = int(input(\"Enter First Number: \"))\n",
        "Num2 = int(input(\"Enter Second Number: \"))"
      ]
    },
    {
      "cell_type": "code",
      "source": [
        "#Addition\n",
        "print(\"Sum:\", Num1 + Num2)\n",
        "\n",
        "#Substraction\n",
        "print(\"Substraction:\", Num1 - Num2)\n",
        "\n",
        "#Multiply\n",
        "print(\"Multiplication:\", Num1 * Num2)\n",
        "\n",
        "#Division\n",
        "print(\"Division:\", Num1 / Num2)\n",
        "\n",
        "#Floor Division\n",
        "print(\"Floor Division:\", Num1 // Num2)\n",
        "\n",
        "#Modulo\n",
        "print(\"Modulus:\", Num1 % Num2)\n",
        "\n",
        "#Exponent\n",
        "print(\"Exponent:\", Num1 ** Num2)\n"
      ],
      "metadata": {
        "colab": {
          "base_uri": "https://localhost:8080/"
        },
        "id": "JfHMNuL7zjdq",
        "outputId": "91615aab-26d8-4382-a83a-0573bc13cf75"
      },
      "execution_count": 7,
      "outputs": [
        {
          "output_type": "stream",
          "name": "stdout",
          "text": [
            "Sum: 17\n",
            "Substraction: 7\n",
            "Multiplication: 60\n",
            "Division: 2.4\n",
            "Floor Division: 2\n",
            "Modulus: 2\n",
            "Exponent: 248832\n"
          ]
        }
      ]
    },
    {
      "cell_type": "code",
      "source": [
        "# 2. Comparision Operators\n",
        "\n",
        "#Equality\n",
        "print(\"Equal to:\", Num1 == Num2)\n",
        "\n",
        "#Not-Equal\n",
        "print(\"Not Equal to:\", Num1 != Num2)\n",
        "\n",
        "#Greater than\n",
        "print(\"Greater than:\", Num1 > Num2)\n",
        "\n",
        "#Less than\n",
        "print(\"Less than:\", Num1 < Num2)\n",
        "\n",
        "#Greater or Equal-to\n",
        "print(\"Greater than or equal to:\", Num1 >= Num2)\n",
        "\n",
        "#Less than or Equal-to\n",
        "print(\"Less than or equal to:\", Num1 <= Num2)"
      ],
      "metadata": {
        "colab": {
          "base_uri": "https://localhost:8080/"
        },
        "id": "DGl5NLSC0MzY",
        "outputId": "5d577f64-f0ab-4189-cdce-e1f51f68afb4"
      },
      "execution_count": 8,
      "outputs": [
        {
          "output_type": "stream",
          "name": "stdout",
          "text": [
            "Equal to: False\n",
            "Not Equal to: True\n",
            "Greater than: True\n",
            "Less than: False\n",
            "Greater than or equal to: True\n",
            "Less than or equal to: False\n"
          ]
        }
      ]
    },
    {
      "cell_type": "code",
      "source": [
        "# 3. Logical Operators\n",
        "\n",
        "#AND\n",
        "print(\"AND:\", Num1 > Num2 and Num1 < Num2)\n",
        "\n",
        "#OR\n",
        "print(\"OR:\", Num1 > Num2 or Num1 < Num2)\n",
        "\n",
        "#NOT\n",
        "print(\"NOT:\", not(Num1 > Num2 and Num1 < Num2))"
      ],
      "metadata": {
        "colab": {
          "base_uri": "https://localhost:8080/"
        },
        "id": "XkxCXFO01-op",
        "outputId": "67ec4600-0301-498d-caee-04fd6fed7900"
      },
      "execution_count": 9,
      "outputs": [
        {
          "output_type": "stream",
          "name": "stdout",
          "text": [
            "AND: False\n",
            "OR: True\n",
            "NOT: True\n"
          ]
        }
      ]
    },
    {
      "cell_type": "code",
      "source": [
        "# 4. Assignment Operators\n",
        "\n",
        "# Add Assignment\n",
        "Num1 += 5\n",
        "print(\"Add Assignment:\", Num1)\n",
        "\n",
        "# Subtract Assignment\n",
        "Num1 -= 3\n",
        "print(\"Subtract Assignment:\", Num1)\n",
        "\n",
        "# Multiply Assignment\n",
        "Num1 *= 2\n",
        "print(\"Multiply Assignment:\", Num1)\n",
        "\n",
        "# Divide Assignment\n",
        "Num1 /= 4\n",
        "print(\"Divide Assignment:\", Num1)\n",
        "\n",
        "# Floor Divide Assignment\n",
        "Num1 //= 3\n",
        "print(\"Floor Divide Assignment:\", Num1)\n",
        "\n",
        "# Modulus Assignment\n",
        "Num1 %= 2\n",
        "print(\"Modulus Assignment:\", Num1)\n",
        "\n",
        "# Exponent Assignment\n",
        "Num1 **= 3\n",
        "print(\"Exponent Assignment:\", Num1)\n",
        "\n",
        "\n",
        "\n"
      ],
      "metadata": {
        "colab": {
          "base_uri": "https://localhost:8080/"
        },
        "id": "hK8LyTwQ2W1V",
        "outputId": "4f3925fc-5f26-43e8-e115-d0a13649e95e"
      },
      "execution_count": 11,
      "outputs": [
        {
          "output_type": "stream",
          "name": "stdout",
          "text": [
            "Add Assignment: 5.0\n",
            "Subtract Assignment: 2.0\n",
            "Multiply Assignment: 4.0\n",
            "Divide Assignment: 1.0\n",
            "Floor Divide Assignment: 0.0\n",
            "Modulus Assignment: 0.0\n",
            "Exponent Assignment: 0.0\n"
          ]
        }
      ]
    },
    {
      "cell_type": "code",
      "source": [
        "# 5. Membership Operators"
      ],
      "metadata": {
        "colab": {
          "base_uri": "https://localhost:8080/"
        },
        "id": "uRkbvH-33nqE",
        "outputId": "d616b16d-be28-4346-922b-ae3160fb2434"
      },
      "execution_count": 12,
      "outputs": [
        {
          "output_type": "stream",
          "name": "stdout",
          "text": [
            "In: True\n",
            "In: True\n"
          ]
        }
      ]
    },
    {
      "cell_type": "code",
      "source": [
        "# IN Membership Operator\n",
        "\n",
        "# String example\n",
        "name = \"Rohit Jaiswal\"\n",
        "print(\"In:\", 'J' in name)\n",
        "\n",
        "# List example\n",
        "fruits = [\"apple\", \"banana\", \"cherry\"]\n",
        "print(\"In:\", \"banana\" in fruits)\n"
      ],
      "metadata": {
        "colab": {
          "base_uri": "https://localhost:8080/"
        },
        "id": "egaLOVUU4Bh8",
        "outputId": "b77151cc-8358-4dfd-8470-c206700f9bad"
      },
      "execution_count": 15,
      "outputs": [
        {
          "output_type": "stream",
          "name": "stdout",
          "text": [
            "In: True\n",
            "In: True\n"
          ]
        }
      ]
    },
    {
      "cell_type": "code",
      "source": [
        "# NOT IN Membership Operator\n",
        "\n",
        "# String example\n",
        "name = \"Rohit Jaiswal\"\n",
        "print(\"Not In:\", 'e' not in name)\n",
        "\n",
        "# List example\n",
        "fruits = [\"apple\", \"banana\", \"cherry\"]\n",
        "print(\"Not In:\", \"orange\" not in fruits)\n",
        "\n",
        "#Note: It is case-sensitive. It can only find exact match which include upper and lower case.\n"
      ],
      "metadata": {
        "colab": {
          "base_uri": "https://localhost:8080/"
        },
        "id": "DpxA7HpO4YO1",
        "outputId": "169d530c-cc60-49e4-c63e-5733d8a107f7"
      },
      "execution_count": 20,
      "outputs": [
        {
          "output_type": "stream",
          "name": "stdout",
          "text": [
            "Not In: True\n",
            "Not In: True\n"
          ]
        }
      ]
    },
    {
      "cell_type": "code",
      "source": [],
      "metadata": {
        "id": "3ptJdRvo4zoC"
      },
      "execution_count": null,
      "outputs": []
    }
  ]
}