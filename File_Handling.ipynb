{
  "nbformat": 4,
  "nbformat_minor": 0,
  "metadata": {
    "colab": {
      "provenance": [],
      "authorship_tag": "ABX9TyPBQFIyEG4FpgCenznkRc4I",
      "include_colab_link": true
    },
    "kernelspec": {
      "name": "python3",
      "display_name": "Python 3"
    },
    "language_info": {
      "name": "python"
    }
  },
  "cells": [
    {
      "cell_type": "markdown",
      "metadata": {
        "id": "view-in-github",
        "colab_type": "text"
      },
      "source": [
        "<a href=\"https://colab.research.google.com/github/rohitjaiswalrj32/Python-Practice/blob/main/File_Handling.ipynb\" target=\"_parent\"><img src=\"https://colab.research.google.com/assets/colab-badge.svg\" alt=\"Open In Colab\"/></a>"
      ]
    },
    {
      "cell_type": "code",
      "execution_count": 1,
      "metadata": {
        "id": "Ob4CKWDBUlor"
      },
      "outputs": [],
      "source": [
        "# File Handling: File handling allows your program to read from and write to files stored on your computer or server.\n",
        "                 #This is essential for data analysis when working with datasets or saving results.\n",
        "\n",
        "\n",
        "# Why File Handling?\n",
        "\n",
        "#Store data persistently (beyond program execution).\n",
        "#Read input data from files.\n",
        "#Save processed data or results.\n",
        "#Work with various file formats (text, CSV, JSON, etc.)."
      ]
    },
    {
      "cell_type": "code",
      "source": [
        "#Basics of File Handling: Python provides built-in functions to open, read, write, and close files.\n",
        "\n",
        "# 1. Opening a File:\n",
        "\n",
        "#Syntax: open(file_name, mode)\n",
        "\n",
        "\n",
        "#Common modes:\n",
        "\n",
        "# 'r': Read (default)\n",
        "# 'w': Write (overwrites existing)\n",
        "# 'a': Append (adds to end)\n",
        "# 'x': Create (error if file exists)\n",
        "# 'b': Binary mode\n",
        "# 't': Text mode (default)\n",
        "\n",
        "\n",
        "# 2. Reading from a File:\n",
        "\n",
        "#read() – Reads the entire content\n",
        "#readline() – Reads one line\n",
        "#readlines() – Reads all lines into a list\n",
        "\n",
        "\n",
        "# 3. Writing to a File:\n",
        "\n",
        "#write(\"text\")\n",
        "#writelines([\"line1\", \"line2\"])\n",
        "\n",
        "\n",
        "# 4. Closing a File:\n",
        "\n",
        "#file.close() - close a file to free system resources\n",
        "\n",
        "\n",
        "# 5. With Statement: Automatically closes the file. Recommended for best practice.\n",
        "\n",
        "#  with open(\"file.txt\", \"r\") as f:\n",
        "#      data = f.read()\n"
      ],
      "metadata": {
        "id": "IThHFfjmVrxH"
      },
      "execution_count": 5,
      "outputs": []
    },
    {
      "cell_type": "code",
      "source": [
        "#Practice Exercises\n",
        "\n",
        "# Q1. Read contents of a text file and print line by line.\n",
        "\n",
        "\n",
        "# Q2. Write a list of names to a new file, one name per line.\n",
        "\n",
        "# Q3. Append a new sentence to an existing file.\n",
        "\n",
        "# Q4. Read a CSV file containing student names and grades, and calculate average grade.\n",
        "\n",
        "# Q5. Create a CSV file from a list of dictionaries representing products with price and quantity."
      ],
      "metadata": {
        "id": "S5MIFBbwWdqz"
      },
      "execution_count": 6,
      "outputs": []
    },
    {
      "cell_type": "code",
      "source": [
        "#Creating example.txt\n",
        "\n",
        "example_content = \"\"\"Python is a powerful programming language.\n",
        "It is widely used for data analysis, web development, and automation.\n",
        "File handling is an essential part of working with Python.\n",
        "Practice makes perfect. Keep learning and coding!\"\"\"\n",
        "\n",
        "with open('example.txt', 'w') as file:\n",
        "    file.write(example_content)\n",
        "\n",
        "\n",
        "#Verifying:\n",
        "print(\"✅ 'example.txt' created successfully.\\n\")\n",
        "\n",
        "with open('example.txt', 'r') as file:\n",
        "    print(\"Contents of example.txt:\")\n",
        "    for line in file:\n",
        "        print(line.strip())\n"
      ],
      "metadata": {
        "colab": {
          "base_uri": "https://localhost:8080/"
        },
        "id": "jLi5qom-cJcA",
        "outputId": "5634dbeb-e6e6-43e8-ab28-a6011a4edd25"
      },
      "execution_count": 11,
      "outputs": [
        {
          "output_type": "stream",
          "name": "stdout",
          "text": [
            "✅ 'example.txt' created successfully.\n",
            "\n",
            "Contents of example.txt:\n",
            "Python is a powerful programming language.\n",
            "It is widely used for data analysis, web development, and automation.\n",
            "File handling is an essential part of working with Python.\n",
            "Practice makes perfect. Keep learning and coding!\n"
          ]
        }
      ]
    },
    {
      "cell_type": "code",
      "source": [
        "#File Handling Examples\n",
        "\n",
        "#Example 1: Write to a file\n",
        "with open(\"example.txt\", \"w\") as file:\n",
        "    file.write(\"Hello, this is Rohit.\\nLearning File Handling in Python!\")\n",
        "\n",
        "#Example 2: Read from a file\n",
        "with open(\"example.txt\", \"r\") as file:\n",
        "    content = file.read()\n",
        "    print(content)\n",
        "\n",
        "#Example 3: Append to a file\n",
        "with open(\"example.txt\", \"a\") as file:\n",
        "    file.write(\"\\nThis is an additional line.\")"
      ],
      "metadata": {
        "colab": {
          "base_uri": "https://localhost:8080/"
        },
        "id": "C20vW-4gcKT3",
        "outputId": "637f87f8-11c8-4416-c32b-cf2d711c2ac9"
      },
      "execution_count": 19,
      "outputs": [
        {
          "output_type": "stream",
          "name": "stdout",
          "text": [
            "Hello, this is Rohit.\n",
            "Learning File Handling in Python!\n"
          ]
        }
      ]
    },
    {
      "cell_type": "code",
      "source": [],
      "metadata": {
        "id": "K7Tlim38dRO1"
      },
      "execution_count": null,
      "outputs": []
    }
  ]
}