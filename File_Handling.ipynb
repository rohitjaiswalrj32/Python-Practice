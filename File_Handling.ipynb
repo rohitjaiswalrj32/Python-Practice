{
  "nbformat": 4,
  "nbformat_minor": 0,
  "metadata": {
    "colab": {
      "provenance": [],
      "authorship_tag": "ABX9TyMCcC/KflHkzPFioaKp9sLp",
      "include_colab_link": true
    },
    "kernelspec": {
      "name": "python3",
      "display_name": "Python 3"
    },
    "language_info": {
      "name": "python"
    }
  },
  "cells": [
    {
      "cell_type": "markdown",
      "metadata": {
        "id": "view-in-github",
        "colab_type": "text"
      },
      "source": [
        "<a href=\"https://colab.research.google.com/github/rohitjaiswalrj32/Python-Practice/blob/main/File_Handling.ipynb\" target=\"_parent\"><img src=\"https://colab.research.google.com/assets/colab-badge.svg\" alt=\"Open In Colab\"/></a>"
      ]
    },
    {
      "cell_type": "code",
      "execution_count": 1,
      "metadata": {
        "id": "Ob4CKWDBUlor"
      },
      "outputs": [],
      "source": [
        "# File Handling: File handling allows your program to read from and write to files stored on your computer or server.\n",
        "                 #This is essential for data analysis when working with datasets or saving results.\n",
        "\n",
        "\n",
        "# Why File Handling?\n",
        "\n",
        "#Store data persistently (beyond program execution).\n",
        "#Read input data from files.\n",
        "#Save processed data or results.\n",
        "#Work with various file formats (text, CSV, JSON, etc.)."
      ]
    },
    {
      "cell_type": "code",
      "source": [
        "#Basics of File Handling: Python provides built-in functions to open, read, write, and close files.\n",
        "\n",
        "# 1. Opening a File:\n",
        "\n",
        "#Syntax: open(file_name, mode)\n",
        "\n",
        "\n",
        "#Common modes:\n",
        "\n",
        "# 'r': Read (default)\n",
        "# 'w': Write (overwrites existing)\n",
        "# 'a': Append (adds to end)\n",
        "# 'x': Create (error if file exists)\n",
        "# 'b': Binary mode\n",
        "# 't': Text mode (default)\n",
        "\n",
        "\n",
        "# 2. Reading from a File:\n",
        "\n",
        "#read() – Reads the entire content\n",
        "#readline() – Reads one line\n",
        "#readlines() – Reads all lines into a list\n",
        "\n",
        "\n",
        "# 3. Writing to a File:\n",
        "\n",
        "#write(\"text\")\n",
        "#writelines([\"line1\", \"line2\"])\n",
        "\n",
        "\n",
        "# 4. Closing a File:\n",
        "\n",
        "#file.close() - close a file to free system resources\n",
        "\n",
        "\n",
        "# 5. With Statement: Automatically closes the file. Recommended for best practice.\n",
        "\n",
        "#  with open(\"file.txt\", \"r\") as f:\n",
        "#      data = f.read()\n"
      ],
      "metadata": {
        "id": "IThHFfjmVrxH"
      },
      "execution_count": 5,
      "outputs": []
    },
    {
      "cell_type": "code",
      "source": [
        "#Practice Exercises\n",
        "\n",
        "# Q1. Read contents of a text file and print line by line.\n",
        "\n",
        "\n",
        "# Q2. Write a list of names to a new file, one name per line.\n",
        "\n",
        "# Q3. Append a new sentence to an existing file.\n",
        "\n",
        "# Q4. Read a CSV file containing student names and grades, and calculate average grade.\n",
        "\n",
        "# Q5. Create a CSV file from a list of dictionaries representing products with price and quantity."
      ],
      "metadata": {
        "id": "S5MIFBbwWdqz"
      },
      "execution_count": 6,
      "outputs": []
    },
    {
      "cell_type": "code",
      "source": [
        "#Creating example.txt\n",
        "\n",
        "example_content = \"\"\"Python is a powerful programming language.\n",
        "It is widely used for data analysis, web development, and automation.\n",
        "File handling is an essential part of working with Python.\n",
        "Practice makes perfect. Keep learning and coding!\"\"\"\n",
        "\n",
        "with open('example.txt', 'w') as file:\n",
        "    file.write(example_content)\n",
        "\n",
        "\n",
        "#Verifying:\n",
        "print(\"'example.txt' created successfully.\\n\")\n",
        "\n",
        "with open('example.txt', 'r') as file:\n",
        "    print(\"Contents of example.txt:\")\n",
        "    for line in file:\n",
        "        print(line.strip())\n"
      ],
      "metadata": {
        "colab": {
          "base_uri": "https://localhost:8080/"
        },
        "id": "jLi5qom-cJcA",
        "outputId": "ffd6fe48-2eea-4d4a-931b-05c01f46367b"
      },
      "execution_count": 44,
      "outputs": [
        {
          "output_type": "stream",
          "name": "stdout",
          "text": [
            "'example.txt' created successfully.\n",
            "\n",
            "Contents of example.txt:\n",
            "Python is a powerful programming language.\n",
            "It is widely used for data analysis, web development, and automation.\n",
            "File handling is an essential part of working with Python.\n",
            "Practice makes perfect. Keep learning and coding!\n"
          ]
        }
      ]
    },
    {
      "cell_type": "code",
      "source": [
        "#File Handling Examples\n",
        "\n",
        "#Example 1: Write to a file\n",
        "with open(\"example.txt\", \"w\") as file:\n",
        "    file.write(\"Hello, this is Rohit.\\nLearning File Handling in Python!\")\n",
        "\n",
        "#Example 2: Read from a file\n",
        "with open(\"example.txt\", \"r\") as file:\n",
        "    content = file.read()\n",
        "    print(content)\n",
        "\n",
        "#Example 3: Append to a file\n",
        "with open(\"example.txt\", \"a\") as file:\n",
        "    file.write(\"\\nThis is an additional line.\")"
      ],
      "metadata": {
        "colab": {
          "base_uri": "https://localhost:8080/"
        },
        "id": "C20vW-4gcKT3",
        "outputId": "637f87f8-11c8-4416-c32b-cf2d711c2ac9"
      },
      "execution_count": 19,
      "outputs": [
        {
          "output_type": "stream",
          "name": "stdout",
          "text": [
            "Hello, this is Rohit.\n",
            "Learning File Handling in Python!\n"
          ]
        }
      ]
    },
    {
      "cell_type": "code",
      "source": [
        "#Practice Exercises\n",
        "\n",
        "# Q1. Create a file notes.txt and write a few lines about Python.\n",
        "with open(\"notes.txt\", \"w\") as file:\n",
        "    file.write(\"Python is a versatile programming language.\\n\")\n",
        "    file.write(\"It is widely used in data science, web development, automation, and more.\\n\")\n",
        "    file.write(\"File handling is a key feature in Python.\\n\")\n",
        "\n",
        "print(\"'notes.txt' created successfully.\")"
      ],
      "metadata": {
        "colab": {
          "base_uri": "https://localhost:8080/"
        },
        "id": "U9XdYFEBi1_v",
        "outputId": "bb000bb5-031f-4ce7-dc14-ccb27f43f435"
      },
      "execution_count": 47,
      "outputs": [
        {
          "output_type": "stream",
          "name": "stdout",
          "text": [
            "'notes.txt' created successfully.\n"
          ]
        }
      ]
    },
    {
      "cell_type": "code",
      "source": [
        "# Q2. Read and print the content of notes.txt.\n",
        "\n",
        "with open(\"notes.txt\", \"r\") as file:\n",
        "  content = file.read()\n",
        "  print(content)\n"
      ],
      "metadata": {
        "colab": {
          "base_uri": "https://localhost:8080/"
        },
        "id": "xnhKxxc2eUOz",
        "outputId": "7f58e2d3-b049-48af-9976-c8c1d63a117e"
      },
      "execution_count": 48,
      "outputs": [
        {
          "output_type": "stream",
          "name": "stdout",
          "text": [
            "Python is a versatile programming language.\n",
            "It is widely used in data science, web development, automation, and more.\n",
            "File handling is a key feature in Python.\n",
            "\n"
          ]
        }
      ]
    },
    {
      "cell_type": "code",
      "source": [
        "# Q3. Append a new line to notes.txt.\n",
        "with open(\"notes.txt\", \"a\") as file:\n",
        "    file.write(\"Appending new lines is simple using mode 'a'.\\n\")\n",
        "\n",
        "print(\"New line appended to 'notes.txt'.\")"
      ],
      "metadata": {
        "colab": {
          "base_uri": "https://localhost:8080/"
        },
        "id": "pwVATKEkh7V_",
        "outputId": "48a67a01-6333-4f6f-ab5d-f5f75413d455"
      },
      "execution_count": 49,
      "outputs": [
        {
          "output_type": "stream",
          "name": "stdout",
          "text": [
            "New line appended to 'notes.txt'.\n"
          ]
        }
      ]
    },
    {
      "cell_type": "code",
      "source": [
        "# Q4. Count the number of words in the file.\n",
        "with open(\"notes.txt\", \"r\") as file:\n",
        "    content = file.read()\n",
        "    words = content.split()\n",
        "    print(f\"Total words in file: {len(words)}\")"
      ],
      "metadata": {
        "colab": {
          "base_uri": "https://localhost:8080/"
        },
        "id": "0yS8Cq_QiDVg",
        "outputId": "b23055d6-692c-4086-cec1-058629520c3c"
      },
      "execution_count": 51,
      "outputs": [
        {
          "output_type": "stream",
          "name": "stdout",
          "text": [
            "Total words in file: 34\n"
          ]
        }
      ]
    },
    {
      "cell_type": "code",
      "source": [
        "# Q5. Write a list of 5 fruits to a file, each on a new line.\n",
        "fruits = [\"Apple\", \"Banana\", \"Cherry\", \"Date\", \"Elderberry\"]\n",
        "\n",
        "with open(\"fruits.txt\", \"w\") as file:\n",
        "    for fruit in fruits:\n",
        "        file.write(fruit + \"\\n\")"
      ],
      "metadata": {
        "id": "8WkvoSRAjSHe"
      },
      "execution_count": 54,
      "outputs": []
    },
    {
      "cell_type": "code",
      "source": [
        "# Q6. Read all lines from the file into a list and print the list.\n",
        "with open(\"fruits.txt\", \"r\") as file:\n",
        "    lines = [line.strip() for line in file.readlines()]\n",
        "\n",
        "print(lines)"
      ],
      "metadata": {
        "colab": {
          "base_uri": "https://localhost:8080/"
        },
        "id": "n0TRpKZojiBU",
        "outputId": "889fb5ff-8481-4cc1-e005-d2b934435b03"
      },
      "execution_count": 57,
      "outputs": [
        {
          "output_type": "stream",
          "name": "stdout",
          "text": [
            "['Apple', 'Banana', 'Cherry', 'Date', 'Elderberry']\n"
          ]
        }
      ]
    },
    {
      "cell_type": "code",
      "source": [
        "# Q7. Write user input to a file (take input from user and save it).\n",
        "user_text = input(\"Enter some text to save in file: \")\n",
        "\n",
        "with open(\"user_input.txt\", \"w\") as file:\n",
        "    file.write(user_text + \"\\n\")"
      ],
      "metadata": {
        "colab": {
          "base_uri": "https://localhost:8080/"
        },
        "id": "-NFcqNnzj-_l",
        "outputId": "13eef4c0-b027-4816-ee7b-decf9124869d"
      },
      "execution_count": 59,
      "outputs": [
        {
          "name": "stdout",
          "output_type": "stream",
          "text": [
            "Enter some text to save in file: My name is Rohit Jaiswal\n"
          ]
        }
      ]
    },
    {
      "cell_type": "code",
      "source": [
        "# Q8. Read a file and print only the lines that start with the letter P.\n",
        "with open(\"notes.txt\", \"r\") as file:\n",
        "    lines = file.readlines()\n",
        "\n",
        "for line in lines:\n",
        "    if line.startswith(\"P\"):\n",
        "        print(line.strip())"
      ],
      "metadata": {
        "colab": {
          "base_uri": "https://localhost:8080/"
        },
        "id": "j_4p9z0Pkxhg",
        "outputId": "5890542d-6ec8-43ac-d7b2-58bcf9dce8e0"
      },
      "execution_count": 61,
      "outputs": [
        {
          "output_type": "stream",
          "name": "stdout",
          "text": [
            "Python is a versatile programming language.\n"
          ]
        }
      ]
    },
    {
      "cell_type": "code",
      "source": [
        "# Q9. Handle the case where a file doesn't exist using try-except.\n",
        "try:\n",
        "    with open(\"file_not_exist.txt\", \"r\") as file:\n",
        "        content = file.read()\n",
        "        print(content)\n",
        "except FileNotFoundError:\n",
        "    print(\"Error: The file does not exist.\")"
      ],
      "metadata": {
        "colab": {
          "base_uri": "https://localhost:8080/"
        },
        "id": "rOvBNTKqlMvr",
        "outputId": "bc9f9b43-bd6a-4151-e8d6-c92f7bee3192"
      },
      "execution_count": 63,
      "outputs": [
        {
          "output_type": "stream",
          "name": "stdout",
          "text": [
            "Error: The file does not exist.\n"
          ]
        }
      ]
    },
    {
      "cell_type": "code",
      "source": [
        "# Q10. Use a with statement to ensure the file is closed automatically.\n",
        "with open(\"example.txt\", \"w\") as file:\n",
        "    file.write(\"This file will be closed automatically after this block.\\n\")"
      ],
      "metadata": {
        "id": "cza0XYbwlgcm"
      },
      "execution_count": 66,
      "outputs": []
    }
  ]
}