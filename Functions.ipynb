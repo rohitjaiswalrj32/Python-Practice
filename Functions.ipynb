{
  "nbformat": 4,
  "nbformat_minor": 0,
  "metadata": {
    "colab": {
      "provenance": [],
      "authorship_tag": "ABX9TyM8zabRoFkfc+uNIQzf47ek",
      "include_colab_link": true
    },
    "kernelspec": {
      "name": "python3",
      "display_name": "Python 3"
    },
    "language_info": {
      "name": "python"
    }
  },
  "cells": [
    {
      "cell_type": "markdown",
      "metadata": {
        "id": "view-in-github",
        "colab_type": "text"
      },
      "source": [
        "<a href=\"https://colab.research.google.com/github/rohitjaiswalrj32/Python-Practice/blob/main/Functions.ipynb\" target=\"_parent\"><img src=\"https://colab.research.google.com/assets/colab-badge.svg\" alt=\"Open In Colab\"/></a>"
      ]
    },
    {
      "cell_type": "code",
      "execution_count": null,
      "metadata": {
        "colab": {
          "base_uri": "https://localhost:8080/"
        },
        "id": "uo9nPWw31D8p",
        "outputId": "ee44e641-bae4-464c-ab78-41c9c0fe4237"
      },
      "outputs": [
        {
          "output_type": "stream",
          "name": "stdout",
          "text": [
            "Hello, Rohit!\n"
          ]
        }
      ],
      "source": [
        "# Function: A function is a block of reusable code that performs a specific task when called.\n",
        "\n",
        "#Define a Function\n",
        "\n",
        "def say_hello():\n",
        "    print(\"Hello, Rohit!\")\n",
        "\n",
        "# Calling the Function\n",
        "say_hello()\n",
        "\n"
      ]
    },
    {
      "cell_type": "code",
      "source": [
        "#Function with Parameters:\n",
        "\n",
        "def greet(name):\n",
        "    print(\"Hello,\", name)\n",
        "\n",
        "greet(\"Rohit\")  # Output: Hello, Rohit"
      ],
      "metadata": {
        "colab": {
          "base_uri": "https://localhost:8080/"
        },
        "id": "qpPoAyAq1ff_",
        "outputId": "e9bad658-554e-405b-f7e5-fbf91c29a25f"
      },
      "execution_count": null,
      "outputs": [
        {
          "output_type": "stream",
          "name": "stdout",
          "text": [
            "Hello, Rohit\n"
          ]
        }
      ]
    },
    {
      "cell_type": "code",
      "source": [
        "#Function with return value:\n",
        "\n",
        "def add(a, b):\n",
        "    return a + b\n",
        "\n",
        "result = add(10, 5)\n",
        "print(\"Sum is:\", result)\n"
      ],
      "metadata": {
        "colab": {
          "base_uri": "https://localhost:8080/"
        },
        "id": "SKMACBwr2J5o",
        "outputId": "9d0f1d3b-0865-4734-8bc4-827fe09b0880"
      },
      "execution_count": null,
      "outputs": [
        {
          "output_type": "stream",
          "name": "stdout",
          "text": [
            "Sum is: 15\n"
          ]
        }
      ]
    },
    {
      "cell_type": "code",
      "source": [
        "#Function with Default Parameters\n",
        "\n",
        "def greet(name=\"Guest\"):\n",
        "    print(\"Hello,\", name)\n",
        "\n",
        "greet()\n",
        "greet(\"Rohit\")\n"
      ],
      "metadata": {
        "colab": {
          "base_uri": "https://localhost:8080/"
        },
        "id": "os8UWVAJ2U2A",
        "outputId": "acf6e67f-da6c-4e92-9d33-5ab6a8a13d71"
      },
      "execution_count": null,
      "outputs": [
        {
          "output_type": "stream",
          "name": "stdout",
          "text": [
            "Hello, Guest\n",
            "Hello, Rohit\n"
          ]
        }
      ]
    },
    {
      "cell_type": "code",
      "source": [
        "#Keyword Arguments:\n",
        "\n",
        "def student_info(name, age):\n",
        "    print(\"Name:\", name)\n",
        "    print(\"Age:\", age)\n",
        "\n",
        "student_info(name=\"Rohit\", age=24)"
      ],
      "metadata": {
        "colab": {
          "base_uri": "https://localhost:8080/"
        },
        "id": "yQ_PUj5E2fje",
        "outputId": "65e9a919-dad4-46c8-ad06-4a6a1ff3d465"
      },
      "execution_count": null,
      "outputs": [
        {
          "output_type": "stream",
          "name": "stdout",
          "text": [
            "Name: Rohit\n",
            "Age: 24\n"
          ]
        }
      ]
    },
    {
      "cell_type": "code",
      "source": [
        "#print() - displays the result.\n",
        "#return - sends the result back so it can be used later.\n",
        "\n",
        "def square(x):\n",
        "    return x * x\n",
        "\n",
        "print(square(4))"
      ],
      "metadata": {
        "colab": {
          "base_uri": "https://localhost:8080/"
        },
        "id": "VM5QiKdg2t-Q",
        "outputId": "4f67917c-00ea-4c4a-faa9-cf4f1622c6c6"
      },
      "execution_count": null,
      "outputs": [
        {
          "output_type": "stream",
          "name": "stdout",
          "text": [
            "16\n"
          ]
        }
      ]
    },
    {
      "cell_type": "code",
      "source": [
        "#Scope of Variable:\n",
        "\n",
        "#Local variable: Defined inside a function and used only there.\n",
        "#Global variable: Defined outside and accessible anywhere.\n",
        "\n",
        "\n",
        "def show():\n",
        "   # Local variable\n",
        "    x = 10\n",
        "    print(\"Inside function:\", x)\n",
        "\n",
        "# Global variable\n",
        "x = 5\n",
        "show()\n",
        "print(\"Outside function:\", x)\n"
      ],
      "metadata": {
        "colab": {
          "base_uri": "https://localhost:8080/"
        },
        "id": "SAbokOXz4obp",
        "outputId": "9bdc553c-341e-45b5-be0e-84b8d260914d"
      },
      "execution_count": null,
      "outputs": [
        {
          "output_type": "stream",
          "name": "stdout",
          "text": [
            "Inside function: 10\n",
            "Outside function: 5\n"
          ]
        }
      ]
    },
    {
      "cell_type": "code",
      "source": [
        "#Built-in & User-defined Functions\n",
        "\n",
        "#Built-in functions: Already available in Python. Eg. print(), len(), type(), sum()\n",
        "\n",
        "#User-defined functions: Created by you using def.\n",
        "\n",
        "# Built-in\n",
        "print(len(\"Rohit\"))\n",
        "\n",
        "# User-defined\n",
        "def welcome():\n",
        "    print(\"Welcome!\")\n",
        "\n",
        "welcome()"
      ],
      "metadata": {
        "colab": {
          "base_uri": "https://localhost:8080/"
        },
        "id": "G4e_yxKQ4yU7",
        "outputId": "2d6cb0d2-4d2f-4be8-8b09-bc5bef438ced"
      },
      "execution_count": null,
      "outputs": [
        {
          "output_type": "stream",
          "name": "stdout",
          "text": [
            "5\n",
            "Welcome!\n"
          ]
        }
      ]
    }
  ]
}