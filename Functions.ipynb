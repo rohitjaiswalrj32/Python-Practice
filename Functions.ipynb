{
  "nbformat": 4,
  "nbformat_minor": 0,
  "metadata": {
    "colab": {
      "provenance": [],
      "authorship_tag": "ABX9TyPJuLRBxCfa0k2FRLR6lEcz",
      "include_colab_link": true
    },
    "kernelspec": {
      "name": "python3",
      "display_name": "Python 3"
    },
    "language_info": {
      "name": "python"
    }
  },
  "cells": [
    {
      "cell_type": "markdown",
      "metadata": {
        "id": "view-in-github",
        "colab_type": "text"
      },
      "source": [
        "<a href=\"https://colab.research.google.com/github/rohitjaiswalrj32/Python-Practice/blob/main/Functions.ipynb\" target=\"_parent\"><img src=\"https://colab.research.google.com/assets/colab-badge.svg\" alt=\"Open In Colab\"/></a>"
      ]
    },
    {
      "cell_type": "code",
      "execution_count": null,
      "metadata": {
        "colab": {
          "base_uri": "https://localhost:8080/"
        },
        "id": "uo9nPWw31D8p",
        "outputId": "ee44e641-bae4-464c-ab78-41c9c0fe4237"
      },
      "outputs": [
        {
          "output_type": "stream",
          "name": "stdout",
          "text": [
            "Hello, Rohit!\n"
          ]
        }
      ],
      "source": [
        "# Function: A function is a block of reusable code that performs a specific task when called.\n",
        "\n",
        "#Define a Function\n",
        "\n",
        "def say_hello():\n",
        "    print(\"Hello, Rohit!\")\n",
        "\n",
        "# Calling the Function\n",
        "say_hello()\n",
        "\n"
      ]
    },
    {
      "cell_type": "code",
      "source": [
        "#Function with Parameters:\n",
        "\n",
        "def greet(name):\n",
        "    print(\"Hello,\", name)\n",
        "\n",
        "greet(\"Rohit\")"
      ],
      "metadata": {
        "colab": {
          "base_uri": "https://localhost:8080/"
        },
        "id": "qpPoAyAq1ff_",
        "outputId": "e9bad658-554e-405b-f7e5-fbf91c29a25f"
      },
      "execution_count": null,
      "outputs": [
        {
          "output_type": "stream",
          "name": "stdout",
          "text": [
            "Hello, Rohit\n"
          ]
        }
      ]
    },
    {
      "cell_type": "code",
      "source": [
        "#Function with return value:\n",
        "\n",
        "def add(a, b):\n",
        "    return a + b\n",
        "\n",
        "result = add(10, 5)\n",
        "print(\"Sum is:\", result)\n"
      ],
      "metadata": {
        "colab": {
          "base_uri": "https://localhost:8080/"
        },
        "id": "SKMACBwr2J5o",
        "outputId": "9d0f1d3b-0865-4734-8bc4-827fe09b0880"
      },
      "execution_count": null,
      "outputs": [
        {
          "output_type": "stream",
          "name": "stdout",
          "text": [
            "Sum is: 15\n"
          ]
        }
      ]
    },
    {
      "cell_type": "code",
      "source": [
        "#Function with Default Parameters\n",
        "\n",
        "def greet(name=\"Guest\"):\n",
        "    print(\"Hello,\", name)\n",
        "\n",
        "greet()\n",
        "greet(\"Rohit\")\n"
      ],
      "metadata": {
        "colab": {
          "base_uri": "https://localhost:8080/"
        },
        "id": "os8UWVAJ2U2A",
        "outputId": "acf6e67f-da6c-4e92-9d33-5ab6a8a13d71"
      },
      "execution_count": null,
      "outputs": [
        {
          "output_type": "stream",
          "name": "stdout",
          "text": [
            "Hello, Guest\n",
            "Hello, Rohit\n"
          ]
        }
      ]
    },
    {
      "cell_type": "code",
      "source": [
        "#Keyword Arguments:\n",
        "\n",
        "def student_info(name, age):\n",
        "    print(\"Name:\", name)\n",
        "    print(\"Age:\", age)\n",
        "\n",
        "student_info(name=\"Rohit\", age=24)"
      ],
      "metadata": {
        "colab": {
          "base_uri": "https://localhost:8080/"
        },
        "id": "yQ_PUj5E2fje",
        "outputId": "65e9a919-dad4-46c8-ad06-4a6a1ff3d465"
      },
      "execution_count": null,
      "outputs": [
        {
          "output_type": "stream",
          "name": "stdout",
          "text": [
            "Name: Rohit\n",
            "Age: 24\n"
          ]
        }
      ]
    },
    {
      "cell_type": "code",
      "source": [
        "#print() - displays the result.\n",
        "#return - sends the result back so it can be used later.\n",
        "\n",
        "def square(x):\n",
        "    return x * x\n",
        "\n",
        "print(square(4))"
      ],
      "metadata": {
        "colab": {
          "base_uri": "https://localhost:8080/"
        },
        "id": "VM5QiKdg2t-Q",
        "outputId": "4f67917c-00ea-4c4a-faa9-cf4f1622c6c6"
      },
      "execution_count": null,
      "outputs": [
        {
          "output_type": "stream",
          "name": "stdout",
          "text": [
            "16\n"
          ]
        }
      ]
    },
    {
      "cell_type": "code",
      "source": [
        "#Scope of Variable:\n",
        "\n",
        "#Local variable: Defined inside a function and used only there.\n",
        "#Global variable: Defined outside and accessible anywhere.\n",
        "\n",
        "\n",
        "def show():\n",
        "   # Local variable\n",
        "    x = 10\n",
        "    print(\"Inside function:\", x)\n",
        "\n",
        "# Global variable\n",
        "x = 5\n",
        "show()\n",
        "print(\"Outside function:\", x)\n"
      ],
      "metadata": {
        "colab": {
          "base_uri": "https://localhost:8080/"
        },
        "id": "SAbokOXz4obp",
        "outputId": "9bdc553c-341e-45b5-be0e-84b8d260914d"
      },
      "execution_count": null,
      "outputs": [
        {
          "output_type": "stream",
          "name": "stdout",
          "text": [
            "Inside function: 10\n",
            "Outside function: 5\n"
          ]
        }
      ]
    },
    {
      "cell_type": "code",
      "source": [
        "#Built-in & User-defined Functions\n",
        "\n",
        "#Built-in functions: Already available in Python. Eg. print(), len(), type(), sum()\n",
        "\n",
        "#User-defined functions: Created by you using def.\n",
        "\n",
        "# Built-in\n",
        "print(len(\"Rohit\"))\n",
        "\n",
        "# User-defined\n",
        "def welcome():\n",
        "    print(\"Welcome!\")\n",
        "\n",
        "welcome()"
      ],
      "metadata": {
        "colab": {
          "base_uri": "https://localhost:8080/"
        },
        "id": "G4e_yxKQ4yU7",
        "outputId": "8310a22f-713c-4f82-ae05-0342af58a118"
      },
      "execution_count": 1,
      "outputs": [
        {
          "output_type": "stream",
          "name": "stdout",
          "text": [
            "5\n",
            "Welcome!\n"
          ]
        }
      ]
    },
    {
      "cell_type": "code",
      "source": [
        "#Exercise Questions"
      ],
      "metadata": {
        "id": "RvJcZWixmppb"
      },
      "execution_count": 2,
      "outputs": []
    },
    {
      "cell_type": "code",
      "source": [
        "# Q1. Greeting Function\n",
        "\n",
        "#Write a function greet_user() that takes a user's name as input and prints a greeting message.\n",
        "\n",
        "#Input: Rohit\n",
        "#Output: Hello, Rohit! Welcome.\n",
        "\n",
        "# Solution:\n",
        "def greet_user(name):\n",
        "    print(f\"Hello, {name}! Welcome\")\n",
        "\n",
        "greet_user(\"Rohit\")"
      ],
      "metadata": {
        "colab": {
          "base_uri": "https://localhost:8080/"
        },
        "id": "El89aE2enKcN",
        "outputId": "b8c56c82-3dc3-4a12-c9f1-ff081d257ebd"
      },
      "execution_count": 14,
      "outputs": [
        {
          "output_type": "stream",
          "name": "stdout",
          "text": [
            "Hello, Rohit! Welcome\n"
          ]
        }
      ]
    },
    {
      "cell_type": "code",
      "source": [
        "# Q2. Addition Function\n",
        "\n",
        "#Write a function add_numbers(a, b) that returns the sum of two numbers.\n",
        "\n",
        "#Solution:\n",
        "def add_numbers(a, b):\n",
        "  return a + b\n",
        "\n",
        "add_numbers(20,43)"
      ],
      "metadata": {
        "colab": {
          "base_uri": "https://localhost:8080/"
        },
        "id": "GcB9P5ONn6wn",
        "outputId": "7bac5c10-3fa6-479b-b7ee-6e9edaabab18"
      },
      "execution_count": 17,
      "outputs": [
        {
          "output_type": "execute_result",
          "data": {
            "text/plain": [
              "63"
            ]
          },
          "metadata": {},
          "execution_count": 17
        }
      ]
    },
    {
      "cell_type": "code",
      "source": [
        "# Q3. Even or Odd Checker\n",
        "\n",
        "#Write a function check_even(number) that returns \"Even\" if the number is even, and \"Odd\" if it is odd.\n",
        "\n",
        "#Solution:\n",
        "def check_even(number):\n",
        "  return \"Even\" if number % 2 == 0 else \"Odd\"\n",
        "\n",
        "check_even(27)"
      ],
      "metadata": {
        "colab": {
          "base_uri": "https://localhost:8080/",
          "height": 36
        },
        "id": "ho8RiIetpS-u",
        "outputId": "8b6f44c4-343e-40fb-e981-36f9ab603702"
      },
      "execution_count": 22,
      "outputs": [
        {
          "output_type": "execute_result",
          "data": {
            "text/plain": [
              "'Odd'"
            ],
            "application/vnd.google.colaboratory.intrinsic+json": {
              "type": "string"
            }
          },
          "metadata": {},
          "execution_count": 22
        }
      ]
    },
    {
      "cell_type": "code",
      "source": [
        "# Q4. Factorial Calculator\n",
        "\n",
        "#Write a function factorial(n) that returns the factorial of a number.\n",
        "\n",
        "# 5! = 5 × 4 × 3 × 2 × 1 = 120\n",
        "\n",
        "#Solution:\n",
        "def factorial(n):\n",
        "  if n == 0 or n == 1:\n",
        "    return 1\n",
        "  return n * factorial(n - 1)\n",
        "\n",
        "factorial(5)\n",
        "\n"
      ],
      "metadata": {
        "colab": {
          "base_uri": "https://localhost:8080/"
        },
        "id": "7vRMdjk1qu6N",
        "outputId": "ada37292-3f86-4fb9-b43a-4570ae97c701"
      },
      "execution_count": 23,
      "outputs": [
        {
          "output_type": "execute_result",
          "data": {
            "text/plain": [
              "120"
            ]
          },
          "metadata": {},
          "execution_count": 23
        }
      ]
    },
    {
      "cell_type": "code",
      "source": [
        "# Q5. Largest of Three Numbers\n",
        "\n",
        "#Write a function find_largest(a, b, c) that returns the largest among the three numbers\n",
        "\n",
        "#Solution:\n",
        "def find_largest(a,b,c):\n",
        "  if a > b and a > c:\n",
        "    return \"a is largest\"\n",
        "\n",
        "  elif b > a and b > c:\n",
        "    return \"b is largest\"\n",
        "\n",
        "  else:\n",
        "    return \"c is largest\"\n",
        "\n",
        "find_largest(91, 98, 89)"
      ],
      "metadata": {
        "colab": {
          "base_uri": "https://localhost:8080/",
          "height": 36
        },
        "id": "tMHcIDKItGLv",
        "outputId": "644650d5-d0d2-4bea-b84d-5d7594f090b4"
      },
      "execution_count": 24,
      "outputs": [
        {
          "output_type": "execute_result",
          "data": {
            "text/plain": [
              "'b is largest'"
            ],
            "application/vnd.google.colaboratory.intrinsic+json": {
              "type": "string"
            }
          },
          "metadata": {},
          "execution_count": 24
        }
      ]
    },
    {
      "cell_type": "code",
      "source": [
        "# Q6. Simple Calculator\n",
        "\n",
        "#Write a function calculate(a, b, operation) that performs addition, subtraction, multiplication, or division based on the input operation.\n",
        "\n",
        "#Example: calculate(10, 5, '+') ➝ 15\n",
        "\n",
        "#Solution:\n",
        "def calculate(a,b,operation):\n",
        "  if operation == '+':\n",
        "    return a+b\n",
        "  elif operation == '-':\n",
        "    return a-b\n",
        "  elif operation == '*':\n",
        "    return a*b\n",
        "  elif operation == '/':\n",
        "    return a/b\n",
        "  else:\n",
        "    return \"Invalid Operation\"\n",
        "\n",
        "calculate(10, 5, '+')"
      ],
      "metadata": {
        "colab": {
          "base_uri": "https://localhost:8080/"
        },
        "id": "WYwCawBWtosJ",
        "outputId": "880e66df-66f6-49c0-cca9-1520a1b82183"
      },
      "execution_count": 25,
      "outputs": [
        {
          "output_type": "execute_result",
          "data": {
            "text/plain": [
              "15"
            ]
          },
          "metadata": {},
          "execution_count": 25
        }
      ]
    },
    {
      "cell_type": "code",
      "source": [
        "# Q7. Prime Checker\n",
        "\n",
        "#Write a function is_prime(n) that returns True if the number is prime, otherwise False.\n",
        "\n",
        "#Solution:\n",
        "\n",
        "def is_prime(n):\n",
        "  if n <= 1:\n",
        "    return False\n",
        "  for i in range(2, int(n**0.5) + 1):\n",
        "    if n % i == 0:\n",
        "      return False\n",
        "  return True\n",
        "\n",
        "is_prime(79)\n"
      ],
      "metadata": {
        "colab": {
          "base_uri": "https://localhost:8080/"
        },
        "id": "OvzHwh4OuyOl",
        "outputId": "ad518999-97f2-48f6-af3f-def3ec77db14"
      },
      "execution_count": 26,
      "outputs": [
        {
          "output_type": "execute_result",
          "data": {
            "text/plain": [
              "True"
            ]
          },
          "metadata": {},
          "execution_count": 26
        }
      ]
    },
    {
      "cell_type": "code",
      "source": [
        "# Q8. Convert Celsius to Fahrenheit\n",
        "\n",
        "#Write a function c_to_f(celsius) that converts Celsius to Fahrenheit using the formula:\n",
        "\n",
        "#Fahrenheit = (Celsius × 9/5) + 32\n",
        "\n",
        "#Solution:\n",
        "def c_to_f(celsius):\n",
        "  fahrenheit = (celsius * 9/5) + 32\n",
        "  return fahrenheit\n",
        "\n",
        "c_to_f(38)"
      ],
      "metadata": {
        "colab": {
          "base_uri": "https://localhost:8080/"
        },
        "id": "gw8CR3U0xMdj",
        "outputId": "3d226f11-45a5-4e81-d571-384782bb4e93"
      },
      "execution_count": 30,
      "outputs": [
        {
          "output_type": "execute_result",
          "data": {
            "text/plain": [
              "100.4"
            ]
          },
          "metadata": {},
          "execution_count": 30
        }
      ]
    },
    {
      "cell_type": "code",
      "source": [],
      "metadata": {
        "id": "xI_YljJkx31z"
      },
      "execution_count": null,
      "outputs": []
    }
  ]
}