{
  "nbformat": 4,
  "nbformat_minor": 0,
  "metadata": {
    "colab": {
      "provenance": [],
      "authorship_tag": "ABX9TyO2FVqxXlKbw50Jn16VS8Xf",
      "include_colab_link": true
    },
    "kernelspec": {
      "name": "python3",
      "display_name": "Python 3"
    },
    "language_info": {
      "name": "python"
    }
  },
  "cells": [
    {
      "cell_type": "markdown",
      "metadata": {
        "id": "view-in-github",
        "colab_type": "text"
      },
      "source": [
        "<a href=\"https://colab.research.google.com/github/rohitjaiswalrj32/Python_Learning/blob/main/Numpy.ipynb\" target=\"_parent\"><img src=\"https://colab.research.google.com/assets/colab-badge.svg\" alt=\"Open In Colab\"/></a>"
      ]
    },
    {
      "cell_type": "code",
      "execution_count": 1,
      "metadata": {
        "colab": {
          "base_uri": "https://localhost:8080/"
        },
        "id": "SVeF3dxdEslG",
        "outputId": "7e28140c-a1e1-4fd2-9a84-6f9c9faaee47"
      },
      "outputs": [
        {
          "output_type": "stream",
          "name": "stdout",
          "text": [
            "[1 2 3 4]\n"
          ]
        }
      ],
      "source": [
        "#Importing Numpy Library\n",
        "\n",
        "import numpy as np\n",
        "\n",
        "#Example:\n",
        "\n",
        "# Create a simple array\n",
        "arr = np.array([1, 2, 3, 4])\n",
        "print(arr)\n"
      ]
    },
    {
      "cell_type": "code",
      "source": [
        "# Diffrence Between List and Numpy Array:\n",
        "\n",
        "# | Feature                | Python List                 | NumPy Array                                 |\n",
        "# | ---------------------- | --------------------------- | ------------------------------------------- |\n",
        "# |   Data Type            | Can store mixed data types  | Homogeneous (same data type)                |\n",
        "# |   Performance          | Slower for large operations | Much faster (uses C under the hood)         |\n",
        "# |   Functionality        | Limited built-in operations | Rich mathematical functions                 |\n",
        "# |   Memory Consumption   | More                        | Less (compact, fixed type)                  |\n",
        "# |   Broadcasting         | Not supported               | Supported (auto operations on all elements) |\n"
      ],
      "metadata": {
        "id": "ebO0UJGtE48g"
      },
      "execution_count": null,
      "outputs": []
    },
    {
      "cell_type": "code",
      "source": [
        "#1. Creating a List vs NumPy Array\n",
        "\n",
        "# Python List\n",
        "py_list = [1, 2, 3, 4]\n",
        "print(py_list)\n",
        "\n",
        "# NumPy Array\n",
        "array1 = np.array([1, 2, 3, 4])\n",
        "print(array1)"
      ],
      "metadata": {
        "colab": {
          "base_uri": "https://localhost:8080/"
        },
        "id": "6A68xbB5GYSP",
        "outputId": "c3ae0b86-c9ff-4bde-f4fd-c1e8da702e24"
      },
      "execution_count": 3,
      "outputs": [
        {
          "output_type": "stream",
          "name": "stdout",
          "text": [
            "[1, 2, 3, 4]\n",
            "[1 2 3 4]\n"
          ]
        }
      ]
    },
    {
      "cell_type": "code",
      "source": [
        "#2. Element-wise Addition\n",
        "\n",
        "# Python List\n",
        "py_result = [x + 2 for x in py_list]\n",
        "print(\"Python List:\", py_result)\n",
        "\n",
        "# NumPy Array\n",
        "np_result = np_array + 2\n",
        "print(\"NumPy Array:\", np_result)\n"
      ],
      "metadata": {
        "colab": {
          "base_uri": "https://localhost:8080/"
        },
        "id": "ki2PzEmFGeHe",
        "outputId": "664e6832-b271-4504-eae5-f2e051dd8738"
      },
      "execution_count": null,
      "outputs": [
        {
          "output_type": "stream",
          "name": "stdout",
          "text": [
            "Python List: [3, 4, 5, 6]\n",
            "NumPy Array: [3 4 5 6]\n"
          ]
        }
      ]
    },
    {
      "cell_type": "code",
      "source": [
        "#3. Performance Test\n",
        "\n",
        "import time\n",
        "\n",
        "# Large list\n",
        "py_list = list(range(1000000))\n",
        "np_array = np.array(py_list)\n",
        "\n",
        "# Time taken by Python list\n",
        "start = time.time()\n",
        "py_result = [x * 2 for x in py_list]\n",
        "print(\"List Time:\", time.time() - start)\n",
        "\n",
        "# Time taken by NumPy\n",
        "start = time.time()\n",
        "np_result = np_array * 2\n",
        "print(\"NumPy Time:\", time.time() - start)\n",
        "\n",
        "\n",
        "# Note:\n",
        "\n",
        "# NumPy arrays are faster, more memory-efficient, and provide advanced math capabilities.\n",
        "# For data analysis, NumPy arrays are preferred over Python lists."
      ],
      "metadata": {
        "colab": {
          "base_uri": "https://localhost:8080/"
        },
        "id": "bw6KdNbiGys0",
        "outputId": "aa01312b-3f12-4d8d-dd1f-524c97697635"
      },
      "execution_count": null,
      "outputs": [
        {
          "output_type": "stream",
          "name": "stdout",
          "text": [
            "List Time: 0.05240464210510254\n",
            "NumPy Time: 0.003787994384765625\n"
          ]
        }
      ]
    },
    {
      "cell_type": "code",
      "source": [
        "#NumPy Array Creation Techniques\n",
        "\n",
        "#1. Creating from a Python List or Tuple\n",
        "\n",
        "# From list\n",
        "arr1 = np.array([1, 2, 3, 4])\n",
        "print(\"From list:\", arr1)\n",
        "\n",
        "# From tuple\n",
        "arr2 = np.array((5, 6, 7, 8))\n",
        "print(\"From tuple:\", arr2)"
      ],
      "metadata": {
        "colab": {
          "base_uri": "https://localhost:8080/"
        },
        "id": "QXPkdCwqHQbU",
        "outputId": "68f460de-2297-4510-ba88-2599580ab94a"
      },
      "execution_count": null,
      "outputs": [
        {
          "output_type": "stream",
          "name": "stdout",
          "text": [
            "From list: [1 2 3 4]\n",
            "From tuple: [5 6 7 8]\n"
          ]
        }
      ]
    },
    {
      "cell_type": "code",
      "source": [
        "#2. Creating Arrays of Zeros, Ones, or a Specific Value\n",
        "\n",
        "# Array of zeros\n",
        "zeros = np.zeros(5)\n",
        "print(\"Zeros:\", zeros)\n",
        "\n",
        "# Array of ones\n",
        "ones = np.ones((3, 3))\n",
        "print(\"Ones:\\n\", ones)\n",
        "\n",
        "# Array filled with a specific value\n",
        "full = np.full((2, 4), 7)\n",
        "print(\"Full:\\n\", full)"
      ],
      "metadata": {
        "colab": {
          "base_uri": "https://localhost:8080/"
        },
        "id": "r7o84tIpHm0H",
        "outputId": "dee9308d-4205-417a-9c2d-e7d679cbe594"
      },
      "execution_count": 6,
      "outputs": [
        {
          "output_type": "stream",
          "name": "stdout",
          "text": [
            "Zeros: [0. 0. 0. 0. 0.]\n",
            "Ones:\n",
            " [[1. 1. 1.]\n",
            " [1. 1. 1.]\n",
            " [1. 1. 1.]]\n",
            "Full:\n",
            " [[7 7 7 7]\n",
            " [7 7 7 7]]\n"
          ]
        }
      ]
    },
    {
      "cell_type": "code",
      "source": [
        "#3. Similar to Python's range()\n",
        "\n",
        "arr_range = np.arange(0, 10, 2)  # start=0, stop=10, step=2\n",
        "print(\"Arange:\", arr_range)\n"
      ],
      "metadata": {
        "colab": {
          "base_uri": "https://localhost:8080/"
        },
        "id": "eWB_pDsZH97G",
        "outputId": "8aa44935-a50c-4c7f-870d-77dbd835d7e2"
      },
      "execution_count": 7,
      "outputs": [
        {
          "output_type": "stream",
          "name": "stdout",
          "text": [
            "Arange: [0 2 4 6 8]\n"
          ]
        }
      ]
    },
    {
      "cell_type": "code",
      "source": [
        "#4. Creating Arrays with Linearly Spaced Values\n",
        "\n",
        "\n",
        "#Numbers evenly spaced between 0 and 1\n",
        "arr_linspace = np.linspace(0, 1, 5)\n",
        "print(\"Linspace:\", arr_linspace)"
      ],
      "metadata": {
        "colab": {
          "base_uri": "https://localhost:8080/"
        },
        "id": "kp0mfD0TIRZq",
        "outputId": "d0944444-bf29-49e8-edaf-eba9c0d50e7e"
      },
      "execution_count": null,
      "outputs": [
        {
          "output_type": "stream",
          "name": "stdout",
          "text": [
            "Linspace: [0.   0.25 0.5  0.75 1.  ]\n"
          ]
        }
      ]
    },
    {
      "cell_type": "code",
      "source": [
        "#5. Creating Identity Matrices\n",
        "\n",
        "identity = np.eye(4)\n",
        "print(\"Identity Matrix:\\n\", identity)"
      ],
      "metadata": {
        "colab": {
          "base_uri": "https://localhost:8080/"
        },
        "id": "dNWZQgftIjww",
        "outputId": "eb1b4180-1ea9-4a5e-c966-527851c3833c"
      },
      "execution_count": null,
      "outputs": [
        {
          "output_type": "stream",
          "name": "stdout",
          "text": [
            "Identity Matrix:\n",
            " [[1. 0. 0. 0.]\n",
            " [0. 1. 0. 0.]\n",
            " [0. 0. 1. 0.]\n",
            " [0. 0. 0. 1.]]\n"
          ]
        }
      ]
    },
    {
      "cell_type": "code",
      "source": [
        "#6. Creating Random Arrays\n",
        "\n",
        "# Random floats between 0 and 1\n",
        "rand_float = np.random.rand(3, 3)\n",
        "print(\"Random Float Array:\\n\", rand_float)\n",
        "\n",
        "# Random integers between 0 and 10\n",
        "rand_int = np.random.randint(0, 10, 5)\n",
        "print(\"Random Int Array:\", rand_int)"
      ],
      "metadata": {
        "colab": {
          "base_uri": "https://localhost:8080/"
        },
        "id": "7mBa3bPzIr7U",
        "outputId": "0ffca65d-3187-452f-8584-c6e5d8d727b7"
      },
      "execution_count": null,
      "outputs": [
        {
          "output_type": "stream",
          "name": "stdout",
          "text": [
            "Random Float Array:\n",
            " [[0.18591125 0.89189206 0.81523071]\n",
            " [0.69115558 0.55963777 0.90791623]\n",
            " [0.59113133 0.45833362 0.72425332]]\n",
            "Random Int Array: [8 5 6 4 5]\n"
          ]
        }
      ]
    },
    {
      "cell_type": "code",
      "source": [
        "# Practice Exercise:\n",
        "\n",
        "# Q1. An array of ten zeros\n",
        "zero_array = np.zeros(10)\n",
        "print(\"Array of Zeros:\", zero_array)\n",
        "\n",
        "# Q2. A 2x5 array filled with the number 9\n",
        "array_of_9 = np.full((2,5), 9)\n",
        "print(\"Array of 9s:\\n\", array_of_9)\n",
        "\n",
        "# Q3. A range array from 10 to 50 with step size 5\n",
        "range_array = np.arange(10, 51, 5)\n",
        "print(\"Range Array:\", range_array)\n",
        "\n",
        "# Q4. An identity matrix of size 3\n",
        "identity_matrix = np.eye(3)\n",
        "print(\"Identity Matrix:\\n\", identity_matrix)\n",
        "\n",
        "# Q5. A 4x4 random float array\n",
        "random_float = np.random.rand(4, 4)\n",
        "print(\"Random floating Array: \\n\", random_float)"
      ],
      "metadata": {
        "colab": {
          "base_uri": "https://localhost:8080/"
        },
        "id": "aGcVBg3pIxz4",
        "outputId": "3b8f5119-7255-4437-c43f-7f14ba7140dc"
      },
      "execution_count": null,
      "outputs": [
        {
          "output_type": "stream",
          "name": "stdout",
          "text": [
            "Array of Zeros: [0. 0. 0. 0. 0. 0. 0. 0. 0. 0.]\n",
            "Array of 9s:\n",
            " [[9 9 9 9 9]\n",
            " [9 9 9 9 9]]\n",
            "Range Array: [10 15 20 25 30 35 40 45 50]\n",
            "Identity Matrix:\n",
            " [[1. 0. 0.]\n",
            " [0. 1. 0.]\n",
            " [0. 0. 1.]]\n",
            "Random floating Array: \n",
            " [[0.5867816  0.29525158 0.09468497 0.85276003]\n",
            " [0.02527935 0.05153823 0.34823763 0.89132016]\n",
            " [0.96481167 0.8717455  0.03964411 0.97799263]\n",
            " [0.19430486 0.7463116  0.43448429 0.57075149]]\n"
          ]
        }
      ]
    },
    {
      "cell_type": "code",
      "source": [
        "#NumPy Array Attributes & Properties:#Every NumPy array has several useful attributes\n",
        "                                     #that tell you about its structure and data type.\n",
        "\n",
        "#1. shape: Returns a tuple of the array dimensions.\n",
        "\n",
        "arr = np.array([[1,2,3], [4,5,6]])\n",
        "print(\"Array Shape is:\", arr.shape)\n",
        "print(arr)\n",
        "\n",
        "\n",
        "#2. size: Total number of elements in the array.\n",
        "\n",
        "arr = np.array([[1,2,3],\n",
        "               [4,5,6]])\n",
        "print(\"Array Size is:\", arr.size)\n",
        "print(arr)\n",
        "\n",
        "\n",
        "#3. ndim: Number of array dimensions (axes).\n",
        "arr = np.array([[\n",
        "                 [1,2,3],\n",
        "                 [4,5,6],\n",
        "                 [7,8,9]\n",
        "              ]])\n",
        "print(\"Array Dimension is:\", arr.ndim)\n",
        "print(arr)\n",
        "\n",
        "\n",
        "#4. dtype: Data type of elements in the array.\n",
        "arr = np.array([[[\"Rohit\", \"Pratik\", \"Sagar\"],\n",
        "                 [1,2,3],\n",
        "                 [1.23, 2.34, 3.45]]])\n",
        "print(\"Array Data Type is:\", arr.dtype)\n",
        "print(arr)\n",
        "\n",
        "#5. itemsize: Size (in bytes) of each element.\n",
        "print(\"Item Size is:\", arr.itemsize)\n",
        "\n",
        "#6. data: This shows memory location, usually less used directly.\n",
        "print(\"Memory Location is:\", arr.data)\n"
      ],
      "metadata": {
        "id": "XFPfcAvUJZMD",
        "colab": {
          "base_uri": "https://localhost:8080/"
        },
        "outputId": "370f9626-dd93-40b0-bdde-f48ce2befbe6"
      },
      "execution_count": 27,
      "outputs": [
        {
          "output_type": "stream",
          "name": "stdout",
          "text": [
            "Array Shape is: (2, 3)\n",
            "[[1 2 3]\n",
            " [4 5 6]]\n",
            "Array Size is: 6\n",
            "[[1 2 3]\n",
            " [4 5 6]]\n",
            "Array Dimension is: 3\n",
            "[[[1 2 3]\n",
            "  [4 5 6]\n",
            "  [7 8 9]]]\n",
            "Array Data Type is: <U32\n",
            "[[['Rohit' 'Pratik' 'Sagar']\n",
            "  ['1' '2' '3']\n",
            "  ['1.23' '2.34' '3.45']]]\n",
            "Item Size is: 128\n",
            "Memory Location is: <memory at 0x7897950a96c0>\n"
          ]
        }
      ]
    },
    {
      "cell_type": "code",
      "source": [
        "#Practice Exercise:\n",
        "\n",
        "# Q1. Create arrays of different shapes and data types, then print and interpret their attributes.\n",
        "array1 = np.array([[1,2,3,4,5], [6,7,8,9,10]])\n",
        "print(\"Array Shape is:\", array1.shape)\n",
        "print(\"Array Size is:\", array1.size)\n",
        "print(\"Array Dimension is:\", array1.ndim)\n",
        "print(\"Array Datatype is:\", array1.dtype)\n",
        "print(\"Array Item Size is:\", array1.itemsize)\n",
        "print(\"Array Location is:\", array1.data)\n",
        "print(\"\\n\")\n",
        "\n",
        "\n",
        "# Q2. Try changing the dtype when creating an array, e.g., np.array([1, 2, 3], dtype=float) and check the difference.\n",
        "array2 = np.array([1, 2, 3], dtype=float)\n",
        "print(\"Array Datatype is:\", array2.dtype)\n",
        "print(\"\\n\")\n",
        "\n",
        "# Q3. Create a 3x2x2 array and print all its attributes\n",
        "array3 = np.array([[[1,2,3], [4,5,6], [7,8,9]]])\n",
        "print(array3)\n",
        "print(\"Shape:\", array3.shape)\n",
        "print(\"Size:\", array3.size)\n",
        "print(\"Dimensions:\", array3.ndim)\n",
        "print(\"Datatype:\", array3.dtype)\n",
        "print(\"Item Size (bytes):\", array3.itemsize)\n",
        "print(\"\\n\")\n",
        "\n",
        "# Q4. Create a float array: [5.5, 6.6, 7.7]\n",
        "array_float = np.array([5.5, 6.6, 7.7])\n",
        "print(\"Float Array:\", array_float)\n",
        "print(\"\\n\")\n",
        "\n",
        "# Q5. Print shape, size, dimensions, dtype, and itemsize\n",
        "print(\"Array Shape:\", array3.shape)\n",
        "print(\"Array Size:\", array3.size)\n",
        "print(\"Array Dimension:\", array3.ndim)\n",
        "print(\"Array Data Type:\", array3.dtype)\n",
        "print(\"Array Item Size:\", array3.itemsize)\n",
        "print(\"\\n\")\n",
        "\n",
        "# Q6. Create two arrays: one with int, one with float\n",
        "array_int = np.array([1, 2, 3])\n",
        "array_float = np.array([1.1, 2.2, 3.3])\n",
        "print(\"Integer Array:\", array_int)\n",
        "print(\"Float Array:\", array_float)\n",
        "print(\"\\n\")\n",
        "\n",
        "# Q7. Compare itemsize and dtype\n",
        "print(\"Integer Array Item Size:\", array_int.itemsize)\n",
        "print(\"Float Array :\", array_float.itemsize)\n",
        "print(\"\\n\")\n",
        "# Q8. Create an array of integers with dtype='int32'\n",
        "array_int32 = np.array([1, 2, 3], dtype='int32')\n",
        "print(\"Integer Array with dtype='int32':\", array_int32)\n",
        "print(\"\\n\")\n",
        "\n",
        "# Q9. Print array and its itemsize\n",
        "print(array3, \"Item Size: \", array3.itemsize)\n",
        "print(\"\\n\")\n",
        "\n",
        "# Q10. Create a 1D array of 9 elements\n",
        "array_1d = np.arange(9)\n",
        "print(\"1D Array:\", array_1d)\n",
        "print(\"Size:\", array_1d.size)\n",
        "print(\"\\n\")\n",
        "\n",
        "# Q11. Reshape to 3x3 and print shape, ndim, size\n",
        "array_3x3 = array_1d.reshape(3, 3)\n",
        "print(\"Reshaped 3x3 Array:\\n\", array_3x3)\n",
        "print(\"Shape:\", array_3x3.shape)\n",
        "print(\"Dimensions:\", array_3x3.ndim)\n"
      ],
      "metadata": {
        "colab": {
          "base_uri": "https://localhost:8080/"
        },
        "id": "9AAXVnu-I8T7",
        "outputId": "b98033f4-144d-4ad3-e406-f4692cdcbb0f"
      },
      "execution_count": 53,
      "outputs": [
        {
          "output_type": "stream",
          "name": "stdout",
          "text": [
            "Array Shape is: (2, 5)\n",
            "Array Size is: 10\n",
            "Array Dimension is: 2\n",
            "Array Datatype is: int64\n",
            "Array Item Size is: 8\n",
            "Array Location is: <memory at 0x7897967ccd40>\n",
            "\n",
            "\n",
            "Array Datatype is: float64\n",
            "\n",
            "\n",
            "[[[1 2 3]\n",
            "  [4 5 6]\n",
            "  [7 8 9]]]\n",
            "Shape: (1, 3, 3)\n",
            "Size: 9\n",
            "Dimensions: 3\n",
            "Datatype: int64\n",
            "Item Size (bytes): 8\n",
            "\n",
            "\n",
            "Float Array: [5.5 6.6 7.7]\n",
            "\n",
            "\n",
            "Array Shape: (1, 3, 3)\n",
            "Array Size: 9\n",
            "Array Dimension: 3\n",
            "Array Data Type: int64\n",
            "Array Item Size: 8\n",
            "\n",
            "\n",
            "Integer Array: [1 2 3]\n",
            "Float Array: [1.1 2.2 3.3]\n",
            "\n",
            "\n",
            "Integer Array Item Size: 8\n",
            "Float Array : 8\n",
            "\n",
            "\n",
            "Integer Array with dtype='int32': [1 2 3]\n",
            "\n",
            "\n",
            "[[[1 2 3]\n",
            "  [4 5 6]\n",
            "  [7 8 9]]] Item Size:  8\n",
            "\n",
            "\n",
            "1D Array: [0 1 2 3 4 5 6 7 8]\n",
            "Size: 9\n",
            "\n",
            "\n",
            "Reshaped 3x3 Array:\n",
            " [[0 1 2]\n",
            " [3 4 5]\n",
            " [6 7 8]]\n",
            "Shape: (3, 3)\n",
            "Dimensions: 2\n"
          ]
        }
      ]
    },
    {
      "cell_type": "code",
      "source": [
        "# Array Indexing and Slicing: Indexing and slicing in NumPy is similar to Python lists\n",
        "                              #but offers more powerful and multi-dimensional capabilities.\n",
        "\n",
        "\n",
        "#1. Basic Indexing: Accessing elements by index\n",
        "arr = np.array([10, 20, 30, 40])\n",
        "print(arr[0])\n",
        "print(arr[-1])\n",
        "print(\"\\n\")\n",
        "\n",
        "\n",
        "#2. 2D Indexing: Access elements in rows and columns\n",
        "arr = np.array([[1, 2, 3],\n",
        "                [4, 5, 6]])\n",
        "\n",
        "print(arr[0, 1])\n",
        "print(arr[1][2])\n",
        "print(\"\\n\")\n",
        "\n",
        "\n",
        "#3. Slicing 1D Arrays\n",
        "arr = np.array([10, 20, 30, 40, 50])\n",
        "print(arr[1:4])\n",
        "print(arr[:3])\n",
        "print(arr[::2])\n",
        "print(\"\\n\")\n",
        "\n",
        "\n",
        "#4. Slicing 2D Arrays\n",
        "arr = np.array([[1, 2, 3],\n",
        "                [4, 5, 6],\n",
        "                [7, 8, 9]])\n",
        "\n",
        "print(arr[0:2, 1:])  # Rows 0–1, columns 1–2\n",
        "print(\"\\n\")"
      ],
      "metadata": {
        "colab": {
          "base_uri": "https://localhost:8080/"
        },
        "id": "rX0LbgMMNDZD",
        "outputId": "0df62e84-a540-4a07-d489-e32c077c8d41"
      },
      "execution_count": 58,
      "outputs": [
        {
          "output_type": "stream",
          "name": "stdout",
          "text": [
            "10\n",
            "40\n",
            "\n",
            "\n",
            "2\n",
            "6\n",
            "\n",
            "\n",
            "[20 30 40]\n",
            "[10 20 30]\n",
            "[10 30 50]\n",
            "\n",
            "\n",
            "[[2 3]\n",
            " [5 6]]\n",
            "\n",
            "\n"
          ]
        }
      ]
    },
    {
      "cell_type": "code",
      "source": [
        "#Practice Exercise:\n",
        "\n",
        "# Q1. Create a 1D array of numbers from 0 to 9 and:\n",
        "\n",
        "# -Print first 5 elements\n",
        "# -Print last 3 elements\n",
        "# -Print every second element\n",
        "\n",
        "arr = np.arange(10)\n",
        "\n",
        "print(\"First 5:\", arr[:5])\n",
        "print(\"Last 3:\", arr[-3:])\n",
        "print(\"Every 2nd:\", arr[::2])\n",
        "print(\"\\n\")\n",
        "\n",
        "# Q2. Create a 2D array:\n",
        "\n",
        "# [[10, 20, 30],\n",
        "#  [40, 50, 60],\n",
        "#  [70, 80, 90]]\n",
        "\n",
        "# -Access element 50 using indexing\n",
        "# -Slice second and third columns\n",
        "# -Slice first two rows\n",
        "\n",
        "arr2d = np.array([[10, 20, 30],\n",
        "                  [40, 50, 60],\n",
        "                  [70, 80, 90]])\n",
        "\n",
        "print(\"Element at (1,1):\", arr2d[1, 1])\n",
        "print(\"Second & Third Columns:\\n\", arr2d[:, 1:])\n",
        "print(\"First Two Rows:\\n\", arr2d[:2, :])\n",
        "print(\"\\n\")\n",
        "\n",
        "\n",
        "# Q3. Create a 3x3 array and:\n",
        "\n",
        "# -Print the diagonal elements\n",
        "# -Print the reverse of the second row\n",
        "\n",
        "arr3 = np.array([[1, 2, 3],\n",
        "                 [4, 5, 6],\n",
        "                 [7, 8, 9]])\n",
        "\n",
        "print(\"Diagonal:\", np.diag(arr3))\n",
        "print(\"Reversed 2nd row:\", arr3[1, ::-1])\n"
      ],
      "metadata": {
        "colab": {
          "base_uri": "https://localhost:8080/"
        },
        "id": "jsHoaH4LUWxn",
        "outputId": "15f27ebe-6971-4b61-9ff4-9f6883d58996"
      },
      "execution_count": 63,
      "outputs": [
        {
          "output_type": "stream",
          "name": "stdout",
          "text": [
            "First 5: [0 1 2 3 4]\n",
            "Last 3: [7 8 9]\n",
            "Every 2nd: [0 2 4 6 8]\n",
            "\n",
            "\n",
            "Element at (1,1): 50\n",
            "Second & Third Columns:\n",
            " [[20 30]\n",
            " [50 60]\n",
            " [80 90]]\n",
            "First Two Rows:\n",
            " [[10 20 30]\n",
            " [40 50 60]]\n",
            "\n",
            "\n",
            "Diagonal: [1 5 9]\n",
            "Reversed 2nd row: [6 5 4]\n"
          ]
        }
      ]
    },
    {
      "cell_type": "code",
      "source": [],
      "metadata": {
        "id": "JALa5nV3VMLQ"
      },
      "execution_count": 59,
      "outputs": []
    }
  ]
}