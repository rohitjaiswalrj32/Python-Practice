{
  "nbformat": 4,
  "nbformat_minor": 0,
  "metadata": {
    "colab": {
      "provenance": [],
      "authorship_tag": "ABX9TyMDWbNiTzSqckY9hpcE1953",
      "include_colab_link": true
    },
    "kernelspec": {
      "name": "python3",
      "display_name": "Python 3"
    },
    "language_info": {
      "name": "python"
    }
  },
  "cells": [
    {
      "cell_type": "markdown",
      "metadata": {
        "id": "view-in-github",
        "colab_type": "text"
      },
      "source": [
        "<a href=\"https://colab.research.google.com/github/rohitjaiswalrj32/Python_Learning/blob/main/Numpy.ipynb\" target=\"_parent\"><img src=\"https://colab.research.google.com/assets/colab-badge.svg\" alt=\"Open In Colab\"/></a>"
      ]
    },
    {
      "cell_type": "code",
      "execution_count": 2,
      "metadata": {
        "colab": {
          "base_uri": "https://localhost:8080/"
        },
        "id": "SVeF3dxdEslG",
        "outputId": "894e7793-7bc1-41a4-eda4-c54d9e50f248"
      },
      "outputs": [
        {
          "output_type": "stream",
          "name": "stdout",
          "text": [
            "[1 2 3 4]\n"
          ]
        }
      ],
      "source": [
        "#Importing Numpy Library\n",
        "\n",
        "import numpy as np\n",
        "\n",
        "#Example:\n",
        "\n",
        "# Create a simple array\n",
        "arr = np.array([1, 2, 3, 4])\n",
        "print(arr)\n"
      ]
    },
    {
      "cell_type": "code",
      "source": [
        "# Diffrence Between List and Numpy Array:\n",
        "\n",
        "# | Feature                | Python List                 | NumPy Array                                 |\n",
        "# | ---------------------- | --------------------------- | ------------------------------------------- |\n",
        "# |   Data Type            | Can store mixed data types  | Homogeneous (same data type)                |\n",
        "# |   Performance          | Slower for large operations | Much faster (uses C under the hood)         |\n",
        "# |   Functionality        | Limited built-in operations | Rich mathematical functions                 |\n",
        "# |   Memory Consumption   | More                        | Less (compact, fixed type)                  |\n",
        "# |   Broadcasting         | Not supported               | Supported (auto operations on all elements) |\n"
      ],
      "metadata": {
        "id": "ebO0UJGtE48g"
      },
      "execution_count": null,
      "outputs": []
    },
    {
      "cell_type": "code",
      "source": [
        "#1. Creating a List vs NumPy Array\n",
        "\n",
        "# Python List\n",
        "py_list = [1, 2, 3, 4]\n",
        "print(py_list)\n",
        "\n",
        "# NumPy Array\n",
        "array1 = np.array([1, 2, 3, 4])\n",
        "print(array1)"
      ],
      "metadata": {
        "colab": {
          "base_uri": "https://localhost:8080/"
        },
        "id": "6A68xbB5GYSP",
        "outputId": "c3ae0b86-c9ff-4bde-f4fd-c1e8da702e24"
      },
      "execution_count": null,
      "outputs": [
        {
          "output_type": "stream",
          "name": "stdout",
          "text": [
            "[1, 2, 3, 4]\n",
            "[1 2 3 4]\n"
          ]
        }
      ]
    },
    {
      "cell_type": "code",
      "source": [
        "#2. Element-wise Addition\n",
        "\n",
        "# Python List\n",
        "py_result = [x + 2 for x in py_list]\n",
        "print(\"Python List:\", py_result)\n",
        "\n",
        "# NumPy Array\n",
        "np_result = np_array + 2\n",
        "print(\"NumPy Array:\", np_result)\n"
      ],
      "metadata": {
        "colab": {
          "base_uri": "https://localhost:8080/"
        },
        "id": "ki2PzEmFGeHe",
        "outputId": "664e6832-b271-4504-eae5-f2e051dd8738"
      },
      "execution_count": null,
      "outputs": [
        {
          "output_type": "stream",
          "name": "stdout",
          "text": [
            "Python List: [3, 4, 5, 6]\n",
            "NumPy Array: [3 4 5 6]\n"
          ]
        }
      ]
    },
    {
      "cell_type": "code",
      "source": [
        "#3. Performance Test\n",
        "\n",
        "import time\n",
        "\n",
        "# Large list\n",
        "py_list = list(range(1000000))\n",
        "np_array = np.array(py_list)\n",
        "\n",
        "# Time taken by Python list\n",
        "start = time.time()\n",
        "py_result = [x * 2 for x in py_list]\n",
        "print(\"List Time:\", time.time() - start)\n",
        "\n",
        "# Time taken by NumPy\n",
        "start = time.time()\n",
        "np_result = np_array * 2\n",
        "print(\"NumPy Time:\", time.time() - start)\n",
        "\n",
        "\n",
        "# Note:\n",
        "\n",
        "# NumPy arrays are faster, more memory-efficient, and provide advanced math capabilities.\n",
        "# For data analysis, NumPy arrays are preferred over Python lists."
      ],
      "metadata": {
        "colab": {
          "base_uri": "https://localhost:8080/"
        },
        "id": "bw6KdNbiGys0",
        "outputId": "aa01312b-3f12-4d8d-dd1f-524c97697635"
      },
      "execution_count": null,
      "outputs": [
        {
          "output_type": "stream",
          "name": "stdout",
          "text": [
            "List Time: 0.05240464210510254\n",
            "NumPy Time: 0.003787994384765625\n"
          ]
        }
      ]
    },
    {
      "cell_type": "code",
      "source": [
        "#NumPy Array Creation Techniques\n",
        "\n",
        "#1. Creating from a Python List or Tuple\n",
        "\n",
        "# From list\n",
        "arr1 = np.array([1, 2, 3, 4])\n",
        "print(\"From list:\", arr1)\n",
        "\n",
        "# From tuple\n",
        "arr2 = np.array((5, 6, 7, 8))\n",
        "print(\"From tuple:\", arr2)"
      ],
      "metadata": {
        "colab": {
          "base_uri": "https://localhost:8080/"
        },
        "id": "QXPkdCwqHQbU",
        "outputId": "68f460de-2297-4510-ba88-2599580ab94a"
      },
      "execution_count": null,
      "outputs": [
        {
          "output_type": "stream",
          "name": "stdout",
          "text": [
            "From list: [1 2 3 4]\n",
            "From tuple: [5 6 7 8]\n"
          ]
        }
      ]
    },
    {
      "cell_type": "code",
      "source": [
        "#2. Creating Arrays of Zeros, Ones, or a Specific Value\n",
        "\n",
        "# Array of zeros\n",
        "zeros = np.zeros(5)\n",
        "print(\"Zeros:\", zeros)\n",
        "\n",
        "# Array of ones\n",
        "ones = np.ones((3, 3))\n",
        "print(\"Ones:\\n\", ones)\n",
        "\n",
        "# Array filled with a specific value\n",
        "full = np.full((2, 4), 7)\n",
        "print(\"Full:\\n\", full)"
      ],
      "metadata": {
        "colab": {
          "base_uri": "https://localhost:8080/"
        },
        "id": "r7o84tIpHm0H",
        "outputId": "dee9308d-4205-417a-9c2d-e7d679cbe594"
      },
      "execution_count": null,
      "outputs": [
        {
          "output_type": "stream",
          "name": "stdout",
          "text": [
            "Zeros: [0. 0. 0. 0. 0.]\n",
            "Ones:\n",
            " [[1. 1. 1.]\n",
            " [1. 1. 1.]\n",
            " [1. 1. 1.]]\n",
            "Full:\n",
            " [[7 7 7 7]\n",
            " [7 7 7 7]]\n"
          ]
        }
      ]
    },
    {
      "cell_type": "code",
      "source": [
        "#3. Similar to Python's range()\n",
        "\n",
        "arr_range = np.arange(0, 11, 2)  # start=0, stop=11, step=2\n",
        "print(\"Arange:\", arr_range)\n"
      ],
      "metadata": {
        "colab": {
          "base_uri": "https://localhost:8080/"
        },
        "id": "eWB_pDsZH97G",
        "outputId": "5b09e4e9-dfc7-43d6-8160-eb7b2ab36bce"
      },
      "execution_count": null,
      "outputs": [
        {
          "output_type": "stream",
          "name": "stdout",
          "text": [
            "Arange: [ 0  2  4  6  8 10]\n"
          ]
        }
      ]
    },
    {
      "cell_type": "code",
      "source": [
        "#4. Creating Arrays with Linearly Spaced Values\n",
        "\n",
        "\n",
        "#Numbers evenly spaced between 0 and 1\n",
        "arr_linspace = np.linspace(0, 1, 5)\n",
        "print(\"Linspace:\", arr_linspace)"
      ],
      "metadata": {
        "colab": {
          "base_uri": "https://localhost:8080/"
        },
        "id": "kp0mfD0TIRZq",
        "outputId": "d0944444-bf29-49e8-edaf-eba9c0d50e7e"
      },
      "execution_count": null,
      "outputs": [
        {
          "output_type": "stream",
          "name": "stdout",
          "text": [
            "Linspace: [0.   0.25 0.5  0.75 1.  ]\n"
          ]
        }
      ]
    },
    {
      "cell_type": "code",
      "source": [
        "#5. Creating Identity Matrices\n",
        "\n",
        "identity = np.eye(4)\n",
        "print(\"Identity Matrix:\\n\", identity)"
      ],
      "metadata": {
        "colab": {
          "base_uri": "https://localhost:8080/"
        },
        "id": "dNWZQgftIjww",
        "outputId": "eb1b4180-1ea9-4a5e-c966-527851c3833c"
      },
      "execution_count": null,
      "outputs": [
        {
          "output_type": "stream",
          "name": "stdout",
          "text": [
            "Identity Matrix:\n",
            " [[1. 0. 0. 0.]\n",
            " [0. 1. 0. 0.]\n",
            " [0. 0. 1. 0.]\n",
            " [0. 0. 0. 1.]]\n"
          ]
        }
      ]
    },
    {
      "cell_type": "code",
      "source": [
        "#6. Creating Random Arrays\n",
        "\n",
        "# Random floats between 0 and 1\n",
        "rand_float = np.random.rand(3, 3)\n",
        "print(\"Random Float Array:\\n\", rand_float)\n",
        "\n",
        "# Random integers between 0 and 10\n",
        "rand_int = np.random.randint(0, 10, 5)\n",
        "print(\"Random Int Array:\", rand_int)"
      ],
      "metadata": {
        "colab": {
          "base_uri": "https://localhost:8080/"
        },
        "id": "7mBa3bPzIr7U",
        "outputId": "0ffca65d-3187-452f-8584-c6e5d8d727b7"
      },
      "execution_count": null,
      "outputs": [
        {
          "output_type": "stream",
          "name": "stdout",
          "text": [
            "Random Float Array:\n",
            " [[0.18591125 0.89189206 0.81523071]\n",
            " [0.69115558 0.55963777 0.90791623]\n",
            " [0.59113133 0.45833362 0.72425332]]\n",
            "Random Int Array: [8 5 6 4 5]\n"
          ]
        }
      ]
    },
    {
      "cell_type": "code",
      "source": [
        "# Practice Exercise:\n",
        "\n",
        "# Q1. An array of ten zeros\n",
        "zero_array = np.zeros(10)\n",
        "print(\"Array of Zeros:\", zero_array)\n",
        "\n",
        "# Q2. A 2x5 array filled with the number 9\n",
        "array_of_9 = np.full((2,5), 9)\n",
        "print(\"Array of 9s:\\n\", array_of_9)\n",
        "\n",
        "# Q3. A range array from 10 to 50 with step size 5\n",
        "range_array = np.arange(10, 51, 5)\n",
        "print(\"Range Array:\", range_array)\n",
        "\n",
        "# Q4. An identity matrix of size 3\n",
        "identity_matrix = np.eye(3)\n",
        "print(\"Identity Matrix:\\n\", identity_matrix)\n",
        "\n",
        "# Q5. A 4x4 random float array\n",
        "random_float = np.random.rand(4, 4)\n",
        "print(\"Random floating Array: \\n\", random_float)"
      ],
      "metadata": {
        "colab": {
          "base_uri": "https://localhost:8080/"
        },
        "id": "aGcVBg3pIxz4",
        "outputId": "3b8f5119-7255-4437-c43f-7f14ba7140dc"
      },
      "execution_count": null,
      "outputs": [
        {
          "output_type": "stream",
          "name": "stdout",
          "text": [
            "Array of Zeros: [0. 0. 0. 0. 0. 0. 0. 0. 0. 0.]\n",
            "Array of 9s:\n",
            " [[9 9 9 9 9]\n",
            " [9 9 9 9 9]]\n",
            "Range Array: [10 15 20 25 30 35 40 45 50]\n",
            "Identity Matrix:\n",
            " [[1. 0. 0.]\n",
            " [0. 1. 0.]\n",
            " [0. 0. 1.]]\n",
            "Random floating Array: \n",
            " [[0.5867816  0.29525158 0.09468497 0.85276003]\n",
            " [0.02527935 0.05153823 0.34823763 0.89132016]\n",
            " [0.96481167 0.8717455  0.03964411 0.97799263]\n",
            " [0.19430486 0.7463116  0.43448429 0.57075149]]\n"
          ]
        }
      ]
    },
    {
      "cell_type": "code",
      "source": [
        "#NumPy Array Attributes & Properties:#Every NumPy array has several useful attributes\n",
        "                                     #that tell you about its structure and data type.\n",
        "\n",
        "#1. shape: Returns a tuple of the array dimensions.\n",
        "\n",
        "arr = np.array([[1,2,3], [4,5,6]])\n",
        "print(\"Array Shape is:\", arr.shape)\n",
        "print(arr)\n",
        "\n",
        "\n",
        "#2. size: Total number of elements in the array.\n",
        "\n",
        "arr = np.array([[1,2,3],\n",
        "               [4,5,6]])\n",
        "print(\"Array Size is:\", arr.size)\n",
        "print(arr)\n",
        "\n",
        "\n",
        "#3. ndim: Number of array dimensions (axes).\n",
        "arr = np.array([[\n",
        "                 [1,2,3],\n",
        "                 [4,5,6],\n",
        "                 [7,8,9]\n",
        "              ]])\n",
        "print(\"Array Dimension is:\", arr.ndim)\n",
        "print(arr)\n",
        "\n",
        "\n",
        "#4. dtype: Data type of elements in the array.\n",
        "arr = np.array([[[\"Rohit\", \"Pratik\", \"Sagar\"],\n",
        "                 [1,2,3],\n",
        "                 [1.23, 2.34, 3.45]]])\n",
        "print(\"Array Data Type is:\", arr.dtype)\n",
        "print(arr)\n",
        "\n",
        "#5. itemsize: Size (in bytes) of each element.\n",
        "print(\"Item Size is:\", arr.itemsize)\n",
        "\n",
        "#6. data: This shows memory location, usually less used directly.\n",
        "print(\"Memory Location is:\", arr.data)\n"
      ],
      "metadata": {
        "id": "XFPfcAvUJZMD",
        "colab": {
          "base_uri": "https://localhost:8080/"
        },
        "outputId": "370f9626-dd93-40b0-bdde-f48ce2befbe6"
      },
      "execution_count": null,
      "outputs": [
        {
          "output_type": "stream",
          "name": "stdout",
          "text": [
            "Array Shape is: (2, 3)\n",
            "[[1 2 3]\n",
            " [4 5 6]]\n",
            "Array Size is: 6\n",
            "[[1 2 3]\n",
            " [4 5 6]]\n",
            "Array Dimension is: 3\n",
            "[[[1 2 3]\n",
            "  [4 5 6]\n",
            "  [7 8 9]]]\n",
            "Array Data Type is: <U32\n",
            "[[['Rohit' 'Pratik' 'Sagar']\n",
            "  ['1' '2' '3']\n",
            "  ['1.23' '2.34' '3.45']]]\n",
            "Item Size is: 128\n",
            "Memory Location is: <memory at 0x7897950a96c0>\n"
          ]
        }
      ]
    },
    {
      "cell_type": "code",
      "source": [
        "#Practice Exercise:\n",
        "\n",
        "# Q1. Create arrays of different shapes and data types, then print and interpret their attributes.\n",
        "array1 = np.array([[1,2,3,4,5], [6,7,8,9,10]])\n",
        "print(\"Array Shape is:\", array1.shape)\n",
        "print(\"Array Size is:\", array1.size)\n",
        "print(\"Array Dimension is:\", array1.ndim)\n",
        "print(\"Array Datatype is:\", array1.dtype)\n",
        "print(\"Array Item Size is:\", array1.itemsize)\n",
        "print(\"Array Location is:\", array1.data)\n",
        "print(\"\\n\")\n",
        "\n",
        "\n",
        "# Q2. Try changing the dtype when creating an array, e.g., np.array([1, 2, 3], dtype=float) and check the difference.\n",
        "array2 = np.array([1, 2, 3], dtype=float)\n",
        "print(\"Array Datatype is:\", array2.dtype)\n",
        "print(\"\\n\")\n",
        "\n",
        "# Q3. Create a 3x2x2 array and print all its attributes\n",
        "array3 = np.array([[[1,2,3], [4,5,6], [7,8,9]]])\n",
        "print(array3)\n",
        "print(\"Shape:\", array3.shape)\n",
        "print(\"Size:\", array3.size)\n",
        "print(\"Dimensions:\", array3.ndim)\n",
        "print(\"Datatype:\", array3.dtype)\n",
        "print(\"Item Size (bytes):\", array3.itemsize)\n",
        "print(\"\\n\")\n",
        "\n",
        "# Q4. Create a float array: [5.5, 6.6, 7.7]\n",
        "array_float = np.array([5.5, 6.6, 7.7])\n",
        "print(\"Float Array:\", array_float)\n",
        "print(\"\\n\")\n",
        "\n",
        "# Q5. Print shape, size, dimensions, dtype, and itemsize\n",
        "print(\"Array Shape:\", array3.shape)\n",
        "print(\"Array Size:\", array3.size)\n",
        "print(\"Array Dimension:\", array3.ndim)\n",
        "print(\"Array Data Type:\", array3.dtype)\n",
        "print(\"Array Item Size:\", array3.itemsize)\n",
        "print(\"\\n\")\n",
        "\n",
        "# Q6. Create two arrays: one with int, one with float\n",
        "array_int = np.array([1, 2, 3])\n",
        "array_float = np.array([1.1, 2.2, 3.3])\n",
        "print(\"Integer Array:\", array_int)\n",
        "print(\"Float Array:\", array_float)\n",
        "print(\"\\n\")\n",
        "\n",
        "# Q7. Compare itemsize and dtype\n",
        "print(\"Integer Array Item Size:\", array_int.itemsize)\n",
        "print(\"Float Array :\", array_float.itemsize)\n",
        "print(\"\\n\")\n",
        "# Q8. Create an array of integers with dtype='int32'\n",
        "array_int32 = np.array([1, 2, 3], dtype='int32')\n",
        "print(\"Integer Array with dtype='int32':\", array_int32)\n",
        "print(\"\\n\")\n",
        "\n",
        "# Q9. Print array and its itemsize\n",
        "print(array3, \"Item Size: \", array3.itemsize)\n",
        "print(\"\\n\")\n",
        "\n",
        "# Q10. Create a 1D array of 9 elements\n",
        "array_1d = np.arange(9)\n",
        "print(\"1D Array:\", array_1d)\n",
        "print(\"Size:\", array_1d.size)\n",
        "print(\"\\n\")\n",
        "\n",
        "# Q11. Reshape to 3x3 and print shape, ndim, size\n",
        "array_3x3 = array_1d.reshape(3, 3)\n",
        "print(\"Reshaped 3x3 Array:\\n\", array_3x3)\n",
        "print(\"Shape:\", array_3x3.shape)\n",
        "print(\"Dimensions:\", array_3x3.ndim)\n"
      ],
      "metadata": {
        "colab": {
          "base_uri": "https://localhost:8080/"
        },
        "id": "9AAXVnu-I8T7",
        "outputId": "b98033f4-144d-4ad3-e406-f4692cdcbb0f"
      },
      "execution_count": null,
      "outputs": [
        {
          "output_type": "stream",
          "name": "stdout",
          "text": [
            "Array Shape is: (2, 5)\n",
            "Array Size is: 10\n",
            "Array Dimension is: 2\n",
            "Array Datatype is: int64\n",
            "Array Item Size is: 8\n",
            "Array Location is: <memory at 0x7897967ccd40>\n",
            "\n",
            "\n",
            "Array Datatype is: float64\n",
            "\n",
            "\n",
            "[[[1 2 3]\n",
            "  [4 5 6]\n",
            "  [7 8 9]]]\n",
            "Shape: (1, 3, 3)\n",
            "Size: 9\n",
            "Dimensions: 3\n",
            "Datatype: int64\n",
            "Item Size (bytes): 8\n",
            "\n",
            "\n",
            "Float Array: [5.5 6.6 7.7]\n",
            "\n",
            "\n",
            "Array Shape: (1, 3, 3)\n",
            "Array Size: 9\n",
            "Array Dimension: 3\n",
            "Array Data Type: int64\n",
            "Array Item Size: 8\n",
            "\n",
            "\n",
            "Integer Array: [1 2 3]\n",
            "Float Array: [1.1 2.2 3.3]\n",
            "\n",
            "\n",
            "Integer Array Item Size: 8\n",
            "Float Array : 8\n",
            "\n",
            "\n",
            "Integer Array with dtype='int32': [1 2 3]\n",
            "\n",
            "\n",
            "[[[1 2 3]\n",
            "  [4 5 6]\n",
            "  [7 8 9]]] Item Size:  8\n",
            "\n",
            "\n",
            "1D Array: [0 1 2 3 4 5 6 7 8]\n",
            "Size: 9\n",
            "\n",
            "\n",
            "Reshaped 3x3 Array:\n",
            " [[0 1 2]\n",
            " [3 4 5]\n",
            " [6 7 8]]\n",
            "Shape: (3, 3)\n",
            "Dimensions: 2\n"
          ]
        }
      ]
    },
    {
      "cell_type": "code",
      "source": [
        "# Array Indexing and Slicing: Indexing and slicing in NumPy is similar to Python lists\n",
        "                              #but offers more powerful and multi-dimensional capabilities.\n",
        "\n",
        "\n",
        "#Indexing:Indexing helps you access specific elements in arrays.\n",
        "\n",
        "#1. 1D Indexing: Accessing elements by index\n",
        "arr = np.array([10, 20, 30, 40])\n",
        "print(\"Original 1D Array:\", arr)\n",
        "print(\"Indexing [0]:\", arr[0])\n",
        "print(\"Indexing [-1]:\", arr[-1])\n",
        "print(\"\\n\")\n",
        "\n",
        "\n",
        "#2. 2D Indexing: Access elements in rows and columns\n",
        "arr = np.array([[1, 2, 3],\n",
        "                [4, 5, 6]])\n",
        "print(\"Original 2D Array:\", arr)\n",
        "print(\"Indexing [0,1]:\", arr[0, 1])\n",
        "print(\"Indexing [0,1]:\", arr[1][2])\n",
        "print(\"\\n\")\n",
        "\n",
        "\n",
        "#Slicing: Just like Python lists, NumPy supports slicing with [start:stop:step].\n",
        "\n",
        "#1. Slicing 1D Arrays\n",
        "arr = np.array([10, 20, 30, 40, 50])\n",
        "print(\"Original 1D Array:\", arr)\n",
        "print(\"SLicing [1:4]:\", arr[1:4])\n",
        "print(\"SLicing [:3]:\", arr[:3])\n",
        "print(\"SLicing [::2]:\", arr[::2])\n",
        "print(\"\\n\")\n",
        "\n",
        "\n",
        "#2. Slicing 2D Arrays\n",
        "arr = np.array([[1, 2, 3],\n",
        "                [4, 5, 6],\n",
        "                [7, 8, 9]])\n",
        "\n",
        "print(\"Original 2D Array:\", arr)\n",
        "print(\"Slicing [0:2, 1:]:\", arr[0:2, 1:])\n",
        "print(\"\\n\")\n",
        "\n",
        "\n",
        "#Reshaping Arrays: The reshape() function lets you change the shape (rows × columns) of an existing array without changing its data.\n",
        "arr = np.array([1, 2, 3, 4, 5, 6])\n",
        "reshaped = arr.reshape(2, 3)\n",
        "print(\"Reshaped Array:\", reshaped)\n",
        "print(\"\\n\")\n",
        "\n",
        "#Note: The total number of elements must remain the same.\n",
        "\n",
        "\n",
        "#Flattening Arrays: The flatten() method converts a multidimensional array into a 1D array.\n",
        "arr = np.array([[1, 2], [3, 4]])\n",
        "print(\"Original Array:\", arr)\n",
        "flat = arr.flatten()\n",
        "print(\"Flatten Array:\", flat)"
      ],
      "metadata": {
        "colab": {
          "base_uri": "https://localhost:8080/"
        },
        "id": "rX0LbgMMNDZD",
        "outputId": "66c09ae0-f9d5-4885-8858-7dbc1f16561d"
      },
      "execution_count": null,
      "outputs": [
        {
          "output_type": "stream",
          "name": "stdout",
          "text": [
            "Original 1D Array: [10 20 30 40]\n",
            "Indexing [0]: 10\n",
            "Indexing [-1]: 40\n",
            "\n",
            "\n",
            "Original 2D Array: [[1 2 3]\n",
            " [4 5 6]]\n",
            "Indexing [0,1]: 2\n",
            "Indexing [0,1]: 6\n",
            "\n",
            "\n",
            "Original 1D Array: [10 20 30 40 50]\n",
            "SLicing [1:4]: [20 30 40]\n",
            "SLicing [:3]: [10 20 30]\n",
            "SLicing [::2]: [10 30 50]\n",
            "\n",
            "\n",
            "Original 2D Array: [[1 2 3]\n",
            " [4 5 6]\n",
            " [7 8 9]]\n",
            "Slicing [0:2, 1:]: [[2 3]\n",
            " [5 6]]\n",
            "\n",
            "\n",
            "Reshaped Array: [[1 2 3]\n",
            " [4 5 6]]\n",
            "\n",
            "\n",
            "Original Array: [[1 2]\n",
            " [3 4]]\n",
            "Flatten Array: [1 2 3 4]\n"
          ]
        }
      ]
    },
    {
      "cell_type": "code",
      "source": [
        "#Practice Exercise:\n",
        "\n",
        "# Q1. Create a 1D array of numbers from 0 to 9 and:\n",
        "\n",
        "# -Print first 5 elements\n",
        "# -Print last 3 elements\n",
        "# -Print every second element\n",
        "\n",
        "arr = np.arange(10)\n",
        "print(\"Original Array:\", arr)\n",
        "print(\"First 5:\", arr[:5])\n",
        "print(\"Last 3:\", arr[-3:])\n",
        "print(\"Every 2nd:\", arr[::2])\n",
        "print(\"\\n\")\n",
        "\n",
        "# Q2. Create a 2D array:\n",
        "\n",
        "# [[10, 20, 30],\n",
        "#  [40, 50, 60],\n",
        "#  [70, 80, 90]]\n",
        "\n",
        "# -Access element 50 using indexing\n",
        "# -Slice second and third columns\n",
        "# -Slice first two rows\n",
        "arr2d = np.array([[10, 20, 30],\n",
        "                  [40, 50, 60],\n",
        "                  [70, 80, 90]])\n",
        "print(\"Original Array:\", arr2d)\n",
        "print(\"Accessing element at [1,1]:\", arr2d[1, 1])\n",
        "print(\"Second & Third Columns:\\n\", arr2d[:, 1:])\n",
        "print(\"First Two Rows:\\n\", arr2d[:2, :])\n",
        "print(\"\\n\")\n",
        "\n",
        "\n",
        "# Q3. Create a 3x3 array and:\n",
        "\n",
        "# -Print the diagonal elements\n",
        "# -Print the reverse of the second row\n",
        "arr3 = np.array([[1, 2, 3],\n",
        "                 [4, 5, 6],\n",
        "                 [7, 8, 9]])\n",
        "print(\"Diagonal:\", np.diag(arr3))\n",
        "print(\"Reversed 2nd row:\", arr3[1, ::-1])\n",
        "print(\"\\n\")\n",
        "\n",
        "# Q4. Create a 1D array of 16 elements and reshape it into a 4x4 matrix.\n",
        "arr = np.arange(16)\n",
        "print(\"Original 1D Array:\", arr)\n",
        "reshaped = arr.reshape(4, 4)\n",
        "print(\"Reshaped Array:\", reshaped)\n",
        "print(\"\\n\")\n",
        "\n",
        "# Q5. Create a 3x3 matrix and flatten it into a 1D array.\n",
        "arr = np.array([[1,2,3], [4,5,6], [7,8,9]])\n",
        "print(\"Original Array:\", arr)\n",
        "flat = arr.flatten()\n",
        "print(\"Flatten Array:\", flat)\n",
        "print(\"\\n\")\n",
        "\n",
        "# Q6. Create a 1D array of 12 elements and reshape it into 2 blocks of 3×2 arrays (i.e., shape = (2, 3, 2))\n",
        "arr = np.arange(12)\n",
        "print(\"Original Array:\", arr)\n",
        "reshaped = arr.reshape(2, 3, 2)\n",
        "print(\"Reshaped Array:\", reshaped)\n",
        "print(\"\\n\")\n",
        "\n",
        "# Q7. Use ravel() to flatten an array and demonstrate that it returns a view.\n",
        "arr = np.array([[10, 20], [30, 40]])\n",
        "ravelled = arr.ravel()\n",
        "print(\"Original:\", arr)\n",
        "print(\"Ravelled:\", ravelled)\n",
        "print(\"\\n\")\n",
        "arr[0, 0] = 99\n",
        "print(\"After modifying original:\")\n",
        "print(\"Original:\", arr)\n",
        "print(\"Ravelled:\", ravelled)\n",
        "print(\"\\n\")\n",
        "\n",
        "# Q8. Reshape a 1D array of 9 elements using reshape(-1, 3) and explain the result.\n",
        "arr = np.arange(9)\n",
        "reshaped = arr.reshape(-1, 3)\n",
        "print(\"Original:\", arr)\n",
        "print(\"Reshaped (-1, 3):\", reshaped)\n"
      ],
      "metadata": {
        "colab": {
          "base_uri": "https://localhost:8080/"
        },
        "id": "jsHoaH4LUWxn",
        "outputId": "f02b04dc-8bf7-4043-ff82-13d6e742bfe5"
      },
      "execution_count": null,
      "outputs": [
        {
          "output_type": "stream",
          "name": "stdout",
          "text": [
            "Original Array: [0 1 2 3 4 5 6 7 8 9]\n",
            "First 5: [0 1 2 3 4]\n",
            "Last 3: [7 8 9]\n",
            "Every 2nd: [0 2 4 6 8]\n",
            "\n",
            "\n",
            "Original Array: [[10 20 30]\n",
            " [40 50 60]\n",
            " [70 80 90]]\n",
            "Accessing element at [1,1]: 50\n",
            "Second & Third Columns:\n",
            " [[20 30]\n",
            " [50 60]\n",
            " [80 90]]\n",
            "First Two Rows:\n",
            " [[10 20 30]\n",
            " [40 50 60]]\n",
            "\n",
            "\n",
            "Diagonal: [1 5 9]\n",
            "Reversed 2nd row: [6 5 4]\n",
            "\n",
            "\n",
            "Original 1D Array: [ 0  1  2  3  4  5  6  7  8  9 10 11 12 13 14 15]\n",
            "Reshaped Array: [[ 0  1  2  3]\n",
            " [ 4  5  6  7]\n",
            " [ 8  9 10 11]\n",
            " [12 13 14 15]]\n",
            "\n",
            "\n",
            "Original Array: [[1 2 3]\n",
            " [4 5 6]\n",
            " [7 8 9]]\n",
            "Flatten Array: [1 2 3 4 5 6 7 8 9]\n",
            "\n",
            "\n",
            "Original Array: [ 0  1  2  3  4  5  6  7  8  9 10 11]\n",
            "Reshaped Array: [[[ 0  1]\n",
            "  [ 2  3]\n",
            "  [ 4  5]]\n",
            "\n",
            " [[ 6  7]\n",
            "  [ 8  9]\n",
            "  [10 11]]]\n",
            "\n",
            "\n",
            "Original: [[10 20]\n",
            " [30 40]]\n",
            "Ravelled: [10 20 30 40]\n",
            "\n",
            "\n",
            "After modifying original:\n",
            "Original: [[99 20]\n",
            " [30 40]]\n",
            "Ravelled: [99 20 30 40]\n",
            "\n",
            "\n",
            "Original: [0 1 2 3 4 5 6 7 8]\n",
            "Reshaped (-1, 3): [[0 1 2]\n",
            " [3 4 5]\n",
            " [6 7 8]]\n"
          ]
        }
      ]
    },
    {
      "cell_type": "code",
      "source": [
        "#Array Operations in NumPy: NumPy allows vectorized operations on arrays,\n",
        "                            #which means you can perform operations on entire arrays without writing loops.\n",
        "                            #This makes your code cleaner, faster, and more efficient.\n",
        "\n",
        "\n",
        "##Types of Operations:\n",
        "\n",
        "\n",
        "#1. Arithmetic Operations\n",
        "\n",
        "# Addition (+)\n",
        "# Subtraction (-)\n",
        "# Multiplication (*)\n",
        "# Division (/)\n",
        "# Exponentiation (**)\n",
        "\n",
        "\n",
        "#2. Comparison Operations\n",
        "\n",
        "# Greater than (>)\n",
        "# Less than (<)\n",
        "# Equal to (==)\n",
        "# Not equal (!=)\n",
        "\n",
        "\n",
        "#3. Broadcasting: Performing operations between arrays of different shapes intelligently.\n",
        "\n",
        "#Example: adding a scalar to an array, or row-wise/column-wise operations.\n",
        "\n",
        "\n",
        "#4. Aggregate Functions (Universal Functions): sum(), mean(), max(), min(), std(), etc\n",
        "\n",
        "\n",
        "\n",
        "#Example:\n",
        "arr1 = np.array([1, 2, 3])\n",
        "arr2 = np.array([4, 5, 6])\n",
        "\n",
        "# Arithmetic\n",
        "print(arr1 + arr2)\n",
        "print(arr1 * arr2)\n",
        "print(arr1 ** 2)\n",
        "\n",
        "# Comparison\n",
        "print(arr1 > 2)\n",
        "print(arr1 == arr2)\n",
        "\n",
        "# Broadcasting\n",
        "print(arr1 + 5)\n",
        "\n",
        "# Aggregate\n",
        "matrix = np.array([[1, 2], [3, 4]])\n",
        "print(np.sum(matrix))\n",
        "print(np.sum(matrix, axis=0))\n",
        "print(np.mean(matrix))"
      ],
      "metadata": {
        "id": "JALa5nV3VMLQ",
        "colab": {
          "base_uri": "https://localhost:8080/"
        },
        "outputId": "0d8c6ed6-0601-4a2f-f7d9-cc5aea6273d1"
      },
      "execution_count": null,
      "outputs": [
        {
          "output_type": "stream",
          "name": "stdout",
          "text": [
            "[5 7 9]\n",
            "[ 4 10 18]\n",
            "[1 4 9]\n",
            "[False False  True]\n",
            "[False False False]\n",
            "[6 7 8]\n",
            "10\n",
            "[4 6]\n",
            "2.5\n"
          ]
        }
      ]
    },
    {
      "cell_type": "code",
      "source": [
        "#Practice Exercises\n",
        "\n",
        "# Exercise 1:\n",
        "\n",
        "# Create two 1D arrays: [10, 20, 30] and [1, 2, 3]\n",
        "# Perform element-wise addition, subtraction, and multiplication.\n",
        "arr1 = np.array([10, 20, 30])\n",
        "arr2 = np.array([1, 2, 3])\n",
        "print(\"Array1:\", arr1, \"and its Dimension:\", arr1.ndim)\n",
        "print(\"Array2:\", arr2, \"and its Dimension:\", arr2.ndim)\n",
        "addition = arr1+arr2\n",
        "subtraction = arr1-arr2\n",
        "multiplication = arr1*arr2\n",
        "print(\"Addition:\", addition)\n",
        "print(\"Subtraction:\", subtraction)\n",
        "print(\"multiplication:\", multiplication)\n",
        "print(\"\\n\")\n",
        "\n",
        "\n",
        "# Exercise 2:\n",
        "\n",
        "# Create an array:arr = np.array([[5, 10], [15, 20]])\n",
        "# Multiply each element by 2 using broadcasting\n",
        "# Find the mean, max, and standard deviation\n",
        "arr = np.array([[5,10], [15,20]])\n",
        "print(\"Array:\", arr)\n",
        "print(\"Multiply Elements by 2:\", arr * 2)\n",
        "print(\"Mean:\", np.mean(arr))\n",
        "print(\"Max:\", np.max(arr))\n",
        "print(\"Standard Deviation:\", np.std(arr))\n",
        "print(\"\\n\")\n",
        "\n",
        "\n",
        "# Exercise 3:\n",
        "\n",
        "# Given arr = np.array([100, 200, 300, 400])\n",
        "# Check which elements are greater than 250\n",
        "# Add 50 to all elements using broadcasting\n",
        "arr = np.array([100, 200, 300, 400])\n",
        "print(\"Array:\", arr)\n",
        "print(\"Element Greater than 250:\", arr > 250)\n",
        "print(\"Add 50 all elements:\", arr + 50)"
      ],
      "metadata": {
        "colab": {
          "base_uri": "https://localhost:8080/"
        },
        "id": "fDTGrhtA3j0i",
        "outputId": "cf9f5d1d-2efd-4731-e3f3-bf0768c58388"
      },
      "execution_count": null,
      "outputs": [
        {
          "output_type": "stream",
          "name": "stdout",
          "text": [
            "Array1: [10 20 30] and its Dimension: 1\n",
            "Array2: [1 2 3] and its Dimension: 1\n",
            "Addition: [11 22 33]\n",
            "Subtraction: [ 9 18 27]\n",
            "multiplication: [10 40 90]\n",
            "\n",
            "\n",
            "Array: [[ 5 10]\n",
            " [15 20]]\n",
            "Multiply Elements by 2: [[10 20]\n",
            " [30 40]]\n",
            "Mean: 12.5\n",
            "Max: 20\n",
            "Standard Deviation: 5.5901699437494745\n",
            "\n",
            "\n",
            "Array: [100 200 300 400]\n",
            "Element Greater than 250: [False False  True  True]\n",
            "Add 50 all elements: [150 250 350 450]\n"
          ]
        }
      ]
    },
    {
      "cell_type": "code",
      "source": [
        "#Boolean Indexing: It allows you to filter elements in an array using boolean conditions.\n",
        "                   #Instead of using specific indices, you use a condition to get True or False values,\n",
        "                   #and NumPy returns the elements where the condition is True.\n",
        "\n",
        "\n",
        "#Example 1: Simple Condition on 1D Array\n",
        "arr = np.array([10, 20, 30, 40, 50])\n",
        "condition = arr > 25\n",
        "print(\"Boolean Mask:\", condition)\n",
        "\n",
        "filtered = arr[condition]\n",
        "print(\"Filtered Elements:\", filtered)\n",
        "\n",
        "\n",
        "#Example 2: Direct Filtering in One Line\n",
        "arr = np.array([5, 15, 25, 35, 45])\n",
        "print(\"Values Greater than 20:\", arr[arr > 20])\n",
        "\n",
        "\n",
        "#Example 3: Boolean Indexing with 2D Arrays\n",
        "matrix = np.array([[1, 2, 3],\n",
        "                   [4, 5, 6],\n",
        "                   [7, 8, 9]])\n",
        "\n",
        "print(\"Elements Greater than 5:\", matrix[matrix > 5])\n",
        "\n",
        "\n",
        "# Example 4: Combine Conditions\n",
        "\n",
        "# Use logical operators like:\n",
        "\n",
        "# & → AND\n",
        "# | → OR\n",
        "# ~ → NOT\n",
        "\n",
        "arr = np.array([10, 20, 30, 40, 50])\n",
        "print(\"Between 15 and 45:\", arr[(arr > 15) & (arr < 45)])\n",
        "print(\"Not Equal to 20 or 40:\", arr[(arr == 20) | (arr == 40)])\n",
        "print(\"Not Greater than 30:\", arr[~(arr > 30)])\n",
        "\n",
        "\n",
        "#Note:\n",
        "# Must use () around conditions due to Python’s operator precedence.\n",
        "# Boolean indexing does not modify the original array.\n",
        "# Can be used for filtering rows/columns, cleaning data, or masking values in data analytics."
      ],
      "metadata": {
        "colab": {
          "base_uri": "https://localhost:8080/"
        },
        "id": "yvtHAh2v7eU5",
        "outputId": "813c0652-5cee-4ccd-8604-f58a13cd9669"
      },
      "execution_count": null,
      "outputs": [
        {
          "output_type": "stream",
          "name": "stdout",
          "text": [
            "Boolean Mask: [False False  True  True  True]\n",
            "Filtered Elements: [30 40 50]\n",
            "Values Greater than 20: [25 35 45]\n",
            "Elements Greater than 5: [6 7 8 9]\n",
            "Between 15 and 45: [20 30 40]\n",
            "Not Equal to 20 or 40: [20 40]\n",
            "Not Greater than 30: [10 20 30]\n"
          ]
        }
      ]
    },
    {
      "cell_type": "code",
      "source": [
        "# Practice Exercise:\n",
        "\n",
        "# Q1. Given the array:\n",
        "#     arr = np.array([5, 10, 15, 20, 25, 30])\n",
        "\n",
        "# Print all elements greater than 18\n",
        "# Print all even numbers\n",
        "# Print elements between 10 and 25 (inclusive)\n",
        "arr = np.array([5, 10, 15, 20, 25, 30])\n",
        "print(\"Original Array:\", arr)\n",
        "print(\"Elements Greater than 18:\", arr[(arr > 18)])\n",
        "print(\"Even Elements:\", arr[(arr % 2 == 0)])\n",
        "print(\"Elements Between 10 and 25:\", arr[(arr >= 10) & (arr <= 25)])\n",
        "print(\"\\n\")\n",
        "\n",
        "\n",
        "# Q2. Given the 2D array:\n",
        "#     matrix = np.array([[1, 12, 7],\n",
        "#                        [15, 3, 8],\n",
        "#                        [9, 20, 5]])\n",
        "\n",
        "# Print all elements greater than 10\n",
        "# Print elements that are either less than 5 or greater than 15\n",
        "# Replace all elements less than 10 with 0 (use boolean indexing)\n",
        "matrix = np.array([[1, 12, 7], [15, 3, 8], [9, 20, 5]])\n",
        "print(\"Original Matrix:\", matrix)\n",
        "print(\"Elements Greater than 10:\", matrix[(matrix > 10)])\n",
        "print(\"Elements less than 5 and greater than 15:\", matrix[(matrix < 5) & (matrix > 15)])\n",
        "matrix_copy = matrix.copy()\n",
        "matrix_copy[matrix_copy < 10] = 0\n",
        "print(\"Replace Elements less than 10 with 0:\", matrix_copy)\n",
        "print(\"\\n\")\n",
        "\n",
        "\n",
        "\n",
        "# Q3. Given:\n",
        "#     arr = np.array([100, 200, 300, 400, 500])\n",
        "\n",
        "# Use boolean indexing to:\n",
        "# Print elements divisible by 100\n",
        "# Print elements not equal to 300\n",
        "\n",
        "arr = np.array([100, 200, 300, 400, 500])\n",
        "print(\"Original Array:\", arr)\n",
        "print(\"Elements Divisible by 100:\", arr[(arr % 100 == 0)])\n",
        "print(\"Elements Not Equal to 300:\", arr[(arr != 300)])\n",
        "\n"
      ],
      "metadata": {
        "colab": {
          "base_uri": "https://localhost:8080/"
        },
        "id": "bSNaO2deIqy0",
        "outputId": "c3ea4d76-2534-449a-a368-eaec2c403465"
      },
      "execution_count": null,
      "outputs": [
        {
          "output_type": "stream",
          "name": "stdout",
          "text": [
            "Original Array: [ 5 10 15 20 25 30]\n",
            "Elements Greater than 18: [20 25 30]\n",
            "Even Elements: [10 20 30]\n",
            "Elements Between 10 and 25: [10 15 20 25]\n",
            "\n",
            "\n",
            "Original Matrix: [[ 1 12  7]\n",
            " [15  3  8]\n",
            " [ 9 20  5]]\n",
            "Elements Greater than 10: [12 15 20]\n",
            "Elements less than 5 and greater than 15: []\n",
            "Replace Elements less than 10 with 0: [[ 0 12  0]\n",
            " [15  0  0]\n",
            " [ 0 20  0]]\n",
            "\n",
            "\n",
            "Original Array: [100 200 300 400 500]\n",
            "Elements Divisible by 100: [100 200 300 400 500]\n",
            "Elements Not Equal to 300: [100 200 400 500]\n"
          ]
        }
      ]
    },
    {
      "cell_type": "code",
      "source": [
        "# Fancy Indexing: Fancy indexing lets you access multiple array elements at once using lists or arrays of indices. It’s a powerful way to select arbitrary elements in any order, or even repeat elements.\n",
        "\n",
        "\n",
        "# How it works:\n",
        "\n",
        "# Instead of slicing, you provide arrays or lists of indices.\n",
        "# Can be applied to 1D or multi-dimensional arrays.\n",
        "# Returns a new array containing elements at the specified indices.\n",
        "\n",
        "\n",
        "#Example 1: 1D Fancy Indexing\n",
        "arr = np.array([10, 20, 30, 40, 50])\n",
        "\n",
        "indices = [1, 3, 4]\n",
        "print(\"1D Fancy Indexing:\", arr[indices])\n",
        "\n",
        "\n",
        "#Example 2: 2D Fancy Indexing\n",
        "matrix = np.array([[1, 2, 3],\n",
        "                   [4, 5, 6],\n",
        "                   [7, 8, 9]])\n",
        "\n",
        "row_indices = [0, 2]\n",
        "col_indices = [1, 0]\n",
        "\n",
        "print(\"2D Fancy Indexing:\", matrix[row_indices, col_indices])\n",
        "\n",
        "\n",
        "#Fancy Indexing vs Boolean Indexing:\n",
        "\n",
        "# Fancy indexing uses explicit integer indices.\n",
        "# Boolean indexing uses boolean masks (True/False)."
      ],
      "metadata": {
        "colab": {
          "base_uri": "https://localhost:8080/"
        },
        "id": "eA0IUti2LYMF",
        "outputId": "c4ebe739-8db9-465c-a10b-16ba11855e2d"
      },
      "execution_count": null,
      "outputs": [
        {
          "output_type": "stream",
          "name": "stdout",
          "text": [
            "1D Fancy Indexing: [20 40 50]\n",
            "2D Fancy Indexing: [2 7]\n"
          ]
        }
      ]
    },
    {
      "cell_type": "code",
      "source": [
        "#Practice Exercises:\n",
        "\n",
        "# Q1. Create an array arr = np.array([5, 10, 15, 20, 25, 30]).\n",
        "\n",
        "#Use fancy indexing to select elements at positions 0, 2, and 4.\n",
        "arr = np.array([5, 10, 15, 20, 25, 30])\n",
        "print(\"Original Array:\", arr)\n",
        "result = arr[[0, 2, 4]]\n",
        "print(\"Selected Elements:\", result)\n",
        "print(\"\\n\")\n",
        "\n",
        "\n",
        "# Q2. Given: matrix = np.array([[1, 2, 3], [4, 5, 6], [7, 8, 9]])\n",
        "#     Use fancy indexing to select the elements at positions (0,0), (1,1), and (2,2) — the diagonal elements.\n",
        "matrix = np.array([[1, 2, 3], [4, 5, 6], [7, 8, 9]])\n",
        "print(\"Original Matrix:\", matrix)\n",
        "diagonal = matrix[[0, 1, 2], [0, 1, 2]]\n",
        "print(\"Diagonal Elements:\", diagonal)\n",
        "print(\"\\n\")\n",
        "\n",
        "\n",
        "\n",
        "# Q3. Create an array arr = np.array([10, 20, 30, 40, 50]).\n",
        "#     Use fancy indexing to select elements in reverse order.\n",
        "arr = np.array([10, 20, 30, 40, 50])\n",
        "print(\"Original Array:\", arr)\n",
        "reverse = arr[::-1]\n",
        "print(\"Reverse Elements:\", reverse)"
      ],
      "metadata": {
        "colab": {
          "base_uri": "https://localhost:8080/"
        },
        "id": "u75kjHdVP14T",
        "outputId": "e4eb21b3-5ad5-4cdc-da3f-45da11486120"
      },
      "execution_count": null,
      "outputs": [
        {
          "output_type": "stream",
          "name": "stdout",
          "text": [
            "Original Array: [ 5 10 15 20 25 30]\n",
            "Selected Elements: [ 5 15 25]\n",
            "\n",
            "\n",
            "Original Matrix: [[1 2 3]\n",
            " [4 5 6]\n",
            " [7 8 9]]\n",
            "Diagonal Elements: [1 5 9]\n",
            "\n",
            "\n",
            "Original Array: [10 20 30 40 50]\n",
            "Reverse Elements: [50 40 30 20 10]\n"
          ]
        }
      ]
    },
    {
      "cell_type": "code",
      "source": [
        "#Sorting Arrays in NumPy: NumPy provides powerful tools to sort arrays efficiently.\n",
        "\n",
        "#1. Basic Sorting with np.sort(): This function returns a sorted copy of an array (does not change original array).\n",
        "\n",
        "#Example:\n",
        "arr = np.array([10, 5, 8, 3])\n",
        "sorted_arr = np.sort(arr)\n",
        "print(\"Original:\", arr)\n",
        "print(\"Sorted:\", sorted_arr)\n",
        "print(\"\\n\")\n",
        "\n",
        "\n",
        "#2. Sorting 2D Arrays: By default, it sorts each row independently.\n",
        "\n",
        "#Example:\n",
        "arr2d = np.array([[3, 1, 2],\n",
        "                  [9, 5, 6]])\n",
        "\n",
        "# Row-wise sort\n",
        "print(\"Sorted along rows:\\n\", np.sort(arr2d, axis=1))\n",
        "print(\"\\n\")\n",
        "# Column-wise sort\n",
        "print(\"Sorted along columns:\\n\", np.sort(arr2d, axis=0))\n",
        "print(\"\\n\")\n",
        "\n",
        "#3. np.argsort() – Indices of Sorted Elements: Returns indices that would sort the array.\n",
        "\n",
        "#Example:\n",
        "arr = np.array([40, 10, 30, 20])\n",
        "indices = np.argsort(arr)\n",
        "\n",
        "print(\"Sorted indices:\", indices)\n",
        "print(\"Sorted values:\", arr[indices])\n",
        "print(\"\\n\")\n",
        "\n",
        "\n",
        "#4. Sorting in Descending Order: NumPy doesn’t have a direct descending=True flag. We can reverse a sorted array manually:\n",
        "\n",
        "#Example:\n",
        "arr = np.array([5, 1, 9])\n",
        "sorted_desc = np.sort(arr)[::-1]\n",
        "print(\"Sorted in Descending Order:\", sorted_desc)\n"
      ],
      "metadata": {
        "id": "TarmB2kcRhlf",
        "colab": {
          "base_uri": "https://localhost:8080/"
        },
        "outputId": "b794176b-05cd-4c08-dfc6-a8784dfbda4a"
      },
      "execution_count": 5,
      "outputs": [
        {
          "output_type": "stream",
          "name": "stdout",
          "text": [
            "Original: [10  5  8  3]\n",
            "Sorted: [ 3  5  8 10]\n",
            "\n",
            "\n",
            "Sorted along rows:\n",
            " [[1 2 3]\n",
            " [5 6 9]]\n",
            "\n",
            "\n",
            "Sorted along columns:\n",
            " [[3 1 2]\n",
            " [9 5 6]]\n",
            "\n",
            "\n",
            "Sorted indices: [1 3 2 0]\n",
            "Sorted values: [10 20 30 40]\n",
            "\n",
            "\n",
            "Sorted in Descending Order: [9 5 1]\n"
          ]
        }
      ]
    },
    {
      "cell_type": "code",
      "source": [
        "#Practice Exercises\n",
        "\n",
        "# #Q1. Create a 1D array with the values: [25, 5, 15, 10, 20]\n",
        "\n",
        "# Sort the array in ascending order.\n",
        "# Sort it in descending order.\n",
        "array_1d = np.array([25, 5, 15, 10, 20])\n",
        "print(\"Original Array:\", array_1d)\n",
        "print(\"Sorted in Ascending Order:\", np.sort(array_1d))\n",
        "print(\"Sorted in Descending Order:\", np.sort(array_1d)[::-1])\n",
        "print(\"\\n\")\n",
        "\n",
        "\n",
        "# Q2. Create a 2D array:\n",
        "#       [[12, 45, 78],\n",
        "#       [34, 23, 67],\n",
        "#       [89, 11, 50]]\n",
        "\n",
        "# Sort each row individually.\n",
        "# Sort each column individually.\n",
        "array_2d = np.array([[12, 45, 78], [34, 23, 67], [89, 11, 50]])\n",
        "print(\"Original Array:\", array_2d)\n",
        "print(\"Sorted along rows:\", np.sort(array_2d, axis=1))\n",
        "print(\"Sorted along columns:\", np.sort(array_2d, axis=0))\n",
        "print(\"\\n\")\n",
        "\n",
        "\n",
        "# Q3. Given a 1D array arr = np.array([100, 70, 50, 90]):\n",
        "\n",
        "# Find the indices that would sort the array.\n",
        "# Use those indices to sort the array.\n",
        "arr = np.array([100, 70, 50, 90])\n",
        "print(\"Original Array:\", arr)\n",
        "indices = np.argsort(arr)\n",
        "print(\"Sorted Indices:\", indices)\n",
        "print(\"Sorted Array:\", arr[indices])\n",
        "print(\"\\n\")\n",
        "\n",
        "\n",
        "\n",
        "# Q4. Create a 1D array of random integers between 1 and 100 (size = 6).\n",
        "\n",
        "# Print the array.\n",
        "# Sort it in descending order using slicing.\n",
        "arr = np.random.randint(1, 101, size = 6)\n",
        "print(\"Original Array:\", arr)\n",
        "print(\"Sorted in Descending Order:\", np.sort(arr)[::-1])\n",
        "\n"
      ],
      "metadata": {
        "colab": {
          "base_uri": "https://localhost:8080/"
        },
        "id": "fHYB9Nk6k4xi",
        "outputId": "7618b8f5-b786-46a5-9b1c-1a1b6140e1fe"
      },
      "execution_count": 14,
      "outputs": [
        {
          "output_type": "stream",
          "name": "stdout",
          "text": [
            "Original Array: [25  5 15 10 20]\n",
            "Sorted in Ascending Order: [ 5 10 15 20 25]\n",
            "Sorted in Descending Order: [25 20 15 10  5]\n",
            "\n",
            "\n",
            "Original Array: [[12 45 78]\n",
            " [34 23 67]\n",
            " [89 11 50]]\n",
            "Sorted along rows: [[12 45 78]\n",
            " [23 34 67]\n",
            " [11 50 89]]\n",
            "Sorted along columns: [[12 11 50]\n",
            " [34 23 67]\n",
            " [89 45 78]]\n",
            "\n",
            "\n",
            "Original Array: [100  70  50  90]\n",
            "Sorted Indices: [2 1 3 0]\n",
            "Sorted Array: [ 50  70  90 100]\n",
            "\n",
            "\n",
            "Original Array: [ 11  74  36   2 100  72]\n",
            "Sorted in Descending Order: [100  74  72  36  11   2]\n"
          ]
        }
      ]
    },
    {
      "cell_type": "code",
      "source": [
        "#Set Operations in NumPy: NumPy provides several functions to perform set operations on 1D arrays\n",
        "                          #(usually of numbers or strings), similar to set operations in mathematics.\n",
        "\n",
        "\n",
        "#1. np.unique(): Returns the sorted unique elements of an array.\n",
        "\n",
        "arr = np.array([1, 2, 2, 3, 4, 4, 5])\n",
        "print(\"Original Array:\", arr)\n",
        "print(\"Unique Elements:\", np.unique(arr))\n",
        "print(\"\\n\")\n",
        "\n",
        "\n",
        "#2. np.intersect1d(): Returns the common elements of two arrays.\n",
        "\n",
        "a = np.array([1, 2, 3, 4])\n",
        "b = np.array([3, 4, 5, 6])\n",
        "print(\"Array1:\", a)\n",
        "print(\"Array2:\", b)\n",
        "print(\"Common Elements:\", np.intersect1d(a, b))\n",
        "print(\"\\n\")\n",
        "\n",
        "\n",
        "#3. np.union1d(): Returns the union (all unique elements) from both arrays.\n",
        "\n",
        "print(\"Array1:\", a)\n",
        "print(\"Array2:\", b)\n",
        "print(\"Union:\", np.union1d(a, b))\n",
        "print(\"\\n\")\n",
        "\n",
        "\n",
        "#4. np.setdiff1d(): Returns the elements in one array but not in the other.\n",
        "\n",
        "print(\"Array1:\", a)\n",
        "print(\"Array2:\", b)\n",
        "print(np.setdiff1d(a, b))\n",
        "print(np.setdiff1d(b, a))\n",
        "print(\"\\n\")\n",
        "\n",
        "\n",
        "#5. np.setxor1d(): Returns elements that are in either of the arrays but not in both (symmetric difference).\n",
        "\n",
        "print(\"Array1:\", a)\n",
        "print(\"Array2:\", b)\n",
        "print(\"Symmetric Difference:\", np.setxor1d(a, b))"
      ],
      "metadata": {
        "colab": {
          "base_uri": "https://localhost:8080/"
        },
        "id": "35fL8LU_ncDH",
        "outputId": "f7598d25-96e6-46d8-db94-74d24e0561d1"
      },
      "execution_count": 32,
      "outputs": [
        {
          "output_type": "stream",
          "name": "stdout",
          "text": [
            "Original Array: [1 2 2 3 4 4 5]\n",
            "Unique Elements: [1 2 3 4 5]\n",
            "\n",
            "\n",
            "Array1: [1 2 3 4]\n",
            "Array2: [3 4 5 6]\n",
            "Common Elements: [3 4]\n",
            "\n",
            "\n",
            "Array1: [1 2 3 4]\n",
            "Array2: [3 4 5 6]\n",
            "Union: [1 2 3 4 5 6]\n",
            "\n",
            "\n",
            "Array1: [1 2 3 4]\n",
            "Array2: [3 4 5 6]\n",
            "[1 2]\n",
            "[5 6]\n",
            "\n",
            "\n",
            "Array1: [1 2 3 4]\n",
            "Array2: [3 4 5 6]\n",
            "Symmetric Difference: [1 2 5 6]\n"
          ]
        }
      ]
    },
    {
      "cell_type": "code",
      "source": [
        "#Practoce Exercise\n",
        "\n",
        "# Q1. Given an array:\n",
        "\n",
        "# arr = np.array([5, 2, 5, 3, 2, 1, 4])\n",
        "# Find and print all unique elements from the array.\n",
        "arr = np.array([5, 2, 5, 3, 2, 1, 4])\n",
        "print(\"Original Array:\", arr)\n",
        "print(\"Unique Elements:\", np.unique(arr))\n",
        "print(\"\\n\")\n",
        "\n",
        "\n",
        "# #Q2. Given:\n",
        "# a = np.array([1, 2, 3, 4])\n",
        "# b = np.array([3, 4, 5, 6])\n",
        "# Find elements that are common to both arrays.\n",
        "a = np.array([1, 2, 3, 4])\n",
        "b = np.array([3, 4, 5, 6])\n",
        "print(\"Array1:\", a)\n",
        "print(\"Array2:\", b)\n",
        "print(\"Common Elements:\", np.intersect1d(a, b))\n",
        "print(\"\\n\")\n",
        "\n",
        "\n",
        "#Q3. Find the union of both arrays a and b.\n",
        "print(\"Array1:\", a)\n",
        "print(\"Array2:\", b)\n",
        "print(\"Union of a and b:\", np.union1d(a, b))\n",
        "print(\"\\n\")\n",
        "\n",
        "\n",
        "#Q4. Given:\n",
        "# a = np.array([10, 20, 30, 40])\n",
        "# b = np.array([30, 40, 50, 60])\n",
        "\n",
        "# Find:\n",
        "# Elements in a but not in b.\n",
        "# Elements in b but not in a.\n",
        "a = np.array([10, 20, 30, 40])\n",
        "b = np.array([30, 40, 50, 60])\n",
        "print(\"Array1:\", a)\n",
        "print(\"Array2:\", b)\n",
        "print(\"Element in a but not in b:\", np.setdiff1d(a, b))\n",
        "print(\"Element in b but not in a:\", np.setdiff1d(b, a))\n",
        "print(\"\\n\")\n",
        "\n",
        "\n",
        "# Q5. Symmetric Difference\n",
        "# Using the same a and b:\n",
        "# Find the elements that are in either a or b, but not both.\n",
        "print(\"Array1:\", a)\n",
        "print(\"Array2:\", b)\n",
        "print(\"Symmetric Difference:\", np.setxor1d(a, b))\n"
      ],
      "metadata": {
        "colab": {
          "base_uri": "https://localhost:8080/"
        },
        "id": "315qc5x1q9bu",
        "outputId": "d85fa9cb-3b42-4a18-caef-1cceff5ac300"
      },
      "execution_count": 42,
      "outputs": [
        {
          "output_type": "stream",
          "name": "stdout",
          "text": [
            "Original Array: [5 2 5 3 2 1 4]\n",
            "Unique Elements: [1 2 3 4 5]\n",
            "\n",
            "\n",
            "Array1: [1 2 3 4]\n",
            "Array2: [3 4 5 6]\n",
            "Common Elements: [3 4]\n",
            "\n",
            "\n",
            "Array1: [1 2 3 4]\n",
            "Array2: [3 4 5 6]\n",
            "Union of a and b: [1 2 3 4 5 6]\n",
            "\n",
            "\n",
            "Array1: [10 20 30 40]\n",
            "Array2: [30 40 50 60]\n",
            "Element in a but not in b: [10 20]\n",
            "Element in b but not in a: [50 60]\n",
            "\n",
            "\n",
            "Array1: [10 20 30 40]\n",
            "Array2: [30 40 50 60]\n",
            "Symmetric Difference: [10 20 50 60]\n"
          ]
        }
      ]
    },
    {
      "cell_type": "code",
      "source": [],
      "metadata": {
        "id": "f3YIEw0GwhJZ"
      },
      "execution_count": null,
      "outputs": []
    }
  ]
}