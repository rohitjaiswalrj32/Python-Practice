{
  "nbformat": 4,
  "nbformat_minor": 0,
  "metadata": {
    "colab": {
      "provenance": [],
      "authorship_tag": "ABX9TyPs1Xk0LODsYbPMtd0V9XTj",
      "include_colab_link": true
    },
    "kernelspec": {
      "name": "python3",
      "display_name": "Python 3"
    },
    "language_info": {
      "name": "python"
    }
  },
  "cells": [
    {
      "cell_type": "markdown",
      "metadata": {
        "id": "view-in-github",
        "colab_type": "text"
      },
      "source": [
        "<a href=\"https://colab.research.google.com/github/rohitjaiswalrj32/Python-Practice/blob/main/Numpy.ipynb\" target=\"_parent\"><img src=\"https://colab.research.google.com/assets/colab-badge.svg\" alt=\"Open In Colab\"/></a>"
      ]
    },
    {
      "cell_type": "code",
      "execution_count": 4,
      "metadata": {
        "colab": {
          "base_uri": "https://localhost:8080/"
        },
        "id": "SVeF3dxdEslG",
        "outputId": "08d47886-d622-4054-ed94-5ac976739f2f"
      },
      "outputs": [
        {
          "output_type": "stream",
          "name": "stdout",
          "text": [
            "[1 2 3 4]\n"
          ]
        }
      ],
      "source": [
        "#Importing Numpy Library\n",
        "\n",
        "import numpy as np\n",
        "\n",
        "#Example:\n",
        "import numpy as np\n",
        "\n",
        "# Create a simple array\n",
        "arr = np.array([1, 2, 3, 4])\n",
        "print(arr)\n"
      ]
    },
    {
      "cell_type": "code",
      "source": [
        "# Diffrence Between List and Numpy Array:\n",
        "\n",
        "# | Feature                | Python List                 | NumPy Array                                 |\n",
        "# | ---------------------- | --------------------------- | ------------------------------------------- |\n",
        "# |   Data Type            | Can store mixed data types  | Homogeneous (same data type)                |\n",
        "# |   Performance          | Slower for large operations | Much faster (uses C under the hood)         |\n",
        "# |   Functionality        | Limited built-in operations | Rich mathematical functions                 |\n",
        "# |   Memory Consumption   | More                        | Less (compact, fixed type)                  |\n",
        "# |   Broadcasting         | Not supported               | Supported (auto operations on all elements) |\n"
      ],
      "metadata": {
        "id": "ebO0UJGtE48g"
      },
      "execution_count": 5,
      "outputs": []
    },
    {
      "cell_type": "code",
      "source": [
        "#1. Creating a List vs NumPy Array\n",
        "\n",
        "# Python List\n",
        "py_list = [1, 2, 3, 4]\n",
        "print(py_list)\n",
        "\n",
        "# NumPy Array\n",
        "import numpy as np\n",
        "np_array = np.array([1, 2, 3, 4])\n",
        "print(np_array)"
      ],
      "metadata": {
        "colab": {
          "base_uri": "https://localhost:8080/"
        },
        "id": "6A68xbB5GYSP",
        "outputId": "1ff64d73-01ce-41dc-d5ad-4be1aa2fcc79"
      },
      "execution_count": 7,
      "outputs": [
        {
          "output_type": "stream",
          "name": "stdout",
          "text": [
            "[1, 2, 3, 4]\n",
            "[1 2 3 4]\n"
          ]
        }
      ]
    },
    {
      "cell_type": "code",
      "source": [
        "#2. Element-wise Addition\n",
        "\n",
        "# Python List\n",
        "py_result = [x + 2 for x in py_list]\n",
        "print(\"Python List:\", py_result)\n",
        "\n",
        "# NumPy Array\n",
        "np_result = np_array + 2\n",
        "print(\"NumPy Array:\", np_result)\n"
      ],
      "metadata": {
        "colab": {
          "base_uri": "https://localhost:8080/"
        },
        "id": "ki2PzEmFGeHe",
        "outputId": "664e6832-b271-4504-eae5-f2e051dd8738"
      },
      "execution_count": 9,
      "outputs": [
        {
          "output_type": "stream",
          "name": "stdout",
          "text": [
            "Python List: [3, 4, 5, 6]\n",
            "NumPy Array: [3 4 5 6]\n"
          ]
        }
      ]
    },
    {
      "cell_type": "code",
      "source": [
        "#3. Performance Test\n",
        "\n",
        "import time\n",
        "\n",
        "# Large list\n",
        "py_list = list(range(1000000))\n",
        "np_array = np.array(py_list)\n",
        "\n",
        "# Time taken by Python list\n",
        "start = time.time()\n",
        "py_result = [x * 2 for x in py_list]\n",
        "print(\"List Time:\", time.time() - start)\n",
        "\n",
        "# Time taken by NumPy\n",
        "start = time.time()\n",
        "np_result = np_array * 2\n",
        "print(\"NumPy Time:\", time.time() - start)\n",
        "\n",
        "\n",
        "# Note:\n",
        "\n",
        "# NumPy arrays are faster, more memory-efficient, and provide advanced math capabilities.\n",
        "# For data analysis, NumPy arrays are preferred over Python lists."
      ],
      "metadata": {
        "colab": {
          "base_uri": "https://localhost:8080/"
        },
        "id": "bw6KdNbiGys0",
        "outputId": "aa01312b-3f12-4d8d-dd1f-524c97697635"
      },
      "execution_count": 14,
      "outputs": [
        {
          "output_type": "stream",
          "name": "stdout",
          "text": [
            "List Time: 0.05240464210510254\n",
            "NumPy Time: 0.003787994384765625\n"
          ]
        }
      ]
    },
    {
      "cell_type": "code",
      "source": [
        "#NumPy Array Creation Techniques\n",
        "\n",
        "#1. Creating from a Python List or Tuple\n",
        "\n",
        "import numpy as np\n",
        "\n",
        "# From list\n",
        "arr1 = np.array([1, 2, 3, 4])\n",
        "print(\"From list:\", arr1)\n",
        "\n",
        "# From tuple\n",
        "arr2 = np.array((5, 6, 7, 8))\n",
        "print(\"From tuple:\", arr2)"
      ],
      "metadata": {
        "colab": {
          "base_uri": "https://localhost:8080/"
        },
        "id": "QXPkdCwqHQbU",
        "outputId": "68f460de-2297-4510-ba88-2599580ab94a"
      },
      "execution_count": 15,
      "outputs": [
        {
          "output_type": "stream",
          "name": "stdout",
          "text": [
            "From list: [1 2 3 4]\n",
            "From tuple: [5 6 7 8]\n"
          ]
        }
      ]
    },
    {
      "cell_type": "code",
      "source": [
        "#2. Creating Arrays of Zeros, Ones, or a Specific Value\n",
        "\n",
        "# Array of zeros\n",
        "zeros = np.zeros(5)\n",
        "print(\"Zeros:\", zeros)\n",
        "\n",
        "# Array of ones\n",
        "ones = np.ones((3, 3))\n",
        "print(\"Ones:\\n\", ones)\n",
        "\n",
        "# Array filled with a specific value\n",
        "full = np.full((2, 4), 7)\n",
        "print(\"Full:\\n\", full)"
      ],
      "metadata": {
        "colab": {
          "base_uri": "https://localhost:8080/"
        },
        "id": "r7o84tIpHm0H",
        "outputId": "ea664094-83ed-4492-f7a2-97b19906839e"
      },
      "execution_count": 16,
      "outputs": [
        {
          "output_type": "stream",
          "name": "stdout",
          "text": [
            "Zeros: [0. 0. 0. 0. 0.]\n",
            "Ones:\n",
            " [[1. 1. 1.]\n",
            " [1. 1. 1.]\n",
            " [1. 1. 1.]]\n",
            "Full:\n",
            " [[7 7 7 7]\n",
            " [7 7 7 7]]\n"
          ]
        }
      ]
    },
    {
      "cell_type": "code",
      "source": [
        "# Similar to Python's range()\n",
        "\n",
        "arr_range = np.arange(0, 10, 2)  # start=0, stop=10, step=2\n",
        "print(\"Arange:\", arr_range)\n"
      ],
      "metadata": {
        "colab": {
          "base_uri": "https://localhost:8080/"
        },
        "id": "eWB_pDsZH97G",
        "outputId": "6bb154b9-cb78-48ec-93ed-7ed0932c5a33"
      },
      "execution_count": 17,
      "outputs": [
        {
          "output_type": "stream",
          "name": "stdout",
          "text": [
            "Arange: [0 2 4 6 8]\n"
          ]
        }
      ]
    },
    {
      "cell_type": "code",
      "source": [
        "#4. Creating Arrays with Linearly Spaced Values\n",
        "\n",
        "# 5 numbers evenly spaced between 0 and 1\n",
        "arr_linspace = np.linspace(0, 1, 5)\n",
        "print(\"Linspace:\", arr_linspace)"
      ],
      "metadata": {
        "colab": {
          "base_uri": "https://localhost:8080/"
        },
        "id": "kp0mfD0TIRZq",
        "outputId": "d0944444-bf29-49e8-edaf-eba9c0d50e7e"
      },
      "execution_count": 18,
      "outputs": [
        {
          "output_type": "stream",
          "name": "stdout",
          "text": [
            "Linspace: [0.   0.25 0.5  0.75 1.  ]\n"
          ]
        }
      ]
    },
    {
      "cell_type": "code",
      "source": [
        "#5. Creating Identity Matrices\n",
        "\n",
        "identity = np.eye(4)\n",
        "print(\"Identity Matrix:\\n\", identity)"
      ],
      "metadata": {
        "colab": {
          "base_uri": "https://localhost:8080/"
        },
        "id": "dNWZQgftIjww",
        "outputId": "eb1b4180-1ea9-4a5e-c966-527851c3833c"
      },
      "execution_count": 20,
      "outputs": [
        {
          "output_type": "stream",
          "name": "stdout",
          "text": [
            "Identity Matrix:\n",
            " [[1. 0. 0. 0.]\n",
            " [0. 1. 0. 0.]\n",
            " [0. 0. 1. 0.]\n",
            " [0. 0. 0. 1.]]\n"
          ]
        }
      ]
    },
    {
      "cell_type": "code",
      "source": [
        "#6. Creating Random Arrays\n",
        "\n",
        "# Random floats between 0 and 1 (3x3)\n",
        "rand_float = np.random.rand(3, 3)\n",
        "print(\"Random Float Array:\\n\", rand_float)\n",
        "\n",
        "# Random integers between 0 and 10 (5 elements)\n",
        "rand_int = np.random.randint(0, 10, 5)\n",
        "print(\"Random Int Array:\", rand_int)"
      ],
      "metadata": {
        "colab": {
          "base_uri": "https://localhost:8080/"
        },
        "id": "7mBa3bPzIr7U",
        "outputId": "0ffca65d-3187-452f-8584-c6e5d8d727b7"
      },
      "execution_count": 22,
      "outputs": [
        {
          "output_type": "stream",
          "name": "stdout",
          "text": [
            "Random Float Array:\n",
            " [[0.18591125 0.89189206 0.81523071]\n",
            " [0.69115558 0.55963777 0.90791623]\n",
            " [0.59113133 0.45833362 0.72425332]]\n",
            "Random Int Array: [8 5 6 4 5]\n"
          ]
        }
      ]
    },
    {
      "cell_type": "code",
      "source": [
        "# Practice Exercise:\n",
        "\n",
        "# Q1. An array of ten zeros\n",
        "zero_array = np.zeros(10)\n",
        "print(\"Array of Zeros:\", zero_array)\n",
        "\n",
        "# Q2. A 2x5 array filled with the number 9\n",
        "array_of_9 = np.full((2,5), 9)\n",
        "print(\"Array of 9s:\\n\", array_of_9)\n",
        "\n",
        "# Q3. A range array from 10 to 50 with step size 5\n",
        "range_array = np.arange(10, 51, 5)\n",
        "print(\"Range Array:\", range_array)\n",
        "\n",
        "# Q4. An identity matrix of size 3\n",
        "identity_matrix = np.eye(3)\n",
        "print(\"Identity Matrix:\\n\", identity_matrix)\n",
        "\n",
        "# Q5. A 4x4 random float array\n",
        "random_float = np.random.rand(4, 4)\n",
        "print(\"Random floating Array: \\n\", random_float)"
      ],
      "metadata": {
        "colab": {
          "base_uri": "https://localhost:8080/"
        },
        "id": "aGcVBg3pIxz4",
        "outputId": "3b8f5119-7255-4437-c43f-7f14ba7140dc"
      },
      "execution_count": 31,
      "outputs": [
        {
          "output_type": "stream",
          "name": "stdout",
          "text": [
            "Array of Zeros: [0. 0. 0. 0. 0. 0. 0. 0. 0. 0.]\n",
            "Array of 9s:\n",
            " [[9 9 9 9 9]\n",
            " [9 9 9 9 9]]\n",
            "Range Array: [10 15 20 25 30 35 40 45 50]\n",
            "Identity Matrix:\n",
            " [[1. 0. 0.]\n",
            " [0. 1. 0.]\n",
            " [0. 0. 1.]]\n",
            "Random floating Array: \n",
            " [[0.5867816  0.29525158 0.09468497 0.85276003]\n",
            " [0.02527935 0.05153823 0.34823763 0.89132016]\n",
            " [0.96481167 0.8717455  0.03964411 0.97799263]\n",
            " [0.19430486 0.7463116  0.43448429 0.57075149]]\n"
          ]
        }
      ]
    },
    {
      "cell_type": "code",
      "source": [],
      "metadata": {
        "id": "XFPfcAvUJZMD"
      },
      "execution_count": 23,
      "outputs": []
    }
  ]
}