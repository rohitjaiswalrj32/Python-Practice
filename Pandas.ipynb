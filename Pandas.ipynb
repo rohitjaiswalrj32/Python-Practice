{
  "nbformat": 4,
  "nbformat_minor": 0,
  "metadata": {
    "colab": {
      "provenance": [],
      "authorship_tag": "ABX9TyO4bUmOIYIOxvRu4hXL5b5d",
      "include_colab_link": true
    },
    "kernelspec": {
      "name": "python3",
      "display_name": "Python 3"
    },
    "language_info": {
      "name": "python"
    }
  },
  "cells": [
    {
      "cell_type": "markdown",
      "metadata": {
        "id": "view-in-github",
        "colab_type": "text"
      },
      "source": [
        "<a href=\"https://colab.research.google.com/github/rohitjaiswalrj32/Python_Learning/blob/main/Pandas.ipynb\" target=\"_parent\"><img src=\"https://colab.research.google.com/assets/colab-badge.svg\" alt=\"Open In Colab\"/></a>"
      ]
    },
    {
      "cell_type": "code",
      "execution_count": 3,
      "metadata": {
        "id": "AttRJLdt4Akk"
      },
      "outputs": [],
      "source": [
        "# Pandas: Pandas is a Python library built for data manipulation and analysis.\n",
        "          #It provides easy-to-use, flexible, and powerful data structures to\n",
        "          #work with structured data (like CSV, Excel, SQL, JSON, etc).\n",
        "\n",
        "\n",
        "# Core Data Structures:\n",
        "\n",
        "# Series:\n",
        "# A one-dimensional labeled array capable of holding any data type.\n",
        "# Like a column in a spreadsheet or a single column in a DataFrame.\n",
        "# Each element has an index label (can also be customized)\n",
        "\n",
        "\n",
        "# DataFrame:\n",
        "# Two-dimensional labeled data structure.\n",
        "# Composed of multiple Series sharing the same index.\n",
        "\n",
        "\n",
        "# Benifits of Pandas:\n",
        "\n",
        "# | Feature                            | Benefit                                               |\n",
        "# | ---------------------------------- | ----------------------------------------------------- |\n",
        "# | Intuitive data structures          | Easy to load, filter, and manipulate data             |\n",
        "# | Handles missing data               | With tools like `.isnull()`, `.fillna()`, `.dropna()` |\n",
        "# | Built-in plotting (via Matplotlib) | For quick visual inspection                           |\n",
        "# | Integrates with NumPy              | You can apply NumPy functions easily                  |\n",
        "# | Supports multiple formats          | CSV, Excel, JSON, SQL, Parquet, etc.                  |\n",
        "# | Data summarization                 | `.describe()`, `.groupby()`, `.pivot_table()`         |\n",
        "\n",
        "\n",
        "# Use Cases:\n",
        "\n",
        "# Reading and cleaning raw data\n",
        "# Filtering and transforming datasets\n",
        "# Exploratory Data Analysis (EDA)\n",
        "# Time-series analysis\n",
        "# Data aggregation and reshaping\n",
        "# Exporting cleaned data\n",
        "\n",
        "\n",
        "# Workflow with Pandas:\n",
        "\n",
        "# Load the data: pd.read_csv(), pd.read_excel(), etc.\n",
        "# Understand the data: .info(), .head(), .describe()\n",
        "# Clean the data: handle missing values, drop duplicates\n",
        "# Analyze: filtering, sorting, grouping, aggregating\n",
        "# Visualize or export: plot(), to_csv(), etc.\n",
        "\n"
      ]
    },
    {
      "cell_type": "code",
      "source": [
        "# Importing Pandas Library\n",
        "import pandas as pd\n",
        "\n",
        "# Creating a Series:\n",
        "\n",
        "# 1. From a Python list (default index 0,1,2...)\n",
        "s = pd.Series([10, 20, 30, 40])\n",
        "print(s)\n",
        "\n",
        "# 2. Custom index labels\n",
        "s2 = pd.Series([10, 20, 30], index=['a', 'b', 'c'])\n",
        "print(s2)\n"
      ],
      "metadata": {
        "colab": {
          "base_uri": "https://localhost:8080/"
        },
        "id": "9wGeLTY04bxw",
        "outputId": "0bac66bc-bb51-42b6-a792-33536d1f8d72"
      },
      "execution_count": 6,
      "outputs": [
        {
          "output_type": "stream",
          "name": "stdout",
          "text": [
            "0    10\n",
            "1    20\n",
            "2    30\n",
            "3    40\n",
            "dtype: int64\n",
            "a    10\n",
            "b    20\n",
            "c    30\n",
            "dtype: int64\n"
          ]
        }
      ]
    },
    {
      "cell_type": "code",
      "source": [
        "# Practice Exercise:\n",
        "\n",
        "# Create a Series for monthly sales: [250, 300, 150, 400] with index labels as ['Jan', 'Feb', 'Mar', 'Apr'].\n",
        "# Print the Series and the sales for February.\n",
        "\n",
        "monthly_sales = pd.Series([250, 300, 150, 400], index = ['Jan', 'Feb', 'Mar', 'Apr'])\n",
        "print(monthly_sales)\n",
        "print(monthly_sales['Feb'])"
      ],
      "metadata": {
        "colab": {
          "base_uri": "https://localhost:8080/"
        },
        "id": "VVE1_eTp6RHn",
        "outputId": "7b71cdc8-30fc-48bd-f2b5-4c2091e74f23"
      },
      "execution_count": 7,
      "outputs": [
        {
          "output_type": "stream",
          "name": "stdout",
          "text": [
            "Jan    250\n",
            "Feb    300\n",
            "Mar    150\n",
            "Apr    400\n",
            "dtype: int64\n",
            "300\n"
          ]
        }
      ]
    },
    {
      "cell_type": "code",
      "source": [
        "# Basic Operations on Series\n",
        "\n",
        "# Arithmetic operations (addition, subtraction, multiplication, division) between Series, or between Series and scalars.\n",
        "# Accessing elements using .loc[] and .iloc[]\n",
        "# Filtering with conditions\n",
        "# Applying functions on Series (like .apply(), .map())\n",
        "\n",
        "\n",
        "# .loc[] — Label-based Indexing\n",
        "\n",
        "# Access rows and columns by their labels (names).\n",
        "# The index label is used exactly as it appears.\n",
        "# Works with row and column labels for DataFrames or index labels for Series.\n",
        "# Can accept a single label, list of labels, or a label slice (inclusive of the end).\n",
        "\n",
        "\n",
        "\n",
        "# .iloc[] — Position-based Indexing\n",
        "\n",
        "# Access rows and columns by integer position (0-based index).\n",
        "# Ignores the labels, purely based on position.\n",
        "# Can accept an integer, list of integers, or integer slice (exclusive of the end).\n",
        "\n",
        "\n",
        "\n",
        "#Example:\n",
        "sales = pd.Series([250, 300, 150, 400], index=['Jan', 'Feb', 'Mar', 'Apr'])\n",
        "\n",
        "# Add 50 to each month's sales\n",
        "print(sales + 50)\n",
        "\n",
        "# Access sales for March using loc and iloc\n",
        "print(sales.loc['Mar'])\n",
        "print(sales.iloc[2])\n",
        "\n",
        "# Filter months where sales > 200\n",
        "print(sales[sales > 200])\n",
        "\n",
        "# Apply a discount function\n",
        "discount = lambda x: x * 0.9\n",
        "print(sales.apply(discount))\n"
      ],
      "metadata": {
        "colab": {
          "base_uri": "https://localhost:8080/"
        },
        "id": "ddAC8emT7qIV",
        "outputId": "7bbe5f75-0569-4c52-b13b-7efb9fcb8bfd"
      },
      "execution_count": 9,
      "outputs": [
        {
          "output_type": "stream",
          "name": "stdout",
          "text": [
            "Jan    300\n",
            "Feb    350\n",
            "Mar    200\n",
            "Apr    450\n",
            "dtype: int64\n",
            "150\n",
            "150\n",
            "Jan    250\n",
            "Feb    300\n",
            "Apr    400\n",
            "dtype: int64\n",
            "Jan    225.0\n",
            "Feb    270.0\n",
            "Mar    135.0\n",
            "Apr    360.0\n",
            "dtype: float64\n"
          ]
        }
      ]
    },
    {
      "cell_type": "code",
      "source": [
        "#Practice Exercises\n",
        "\n",
        "# Q1. Create a Pandas Series for daily temperatures (in °C): [22, 25, 20, 18, 24] with index labels ['Mon', 'Tue', 'Wed', 'Thu', 'Fri'].\n",
        "# Print the Series.\n",
        "# Print the temperature for Wednesday.\n",
        "temp = pd.Series([22, 25, 20, 18, 24] , index = [\"Mon\", \"Tue\", \"Wed\", \"Thu\", \"Fri\"])\n",
        "print(temp)\n",
        "print(\"Temprature on Wednesday:\", temp[\"Wed\"])\n",
        "print(\"\\n\")\n",
        "\n",
        "\n",
        "# Q2. Using the above Series:\n",
        "# Increase all temperatures by 2 degrees and print the result.\n",
        "# Find days where temperature is greater than 22°C.\n",
        "# Use .apply() to convert all temperatures to Fahrenheit using the formula: F = (C * 9/5) + 32.\n",
        "temp = pd.Series([22, 25, 20, 18, 24] , index = [\"Mon\", \"Tue\", \"Wed\", \"Thu\", \"Fri\"])\n",
        "print(\"Original Series:\")\n",
        "print(temp)\n",
        "print(\"Increase all Elements by 2:\")\n",
        "print(temp + 2)\n",
        "print(\"\\n\")\n",
        "print(\"Hot Days:\", temp > 22)\n",
        "print(\"\\n\")\n",
        "print(\"Fahrenheit Series:\", temp.apply(lambda x: (x * 9/5) + 32))\n",
        "print(\"\\n\")"
      ],
      "metadata": {
        "colab": {
          "base_uri": "https://localhost:8080/"
        },
        "id": "GI2XtaBP8e-p",
        "outputId": "c2230930-03b0-451e-f4bb-404f1e582b12"
      },
      "execution_count": 23,
      "outputs": [
        {
          "output_type": "stream",
          "name": "stdout",
          "text": [
            "Mon    22\n",
            "Tue    25\n",
            "Wed    20\n",
            "Thu    18\n",
            "Fri    24\n",
            "dtype: int64\n",
            "Temprature on Wednesday: 20\n",
            "\n",
            "\n",
            "Original Series:\n",
            "Mon    22\n",
            "Tue    25\n",
            "Wed    20\n",
            "Thu    18\n",
            "Fri    24\n",
            "dtype: int64\n",
            "Increase all Elements by 2:\n",
            "Mon    24\n",
            "Tue    27\n",
            "Wed    22\n",
            "Thu    20\n",
            "Fri    26\n",
            "dtype: int64\n",
            "\n",
            "\n",
            "Hot Days: Mon    False\n",
            "Tue     True\n",
            "Wed    False\n",
            "Thu    False\n",
            "Fri     True\n",
            "dtype: bool\n",
            "\n",
            "\n",
            "Fahrenheit Series: Mon    71.6\n",
            "Tue    77.0\n",
            "Wed    68.0\n",
            "Thu    64.4\n",
            "Fri    75.2\n",
            "dtype: float64\n",
            "\n",
            "\n"
          ]
        }
      ]
    },
    {
      "cell_type": "code",
      "source": [
        "# DataFrame: A DataFrame is a 2-dimensional labeled data structure with columns of\n",
        "            #potentially different types (like a spreadsheet or SQL table).\n",
        "\n",
        "# Key Features:\n",
        "\n",
        "# Tabular data with rows and columns\n",
        "# Each column can have a different data type (int, float, string, etc.)\n",
        "# Row and column labels (indices)\n",
        "# Supports easy data manipulation, selection, filtering, and aggregation\n",
        "\n",
        "\n",
        "# Creating a DataFrame: We can create DataFrames using -\n",
        "\n",
        "# Dictionaries\n",
        "# Lists\n",
        "# NumPy arrays\n",
        "# CSV files\n",
        "# Excel files and more.\n",
        "\n",
        "\n",
        "# Basic Operations:\n",
        "\n",
        "# Access columns as attributes or by keys\n",
        "# Access rows using .loc[] (label-based) or .iloc[] (integer position-based)\n",
        "# Filtering rows with conditions\n",
        "# Adding/deleting columns\n",
        "# Summary statistics like .mean(), .sum(), .describe()\n",
        "\n",
        "# Why use DataFrames?\n",
        "# Essential for handling real-world tabular data in data analysis, cleaning, and preprocessing workflows.\n",
        "\n"
      ],
      "metadata": {
        "id": "9U3b3Ilk_JdY"
      },
      "execution_count": null,
      "outputs": []
    }
  ]
}