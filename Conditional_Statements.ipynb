{
  "nbformat": 4,
  "nbformat_minor": 0,
  "metadata": {
    "colab": {
      "provenance": [],
      "authorship_tag": "ABX9TyPF15jooty1gkr1O3gRdFOy",
      "include_colab_link": true
    },
    "kernelspec": {
      "name": "python3",
      "display_name": "Python 3"
    },
    "language_info": {
      "name": "python"
    }
  },
  "cells": [
    {
      "cell_type": "markdown",
      "metadata": {
        "id": "view-in-github",
        "colab_type": "text"
      },
      "source": [
        "<a href=\"https://colab.research.google.com/github/rohitjaiswalrj32/Python-Practice/blob/main/Conditional_Statements.ipynb\" target=\"_parent\"><img src=\"https://colab.research.google.com/assets/colab-badge.svg\" alt=\"Open In Colab\"/></a>"
      ]
    },
    {
      "cell_type": "code",
      "execution_count": 1,
      "metadata": {
        "id": "0GxAFR8gsWoW"
      },
      "outputs": [],
      "source": [
        "#Control Flow Statements (Conditional Statements): These allow your program to make decisions based on conditions — like checking if someone is eligible to vote, finding the largest number, etc.\n",
        "\n"
      ]
    },
    {
      "cell_type": "code",
      "source": [
        "# There are following types of Conditional Statements:\n",
        "\n",
        "#1. if Statement - Executes a block of code only if the condition is true.\n",
        "\n",
        "age = int(input(\"Enter your Age: \"))\n",
        "\n",
        "if(age >= 18):\n",
        "  print(\"You are eligible for vote\")\n"
      ],
      "metadata": {
        "colab": {
          "base_uri": "https://localhost:8080/"
        },
        "id": "qdWMb03ZtpKn",
        "outputId": "aa42b64f-950e-48d8-edc3-eeaf391742d4"
      },
      "execution_count": 10,
      "outputs": [
        {
          "output_type": "stream",
          "name": "stdout",
          "text": [
            "Enter your Age: 22\n",
            "You are eligible for vote\n"
          ]
        }
      ]
    },
    {
      "cell_type": "code",
      "source": [
        "#2. if-else Statement - Executes one block if the condition is true, and another if it is false.\n",
        "\n",
        "age = int(input(\"Enter your Age: \"))\n",
        "\n",
        "if(age >= 18):\n",
        "  print(\"You are eligible for vote\")\n",
        "else:\n",
        "  print(\"You are not eligible for vote\")"
      ],
      "metadata": {
        "colab": {
          "base_uri": "https://localhost:8080/"
        },
        "id": "jzVzC2C9tups",
        "outputId": "1e02ede2-d8e6-48fa-a10c-a443c59ad034"
      },
      "execution_count": 6,
      "outputs": [
        {
          "output_type": "stream",
          "name": "stdout",
          "text": [
            "Enter your Age: 19\n",
            "You are eligible for vote\n"
          ]
        }
      ]
    },
    {
      "cell_type": "code",
      "source": [
        "#3. if-elif-else Statement - Checks multiple conditions in sequence\n",
        "\n",
        "age = int(input(\"Enter your Age: \"))\n",
        "\n",
        "if(age >= 18):\n",
        "  print(\"You are eligible for vote\")\n",
        "elif(age >= 13):\n",
        "  print(\"You are a teenager, not yet elegible for vote\")\n",
        "else:\n",
        "  print(\"You are child, not yet eligible for vote\")\n",
        ""
      ],
      "metadata": {
        "colab": {
          "base_uri": "https://localhost:8080/"
        },
        "id": "WBX3iVBxxI0f",
        "outputId": "a79b1e49-7a32-4eb7-d7b3-51279a2d5f70"
      },
      "execution_count": 7,
      "outputs": [
        {
          "output_type": "stream",
          "name": "stdout",
          "text": [
            "Enter your Age: 22\n",
            "You are eligible for vote\n"
          ]
        }
      ]
    },
    {
      "cell_type": "code",
      "source": [
        "#4. Nested if - An if inside another if. Used for multi-level decision making.\n",
        "\n",
        "num = int(input(\"Enter a number: \"))\n",
        "\n",
        "if num >= 0:\n",
        "    if num == 0:\n",
        "        print(\"Zero\")\n",
        "    else:\n",
        "        print(\"Positive\")\n",
        "else:\n",
        "    print(\"Negative\")\n"
      ],
      "metadata": {
        "colab": {
          "base_uri": "https://localhost:8080/"
        },
        "id": "umw6UwV4xOCw",
        "outputId": "1a2a0955-8d38-4892-ba85-6db8f8132a32"
      },
      "execution_count": 8,
      "outputs": [
        {
          "output_type": "stream",
          "name": "stdout",
          "text": [
            "Enter a number: 12\n",
            "Positive\n"
          ]
        }
      ]
    },
    {
      "cell_type": "code",
      "source": [
        "# Exercise\n",
        "\n",
        "#Q1. Check if a number is positive, negative, or zero\n",
        "\n",
        "num = int(input(\"Enter a Number: \"))\n",
        "\n",
        "if(num > 0):\n",
        "  print(\"Number is Positive\")\n",
        "elif(num == 0):\n",
        "  print(\"Number is Zero\")\n",
        "else:\n",
        "  print(\"Number is Negative\")\n",
        "\n",
        "#Q2. Find the largest among three numbers\n",
        "\n",
        "num1 = int(input(\"Enter the First Number: \"))\n",
        "num2 = int(input(\"Enter the Second Number: \"))\n",
        "num3 = int(input(\"Enter the Third Number: \"))\n",
        "\n",
        "if(num1 > num2 and num1 > num3):\n",
        "  print(\"First number is Largest\")\n",
        "elif(num2 > num1 and num2 > num3):\n",
        "  print(\"Second number is the Largest\")\n",
        "else:\n",
        "  print(\"Third number is the Largest\")\n",
        "\n",
        "#Q3. Simple grading system\n",
        "\n",
        "marks = int(input(\"Enter your Marks: \"))\n",
        "\n",
        "if(marks >= 90):\n",
        "  print(\"Grade A\")\n",
        "elif(marks >= 80):\n",
        "  print(\"Grade B\")\n",
        "elif(marks >= 70):\n",
        "  print(\"Grade C\")\n",
        "else:\n",
        "  print(\"Grade D\")\n",
        "\n",
        "#Q4. Check if a year is a leap year\n",
        "\n",
        "year = int(input(\"Enter a Year: \"))\n",
        "\n",
        "if(year % 4 == 0 and year % 100 != 0 and year % 400 == 0):\n",
        "  print(\"Leap Year\")\n",
        "else:\n",
        "  print(\"Not a Leap Year\")\n",
        "\n",
        "#Q5. Determine voting eligibility\n",
        "\n",
        "age = int(input(\"Enter your Age: \"))\n",
        "\n",
        "if(age >= 18):\n",
        "  print(\"You are eligible for Voting\")\n",
        "else:\n",
        "  print(\"You are not eligible for Voting\")\n",
        "\n",
        "\n",
        "#Q6. Check if a number is even or odd.\n",
        "\n",
        "num = int(input(\"Enter a Number: \"))\n",
        "\n",
        "if(num % 2 == 0):\n",
        "  print(\"The Number is Even\")\n",
        "else:\n",
        "  print(\"The Number is ODD\")\n",
        ""
      ],
      "metadata": {
        "colab": {
          "base_uri": "https://localhost:8080/"
        },
        "id": "f_-Dv8dYxVIT",
        "outputId": "4b5a6249-f798-4254-8d13-09402e98d1a5"
      },
      "execution_count": 11,
      "outputs": [
        {
          "output_type": "stream",
          "name": "stdout",
          "text": [
            "Enter a Number: 14\n",
            "Number is Positive\n",
            "Enter the First Number: 1\n",
            "Enter the Second Number: 2\n",
            "Enter the Third Number: 3\n",
            "Third number is the Largest\n",
            "Enter your Marks: 45\n",
            "Grade D\n",
            "Enter a Year: 3465\n",
            "Not a Leap Year\n",
            "Enter your Age: 25\n",
            "You are eligible for Voting\n",
            "Enter a Number: 23\n",
            "The Number is ODD\n"
          ]
        }
      ]
    }
  ]
}